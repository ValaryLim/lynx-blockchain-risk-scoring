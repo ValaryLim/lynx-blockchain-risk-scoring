{
 "metadata": {
  "language_info": {
   "codemirror_mode": {
    "name": "ipython",
    "version": 3
   },
   "file_extension": ".py",
   "mimetype": "text/x-python",
   "name": "python",
   "nbconvert_exporter": "python",
   "pygments_lexer": "ipython3",
   "version": "3.8.5-final"
  },
  "orig_nbformat": 2,
  "kernelspec": {
   "name": "python_defaultSpec_1600841911511",
   "display_name": "Python 3.8.5 64-bit ('lynx': conda)"
  }
 },
 "nbformat": 4,
 "nbformat_minor": 2,
 "cells": [
  {
   "source": [
    "# FastText Pre-Trained Model Testing"
   ],
   "cell_type": "markdown",
   "metadata": {}
  },
  {
   "cell_type": "code",
   "execution_count": 1,
   "metadata": {},
   "outputs": [],
   "source": [
    "# data manipulation\n",
    "import pandas as pd\n",
    "from sklearn.model_selection import train_test_split # train-test split\n",
    "\n",
    "# model\n",
    "import fasttext\n",
    "\n",
    "# model metrics\n",
    "from sklearn.metrics import f1_score, precision_score, recall_score "
   ]
  },
  {
   "cell_type": "code",
   "execution_count": 2,
   "metadata": {},
   "outputs": [],
   "source": [
    "# load test datasets\n",
    "test_filenames = ['data/all_test.csv', 'data/news_test.csv', 'data/reddit_test.csv', 'data/twitter_test.csv']"
   ]
  },
  {
   "source": [
    "## Amazon Polarity Review Model"
   ],
   "cell_type": "markdown",
   "metadata": {}
  },
  {
   "cell_type": "code",
   "execution_count": 3,
   "metadata": {
    "tags": []
   },
   "outputs": [
    {
     "output_type": "stream",
     "name": "stderr",
     "text": "Warning : `load_model` does not return WordVectorModel or SupervisedModel any more, but a `FastText` object which is very similar.\n"
    }
   ],
   "source": [
    "# load model\n",
    "model_amazon = fasttext.load_model(\"utils/fasttext/amazon_review_polarity.ftz\")"
   ]
  },
  {
   "cell_type": "code",
   "execution_count": 4,
   "metadata": {
    "tags": []
   },
   "outputs": [
    {
     "output_type": "stream",
     "name": "stdout",
     "text": "amazon reviews fasttext model\n----------------------------------------------------------------------\nresults for: all_test.csv\nprecision: 0.43033509700176364\nrecall: 0.6931818181818182\nf1: 0.5310119695321002\n----------------------------------------------------------------------\nresults for: news_test.csv\nprecision: 0.27235772357723576\nrecall: 0.5677966101694916\nf1: 0.3681318681318681\n----------------------------------------------------------------------\nresults for: reddit_test.csv\nprecision: 0.5416666666666666\nrecall: 0.7814207650273224\nf1: 0.6398210290827739\n----------------------------------------------------------------------\nresults for: twitter_test.csv\nprecision: 0.5964912280701754\nrecall: 0.6666666666666666\nf1: 0.6296296296296297\n----------------------------------------------------------------------\n"
    }
   ],
   "source": [
    "print(\"amazon reviews fasttext model\")\n",
    "print(\"----------------------------------------------------------------------\")\n",
    "for i in range(len(test_filenames)):\n",
    "    print(\"results for:\", test_filenames[i][5:])\n",
    "    \n",
    "    test_df = pd.read_csv(test_filenames[i], header=0)\n",
    "    X_test = test_df[\"text\"]\n",
    "    y_actual = test_df[\"label\"]\n",
    "\n",
    "    y_pred = [model_amazon.predict(x.replace(\"\\n\", \"\"))[0][0][-1] for x in X_test]\n",
    "    y_pred = [1 if (x=='1') else 0 for x in y_pred]\n",
    "\n",
    "    precision = precision_score(y_actual, y_pred, average=\"binary\", pos_label=1)\n",
    "    recall = recall_score(y_actual, y_pred, average=\"binary\", pos_label=1)\n",
    "    f1 = f1_score(y_actual, y_pred, average=\"binary\", pos_label=1)\n",
    "\n",
    "    print(\"precision:\", precision)\n",
    "    print(\"recall:\", recall)\n",
    "    print(\"f1:\", f1)\n",
    "    print(\"----------------------------------------------------------------------\")"
   ]
  },
  {
   "source": [
    "## Yelp Polarity Review Model "
   ],
   "cell_type": "markdown",
   "metadata": {}
  },
  {
   "cell_type": "code",
   "execution_count": 6,
   "metadata": {
    "tags": []
   },
   "outputs": [
    {
     "output_type": "stream",
     "name": "stderr",
     "text": "Warning : `load_model` does not return WordVectorModel or SupervisedModel any more, but a `FastText` object which is very similar.\n"
    }
   ],
   "source": [
    "# load model\n",
    "model_yelp = fasttext.load_model(\"utils/fasttext/yelp_review_polarity.ftz\")"
   ]
  },
  {
   "cell_type": "code",
   "execution_count": 7,
   "metadata": {
    "tags": []
   },
   "outputs": [
    {
     "output_type": "stream",
     "name": "stdout",
     "text": "yelp reviews fasttext model\n----------------------------------------------------------------------\nresults for: all_test.csv\nprecision: 0.36005089058524176\nrecall: 0.8039772727272727\nf1: 0.4973637961335677\n----------------------------------------------------------------------\nresults for: news_test.csv\nprecision: 0.2446043165467626\nrecall: 0.864406779661017\nf1: 0.3813084112149533\n----------------------------------------------------------------------\nresults for: reddit_test.csv\nprecision: 0.4576271186440678\nrecall: 0.7377049180327869\nf1: 0.5648535564853557\n----------------------------------------------------------------------\nresults for: twitter_test.csv\nprecision: 0.6216216216216216\nrecall: 0.9019607843137255\nf1: 0.736\n----------------------------------------------------------------------\n"
    }
   ],
   "source": [
    "print(\"yelp reviews fasttext model\")\n",
    "print(\"----------------------------------------------------------------------\")\n",
    "\n",
    "for i in range(len(test_filenames)):\n",
    "    print(\"results for:\", test_filenames[i][5:])\n",
    "    \n",
    "    test_df = pd.read_csv(test_filenames[i], header=0)\n",
    "    X_test = test_df[\"text\"]\n",
    "    y_actual = test_df[\"label\"]\n",
    "\n",
    "    y_pred = [model_yelp.predict(x.replace(\"\\n\", \"\"))[0][0][-1] for x in X_test]\n",
    "    y_pred = [1 if (x=='1') else 0 for x in y_pred]\n",
    "\n",
    "    precision = precision_score(y_actual, y_pred, average=\"binary\", pos_label=1)\n",
    "    recall = recall_score(y_actual, y_pred, average=\"binary\", pos_label=1)\n",
    "    f1 = f1_score(y_actual, y_pred, average=\"binary\", pos_label=1)\n",
    "\n",
    "    print(\"precision:\", precision)\n",
    "    print(\"recall:\", recall)\n",
    "    print(\"f1:\", f1)\n",
    "    print(\"----------------------------------------------------------------------\")"
   ]
  },
  {
   "cell_type": "code",
   "execution_count": null,
   "metadata": {},
   "outputs": [],
   "source": []
  }
 ]
}