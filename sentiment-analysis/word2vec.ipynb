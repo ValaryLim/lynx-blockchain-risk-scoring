{
 "cells": [
  {
   "cell_type": "code",
   "execution_count": 5,
   "metadata": {
    "ExecuteTime": {
     "end_time": "2020-10-02T14:25:19.127991Z",
     "start_time": "2020-10-02T14:25:19.091171Z"
    }
   },
   "outputs": [],
   "source": [
    "%load_ext autoreload\n",
    "%autoreload 2"
   ]
  },
  {
   "cell_type": "code",
   "execution_count": 17,
   "metadata": {
    "ExecuteTime": {
     "end_time": "2020-10-02T14:30:59.668532Z",
     "start_time": "2020-10-02T14:30:59.638875Z"
    }
   },
   "outputs": [],
   "source": [
    "from gensim import models\n",
    "import pickle\n",
    "import gensim\n",
    "import numpy as np"
   ]
  },
  {
   "cell_type": "code",
   "execution_count": 2,
   "metadata": {
    "ExecuteTime": {
     "end_time": "2020-10-02T14:18:23.069447Z",
     "start_time": "2020-10-02T14:18:02.407001Z"
    }
   },
   "outputs": [],
   "source": [
    "model = models.KeyedVectors.load_word2vec_format(\n",
    "    './models/word2vec/GoogleNews-vectors-negative300.bin', binary=True)"
   ]
  },
  {
   "cell_type": "code",
   "execution_count": 7,
   "metadata": {
    "ExecuteTime": {
     "end_time": "2020-10-02T14:25:42.881754Z",
     "start_time": "2020-10-02T14:25:42.676030Z"
    }
   },
   "outputs": [],
   "source": [
    "svm = pickle.load(open('./models/word2vec/svm.txt', 'rb'))"
   ]
  },
  {
   "cell_type": "code",
   "execution_count": 15,
   "metadata": {
    "ExecuteTime": {
     "end_time": "2020-10-02T14:30:45.759162Z",
     "start_time": "2020-10-02T14:30:45.723952Z"
    }
   },
   "outputs": [],
   "source": [
    "def get_embed_features(text):\n",
    "    # Tokenize the sentence\n",
    "    tokenized_2vec=gensim.utils.simple_preprocess(text)\n",
    "\n",
    "    # Filter out words not in trained corpus, and add a '0' if setence is empty\n",
    "    def filter_vocab(lst):\n",
    "        if len(lst):\n",
    "            result = [i for i in lst if i in model.vocab] \n",
    "            if not(result):\n",
    "                result = ['0']\n",
    "        return result\n",
    "\n",
    "    tokenized_2vec=filter_vocab(tokenized_2vec)\n",
    "    embedding=model[tokenized_2vec]\n",
    "    #Word2vec performance\n",
    "    # Taking the average of the vectors of embedding to represent the sentence, alternative is to sum\n",
    "    features_2vec=np.array(list(sum(embedding)/len(embedding)))   \n",
    "    return features_2vec"
   ]
  },
  {
   "cell_type": "code",
   "execution_count": 24,
   "metadata": {
    "ExecuteTime": {
     "end_time": "2020-10-02T14:34:08.589414Z",
     "start_time": "2020-10-02T14:34:08.559304Z"
    }
   },
   "outputs": [],
   "source": [
    "def word2vec_predict(text):\n",
    "    features = get_embed_features(text)\n",
    "    return svm.predict([features])[0]"
   ]
  },
  {
   "cell_type": "code",
   "execution_count": 26,
   "metadata": {
    "ExecuteTime": {
     "end_time": "2020-10-02T14:40:56.033125Z",
     "start_time": "2020-10-02T14:40:55.994692Z"
    }
   },
   "outputs": [],
   "source": [
    "import sys"
   ]
  },
  {
   "cell_type": "code",
   "execution_count": 27,
   "metadata": {
    "ExecuteTime": {
     "end_time": "2020-10-02T14:40:59.439320Z",
     "start_time": "2020-10-02T14:40:59.405986Z"
    }
   },
   "outputs": [
    {
     "data": {
      "text/plain": [
       "['/Users/pengtai.xu/Desktop/Y3S1/Capstone/github/lynx-blockchain-risk-scoring/sentiment-analysis',\n",
       " '/Users/pengtai.xu/opt/anaconda3/lib/python37.zip',\n",
       " '/Users/pengtai.xu/opt/anaconda3/lib/python3.7',\n",
       " '/Users/pengtai.xu/opt/anaconda3/lib/python3.7/lib-dynload',\n",
       " '',\n",
       " '/Users/pengtai.xu/opt/anaconda3/lib/python3.7/site-packages',\n",
       " '/Users/pengtai.xu/opt/anaconda3/lib/python3.7/site-packages/aeosa',\n",
       " '/Users/pengtai.xu/opt/anaconda3/lib/python3.7/site-packages/IPython/extensions',\n",
       " '/Users/pengtai.xu/.ipython']"
      ]
     },
     "execution_count": 27,
     "metadata": {},
     "output_type": "execute_result"
    }
   ],
   "source": [
    "sys.path"
   ]
  },
  {
   "cell_type": "code",
   "execution_count": 28,
   "metadata": {
    "ExecuteTime": {
     "end_time": "2020-10-02T14:47:49.804177Z",
     "start_time": "2020-10-02T14:47:25.910884Z"
    }
   },
   "outputs": [],
   "source": [
    "from word2vec_demo import word2vec_predict"
   ]
  },
  {
   "cell_type": "code",
   "execution_count": 31,
   "metadata": {
    "ExecuteTime": {
     "end_time": "2020-10-02T14:58:25.014764Z",
     "start_time": "2020-10-02T14:58:24.937488Z"
    }
   },
   "outputs": [
    {
     "data": {
      "text/plain": [
       "0"
      ]
     },
     "execution_count": 31,
     "metadata": {},
     "output_type": "execute_result"
    }
   ],
   "source": [
    "word2vec_predict(\"report: hackers launder $1,500,000 paid for cwt ransomware using binance\")"
   ]
  },
  {
   "cell_type": "code",
   "execution_count": null,
   "metadata": {},
   "outputs": [],
   "source": []
  }
 ],
 "metadata": {
  "kernelspec": {
   "display_name": "Python 3",
   "language": "python",
   "name": "python3"
  },
  "language_info": {
   "codemirror_mode": {
    "name": "ipython",
    "version": 3
   },
   "file_extension": ".py",
   "mimetype": "text/x-python",
   "name": "python",
   "nbconvert_exporter": "python",
   "pygments_lexer": "ipython3",
   "version": "3.7.6"
  },
  "toc": {
   "base_numbering": 1,
   "nav_menu": {},
   "number_sections": true,
   "sideBar": true,
   "skip_h1_title": false,
   "title_cell": "Table of Contents",
   "title_sidebar": "Contents",
   "toc_cell": false,
   "toc_position": {},
   "toc_section_display": true,
   "toc_window_display": false
  }
 },
 "nbformat": 4,
 "nbformat_minor": 4
}
