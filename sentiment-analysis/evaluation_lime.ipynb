{
 "cells": [
  {
   "cell_type": "markdown",
   "metadata": {},
   "source": [
    "# Evaluation Using Eli5 and Lime"
   ]
  },
  {
   "cell_type": "code",
   "execution_count": null,
   "metadata": {
    "tags": []
   },
   "outputs": [],
   "source": [
    "# import packages\n",
    "import numpy as np\n",
    "import pandas as pd\n",
    "\n",
    "# word2vec pipeline\n",
    "from sklearn.pipeline import make_pipeline\n",
    "from word2vec import get_embed_features_list\n",
    "from sklearn.base import BaseEstimator, TransformerMixin\n",
    "from sklearn.linear_model import LogisticRegression\n",
    "from sklearn.svm import SVC\n",
    "from sklearn.ensemble import RandomForestClassifier\n",
    "\n",
    "# eli5\n",
    "import eli5\n",
    "from eli5.lime import TextExplainer"
   ]
  },
  {
   "cell_type": "code",
   "execution_count": null,
   "metadata": {},
   "outputs": [],
   "source": [
    "# define custom transformer to embed words\n",
    "class FeatureEmbedder(BaseEstimator, TransformerMixin): \n",
    "    def __init__( self ):\n",
    "        return\n",
    "    \n",
    "    # Return self nothing else to do here    \n",
    "    def fit( self, X, y = None ):\n",
    "        return self \n",
    "    \n",
    "    # Method that describes what we need this transformer to do\n",
    "    def transform( self, X, y = None ):\n",
    "        return get_embed_features_list(X)"
   ]
  },
  {
   "cell_type": "code",
   "execution_count": null,
   "metadata": {},
   "outputs": [],
   "source": [
    "# define filter functions\n",
    "def filter_entity(feature, entity_list):\n",
    "    '''\n",
    "    retrieve rows that have entity names\n",
    "    '''\n",
    "    # set everything to lowercase and split feature words\n",
    "    entity_list = set(x.lower() for x in entity_list)\n",
    "    feature_words = feature.lower().split()\n",
    "\n",
    "    for word in feature_words:\n",
    "        if word in entity_list:\n",
    "            return True\n",
    "    return False\n",
    "\n",
    "def retrieve_entity(feature, entity_list):\n",
    "    '''\n",
    "    outputs entity that feature belongs to\n",
    "    '''\n",
    "    # set everything to lowercase and split feature words\n",
    "    entity_list = set(x.lower() for x in entity_list)\n",
    "    feature_words = feature.lower().split()\n",
    "\n",
    "    for word in feature_words:\n",
    "        if word in entity_list:\n",
    "            return word\n",
    "    return None # no word available"
   ]
  },
  {
   "cell_type": "code",
   "execution_count": null,
   "metadata": {},
   "outputs": [],
   "source": [
    "# load sample data\n",
    "all_train = pd.read_csv('data/all_train.csv', header = 0)[[\"date_time\", \"text\", \"label\"]]\n",
    "all_test = pd.read_csv('data/all_test.csv', header = 0)[[\"date_time\", \"text\", \"label\"]]\n",
    "all_sample = pd.concat([all_train, all_test], axis=0)\n",
    "\n",
    "# load entity list\n",
    "entity_list = set(pd.read_csv(\"data/entity_list.csv\", header=0)[\"entity\"])"
   ]
  },
  {
   "cell_type": "code",
   "execution_count": null,
   "metadata": {},
   "outputs": [],
   "source": [
    "all_sample.head()"
   ]
  },
  {
   "cell_type": "markdown",
   "metadata": {},
   "source": [
    "## Logistic Regression"
   ]
  },
  {
   "cell_type": "code",
   "execution_count": null,
   "metadata": {},
   "outputs": [],
   "source": [
    "# create pipeline\n",
    "vec = FeatureEmbedder()\n",
    "lr = LogisticRegression()\n",
    "pipe_lr = make_pipeline(vec, lr)\n",
    "pipe_lr.fit(all_train.text, all_train.label)"
   ]
  },
  {
   "cell_type": "code",
<<<<<<< HEAD
   "execution_count": null,
=======
   "execution_count": 7,
>>>>>>> b5014d18bb937be45b9f29fe8599532885b57915
   "metadata": {},
   "outputs": [],
   "source": [
    "# retrieve all features and weights from all possible texts\n",
    "for i in range(len(all_sample)):\n",
    "    current_text = all_sample[\"text\"].iloc[i]\n",
    "    \n",
    "    # create text explainer\n",
    "    te_lr = TextExplainer(random_state=42)\n",
    "    te_lr.fit(current_text, pipe_lr.predict_proba)\n",
    "\n",
    "    # create dataframe from weights\n",
    "    current_df = eli5.formatters.as_dataframe.format_as_dataframes(te_lr.explain_weights(top=None))[\"targets\"]\n",
    "\n",
    "    if i == 0:\n",
    "        lr_df = current_df\n",
    "    else:\n",
    "        lr_df = pd.concat([current_df, lr_df], axis=0)"
   ]
  },
  {
   "cell_type": "code",
   "execution_count": null,
   "metadata": {},
   "outputs": [],
   "source": [
    "# retrieve mean of each weight\n",
    "lr_df_averaged = lr_df.groupby(\"feature\").mean()\n",
    "lr_df_averaged = lr_df_averaged.reset_index()\n",
    "\n",
    "lr_df_averaged"
   ]
  },
  {
   "cell_type": "code",
   "execution_count": null,
   "metadata": {},
   "outputs": [],
   "source": [
    "# retrieve rows that have entity names\n",
    "lr_df_entity = lr_df_averaged[lr_df_averaged.apply(lambda x: filter_entity(x[\"feature\"], entity_list), axis=1)]\n",
    "\n",
    "# label rows as their entity\n",
    "lr_df_entity[\"feature_entity\"] = lr_df_entity[\"feature\"].apply(lambda x: retrieve_entity(x, entity_list))\n",
    "\n",
    "# output entity \n",
    "lr_df_entity_grouped = lr_df_entity.groupby(\"feature_entity\").mean()\n",
    "lr_df_entity_grouped = lr_df_entity_grouped.reset_index()\n",
    "\n",
    "lr_df_entity_grouped"
   ]
  },
  {
   "cell_type": "code",
   "execution_count": null,
   "metadata": {},
   "outputs": [],
   "source": [
    "# save results to csv\n",
    "lr_df_averaged.to_csv(\"data/evaluation_lime/lime_word2vec_lr.csv\", index=False)\n",
    "lr_df_entity.to_csv(\"data/evaluation_lime/lime_entity_ungrouped_word2vec_lr.csv\", index=False)\n",
    "lr_df_entity_grouped.to_csv(\"data/evaluation_lime/lime_entity_word2vec_lr.csv\", index=False)"
   ]
  },
  {
   "cell_type": "markdown",
   "metadata": {},
   "source": [
    "## SVM"
   ]
  },
  {
   "cell_type": "code",
   "execution_count": null,
   "metadata": {},
   "outputs": [],
   "source": [
    "# create pipeline\n",
    "vec = FeatureEmbedder()\n",
    "svm = SVC(probability=True)\n",
    "pipe_svm = make_pipeline(vec, svm)\n",
    "pipe_svm.fit(all_train.text, all_train.label)"
   ]
  },
  {
   "cell_type": "code",
   "execution_count": null,
   "metadata": {},
   "outputs": [],
   "source": [
    "# retrieve all features and weights from all possible texts\n",
    "for i in range(len(all_sample)):\n",
    "    current_text = all_sample[\"text\"].iloc[i]\n",
    "    \n",
    "    # create text explainer\n",
    "    te_svm = TextExplainer(random_state=42)\n",
    "    te_svm.fit(current_text, pipe_svm.predict_proba)\n",
    "\n",
    "    # create dataframe from weights\n",
    "    current_df = eli5.formatters.as_dataframe.format_as_dataframes(te_svm.explain_weights(top=None))[\"targets\"]\n",
    "\n",
    "    if i == 0:\n",
    "        svm_df = current_df\n",
    "    else:\n",
    "        svm_df = pd.concat([current_df, svm_df], axis=0)"
   ]
  },
  {
   "cell_type": "code",
   "execution_count": null,
   "metadata": {},
   "outputs": [],
   "source": [
    "# retrieve mean of each weight\n",
    "svm_df_averaged = svm_df.groupby(\"feature\").mean()\n",
    "svm_df_averaged = svm_df_averaged.reset_index()\n",
    "\n",
    "svm_df_averaged"
   ]
  },
  {
   "cell_type": "code",
   "execution_count": null,
   "metadata": {},
   "outputs": [],
   "source": [
    "# retrieve rows that have entity names\n",
    "svm_df_entity = svm_df_averaged[svm_df_averaged.apply(lambda x: filter_entity(x[\"feature\"], entity_list), axis=1)]\n",
    "\n",
    "# label rows as their entity\n",
    "svm_df_entity[\"feature_entity\"] = svm_df_entity[\"feature\"].apply(lambda x: retrieve_entity(x, entity_list))\n",
    "\n",
    "# output entity \n",
    "svm_df_entity_grouped = svm_df_entity.groupby(\"feature_entity\").mean()\n",
    "svm_df_entity_grouped = svm_df_entity_grouped.reset_index()\n",
    "\n",
    "svm_df_entity_grouped"
   ]
  },
  {
   "cell_type": "code",
   "execution_count": null,
   "metadata": {},
   "outputs": [],
   "source": [
    "# save results to csv\n",
    "svm_df_averaged.to_csv(\"data/evaluation_lime/lime_word2vec_svm.csv\", index=False)\n",
    "svm_df_entity.to_csv(\"data/evaluation_lime/lime_entity_ungrouped_word2vec_svm.csv\", index=False)\n",
    "svm_df_entity_grouped.to_csv(\"data/evaluation_lime/lime_entity_word2vec_svm.csv\", index=False)"
   ]
  },
  {
   "cell_type": "code",
   "execution_count": null,
   "metadata": {},
   "outputs": [],
   "source": [
    "# individual text explainer\n",
    "# te_svm = TextExplainer(random_state=42)\n",
    "# te_svm.fit(all_test.text.iloc[1], pipe_svm.predict_proba)\n",
    "# te_svm.explain_weights(top=None)"
   ]
  },
  {
   "cell_type": "markdown",
   "metadata": {},
   "source": [
    "## Random Forest"
   ]
  },
  {
   "cell_type": "code",
   "execution_count": null,
   "metadata": {},
   "outputs": [],
   "source": [
    "# create pipeline\n",
    "vec = FeatureEmbedder()\n",
    "rf = RandomForestClassifier()\n",
    "pipe_rf = make_pipeline(vec, rf)\n",
    "pipe_rf.fit(all_train.text, all_train.label)"
   ]
  },
  {
   "cell_type": "code",
   "execution_count": null,
   "metadata": {},
   "outputs": [],
   "source": [
    "# retrieve all features and weights from all possible texts\n",
    "for i in range(len(all_sample)):\n",
    "    current_text = all_sample[\"text\"].iloc[i]\n",
    "    \n",
    "    # create text explainer\n",
    "    te_rf = TextExplainer(random_state=42)\n",
    "    te_rf.fit(current_text, pipe_svm.predict_proba)\n",
    "\n",
    "    # create dataframe from weights\n",
    "    current_df = eli5.formatters.as_dataframe.format_as_dataframes(te_rf.explain_weights(top=None))[\"targets\"]\n",
    "\n",
    "    if i == 0:\n",
    "        rf_df = current_df\n",
    "    else:\n",
    "        rf_df = pd.concat([current_df, rf_df], axis=0)"
   ]
  },
  {
   "cell_type": "code",
   "execution_count": null,
   "metadata": {},
   "outputs": [],
   "source": [
    "# retrieve mean of each weight\n",
    "rf_df_averaged = rf_df.groupby(\"feature\").mean()\n",
    "rf_df_averaged = rf_df_averaged.reset_index()\n",
    "\n",
    "rf_df_averaged"
   ]
  },
  {
   "cell_type": "code",
   "execution_count": null,
   "metadata": {},
   "outputs": [],
   "source": [
    "# retrieve rows that have entity names\n",
    "rf_df_entity = rf_df_averaged[rf_df_averaged.apply(lambda x: filter_entity(x[\"feature\"], entity_list), axis=1)]\n",
    "\n",
    "# label rows as their entity\n",
    "rf_df_entity[\"feature_entity\"] = rf_df_entity[\"feature\"].apply(lambda x: retrieve_entity(x, entity_list))\n",
    "\n",
    "# output entity \n",
    "rf_df_entity_grouped = rf_df_entity.groupby(\"feature_entity\").mean()\n",
    "rf_df_entity_grouped = rf_df_entity_grouped.reset_index()\n",
    "\n",
    "rf_df_entity_grouped"
   ]
  },
  {
   "cell_type": "code",
   "execution_count": null,
   "metadata": {},
   "outputs": [],
   "source": [
    "# save results to csv\n",
    "rf_df_averaged.to_csv(\"data/evaluation_lime/lime_word2vec_rf.csv\", index=False)\n",
    "rf_df_entity.to_csv(\"data/evaluation_lime/lime_entity_ungrouped_word2vec_rf.csv\", index=False)\n",
    "rf_df_entity_grouped.to_csv(\"data/evaluation_lime/lime_entity_word2vec_rf.csv\", index=False)"
   ]
  },
  {
   "cell_type": "code",
   "execution_count": null,
   "metadata": {},
   "outputs": [],
   "source": []
  }
 ],
 "metadata": {
  "kernelspec": {
   "display_name": "Python 3",
   "language": "python",
   "name": "python3"
  },
  "language_info": {
   "codemirror_mode": {
    "name": "ipython",
    "version": 3
   },
   "file_extension": ".py",
   "mimetype": "text/x-python",
   "name": "python",
   "nbconvert_exporter": "python",
   "pygments_lexer": "ipython3",
   "version": "3.8.5"
  }
 },
 "nbformat": 4,
 "nbformat_minor": 2
}
