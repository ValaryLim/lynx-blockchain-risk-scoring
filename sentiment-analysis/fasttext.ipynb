{
 "metadata": {
  "language_info": {
   "codemirror_mode": {
    "name": "ipython",
    "version": 3
   },
   "file_extension": ".py",
   "mimetype": "text/x-python",
   "name": "python",
   "nbconvert_exporter": "python",
   "pygments_lexer": "ipython3",
   "version": "3.8.5-final"
  },
  "orig_nbformat": 2,
  "kernelspec": {
   "name": "python_defaultSpec_1600841910527",
   "display_name": "Python 3.8.5 64-bit ('lynx': conda)"
  }
 },
 "nbformat": 4,
 "nbformat_minor": 2,
 "cells": [
  {
   "source": [
    "# FastText Sentiment Analysis Model"
   ],
   "cell_type": "markdown",
   "metadata": {}
  },
  {
   "cell_type": "code",
   "execution_count": 1,
   "metadata": {},
   "outputs": [],
   "source": [
    "# read and pre-process data\n",
    "import pandas as pd\n",
    "\n",
    "# modelling\n",
    "import fasttext\n",
    "\n",
    "# evaluation metrics\n",
    "from sklearn.metrics import f1_score, precision_score, recall_score"
   ]
  },
  {
   "cell_type": "code",
   "execution_count": 2,
   "metadata": {},
   "outputs": [],
   "source": [
    "test_lemmatize_filenames = [\"data/fasttext/lemmatize/all_test_lemmatize.csv\", \"data/fasttext/lemmatize/news_test_lemmatize.csv\", \"data/fasttext/lemmatize/reddit_test_lemmatize.csv\", \"data/fasttext/lemmatize/twitter_test_lemmatize.csv\"]\n",
    "test_stem_filenames = [\"data/fasttext/stem/all_test_stem.csv\", \"data/fasttext/stem/news_test_stem.csv\", \"data/fasttext/stem/reddit_test_stem.csv\", \"data/fasttext/stem/twitter_test_stem.csv\"]\n",
    "test_filenames = [\"data/fasttext/normal/all_test.csv\", \"data/fasttext/normal/news_test.csv\", \"data/fasttext/normal/reddit_test.csv\", \"data/fasttext/normal/twitter_test.csv\"]"
   ]
  },
  {
   "source": [
    "## Train and Test Model (Default Parameters)\n",
    "Perform initial testing to see which model performs best (before hyperparameter tuning)"
   ],
   "cell_type": "markdown",
   "metadata": {}
  },
  {
   "cell_type": "code",
   "execution_count": 3,
   "metadata": {
    "tags": []
   },
   "outputs": [
    {
     "output_type": "stream",
     "name": "stdout",
     "text": "default fasttext model\n----------------------------------------------------------------------\nresults for: data/fasttext/normal/all_test.csv\nprecision: 0.7232704402515723\nrecall: 0.6534090909090909\nf1: 0.6865671641791045\n----------------------------------------------------------------------\nresults for: data/fasttext/normal/news_test.csv\nprecision: 0.7065217391304348\nrecall: 0.5508474576271186\nf1: 0.6190476190476191\n----------------------------------------------------------------------\nresults for: data/fasttext/normal/reddit_test.csv\nprecision: 0.6827956989247311\nrecall: 0.6939890710382514\nf1: 0.6883468834688347\n----------------------------------------------------------------------\nresults for: data/fasttext/normal/twitter_test.csv\nprecision: 0.95\nrecall: 0.7450980392156863\nf1: 0.8351648351648352\n----------------------------------------------------------------------\n"
    }
   ],
   "source": [
    "# no pre-processing model\n",
    "model = fasttext.train_supervised(\"data/fasttext/normal/all_train.txt\", dim=300, pretrainedVectors=\"utils/fasttext/wiki-news-300d-1M.vec\")\n",
    "print(\"default fasttext model\")\n",
    "print(\"----------------------------------------------------------------------\")\n",
    "for i in range(len(test_filenames)):\n",
    "    print(\"results for:\", test_filenames[i])\n",
    "\n",
    "    # load data\n",
    "    test_df = pd.read_csv(test_filenames[i], header=0)\n",
    "    y_actual = list(test_df[\"label\"])\n",
    "\n",
    "    # predictions\n",
    "    y_pred = [int(model.predict(x)[0][0][-1]) for x in test_df[\"text\"]]\n",
    "\n",
    "    # print results\n",
    "    precision = precision_score(y_actual, y_pred, average=\"binary\", pos_label=1)\n",
    "    recall = recall_score(y_actual, y_pred, average=\"binary\", pos_label=1)\n",
    "    f1 = f1_score(y_actual, y_pred, average=\"binary\", pos_label=1)\n",
    "\n",
    "    print(\"precision:\", precision)\n",
    "    print(\"recall:\", recall)\n",
    "    print(\"f1:\", f1)\n",
    "    print(\"----------------------------------------------------------------------\")\n",
    "\n",
    "# save model\n",
    "model.save_model(\"models/fasttext/fasttext_default.bin\")"
   ]
  },
  {
   "cell_type": "code",
   "execution_count": 6,
   "metadata": {
    "tags": []
   },
   "outputs": [
    {
     "output_type": "stream",
     "name": "stdout",
     "text": "lemmatized fasttext model\n----------------------------------------------------------------------\nresults for: data/fasttext/lemmatize/all_test_lemmatize.csv\nprecision: 0.6447368421052632\nrecall: 0.5568181818181818\nf1: 0.5975609756097561\n----------------------------------------------------------------------\nresults for: data/fasttext/lemmatize/news_test_lemmatize.csv\nprecision: 0.6436781609195402\nrecall: 0.4745762711864407\nf1: 0.5463414634146342\n----------------------------------------------------------------------\nresults for: data/fasttext/lemmatize/reddit_test_lemmatize.csv\nprecision: 0.5842696629213483\nrecall: 0.5683060109289617\nf1: 0.5761772853185596\n----------------------------------------------------------------------\nresults for: data/fasttext/lemmatize/twitter_test_lemmatize.csv\nprecision: 0.9230769230769231\nrecall: 0.7058823529411765\nf1: 0.8000000000000002\n----------------------------------------------------------------------\n"
    }
   ],
   "source": [
    "# lemmatized model\n",
    "model = fasttext.train_supervised(\"data/fasttext/lemmatize/all_train_lemmatize.txt\", dim=300, pretrainedVectors=\"utils/fasttext/wiki-news-300d-1M.vec\")\n",
    "print(\"lemmatized fasttext model\")\n",
    "print(\"----------------------------------------------------------------------\")\n",
    "for i in range(len(test_lemmatize_filenames)):\n",
    "    print(\"results for:\", test_lemmatize_filenames[i])\n",
    "\n",
    "    # load data\n",
    "    test_df = pd.read_csv(test_lemmatize_filenames[i], header=0)\n",
    "    y_actual = list(test_df[\"label\"])\n",
    "\n",
    "    # predictions\n",
    "    y_pred = [int(model.predict(x)[0][0][-1]) for x in test_df[\"text\"]]\n",
    "\n",
    "    # print results\n",
    "    precision = precision_score(y_actual, y_pred, average=\"binary\", pos_label=1)\n",
    "    recall = recall_score(y_actual, y_pred, average=\"binary\", pos_label=1)\n",
    "    f1 = f1_score(y_actual, y_pred, average=\"binary\", pos_label=1)\n",
    "\n",
    "    print(\"precision:\", precision)\n",
    "    print(\"recall:\", recall)\n",
    "    print(\"f1:\", f1)\n",
    "    print(\"----------------------------------------------------------------------\")\n",
    "\n",
    "# save model\n",
    "model.save_model(\"models/fasttext/fasttext_default_lemmatize.bin\")"
   ]
  },
  {
   "cell_type": "code",
   "execution_count": 5,
   "metadata": {
    "tags": []
   },
   "outputs": [
    {
     "output_type": "stream",
     "name": "stdout",
     "text": "stem fasttext model\n----------------------------------------------------------------------\nresults for: data/fasttext/stem/all_test_stem.csv\nprecision: 0.6870967741935484\nrecall: 0.6051136363636364\nf1: 0.6435045317220544\n----------------------------------------------------------------------\nresults for: data/fasttext/stem/news_test_stem.csv\nprecision: 0.6210526315789474\nrecall: 0.5\nf1: 0.5539906103286385\n----------------------------------------------------------------------\nresults for: data/fasttext/stem/reddit_test_stem.csv\nprecision: 0.6759776536312849\nrecall: 0.6612021857923497\nf1: 0.6685082872928177\n----------------------------------------------------------------------\nresults for: data/fasttext/stem/twitter_test_stem.csv\nprecision: 0.9166666666666666\nrecall: 0.6470588235294118\nf1: 0.7586206896551724\n----------------------------------------------------------------------\n"
    },
    {
     "output_type": "error",
     "ename": "AttributeError",
     "evalue": "'_FastText' object has no attribute 'save'",
     "traceback": [
      "\u001b[0;31m---------------------------------------------------------------------------\u001b[0m",
      "\u001b[0;31mAttributeError\u001b[0m                            Traceback (most recent call last)",
      "\u001b[0;32m<ipython-input-5-1bb53aa52ccd>\u001b[0m in \u001b[0;36m<module>\u001b[0;34m\u001b[0m\n\u001b[1;32m     24\u001b[0m \u001b[0;34m\u001b[0m\u001b[0m\n\u001b[1;32m     25\u001b[0m \u001b[0;31m# save model\u001b[0m\u001b[0;34m\u001b[0m\u001b[0;34m\u001b[0m\u001b[0;34m\u001b[0m\u001b[0m\n\u001b[0;32m---> 26\u001b[0;31m \u001b[0mmodel\u001b[0m\u001b[0;34m.\u001b[0m\u001b[0msave\u001b[0m\u001b[0;34m(\u001b[0m\u001b[0;34m\"models/fasttext/fasttext_default_stem.bin\"\u001b[0m\u001b[0;34m)\u001b[0m\u001b[0;34m\u001b[0m\u001b[0;34m\u001b[0m\u001b[0m\n\u001b[0m",
      "\u001b[0;31mAttributeError\u001b[0m: '_FastText' object has no attribute 'save'"
     ]
    }
   ],
   "source": [
    "# stemmed model\n",
    "model = fasttext.train_supervised(\"data/fasttext/stem/all_train_stem.txt\", dim=300, pretrainedVectors=\"utils/fasttext/wiki-news-300d-1M.vec\")\n",
    "print(\"stem fasttext model\")\n",
    "print(\"----------------------------------------------------------------------\")\n",
    "for i in range(len(test_stem_filenames)):\n",
    "    print(\"results for:\", test_stem_filenames[i])\n",
    "\n",
    "    # load data\n",
    "    test_df = pd.read_csv(test_stem_filenames[i], header=0)\n",
    "    y_actual = list(test_df[\"label\"])\n",
    "\n",
    "    # predictions\n",
    "    y_pred = [int(model.predict(x)[0][0][-1]) for x in test_df[\"text\"]]\n",
    "\n",
    "    # print results\n",
    "    precision = precision_score(y_actual, y_pred, average=\"binary\", pos_label=1)\n",
    "    recall = recall_score(y_actual, y_pred, average=\"binary\", pos_label=1)\n",
    "    f1 = f1_score(y_actual, y_pred, average=\"binary\", pos_label=1)\n",
    "\n",
    "    print(\"precision:\", precision)\n",
    "    print(\"recall:\", recall)\n",
    "    print(\"f1:\", f1)\n",
    "    print(\"----------------------------------------------------------------------\")\n",
    "\n",
    "# save model\n",
    "model.save_model(\"models/fasttext/fasttext_default_stem.bin\")"
   ]
  },
  {
   "cell_type": "code",
   "execution_count": null,
   "metadata": {},
   "outputs": [],
   "source": []
  }
 ]
}