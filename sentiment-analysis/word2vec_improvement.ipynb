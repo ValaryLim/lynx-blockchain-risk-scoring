{
 "cells": [
  {
   "cell_type": "markdown",
   "metadata": {},
   "source": [
    "### From previous meeting\n",
    "\n",
    "\n",
    "Word2vec improvements [Pengtai]\n",
    "\n",
    "  Word2vec maximum word length more than 15! \n",
    "  Remove duplicates before prediction \n",
    "  Preprocessing combinations \n",
    "  Sklearn version \n",
    "  Update the performance \n"
   ]
  },
  {
   "cell_type": "markdown",
   "metadata": {},
   "source": [
    "## imports"
   ]
  },
  {
   "cell_type": "code",
   "execution_count": 2,
   "metadata": {
    "ExecuteTime": {
     "end_time": "2020-10-24T07:58:56.775919Z",
     "start_time": "2020-10-24T07:58:56.755366Z"
    }
   },
   "outputs": [],
   "source": [
    "%load_ext autoreload\n",
    "%autoreload 2"
   ]
  },
  {
   "cell_type": "code",
   "execution_count": 4,
   "metadata": {
    "ExecuteTime": {
     "end_time": "2020-10-24T07:59:04.441516Z",
     "start_time": "2020-10-24T07:59:04.370574Z"
    }
   },
   "outputs": [],
   "source": [
    "import numpy as np\n",
    "import pandas as pd\n",
    "import matplotlib.pyplot as plt\n",
    "import torch\n",
    "import transformers as ppb # pytorch transformers\n",
    "\n",
    "import gzip\n",
    "import gensim\n",
    "from gensim import models\n",
    "import lightgbm as lgb\n",
    "import pickle\n",
    "\n",
    "from sklearn.linear_model import LogisticRegression\n",
    "from sklearn.svm import SVC\n",
    "from sklearn.tree import DecisionTreeClassifier\n",
    "from sklearn.ensemble import RandomForestClassifier\n",
    "\n",
    "from sklearn.model_selection import cross_val_score\n",
    "from sklearn.model_selection import train_test_split\n",
    "from sklearn.metrics import classification_report\n",
    "\n",
    "from sklearn import metrics\n",
    "import matplotlib.pyplot as plt\n",
    "import seaborn as sns\n",
    "\n",
    "from text_processing import text_processing"
   ]
  },
  {
   "cell_type": "code",
   "execution_count": 5,
   "metadata": {
    "ExecuteTime": {
     "end_time": "2020-10-24T07:59:06.803433Z",
     "start_time": "2020-10-24T07:59:06.737101Z"
    }
   },
   "outputs": [
    {
     "name": "stdout",
     "output_type": "stream",
     "text": [
      "Python 3.7.6\n"
     ]
    },
    {
     "data": {
      "text/html": [
       "\n",
       "<style>\n",
       "    div#notebook-container    { width: 95%; }\n",
       "    div#menubar-container     { width: 95%; }\n",
       "    div#header-container      { width: 95%; }\n",
       "    div#maintoolbar-container { width: 95%; }\"\"\n",
       "</style>\n"
      ],
      "text/plain": [
       "<IPython.core.display.HTML object>"
      ]
     },
     "metadata": {},
     "output_type": "display_data"
    }
   ],
   "source": [
    "from platform import python_version\n",
    "from IPython.display import display, HTML\n",
    "print('Python', python_version())\n",
    "display(HTML(data=\"\"\"\n",
    "<style>\n",
    "    div#notebook-container    { width: 95%; }\n",
    "    div#menubar-container     { width: 95%; }\n",
    "    div#header-container      { width: 95%; }\n",
    "    div#maintoolbar-container { width: 95%; }\"\"\n",
    "</style>\n",
    "\"\"\"))"
   ]
  },
  {
   "cell_type": "code",
   "execution_count": 6,
   "metadata": {
    "ExecuteTime": {
     "end_time": "2020-10-24T07:59:29.147444Z",
     "start_time": "2020-10-24T07:59:09.347302Z"
    }
   },
   "outputs": [],
   "source": [
    "model = models.KeyedVectors.load_word2vec_format(\n",
    "    './GoogleNews-vectors-negative300.bin', binary=True)"
   ]
  },
  {
   "cell_type": "markdown",
   "metadata": {
    "heading_collapsed": true
   },
   "source": [
    "## functions"
   ]
  },
  {
   "cell_type": "code",
   "execution_count": 7,
   "metadata": {
    "ExecuteTime": {
     "end_time": "2020-10-24T07:59:39.403730Z",
     "start_time": "2020-10-24T07:59:39.335345Z"
    },
    "hidden": true
   },
   "outputs": [],
   "source": [
    "def get_text_token(text):\n",
    "    # Tokenize the sentence\n",
    "    tokenized=text.apply((lambda x: gensim.utils.simple_preprocess(x)))\n",
    "\n",
    "    # Filter out words not in trained corpus, and add a '0' if setence is empty\n",
    "    def filter_vocab(lst):\n",
    "        result = ['0']\n",
    "        if len(lst):\n",
    "            result = [i for i in lst if i in model.vocab] \n",
    "        return result\n",
    "\n",
    "    tokenized=tokenized.apply(lambda x: filter_vocab(x))\n",
    "    return tokenized"
   ]
  },
  {
   "cell_type": "code",
   "execution_count": 8,
   "metadata": {
    "ExecuteTime": {
     "end_time": "2020-10-24T07:59:41.395406Z",
     "start_time": "2020-10-24T07:59:41.334971Z"
    },
    "hidden": true
   },
   "outputs": [],
   "source": [
    "def get_embedding(textToken):\n",
    "    \n",
    "    embedding=textToken.apply(lambda x: model[x])\n",
    "    embedding=np.array(list(embedding.apply(lambda x: sum(x)/len(x))))\n",
    "    return embedding"
   ]
  },
  {
   "cell_type": "code",
   "execution_count": 9,
   "metadata": {
    "ExecuteTime": {
     "end_time": "2020-10-24T07:59:43.062416Z",
     "start_time": "2020-10-24T07:59:42.999275Z"
    },
    "hidden": true
   },
   "outputs": [],
   "source": [
    "def get_embed_features(text):\n",
    "    # Tokenize the sentence\n",
    "    tokenized=text.apply((lambda x: gensim.utils.simple_preprocess(x)))\n",
    "\n",
    "    # Filter out words not in trained corpus, and add a '0' if setence is empty\n",
    "    def filter_vocab(lst):\n",
    "        result = ['0']\n",
    "        if len(lst):\n",
    "            result = [i for i in lst if i in model.vocab] \n",
    "        return result\n",
    "\n",
    "    tokenized=tokenized.apply(lambda x: filter_vocab(x)) \n",
    "    embedding=tokenized.apply(lambda x: model[x])\n",
    "    embedding=np.array(list(embedding.apply(lambda x: sum(x)/len(x))))\n",
    "    return embedding"
   ]
  },
  {
   "cell_type": "code",
   "execution_count": 10,
   "metadata": {
    "ExecuteTime": {
     "end_time": "2020-10-24T07:59:44.231598Z",
     "start_time": "2020-10-24T07:59:44.172220Z"
    },
    "hidden": true
   },
   "outputs": [],
   "source": [
    "def get_results(model, test_features, test_label, thresh = 0.5):\n",
    "    test_pred = (model.predict_proba(test_features)[:,1] >= thresh).astype(bool)\n",
    "    print(classification_report(test_label, test_pred, digits=5))\n",
    "    return None"
   ]
  },
  {
   "cell_type": "markdown",
   "metadata": {},
   "source": [
    "## investigations"
   ]
  },
  {
   "cell_type": "markdown",
   "metadata": {
    "heading_collapsed": true
   },
   "source": [
    "### 1. min/max_len parameter"
   ]
  },
  {
   "cell_type": "code",
   "execution_count": 115,
   "metadata": {
    "ExecuteTime": {
     "end_time": "2020-10-17T08:45:42.184866Z",
     "start_time": "2020-10-17T08:45:42.182009Z"
    },
    "hidden": true
   },
   "outputs": [],
   "source": [
    "tokenized_2vec= gensim.utils.simple_preprocess('''account hacked ?. i have accounts on bitstamp bittrex and binance . \n",
    "                                                this morning i tried to access all 3 and all 3 said that my password was incorrect . \n",
    "                                                i reset all 3 and all my funds are there , but it's obviously kind of weird that i \n",
    "                                                couldn't access all my accounts at once . is it possible that someone tried to access \n",
    "                                                my account many times with incorrect attempts and so it got blocked ? \\n\\n-the passwords \n",
    "                                                are different but similar if someone figures out the system ( only a few variations in \n",
    "                                                the password ) \\n-i didn't get any warning emails from any of the exchanges''', min_len=3)"
   ]
  },
  {
   "cell_type": "code",
   "execution_count": 116,
   "metadata": {
    "ExecuteTime": {
     "end_time": "2020-10-17T08:45:50.178431Z",
     "start_time": "2020-10-17T08:45:50.173971Z"
    },
    "hidden": true,
    "scrolled": true
   },
   "outputs": [
    {
     "data": {
      "text/plain": [
       "['account',\n",
       " 'hacked',\n",
       " 'have',\n",
       " 'accounts',\n",
       " 'bitstamp',\n",
       " 'bittrex',\n",
       " 'and',\n",
       " 'binance',\n",
       " 'this',\n",
       " 'morning',\n",
       " 'tried',\n",
       " 'access',\n",
       " 'all',\n",
       " 'and',\n",
       " 'all',\n",
       " 'said',\n",
       " 'that',\n",
       " 'password',\n",
       " 'was',\n",
       " 'incorrect',\n",
       " 'reset',\n",
       " 'all',\n",
       " 'and',\n",
       " 'all',\n",
       " 'funds',\n",
       " 'are',\n",
       " 'there',\n",
       " 'but',\n",
       " 'obviously',\n",
       " 'kind',\n",
       " 'weird',\n",
       " 'that',\n",
       " 'couldn',\n",
       " 'access',\n",
       " 'all',\n",
       " 'accounts',\n",
       " 'once',\n",
       " 'possible',\n",
       " 'that',\n",
       " 'someone',\n",
       " 'tried',\n",
       " 'access',\n",
       " 'account',\n",
       " 'many',\n",
       " 'times',\n",
       " 'with',\n",
       " 'incorrect',\n",
       " 'attempts',\n",
       " 'and',\n",
       " 'got',\n",
       " 'blocked',\n",
       " 'the',\n",
       " 'passwords',\n",
       " 'are',\n",
       " 'different',\n",
       " 'but',\n",
       " 'similar',\n",
       " 'someone',\n",
       " 'figures',\n",
       " 'out',\n",
       " 'the',\n",
       " 'system',\n",
       " 'only',\n",
       " 'few',\n",
       " 'variations',\n",
       " 'the',\n",
       " 'password',\n",
       " 'didn',\n",
       " 'get',\n",
       " 'any',\n",
       " 'warning',\n",
       " 'emails',\n",
       " 'from',\n",
       " 'any',\n",
       " 'the',\n",
       " 'exchanges']"
      ]
     },
     "execution_count": 116,
     "metadata": {},
     "output_type": "execute_result"
    }
   ],
   "source": [
    "tokenized_2vec"
   ]
  },
  {
   "cell_type": "code",
   "execution_count": 245,
   "metadata": {
    "ExecuteTime": {
     "end_time": "2020-10-17T10:27:08.514280Z",
     "start_time": "2020-10-17T10:27:08.511376Z"
    },
    "hidden": true
   },
   "outputs": [],
   "source": [
    "tokenized_2vec= gensim.utils.simple_preprocess('''account hacked ?. i have accounts on bitstamp bittrex and binance . \n",
    "                                                this morning i tried to access all 3 and all 3 said that my Password was incorrect . \n",
    "                                                i reset all 3 and all my funds are there , but it's obviously kind of weird that i \n",
    "                                                couldn't access all my accounts at once . is it possible that someone tried to access \n",
    "                                                my account many times with incorrect attempts and so it got blocked ? \\n\\n-the passwords \n",
    "                                                are different but similar if someone figures out the system ( only a few variations in \n",
    "                                                the password ) \\n-i didn't get any warning emails from any of the exchanges''', min_len=5)"
   ]
  },
  {
   "cell_type": "code",
   "execution_count": 246,
   "metadata": {
    "ExecuteTime": {
     "end_time": "2020-10-17T10:27:09.124389Z",
     "start_time": "2020-10-17T10:27:09.120176Z"
    },
    "hidden": true,
    "scrolled": true
   },
   "outputs": [
    {
     "data": {
      "text/plain": [
       "['account',\n",
       " 'hacked',\n",
       " 'accounts',\n",
       " 'bitstamp',\n",
       " 'bittrex',\n",
       " 'binance',\n",
       " 'morning',\n",
       " 'tried',\n",
       " 'access',\n",
       " 'password',\n",
       " 'incorrect',\n",
       " 'reset',\n",
       " 'funds',\n",
       " 'there',\n",
       " 'obviously',\n",
       " 'weird',\n",
       " 'couldn',\n",
       " 'access',\n",
       " 'accounts',\n",
       " 'possible',\n",
       " 'someone',\n",
       " 'tried',\n",
       " 'access',\n",
       " 'account',\n",
       " 'times',\n",
       " 'incorrect',\n",
       " 'attempts',\n",
       " 'blocked',\n",
       " 'passwords',\n",
       " 'different',\n",
       " 'similar',\n",
       " 'someone',\n",
       " 'figures',\n",
       " 'system',\n",
       " 'variations',\n",
       " 'password',\n",
       " 'warning',\n",
       " 'emails',\n",
       " 'exchanges']"
      ]
     },
     "execution_count": 246,
     "metadata": {},
     "output_type": "execute_result"
    }
   ],
   "source": [
    "tokenized_2vec"
   ]
  },
  {
   "cell_type": "markdown",
   "metadata": {
    "heading_collapsed": true
   },
   "source": [
    "### 2. entity dependency"
   ]
  },
  {
   "cell_type": "code",
   "execution_count": 124,
   "metadata": {
    "ExecuteTime": {
     "end_time": "2020-10-17T08:49:23.593568Z",
     "start_time": "2020-10-17T08:49:23.590226Z"
    },
    "hidden": true
   },
   "outputs": [],
   "source": [
    "def filter_vocab(lst):\n",
    "    result = ['0']\n",
    "    if len(lst):\n",
    "        result = [i for i in lst if i in model.vocab] \n",
    "    return result"
   ]
  },
  {
   "cell_type": "code",
   "execution_count": 125,
   "metadata": {
    "ExecuteTime": {
     "end_time": "2020-10-17T08:49:25.652287Z",
     "start_time": "2020-10-17T08:49:25.647654Z"
    },
    "hidden": true,
    "scrolled": true
   },
   "outputs": [
    {
     "data": {
      "text/plain": [
       "['account',\n",
       " 'hacked',\n",
       " 'accounts',\n",
       " 'morning',\n",
       " 'tried',\n",
       " 'access',\n",
       " 'password',\n",
       " 'incorrect',\n",
       " 'reset',\n",
       " 'funds',\n",
       " 'there',\n",
       " 'obviously',\n",
       " 'weird',\n",
       " 'couldn',\n",
       " 'access',\n",
       " 'accounts',\n",
       " 'possible',\n",
       " 'someone',\n",
       " 'tried',\n",
       " 'access',\n",
       " 'account',\n",
       " 'times',\n",
       " 'incorrect',\n",
       " 'attempts',\n",
       " 'blocked',\n",
       " 'passwords',\n",
       " 'different',\n",
       " 'similar',\n",
       " 'someone',\n",
       " 'figures',\n",
       " 'system',\n",
       " 'variations',\n",
       " 'password',\n",
       " 'warning',\n",
       " 'emails',\n",
       " 'exchanges']"
      ]
     },
     "execution_count": 125,
     "metadata": {},
     "output_type": "execute_result"
    }
   ],
   "source": [
    "filter_vocab(tokenized_2vec)"
   ]
  },
  {
   "cell_type": "markdown",
   "metadata": {
    "heading_collapsed": true
   },
   "source": [
    "### 3. length limit"
   ]
  },
  {
   "cell_type": "code",
   "execution_count": 128,
   "metadata": {
    "ExecuteTime": {
     "end_time": "2020-10-17T08:52:51.288402Z",
     "start_time": "2020-10-17T08:52:51.285528Z"
    },
    "hidden": true
   },
   "outputs": [],
   "source": [
    "tokenized_2vec= gensim.utils.simple_preprocess('''account hacked ?. i have accounts on bitstamp bittrex and binance . \n",
    "                                                this morning i tried to access all 3 and all 3 said that my password was incorrect . \n",
    "                                                i reset all 3 and all my funds are there , but obviously kind of weird that i \n",
    "                                                access all my accounts at once . is it possible that someone tried to access \n",
    "                                                my account many times with incorrect attempts and so it got blocked ? \\n\\n-the passwords \n",
    "                                                are different but similar if someone figures out the system ( only a few variations in \n",
    "                                                the password ) \\n-i get any warning emails from any of the exchanges''')"
   ]
  },
  {
   "cell_type": "code",
   "execution_count": 129,
   "metadata": {
    "ExecuteTime": {
     "end_time": "2020-10-17T08:52:52.072302Z",
     "start_time": "2020-10-17T08:52:52.067908Z"
    },
    "hidden": true
   },
   "outputs": [
    {
     "data": {
      "text/plain": [
       "(79, 300)"
      ]
     },
     "execution_count": 129,
     "metadata": {},
     "output_type": "execute_result"
    }
   ],
   "source": [
    "model[filter_vocab(tokenized_2vec)].shape"
   ]
  },
  {
   "cell_type": "code",
   "execution_count": 130,
   "metadata": {
    "ExecuteTime": {
     "end_time": "2020-10-17T08:53:13.234061Z",
     "start_time": "2020-10-17T08:53:13.231284Z"
    },
    "hidden": true
   },
   "outputs": [],
   "source": [
    "tokenized_2vec= gensim.utils.simple_preprocess('''hello, it's me''')"
   ]
  },
  {
   "cell_type": "code",
   "execution_count": 131,
   "metadata": {
    "ExecuteTime": {
     "end_time": "2020-10-17T08:53:20.192231Z",
     "start_time": "2020-10-17T08:53:20.188204Z"
    },
    "hidden": true
   },
   "outputs": [
    {
     "data": {
      "text/plain": [
       "(3, 300)"
      ]
     },
     "execution_count": 131,
     "metadata": {},
     "output_type": "execute_result"
    }
   ],
   "source": [
    "model[filter_vocab(tokenized_2vec)].shape"
   ]
  },
  {
   "cell_type": "markdown",
   "metadata": {},
   "source": [
    "## improvement attempts"
   ]
  },
  {
   "cell_type": "markdown",
   "metadata": {},
   "source": [
    "### 1. get embedding from column max instead of mean (maxpooling)"
   ]
  },
  {
   "cell_type": "code",
   "execution_count": 22,
   "metadata": {
    "ExecuteTime": {
     "end_time": "2020-10-24T08:08:39.354405Z",
     "start_time": "2020-10-24T08:08:39.291155Z"
    }
   },
   "outputs": [],
   "source": [
    "def get_embed_features_max(text):\n",
    "    # Tokenize the sentence\n",
    "    tokenized_2vec=text.apply((lambda x: gensim.utils.simple_preprocess(x)))\n",
    "\n",
    "    # Filter out words not in trained corpus, and add a '0' if setence is empty\n",
    "    def filter_vocab(lst):\n",
    "        result = ['0']\n",
    "        if len(lst):\n",
    "            result = [i for i in lst if i in model.vocab] \n",
    "        return result\n",
    "\n",
    "    tokenized_2vec=tokenized_2vec.apply(lambda x: filter_vocab(x))\n",
    "    embedding=tokenized_2vec.apply(lambda x: model[x])\n",
    "    \n",
    "    # get the max of each column from the embedding matrix\n",
    "    features_2vec=np.array(list(embedding.apply(lambda x: np.array(x).max(axis=0))))   \n",
    "    return features_2vec"
   ]
  },
  {
   "cell_type": "code",
   "execution_count": 23,
   "metadata": {
    "ExecuteTime": {
     "end_time": "2020-10-24T08:08:41.204554Z",
     "start_time": "2020-10-24T08:08:40.112903Z"
    }
   },
   "outputs": [],
   "source": [
    "train_features_max = get_embed_features_max(all_train['text'])"
   ]
  },
  {
   "cell_type": "code",
   "execution_count": 25,
   "metadata": {
    "ExecuteTime": {
     "end_time": "2020-10-24T08:09:26.712427Z",
     "start_time": "2020-10-24T08:09:26.644830Z"
    }
   },
   "outputs": [],
   "source": [
    "from sklearn.calibration import CalibratedClassifierCV"
   ]
  },
  {
   "cell_type": "code",
   "execution_count": 26,
   "metadata": {
    "ExecuteTime": {
     "end_time": "2020-10-24T08:09:40.602038Z",
     "start_time": "2020-10-24T08:09:27.238517Z"
    }
   },
   "outputs": [
    {
     "data": {
      "text/plain": [
       "CalibratedClassifierCV(base_estimator=SVC(C=1.0, break_ties=False,\n",
       "                                          cache_size=200, class_weight=None,\n",
       "                                          coef0=0.0,\n",
       "                                          decision_function_shape='ovr',\n",
       "                                          degree=3, gamma='scale', kernel='rbf',\n",
       "                                          max_iter=-1, probability=False,\n",
       "                                          random_state=None, shrinking=True,\n",
       "                                          tol=0.001, verbose=False),\n",
       "                       cv=None, method='sigmoid')"
      ]
     },
     "execution_count": 26,
     "metadata": {},
     "output_type": "execute_result"
    }
   ],
   "source": [
    "svc_new = SVC()\n",
    "svc_new = CalibratedClassifierCV(svc_new) \n",
    "svc_new.fit(train_features_max, all_train['label'])"
   ]
  },
  {
   "cell_type": "code",
   "execution_count": 29,
   "metadata": {
    "ExecuteTime": {
     "end_time": "2020-10-24T08:09:57.381692Z",
     "start_time": "2020-10-24T08:09:57.122086Z"
    }
   },
   "outputs": [],
   "source": [
    "news_features_max = get_embed_features_max(news['text'])"
   ]
  },
  {
   "cell_type": "code",
   "execution_count": 30,
   "metadata": {
    "ExecuteTime": {
     "end_time": "2020-10-24T08:10:03.380325Z",
     "start_time": "2020-10-24T08:10:01.689835Z"
    }
   },
   "outputs": [
    {
     "name": "stdout",
     "output_type": "stream",
     "text": [
      "              precision    recall  f1-score   support\n",
      "\n",
      "           0    0.85343   0.98712   0.91542       466\n",
      "           1    0.86667   0.33051   0.47853       118\n",
      "\n",
      "    accuracy                        0.85445       584\n",
      "   macro avg    0.86005   0.65882   0.69698       584\n",
      "weighted avg    0.85611   0.85445   0.82715       584\n",
      "\n"
     ]
    }
   ],
   "source": [
    "# svm new max embedding\n",
    "get_results(svc_new, news_features_max, news['label'])"
   ]
  },
  {
   "cell_type": "code",
   "execution_count": 138,
   "metadata": {
    "ExecuteTime": {
     "end_time": "2020-10-17T08:58:22.907581Z",
     "start_time": "2020-10-17T08:58:21.427664Z"
    },
    "scrolled": true
   },
   "outputs": [
    {
     "name": "stdout",
     "output_type": "stream",
     "text": [
      "              precision    recall  f1-score   support\n",
      "\n",
      "           0    0.86965   0.95923   0.91224       466\n",
      "           1    0.72857   0.43220   0.54255       118\n",
      "\n",
      "    accuracy                        0.85274       584\n",
      "   macro avg    0.79911   0.69572   0.72740       584\n",
      "weighted avg    0.84114   0.85274   0.83755       584\n",
      "\n"
     ]
    }
   ],
   "source": [
    "# prev results\n",
    "get_results(svc, news_features, news['label'])"
   ]
  },
  {
   "cell_type": "markdown",
   "metadata": {
    "heading_collapsed": true
   },
   "source": [
    "### 2. use lightGBM as the binary classifier"
   ]
  },
  {
   "cell_type": "code",
   "execution_count": 146,
   "metadata": {
    "ExecuteTime": {
     "end_time": "2020-10-17T09:04:23.330939Z",
     "start_time": "2020-10-17T09:04:23.328381Z"
    },
    "hidden": true
   },
   "outputs": [],
   "source": [
    "clf = lgb.LGBMClassifier()"
   ]
  },
  {
   "cell_type": "code",
   "execution_count": 147,
   "metadata": {
    "ExecuteTime": {
     "end_time": "2020-10-17T09:04:38.116204Z",
     "start_time": "2020-10-17T09:04:38.110134Z"
    },
    "hidden": true
   },
   "outputs": [],
   "source": [
    "train_features, val_features, train_y, val_y = train_test_split(train_features, all_train['label'], random_state=4222)"
   ]
  },
  {
   "cell_type": "code",
   "execution_count": 148,
   "metadata": {
    "ExecuteTime": {
     "end_time": "2020-10-17T09:04:49.741434Z",
     "start_time": "2020-10-17T09:04:48.464677Z"
    },
    "hidden": true,
    "scrolled": true
   },
   "outputs": [
    {
     "name": "stdout",
     "output_type": "stream",
     "text": [
      "[1]\tvalid_0's auc: 0.792534\tvalid_0's binary_logloss: 0.589081\n",
      "Training until validation scores don't improve for 50 rounds\n",
      "[2]\tvalid_0's auc: 0.812303\tvalid_0's binary_logloss: 0.562837\n",
      "[3]\tvalid_0's auc: 0.811909\tvalid_0's binary_logloss: 0.543352\n",
      "[4]\tvalid_0's auc: 0.816088\tvalid_0's binary_logloss: 0.525586\n",
      "[5]\tvalid_0's auc: 0.818476\tvalid_0's binary_logloss: 0.511651\n",
      "[6]\tvalid_0's auc: 0.820551\tvalid_0's binary_logloss: 0.499509\n",
      "[7]\tvalid_0's auc: 0.823605\tvalid_0's binary_logloss: 0.488807\n",
      "[8]\tvalid_0's auc: 0.829781\tvalid_0's binary_logloss: 0.478446\n",
      "[9]\tvalid_0's auc: 0.834591\tvalid_0's binary_logloss: 0.468999\n",
      "[10]\tvalid_0's auc: 0.835823\tvalid_0's binary_logloss: 0.462119\n",
      "[11]\tvalid_0's auc: 0.841548\tvalid_0's binary_logloss: 0.453749\n",
      "[12]\tvalid_0's auc: 0.844061\tvalid_0's binary_logloss: 0.447497\n",
      "[13]\tvalid_0's auc: 0.844749\tvalid_0's binary_logloss: 0.442022\n",
      "[14]\tvalid_0's auc: 0.844427\tvalid_0's binary_logloss: 0.438363\n",
      "[15]\tvalid_0's auc: 0.847062\tvalid_0's binary_logloss: 0.433248\n",
      "[16]\tvalid_0's auc: 0.849353\tvalid_0's binary_logloss: 0.428489\n",
      "[17]\tvalid_0's auc: 0.849691\tvalid_0's binary_logloss: 0.425689\n",
      "[18]\tvalid_0's auc: 0.849869\tvalid_0's binary_logloss: 0.422527\n",
      "[19]\tvalid_0's auc: 0.850662\tvalid_0's binary_logloss: 0.419889\n",
      "[20]\tvalid_0's auc: 0.854366\tvalid_0's binary_logloss: 0.416608\n",
      "[21]\tvalid_0's auc: 0.85677\tvalid_0's binary_logloss: 0.412983\n",
      "[22]\tvalid_0's auc: 0.859918\tvalid_0's binary_logloss: 0.40875\n",
      "[23]\tvalid_0's auc: 0.86144\tvalid_0's binary_logloss: 0.405715\n",
      "[24]\tvalid_0's auc: 0.860454\tvalid_0's binary_logloss: 0.404356\n",
      "[25]\tvalid_0's auc: 0.860836\tvalid_0's binary_logloss: 0.401962\n",
      "[26]\tvalid_0's auc: 0.8615\tvalid_0's binary_logloss: 0.401023\n",
      "[27]\tvalid_0's auc: 0.860993\tvalid_0's binary_logloss: 0.40016\n",
      "[28]\tvalid_0's auc: 0.86107\tvalid_0's binary_logloss: 0.399396\n",
      "[29]\tvalid_0's auc: 0.862012\tvalid_0's binary_logloss: 0.397895\n",
      "[30]\tvalid_0's auc: 0.862447\tvalid_0's binary_logloss: 0.396474\n",
      "[31]\tvalid_0's auc: 0.862696\tvalid_0's binary_logloss: 0.396207\n",
      "[32]\tvalid_0's auc: 0.863304\tvalid_0's binary_logloss: 0.394819\n",
      "[33]\tvalid_0's auc: 0.863357\tvalid_0's binary_logloss: 0.394716\n",
      "[34]\tvalid_0's auc: 0.864279\tvalid_0's binary_logloss: 0.393398\n",
      "[35]\tvalid_0's auc: 0.865865\tvalid_0's binary_logloss: 0.39193\n",
      "[36]\tvalid_0's auc: 0.865756\tvalid_0's binary_logloss: 0.391504\n",
      "[37]\tvalid_0's auc: 0.867181\tvalid_0's binary_logloss: 0.389513\n",
      "[38]\tvalid_0's auc: 0.868152\tvalid_0's binary_logloss: 0.388182\n",
      "[39]\tvalid_0's auc: 0.868212\tvalid_0's binary_logloss: 0.387976\n",
      "[40]\tvalid_0's auc: 0.870499\tvalid_0's binary_logloss: 0.386447\n",
      "[41]\tvalid_0's auc: 0.871236\tvalid_0's binary_logloss: 0.38563\n",
      "[42]\tvalid_0's auc: 0.872033\tvalid_0's binary_logloss: 0.384723\n",
      "[43]\tvalid_0's auc: 0.871828\tvalid_0's binary_logloss: 0.385108\n",
      "[44]\tvalid_0's auc: 0.871292\tvalid_0's binary_logloss: 0.386151\n",
      "[45]\tvalid_0's auc: 0.872094\tvalid_0's binary_logloss: 0.385648\n",
      "[46]\tvalid_0's auc: 0.872476\tvalid_0's binary_logloss: 0.385344\n",
      "[47]\tvalid_0's auc: 0.871945\tvalid_0's binary_logloss: 0.386221\n",
      "[48]\tvalid_0's auc: 0.871808\tvalid_0's binary_logloss: 0.386518\n",
      "[49]\tvalid_0's auc: 0.871751\tvalid_0's binary_logloss: 0.386808\n",
      "[50]\tvalid_0's auc: 0.872702\tvalid_0's binary_logloss: 0.386353\n",
      "[51]\tvalid_0's auc: 0.873519\tvalid_0's binary_logloss: 0.385817\n",
      "[52]\tvalid_0's auc: 0.874332\tvalid_0's binary_logloss: 0.38565\n",
      "[53]\tvalid_0's auc: 0.874755\tvalid_0's binary_logloss: 0.385392\n",
      "[54]\tvalid_0's auc: 0.874638\tvalid_0's binary_logloss: 0.385531\n",
      "[55]\tvalid_0's auc: 0.87608\tvalid_0's binary_logloss: 0.384243\n",
      "[56]\tvalid_0's auc: 0.876047\tvalid_0's binary_logloss: 0.384248\n",
      "[57]\tvalid_0's auc: 0.876752\tvalid_0's binary_logloss: 0.384055\n",
      "[58]\tvalid_0's auc: 0.876555\tvalid_0's binary_logloss: 0.384909\n",
      "[59]\tvalid_0's auc: 0.876929\tvalid_0's binary_logloss: 0.385046\n",
      "[60]\tvalid_0's auc: 0.877734\tvalid_0's binary_logloss: 0.384982\n",
      "[61]\tvalid_0's auc: 0.878636\tvalid_0's binary_logloss: 0.384427\n",
      "[62]\tvalid_0's auc: 0.879248\tvalid_0's binary_logloss: 0.384344\n",
      "[63]\tvalid_0's auc: 0.879095\tvalid_0's binary_logloss: 0.38497\n",
      "[64]\tvalid_0's auc: 0.878592\tvalid_0's binary_logloss: 0.386886\n",
      "[65]\tvalid_0's auc: 0.878431\tvalid_0's binary_logloss: 0.387845\n",
      "[66]\tvalid_0's auc: 0.878681\tvalid_0's binary_logloss: 0.387977\n",
      "[67]\tvalid_0's auc: 0.878785\tvalid_0's binary_logloss: 0.388424\n",
      "[68]\tvalid_0's auc: 0.879083\tvalid_0's binary_logloss: 0.388658\n",
      "[69]\tvalid_0's auc: 0.879172\tvalid_0's binary_logloss: 0.389173\n",
      "[70]\tvalid_0's auc: 0.879268\tvalid_0's binary_logloss: 0.390093\n",
      "[71]\tvalid_0's auc: 0.879478\tvalid_0's binary_logloss: 0.390043\n",
      "[72]\tvalid_0's auc: 0.879945\tvalid_0's binary_logloss: 0.390397\n",
      "[73]\tvalid_0's auc: 0.879103\tvalid_0's binary_logloss: 0.391933\n",
      "[74]\tvalid_0's auc: 0.879135\tvalid_0's binary_logloss: 0.392666\n",
      "[75]\tvalid_0's auc: 0.879913\tvalid_0's binary_logloss: 0.392294\n",
      "[76]\tvalid_0's auc: 0.880259\tvalid_0's binary_logloss: 0.392068\n",
      "[77]\tvalid_0's auc: 0.880351\tvalid_0's binary_logloss: 0.392949\n",
      "[78]\tvalid_0's auc: 0.880404\tvalid_0's binary_logloss: 0.393403\n",
      "[79]\tvalid_0's auc: 0.88007\tvalid_0's binary_logloss: 0.394348\n",
      "[80]\tvalid_0's auc: 0.880174\tvalid_0's binary_logloss: 0.394668\n",
      "[81]\tvalid_0's auc: 0.88017\tvalid_0's binary_logloss: 0.396041\n",
      "[82]\tvalid_0's auc: 0.880074\tvalid_0's binary_logloss: 0.397034\n",
      "[83]\tvalid_0's auc: 0.880235\tvalid_0's binary_logloss: 0.397224\n",
      "[84]\tvalid_0's auc: 0.880235\tvalid_0's binary_logloss: 0.398352\n",
      "[85]\tvalid_0's auc: 0.880363\tvalid_0's binary_logloss: 0.399482\n",
      "[86]\tvalid_0's auc: 0.88017\tvalid_0's binary_logloss: 0.400166\n",
      "[87]\tvalid_0's auc: 0.880512\tvalid_0's binary_logloss: 0.400795\n",
      "[88]\tvalid_0's auc: 0.880219\tvalid_0's binary_logloss: 0.402258\n",
      "[89]\tvalid_0's auc: 0.880553\tvalid_0's binary_logloss: 0.402339\n",
      "[90]\tvalid_0's auc: 0.880368\tvalid_0's binary_logloss: 0.403635\n",
      "[91]\tvalid_0's auc: 0.88042\tvalid_0's binary_logloss: 0.404003\n",
      "[92]\tvalid_0's auc: 0.880464\tvalid_0's binary_logloss: 0.405176\n",
      "[93]\tvalid_0's auc: 0.880311\tvalid_0's binary_logloss: 0.406474\n",
      "[94]\tvalid_0's auc: 0.880855\tvalid_0's binary_logloss: 0.406592\n",
      "[95]\tvalid_0's auc: 0.880504\tvalid_0's binary_logloss: 0.408169\n",
      "[96]\tvalid_0's auc: 0.88046\tvalid_0's binary_logloss: 0.408953\n",
      "[97]\tvalid_0's auc: 0.880162\tvalid_0's binary_logloss: 0.4101\n",
      "[98]\tvalid_0's auc: 0.880802\tvalid_0's binary_logloss: 0.410227\n",
      "[99]\tvalid_0's auc: 0.881322\tvalid_0's binary_logloss: 0.410687\n",
      "[100]\tvalid_0's auc: 0.882018\tvalid_0's binary_logloss: 0.410265\n",
      "Did not meet early stopping. Best iteration is:\n",
      "[100]\tvalid_0's auc: 0.882018\tvalid_0's binary_logloss: 0.410265\n"
     ]
    }
   ],
   "source": [
    "gbm = clf.fit(X=train_features, \n",
    "              y=train_y,\n",
    "              eval_set=[(val_features, val_y)],\n",
    "              eval_metric=['auc', 'binary_logloss'],\n",
    "              early_stopping_rounds=50, \n",
    "              verbose=True)"
   ]
  },
  {
   "cell_type": "code",
   "execution_count": 149,
   "metadata": {
    "ExecuteTime": {
     "end_time": "2020-10-17T09:05:08.118436Z",
     "start_time": "2020-10-17T09:05:08.107367Z"
    },
    "hidden": true
   },
   "outputs": [
    {
     "name": "stdout",
     "output_type": "stream",
     "text": [
      "              precision    recall  f1-score   support\n",
      "\n",
      "           0    0.86590   0.96996   0.91498       466\n",
      "           1    0.77419   0.40678   0.53333       118\n",
      "\n",
      "    accuracy                        0.85616       584\n",
      "   macro avg    0.82005   0.68837   0.72416       584\n",
      "weighted avg    0.84737   0.85616   0.83787       584\n",
      "\n"
     ]
    }
   ],
   "source": [
    "# lightGBM\n",
    "get_results(gbm, news_features, news['label'])"
   ]
  },
  {
   "cell_type": "code",
   "execution_count": 150,
   "metadata": {
    "ExecuteTime": {
     "end_time": "2020-10-17T09:08:44.133773Z",
     "start_time": "2020-10-17T09:08:42.713790Z"
    },
    "hidden": true
   },
   "outputs": [
    {
     "name": "stdout",
     "output_type": "stream",
     "text": [
      "              precision    recall  f1-score   support\n",
      "\n",
      "           0    0.86965   0.95923   0.91224       466\n",
      "           1    0.72857   0.43220   0.54255       118\n",
      "\n",
      "    accuracy                        0.85274       584\n",
      "   macro avg    0.79911   0.69572   0.72740       584\n",
      "weighted avg    0.84114   0.85274   0.83755       584\n",
      "\n"
     ]
    }
   ],
   "source": [
    "# prev results svm\n",
    "get_results(svc, news_features, news['label'])"
   ]
  },
  {
   "cell_type": "markdown",
   "metadata": {
    "heading_collapsed": true
   },
   "source": [
    "### 3. use a different theshold "
   ]
  },
  {
   "cell_type": "code",
   "execution_count": 158,
   "metadata": {
    "ExecuteTime": {
     "end_time": "2020-10-17T09:16:12.089789Z",
     "start_time": "2020-10-17T09:16:12.083875Z"
    },
    "hidden": true
   },
   "outputs": [],
   "source": [
    "actual = news['label']\n",
    "pred = gbm.predict_proba(news_features)[:,1]"
   ]
  },
  {
   "cell_type": "code",
   "execution_count": 169,
   "metadata": {
    "ExecuteTime": {
     "end_time": "2020-10-17T09:21:44.031708Z",
     "start_time": "2020-10-17T09:21:43.787350Z"
    },
    "hidden": true
   },
   "outputs": [
    {
     "data": {
      "image/png": "[encoded data removed]",
      "text/plain": [
       "<Figure size 2160x720 with 1 Axes>"
      ]
     },
     "metadata": {
      "needs_background": "light"
     },
     "output_type": "display_data"
    }
   ],
   "source": [
    "test_1_predicted = pred[actual==1]\n",
    "test_0_predicted = pred[actual==0]\n",
    "\n",
    "plt.figure(figsize = (30,10))\n",
    "ax = sns.kdeplot(test_1_predicted, shade=True, label='risky: 1')\n",
    "ax = sns.kdeplot(test_0_predicted, shade=True, label='not risky: 0')\n",
    "\n",
    "plt.legend(prop={'size': 20})\n",
    "plt.title(\"Predicted Probability Distributions\", fontsize=20)\n",
    "plt.xticks(fontsize=20)\n",
    "plt.yticks(fontsize=20)\n",
    "plt.show()"
   ]
  },
  {
   "cell_type": "code",
   "execution_count": 172,
   "metadata": {
    "ExecuteTime": {
     "end_time": "2020-10-17T09:25:09.748352Z",
     "start_time": "2020-10-17T09:25:09.557875Z"
    },
    "hidden": true
   },
   "outputs": [
    {
     "data": {
      "image/png": "[encoded data removed]",
      "text/plain": [
       "<Figure size 1152x648 with 1 Axes>"
      ]
     },
     "metadata": {
      "needs_background": "light"
     },
     "output_type": "display_data"
    }
   ],
   "source": [
    "plt.figure(figsize=(16,9))\n",
    "\n",
    "fpr, tpr, thresh = metrics.roc_curve(actual, pred)\n",
    "auc = metrics.roc_auc_score(actual, pred)\n",
    "plt.plot(fpr,tpr, label=\"word2vec + svm, auc=\"+str(auc))\n",
    "plt.plot([i/100 for i in range(0,100)], [i/100 for i in range(0,100)], label='Random, auc = 0.5', linestyle = 'dashed')\n",
    "plt.title(\"ROC\", fontsize=30)\n",
    "plt.xlabel(\"FPR\", fontsize=30)\n",
    "plt.xticks(fontsize=20)\n",
    "plt.ylabel('TPR', fontsize=30)\n",
    "plt.yticks(fontsize=20)\n",
    "plt.legend(loc=0, prop={'size': 20})\n",
    "plt.show()"
   ]
  },
  {
   "cell_type": "code",
   "execution_count": 173,
   "metadata": {
    "ExecuteTime": {
     "end_time": "2020-10-17T09:26:35.915094Z",
     "start_time": "2020-10-17T09:26:35.779140Z"
    },
    "hidden": true
   },
   "outputs": [
    {
     "data": {
      "text/html": [
       "<div>\n",
       "<style scoped>\n",
       "    .dataframe tbody tr th:only-of-type {\n",
       "        vertical-align: middle;\n",
       "    }\n",
       "\n",
       "    .dataframe tbody tr th {\n",
       "        vertical-align: top;\n",
       "    }\n",
       "\n",
       "    .dataframe thead th {\n",
       "        text-align: right;\n",
       "    }\n",
       "</style>\n",
       "<table border=\"1\" class=\"dataframe\">\n",
       "  <thead>\n",
       "    <tr style=\"text-align: right;\">\n",
       "      <th></th>\n",
       "      <th>Thresh</th>\n",
       "      <th>P0</th>\n",
       "      <th>P1</th>\n",
       "      <th>R0</th>\n",
       "      <th>R1</th>\n",
       "      <th>F0</th>\n",
       "      <th>F1</th>\n",
       "      <th>Accuracy</th>\n",
       "      <th>AUC</th>\n",
       "      <th>TPR</th>\n",
       "      <th>FPR</th>\n",
       "      <th>Distance to (0,1) of ROC</th>\n",
       "      <th>TPR-FPR</th>\n",
       "    </tr>\n",
       "  </thead>\n",
       "  <tbody>\n",
       "    <tr>\n",
       "      <th>1</th>\n",
       "      <td>0.10</td>\n",
       "      <td>0.948905</td>\n",
       "      <td>0.560694</td>\n",
       "      <td>0.836910</td>\n",
       "      <td>0.822034</td>\n",
       "      <td>0.889396</td>\n",
       "      <td>0.666667</td>\n",
       "      <td>0.833904</td>\n",
       "      <td>0.901869</td>\n",
       "      <td>0.822034</td>\n",
       "      <td>0.163090</td>\n",
       "      <td>0.241392</td>\n",
       "      <td>0.658944</td>\n",
       "    </tr>\n",
       "    <tr>\n",
       "      <th>3</th>\n",
       "      <td>0.20</td>\n",
       "      <td>0.908316</td>\n",
       "      <td>0.652174</td>\n",
       "      <td>0.914163</td>\n",
       "      <td>0.635593</td>\n",
       "      <td>0.911230</td>\n",
       "      <td>0.643777</td>\n",
       "      <td>0.857877</td>\n",
       "      <td>0.901869</td>\n",
       "      <td>0.635593</td>\n",
       "      <td>0.085837</td>\n",
       "      <td>0.374380</td>\n",
       "      <td>0.549756</td>\n",
       "    </tr>\n",
       "    <tr>\n",
       "      <th>4</th>\n",
       "      <td>0.25</td>\n",
       "      <td>0.900826</td>\n",
       "      <td>0.700000</td>\n",
       "      <td>0.935622</td>\n",
       "      <td>0.593220</td>\n",
       "      <td>0.917895</td>\n",
       "      <td>0.642202</td>\n",
       "      <td>0.866438</td>\n",
       "      <td>0.901869</td>\n",
       "      <td>0.593220</td>\n",
       "      <td>0.064378</td>\n",
       "      <td>0.411842</td>\n",
       "      <td>0.528843</td>\n",
       "    </tr>\n",
       "    <tr>\n",
       "      <th>2</th>\n",
       "      <td>0.15</td>\n",
       "      <td>0.915556</td>\n",
       "      <td>0.597015</td>\n",
       "      <td>0.884120</td>\n",
       "      <td>0.677966</td>\n",
       "      <td>0.899563</td>\n",
       "      <td>0.634921</td>\n",
       "      <td>0.842466</td>\n",
       "      <td>0.901869</td>\n",
       "      <td>0.677966</td>\n",
       "      <td>0.115880</td>\n",
       "      <td>0.342248</td>\n",
       "      <td>0.562086</td>\n",
       "    </tr>\n",
       "    <tr>\n",
       "      <th>0</th>\n",
       "      <td>0.05</td>\n",
       "      <td>0.972067</td>\n",
       "      <td>0.477876</td>\n",
       "      <td>0.746781</td>\n",
       "      <td>0.915254</td>\n",
       "      <td>0.844660</td>\n",
       "      <td>0.627907</td>\n",
       "      <td>0.780822</td>\n",
       "      <td>0.901869</td>\n",
       "      <td>0.915254</td>\n",
       "      <td>0.253219</td>\n",
       "      <td>0.267024</td>\n",
       "      <td>0.662035</td>\n",
       "    </tr>\n",
       "    <tr>\n",
       "      <th>6</th>\n",
       "      <td>0.35</td>\n",
       "      <td>0.890000</td>\n",
       "      <td>0.750000</td>\n",
       "      <td>0.954936</td>\n",
       "      <td>0.533898</td>\n",
       "      <td>0.921325</td>\n",
       "      <td>0.623762</td>\n",
       "      <td>0.869863</td>\n",
       "      <td>0.901869</td>\n",
       "      <td>0.533898</td>\n",
       "      <td>0.045064</td>\n",
       "      <td>0.468275</td>\n",
       "      <td>0.488834</td>\n",
       "    </tr>\n",
       "    <tr>\n",
       "      <th>5</th>\n",
       "      <td>0.30</td>\n",
       "      <td>0.892276</td>\n",
       "      <td>0.706522</td>\n",
       "      <td>0.942060</td>\n",
       "      <td>0.550847</td>\n",
       "      <td>0.916493</td>\n",
       "      <td>0.619048</td>\n",
       "      <td>0.863014</td>\n",
       "      <td>0.901869</td>\n",
       "      <td>0.550847</td>\n",
       "      <td>0.057940</td>\n",
       "      <td>0.452874</td>\n",
       "      <td>0.492908</td>\n",
       "    </tr>\n",
       "    <tr>\n",
       "      <th>7</th>\n",
       "      <td>0.40</td>\n",
       "      <td>0.885375</td>\n",
       "      <td>0.769231</td>\n",
       "      <td>0.961373</td>\n",
       "      <td>0.508475</td>\n",
       "      <td>0.921811</td>\n",
       "      <td>0.612245</td>\n",
       "      <td>0.869863</td>\n",
       "      <td>0.901869</td>\n",
       "      <td>0.508475</td>\n",
       "      <td>0.038627</td>\n",
       "      <td>0.493041</td>\n",
       "      <td>0.469848</td>\n",
       "    </tr>\n",
       "    <tr>\n",
       "      <th>8</th>\n",
       "      <td>0.45</td>\n",
       "      <td>0.878669</td>\n",
       "      <td>0.767123</td>\n",
       "      <td>0.963519</td>\n",
       "      <td>0.474576</td>\n",
       "      <td>0.919140</td>\n",
       "      <td>0.586387</td>\n",
       "      <td>0.864726</td>\n",
       "      <td>0.901869</td>\n",
       "      <td>0.474576</td>\n",
       "      <td>0.036481</td>\n",
       "      <td>0.526689</td>\n",
       "      <td>0.438096</td>\n",
       "    </tr>\n",
       "    <tr>\n",
       "      <th>9</th>\n",
       "      <td>0.50</td>\n",
       "      <td>0.865900</td>\n",
       "      <td>0.774194</td>\n",
       "      <td>0.969957</td>\n",
       "      <td>0.406780</td>\n",
       "      <td>0.914980</td>\n",
       "      <td>0.533333</td>\n",
       "      <td>0.856164</td>\n",
       "      <td>0.901869</td>\n",
       "      <td>0.406780</td>\n",
       "      <td>0.030043</td>\n",
       "      <td>0.593981</td>\n",
       "      <td>0.376737</td>\n",
       "    </tr>\n",
       "    <tr>\n",
       "      <th>10</th>\n",
       "      <td>0.55</td>\n",
       "      <td>0.861742</td>\n",
       "      <td>0.803571</td>\n",
       "      <td>0.976395</td>\n",
       "      <td>0.381356</td>\n",
       "      <td>0.915493</td>\n",
       "      <td>0.517241</td>\n",
       "      <td>0.856164</td>\n",
       "      <td>0.901869</td>\n",
       "      <td>0.381356</td>\n",
       "      <td>0.023605</td>\n",
       "      <td>0.619094</td>\n",
       "      <td>0.357751</td>\n",
       "    </tr>\n",
       "    <tr>\n",
       "      <th>11</th>\n",
       "      <td>0.60</td>\n",
       "      <td>0.857143</td>\n",
       "      <td>0.807692</td>\n",
       "      <td>0.978541</td>\n",
       "      <td>0.355932</td>\n",
       "      <td>0.913828</td>\n",
       "      <td>0.494118</td>\n",
       "      <td>0.852740</td>\n",
       "      <td>0.901869</td>\n",
       "      <td>0.355932</td>\n",
       "      <td>0.021459</td>\n",
       "      <td>0.644425</td>\n",
       "      <td>0.334473</td>\n",
       "    </tr>\n",
       "    <tr>\n",
       "      <th>12</th>\n",
       "      <td>0.65</td>\n",
       "      <td>0.849162</td>\n",
       "      <td>0.787234</td>\n",
       "      <td>0.978541</td>\n",
       "      <td>0.313559</td>\n",
       "      <td>0.909272</td>\n",
       "      <td>0.448485</td>\n",
       "      <td>0.844178</td>\n",
       "      <td>0.901869</td>\n",
       "      <td>0.313559</td>\n",
       "      <td>0.021459</td>\n",
       "      <td>0.686776</td>\n",
       "      <td>0.292100</td>\n",
       "    </tr>\n",
       "    <tr>\n",
       "      <th>13</th>\n",
       "      <td>0.70</td>\n",
       "      <td>0.840074</td>\n",
       "      <td>0.775000</td>\n",
       "      <td>0.980687</td>\n",
       "      <td>0.262712</td>\n",
       "      <td>0.904950</td>\n",
       "      <td>0.392405</td>\n",
       "      <td>0.835616</td>\n",
       "      <td>0.901869</td>\n",
       "      <td>0.262712</td>\n",
       "      <td>0.019313</td>\n",
       "      <td>0.737541</td>\n",
       "      <td>0.243399</td>\n",
       "    </tr>\n",
       "    <tr>\n",
       "      <th>14</th>\n",
       "      <td>0.75</td>\n",
       "      <td>0.836066</td>\n",
       "      <td>0.800000</td>\n",
       "      <td>0.984979</td>\n",
       "      <td>0.237288</td>\n",
       "      <td>0.904433</td>\n",
       "      <td>0.366013</td>\n",
       "      <td>0.833904</td>\n",
       "      <td>0.901869</td>\n",
       "      <td>0.237288</td>\n",
       "      <td>0.015021</td>\n",
       "      <td>0.762860</td>\n",
       "      <td>0.222267</td>\n",
       "    </tr>\n",
       "    <tr>\n",
       "      <th>15</th>\n",
       "      <td>0.80</td>\n",
       "      <td>0.834545</td>\n",
       "      <td>0.794118</td>\n",
       "      <td>0.984979</td>\n",
       "      <td>0.228814</td>\n",
       "      <td>0.903543</td>\n",
       "      <td>0.355263</td>\n",
       "      <td>0.832192</td>\n",
       "      <td>0.901869</td>\n",
       "      <td>0.228814</td>\n",
       "      <td>0.015021</td>\n",
       "      <td>0.771333</td>\n",
       "      <td>0.213792</td>\n",
       "    </tr>\n",
       "    <tr>\n",
       "      <th>16</th>\n",
       "      <td>0.85</td>\n",
       "      <td>0.826476</td>\n",
       "      <td>0.840000</td>\n",
       "      <td>0.991416</td>\n",
       "      <td>0.177966</td>\n",
       "      <td>0.901463</td>\n",
       "      <td>0.293706</td>\n",
       "      <td>0.827055</td>\n",
       "      <td>0.901869</td>\n",
       "      <td>0.177966</td>\n",
       "      <td>0.008584</td>\n",
       "      <td>0.822079</td>\n",
       "      <td>0.169382</td>\n",
       "    </tr>\n",
       "    <tr>\n",
       "      <th>17</th>\n",
       "      <td>0.90</td>\n",
       "      <td>0.816578</td>\n",
       "      <td>0.823529</td>\n",
       "      <td>0.993562</td>\n",
       "      <td>0.118644</td>\n",
       "      <td>0.896418</td>\n",
       "      <td>0.207407</td>\n",
       "      <td>0.816781</td>\n",
       "      <td>0.901869</td>\n",
       "      <td>0.118644</td>\n",
       "      <td>0.006438</td>\n",
       "      <td>0.881379</td>\n",
       "      <td>0.112206</td>\n",
       "    </tr>\n",
       "  </tbody>\n",
       "</table>\n",
       "</div>"
      ],
      "text/plain": [
       "    Thresh        P0        P1        R0        R1        F0        F1  \\\n",
       "1   0.10    0.948905  0.560694  0.836910  0.822034  0.889396  0.666667   \n",
       "3   0.20    0.908316  0.652174  0.914163  0.635593  0.911230  0.643777   \n",
       "4   0.25    0.900826  0.700000  0.935622  0.593220  0.917895  0.642202   \n",
       "2   0.15    0.915556  0.597015  0.884120  0.677966  0.899563  0.634921   \n",
       "0   0.05    0.972067  0.477876  0.746781  0.915254  0.844660  0.627907   \n",
       "6   0.35    0.890000  0.750000  0.954936  0.533898  0.921325  0.623762   \n",
       "5   0.30    0.892276  0.706522  0.942060  0.550847  0.916493  0.619048   \n",
       "7   0.40    0.885375  0.769231  0.961373  0.508475  0.921811  0.612245   \n",
       "8   0.45    0.878669  0.767123  0.963519  0.474576  0.919140  0.586387   \n",
       "9   0.50    0.865900  0.774194  0.969957  0.406780  0.914980  0.533333   \n",
       "10  0.55    0.861742  0.803571  0.976395  0.381356  0.915493  0.517241   \n",
       "11  0.60    0.857143  0.807692  0.978541  0.355932  0.913828  0.494118   \n",
       "12  0.65    0.849162  0.787234  0.978541  0.313559  0.909272  0.448485   \n",
       "13  0.70    0.840074  0.775000  0.980687  0.262712  0.904950  0.392405   \n",
       "14  0.75    0.836066  0.800000  0.984979  0.237288  0.904433  0.366013   \n",
       "15  0.80    0.834545  0.794118  0.984979  0.228814  0.903543  0.355263   \n",
       "16  0.85    0.826476  0.840000  0.991416  0.177966  0.901463  0.293706   \n",
       "17  0.90    0.816578  0.823529  0.993562  0.118644  0.896418  0.207407   \n",
       "\n",
       "    Accuracy       AUC       TPR       FPR  Distance to (0,1) of ROC   TPR-FPR  \n",
       "1   0.833904  0.901869  0.822034  0.163090  0.241392                  0.658944  \n",
       "3   0.857877  0.901869  0.635593  0.085837  0.374380                  0.549756  \n",
       "4   0.866438  0.901869  0.593220  0.064378  0.411842                  0.528843  \n",
       "2   0.842466  0.901869  0.677966  0.115880  0.342248                  0.562086  \n",
       "0   0.780822  0.901869  0.915254  0.253219  0.267024                  0.662035  \n",
       "6   0.869863  0.901869  0.533898  0.045064  0.468275                  0.488834  \n",
       "5   0.863014  0.901869  0.550847  0.057940  0.452874                  0.492908  \n",
       "7   0.869863  0.901869  0.508475  0.038627  0.493041                  0.469848  \n",
       "8   0.864726  0.901869  0.474576  0.036481  0.526689                  0.438096  \n",
       "9   0.856164  0.901869  0.406780  0.030043  0.593981                  0.376737  \n",
       "10  0.856164  0.901869  0.381356  0.023605  0.619094                  0.357751  \n",
       "11  0.852740  0.901869  0.355932  0.021459  0.644425                  0.334473  \n",
       "12  0.844178  0.901869  0.313559  0.021459  0.686776                  0.292100  \n",
       "13  0.835616  0.901869  0.262712  0.019313  0.737541                  0.243399  \n",
       "14  0.833904  0.901869  0.237288  0.015021  0.762860                  0.222267  \n",
       "15  0.832192  0.901869  0.228814  0.015021  0.771333                  0.213792  \n",
       "16  0.827055  0.901869  0.177966  0.008584  0.822079                  0.169382  \n",
       "17  0.816781  0.901869  0.118644  0.006438  0.881379                  0.112206  "
      ]
     },
     "execution_count": 173,
     "metadata": {},
     "output_type": "execute_result"
    }
   ],
   "source": [
    "# performance summary acorss thresholds\n",
    "table = pd.DataFrame(\n",
    "        columns=['Thresh','P0', 'P1', 'R0', 'R1', 'F0', 'F1', 'Accuracy', 'AUC', 'TPR', 'FPR'])\n",
    "\n",
    "threshold = 0.05 # update the optimum threshold \n",
    "while (threshold < 0.95):\n",
    "    predicted_choice = (pred >= threshold).astype(int)\n",
    "    predicted_choice = predicted_choice.tolist()\n",
    "    pred_confusion_matrix = metrics.confusion_matrix(actual, predicted_choice)\n",
    "    all_sum = pred_confusion_matrix.sum()\n",
    "    tn, fp, fn, tp = pred_confusion_matrix.ravel()\n",
    "    auc = metrics.roc_auc_score(actual, pred)\n",
    "    p1 = tp / (tp + fp)\n",
    "    p0 = tn / (tn + fn)\n",
    "    r1 = tp / (tp + fn)\n",
    "    r0 = tn / (tn + fp)\n",
    "    f1 = 2 * ((p1 * r1) / (p1 + r1))\n",
    "    f0 = 2 * ((p0 * r0) / (p0 + r0))\n",
    "    a = ((tp + tn) / (fp + fn + tn + tp))\n",
    "    tpr = tp * 1.0 / (tp + fn)\n",
    "    fpr = fp * 1.0 / (fp + tn)\n",
    "    tpr_minus_fpr = tpr - fpr\n",
    "    p1_plus_r1 = p1 + r1\n",
    "    distance = np.sqrt((1 - tpr) ** 2 + (0 - fpr) ** 2)\n",
    "    table = table.append({'Thresh':threshold,'P0': p0,\n",
    "                          'P1': p1, 'R0': r0, 'R1': r1, 'F0': f0, 'F1': f1,\n",
    "                          'Accuracy': a, 'AUC': auc, 'TPR': tpr, 'FPR': fpr, 'Distance to (0,1) of ROC':distance, \n",
    "                          'TPR-FPR':tpr_minus_fpr},\n",
    "                         ignore_index=True)\n",
    "    threshold += 0.05\n",
    "    \n",
    "table.sort_values(by='F1', ascending=False) #rank by F1"
   ]
  },
  {
   "cell_type": "markdown",
   "metadata": {
    "hidden": true
   },
   "source": [
    "* Can choose 0.25 as the threshold"
   ]
  },
  {
   "cell_type": "code",
   "execution_count": 174,
   "metadata": {
    "ExecuteTime": {
     "end_time": "2020-10-17T09:32:49.327827Z",
     "start_time": "2020-10-17T09:32:49.324246Z"
    },
    "hidden": true
   },
   "outputs": [],
   "source": [
    "# test for other datasets\n",
    "\n",
    "def get_results_new_threshold(model, test_features, test_label):\n",
    "    test_pred = (model.predict_proba(test_features)[:,1] >= 0.25).astype(bool)\n",
    "    print(classification_report(test_label, test_pred, digits=5))\n",
    "    return None"
   ]
  },
  {
   "cell_type": "code",
   "execution_count": 175,
   "metadata": {
    "ExecuteTime": {
     "end_time": "2020-10-17T09:33:50.279081Z",
     "start_time": "2020-10-17T09:33:50.268742Z"
    },
    "hidden": true
   },
   "outputs": [
    {
     "name": "stdout",
     "output_type": "stream",
     "text": [
      "              precision    recall  f1-score   support\n",
      "\n",
      "           0    0.72455   0.62051   0.66851       195\n",
      "           1    0.64929   0.74863   0.69543       183\n",
      "\n",
      "    accuracy                        0.68254       378\n",
      "   macro avg    0.68692   0.68457   0.68197       378\n",
      "weighted avg    0.68811   0.68254   0.68154       378\n",
      "\n"
     ]
    }
   ],
   "source": [
    "# reddit\n",
    "get_results_new_threshold(gbm, rd_features, rd['label'])"
   ]
  },
  {
   "cell_type": "code",
   "execution_count": 176,
   "metadata": {
    "ExecuteTime": {
     "end_time": "2020-10-17T09:35:34.664899Z",
     "start_time": "2020-10-17T09:35:34.655007Z"
    },
    "hidden": true
   },
   "outputs": [
    {
     "name": "stdout",
     "output_type": "stream",
     "text": [
      "              precision    recall  f1-score   support\n",
      "\n",
      "           0    0.67606   0.73846   0.70588       195\n",
      "           1    0.69091   0.62295   0.65517       183\n",
      "\n",
      "    accuracy                        0.68254       378\n",
      "   macro avg    0.68348   0.68071   0.68053       378\n",
      "weighted avg    0.68325   0.68254   0.68133       378\n",
      "\n"
     ]
    }
   ],
   "source": [
    "# prev reddit\n",
    "get_results(gbm, rd_features, rd['label'])"
   ]
  },
  {
   "cell_type": "code",
   "execution_count": 177,
   "metadata": {
    "ExecuteTime": {
     "end_time": "2020-10-17T09:36:17.220096Z",
     "start_time": "2020-10-17T09:36:17.211221Z"
    },
    "hidden": true
   },
   "outputs": [
    {
     "name": "stdout",
     "output_type": "stream",
     "text": [
      "              precision    recall  f1-score   support\n",
      "\n",
      "           0    0.85714   1.00000   0.92308        48\n",
      "           1    1.00000   0.84314   0.91489        51\n",
      "\n",
      "    accuracy                        0.91919        99\n",
      "   macro avg    0.92857   0.92157   0.91899        99\n",
      "weighted avg    0.93074   0.91919   0.91886        99\n",
      "\n"
     ]
    }
   ],
   "source": [
    "# twitter\n",
    "get_results_new_threshold(gbm, tt_features, tt['label'])"
   ]
  },
  {
   "cell_type": "code",
   "execution_count": 178,
   "metadata": {
    "ExecuteTime": {
     "end_time": "2020-10-17T09:36:53.100626Z",
     "start_time": "2020-10-17T09:36:53.091458Z"
    },
    "hidden": true
   },
   "outputs": [
    {
     "name": "stdout",
     "output_type": "stream",
     "text": [
      "              precision    recall  f1-score   support\n",
      "\n",
      "           0    0.82759   1.00000   0.90566        48\n",
      "           1    1.00000   0.80392   0.89130        51\n",
      "\n",
      "    accuracy                        0.89899        99\n",
      "   macro avg    0.91379   0.90196   0.89848        99\n",
      "weighted avg    0.91641   0.89899   0.89826        99\n",
      "\n"
     ]
    }
   ],
   "source": [
    "# pre twitter\n",
    "get_results(gbm, tt_features, tt['label'])"
   ]
  },
  {
   "cell_type": "markdown",
   "metadata": {
    "heading_collapsed": true
   },
   "source": [
    "### 4. remove duplicates and use count as a predictor of risk"
   ]
  },
  {
   "cell_type": "code",
   "execution_count": 179,
   "metadata": {
    "ExecuteTime": {
     "end_time": "2020-10-17T09:40:41.791667Z",
     "start_time": "2020-10-17T09:40:41.787686Z"
    },
    "hidden": true
   },
   "outputs": [
    {
     "data": {
      "text/plain": [
       "4293"
      ]
     },
     "execution_count": 179,
     "metadata": {},
     "output_type": "execute_result"
    }
   ],
   "source": [
    "len(all_train['text'])"
   ]
  },
  {
   "cell_type": "code",
   "execution_count": 180,
   "metadata": {
    "ExecuteTime": {
     "end_time": "2020-10-17T09:40:51.074609Z",
     "start_time": "2020-10-17T09:40:51.060775Z"
    },
    "hidden": true
   },
   "outputs": [
    {
     "data": {
      "text/plain": [
       "3787"
      ]
     },
     "execution_count": 180,
     "metadata": {},
     "output_type": "execute_result"
    }
   ],
   "source": [
    "len(all_train['text'].unique())"
   ]
  },
  {
   "cell_type": "code",
   "execution_count": 190,
   "metadata": {
    "ExecuteTime": {
     "end_time": "2020-10-17T09:53:39.567860Z",
     "start_time": "2020-10-17T09:53:39.551857Z"
    },
    "hidden": true
   },
   "outputs": [],
   "source": [
    "df = all_train.groupby('text').agg({\n",
    "    'date_time': 'count',\n",
    "    'label': max\n",
    "}).reset_index()"
   ]
  },
  {
   "cell_type": "code",
   "execution_count": 192,
   "metadata": {
    "ExecuteTime": {
     "end_time": "2020-10-17T09:54:22.671370Z",
     "start_time": "2020-10-17T09:54:22.668443Z"
    },
    "hidden": true
   },
   "outputs": [],
   "source": [
    "df.columns = ['text', 'count', 'label']"
   ]
  },
  {
   "cell_type": "code",
   "execution_count": 193,
   "metadata": {
    "ExecuteTime": {
     "end_time": "2020-10-17T09:54:25.192277Z",
     "start_time": "2020-10-17T09:54:25.181119Z"
    },
    "hidden": true
   },
   "outputs": [
    {
     "data": {
      "text/html": [
       "<div>\n",
       "<style scoped>\n",
       "    .dataframe tbody tr th:only-of-type {\n",
       "        vertical-align: middle;\n",
       "    }\n",
       "\n",
       "    .dataframe tbody tr th {\n",
       "        vertical-align: top;\n",
       "    }\n",
       "\n",
       "    .dataframe thead th {\n",
       "        text-align: right;\n",
       "    }\n",
       "</style>\n",
       "<table border=\"1\" class=\"dataframe\">\n",
       "  <thead>\n",
       "    <tr style=\"text-align: right;\">\n",
       "      <th></th>\n",
       "      <th>text</th>\n",
       "      <th>count</th>\n",
       "      <th>label</th>\n",
       "    </tr>\n",
       "  </thead>\n",
       "  <tbody>\n",
       "    <tr>\n",
       "      <th>0</th>\n",
       "      <td>\\n**clearing up conspiracy theories** \\n\\nexchange hacks are a breeding ground for conspiracy theories. hereâs my attempt to address some of them. \\n\\n**binance messed up and burned 7,000 by sending btc to segwit addresses that cannot send funds anywhere**\\n\\nthis is fundamentally not true. you canât see segwit transactions on blockchain.com but you can easily see them here.\\n\\n**it was an inside job to promote their dex**\\n\\nterrible business move. binance loses a huge amount of brand equity for what? in the midst of all of this, they havenât even promoted their dex.\\n\\n**there was more than 7,000 btc that was stolen**\\n\\nall we have is binanceâs official numbers. there is no evidence of this currently. pundits are carefully watching binance hot wallets.\\n\\n**security breach without api keys being compromised**\\n\\nthis one is more likely. rumour has it 700 accounts with withdrawal access were compromised. no one has come forward saying that their account was hacked. since passwords and 2fa were compromised, youâd imagine binance would ask users to reset their personal information. at the same time, if api keys were not compromised, why would binance reset api keys?\\n\\n**attackers are still in control of many accounts that binance does not know about**\\n\\nitâs possible. binance reset api keys, but hackers could still have access to a bunch of accounts via stolen personal information..</td>\n",
       "      <td>1</td>\n",
       "      <td>0</td>\n",
       "    </tr>\n",
       "    <tr>\n",
       "      <th>1</th>\n",
       "      <td>\\ni recommend that someone with skin in this game who also has the brains, time and money use a chain analysis tool like https://crystalblockchain.com/ to track down the cold wallets to ensure they have not or do not move. if the crypto cold wallet funds have moved after the date of death (december 9th) of mr cotten, then the crypto funds have either been hacked or been moved by the directors of quadrigacx (and is contrary to what they are claiming here), or another party. this could be a key piece to any lawsuit.\\n\\nalso be sure to look for quadrigacx/quadriga fintech solutions/0894750 b.c. ltd   to be listed here in the coming week(s) to confirm that they have filed for creditor protection: https://www.ic.gc.ca/eic/site/bsf-osb.nsf/eng/h_br02281.html\\n\\ngood luck everyone. .</td>\n",
       "      <td>1</td>\n",
       "      <td>0</td>\n",
       "    </tr>\n",
       "    <tr>\n",
       "      <th>2</th>\n",
       "      <td>\\n\\n# binance hack: report claims binance just screwing up, reported yobit admin allegedly involved\\n\\n# [https://todaysgazette.com/binance-hack-just-screwing-up-yobit-admin-carted-fund-away-binance-hot-wallet/](https://todaysgazette.com/binance-hack-just-screwing-up-yobit-admin-carted-fund-away-binance-hot-wallet/).</td>\n",
       "      <td>4</td>\n",
       "      <td>0</td>\n",
       "    </tr>\n",
       "    <tr>\n",
       "      <th>3</th>\n",
       "      <td>\\nbinance hack: report claims binance just screwing up, reported yobit admin allegedly involved\\nhttps://todaysgazette.com/binance-hack-just-screwing-up-yobit-admin-carted-fund-away-binance-hot-wallet/.</td>\n",
       "      <td>1</td>\n",
       "      <td>0</td>\n",
       "    </tr>\n",
       "    <tr>\n",
       "      <th>4</th>\n",
       "      <td>\\nbinance hack: report claims binance just screwing up, reported yobit admin allegedly involved.</td>\n",
       "      <td>1</td>\n",
       "      <td>0</td>\n",
       "    </tr>\n",
       "    <tr>\n",
       "      <th>...</th>\n",
       "      <td>...</td>\n",
       "      <td>...</td>\n",
       "      <td>...</td>\n",
       "    </tr>\n",
       "    <tr>\n",
       "      <th>3782</th>\n",
       "      <td>ð a decent 0.372% #arbitrage opportunity! Buy $BAT / $ETH on Binance for 0.0018978, Sell on ETHFinex for 0.0019049.\\nPotential Profit: 0.001012 ETH (~0.2004 DAI).\\n#DeFi</td>\n",
       "      <td>1</td>\n",
       "      <td>0</td>\n",
       "    </tr>\n",
       "    <tr>\n",
       "      <th>3783</th>\n",
       "      <td>ð The winners ðÂ of the Aprilâs Post of the Month contest are in!  GOOD work to all contenders, great articles!\\n\\nCheck out the winners ð https://forum.bitcoingold.org/t/post-of-the-month-top-5-april-2018/1311Â â¦\\n#1CPU1Vote #btg #bitcoingold #bitcoin #btc #cryptocurrency #blockchain #contestpic.twitter.com/gsWaeWUL1i</td>\n",
       "      <td>1</td>\n",
       "      <td>0</td>\n",
       "    </tr>\n",
       "    <tr>\n",
       "      <th>3784</th>\n",
       "      <td>ð»  Token creation platform Bancor, which raised $153M in last year's ICO, has gone offline after a security breach that successfully stole</td>\n",
       "      <td>1</td>\n",
       "      <td>1</td>\n",
       "    </tr>\n",
       "    <tr>\n",
       "      <th>3785</th>\n",
       "      <td>ð® wow even binance gets hacked.</td>\n",
       "      <td>1</td>\n",
       "      <td>1</td>\n",
       "    </tr>\n",
       "    <tr>\n",
       "      <th>3786</th>\n",
       "      <td>ð¨ð¨ Arbitrage opportunity ð¨ð¨\\n\\nBitcoin pricing:\\nCoinBene: 3949 USD\\nSIMEX: 3886 USD\\n\\nEnter the Credditex trading desk now and take advantage of this opportunity.  #cryptocurrency #Bitcointrading #Ethereum #bitcoin #Crypto</td>\n",
       "      <td>1</td>\n",
       "      <td>0</td>\n",
       "    </tr>\n",
       "  </tbody>\n",
       "</table>\n",
       "<p>3787 rows × 3 columns</p>\n",
       "</div>"
      ],
      "text/plain": [
       "                                                                                                                                                                                                                                                                                                                                                                                                                                                                                                                                                                                                                                                                                                                                                                                                                                                                                                                                                                                                                                                                                                                                                                                                                                                                                                                                                                                                                                                                              text  \\\n",
       "0     \\n**clearing up conspiracy theories** \\n\\nexchange hacks are a breeding ground for conspiracy theories. hereâs my attempt to address some of them. \\n\\n**binance messed up and burned 7,000 by sending btc to segwit addresses that cannot send funds anywhere**\\n\\nthis is fundamentally not true. you canât see segwit transactions on blockchain.com but you can easily see them here.\\n\\n**it was an inside job to promote their dex**\\n\\nterrible business move. binance loses a huge amount of brand equity for what? in the midst of all of this, they havenât even promoted their dex.\\n\\n**there was more than 7,000 btc that was stolen**\\n\\nall we have is binanceâs official numbers. there is no evidence of this currently. pundits are carefully watching binance hot wallets.\\n\\n**security breach without api keys being compromised**\\n\\nthis one is more likely. rumour has it 700 accounts with withdrawal access were compromised. no one has come forward saying that their account was hacked. since passwords and 2fa were compromised, youâd imagine binance would ask users to reset their personal information. at the same time, if api keys were not compromised, why would binance reset api keys?\\n\\n**attackers are still in control of many accounts that binance does not know about**\\n\\nitâs possible. binance reset api keys, but hackers could still have access to a bunch of accounts via stolen personal information..    \n",
       "1     \\ni recommend that someone with skin in this game who also has the brains, time and money use a chain analysis tool like https://crystalblockchain.com/ to track down the cold wallets to ensure they have not or do not move. if the crypto cold wallet funds have moved after the date of death (december 9th) of mr cotten, then the crypto funds have either been hacked or been moved by the directors of quadrigacx (and is contrary to what they are claiming here), or another party. this could be a key piece to any lawsuit.\\n\\nalso be sure to look for quadrigacx/quadriga fintech solutions/0894750 b.c. ltd   to be listed here in the coming week(s) to confirm that they have filed for creditor protection: https://www.ic.gc.ca/eic/site/bsf-osb.nsf/eng/h_br02281.html\\n\\ngood luck everyone. .                                                                                                                                                                                                                                                                                                                                                                                                                                                                                                                                                                                                                                                            \n",
       "2      \\n\\n# binance hack: report claims binance just screwing up, reported yobit admin allegedly involved\\n\\n# [https://todaysgazette.com/binance-hack-just-screwing-up-yobit-admin-carted-fund-away-binance-hot-wallet/](https://todaysgazette.com/binance-hack-just-screwing-up-yobit-admin-carted-fund-away-binance-hot-wallet/).                                                                                                                                                                                                                                                                                                                                                                                                                                                                                                                                                                                                                                                                                                                                                                                                                                                                                                                                                                                                                                                                                                                                                \n",
       "3      \\nbinance hack: report claims binance just screwing up, reported yobit admin allegedly involved\\nhttps://todaysgazette.com/binance-hack-just-screwing-up-yobit-admin-carted-fund-away-binance-hot-wallet/.                                                                                                                                                                                                                                                                                                                                                                                                                                                                                                                                                                                                                                                                                                                                                                                                                                                                                                                                                                                                                                                                                                                                                                                                                                                                    \n",
       "4      \\nbinance hack: report claims binance just screwing up, reported yobit admin allegedly involved.                                                                                                                                                                                                                                                                                                                                                                                                                                                                                                                                                                                                                                                                                                                                                                                                                                                                                                                                                                                                                                                                                                                                                                                                                                                                                                                                                                              \n",
       "...                                                                                                  ...                                                                                                                                                                                                                                                                                                                                                                                                                                                                                                                                                                                                                                                                                                                                                                                                                                                                                                                                                                                                                                                                                                                                                                                                                                                                                                                                                                             \n",
       "3782  ð a decent 0.372% #arbitrage opportunity! Buy $BAT / $ETH on Binance for 0.0018978, Sell on ETHFinex for 0.0019049.\\nPotential Profit: 0.001012 ETH (~0.2004 DAI).\\n#DeFi                                                                                                                                                                                                                                                                                                                                                                                                                                                                                                                                                                                                                                                                                                                                                                                                                                                                                                                                                                                                                                                                                                                                                                                                                                                                                                   \n",
       "3783  ð The winners ðÂ of the Aprilâs Post of the Month contest are in!  GOOD work to all contenders, great articles!\\n\\nCheck out the winners ð https://forum.bitcoingold.org/t/post-of-the-month-top-5-april-2018/1311Â â¦\\n#1CPU1Vote #btg #bitcoingold #bitcoin #btc #cryptocurrency #blockchain #contestpic.twitter.com/gsWaeWUL1i                                                                                                                                                                                                                                                                                                                                                                                                                                                                                                                                                                                                                                                                                                                                                                                                                                                                                                                                                                                                                                                                                                                                  \n",
       "3784  ð»  Token creation platform Bancor, which raised $153M in last year's ICO, has gone offline after a security breach that successfully stole                                                                                                                                                                                                                                                                                                                                                                                                                                                                                                                                                                                                                                                                                                                                                                                                                                                                                                                                                                                                                                                                                                                                                                                                                                                                                                                                  \n",
       "3785  ð® wow even binance gets hacked.                                                                                                                                                                                                                                                                                                                                                                                                                                                                                                                                                                                                                                                                                                                                                                                                                                                                                                                                                                                                                                                                                                                                                                                                                                                                                                                                                                                                                                             \n",
       "3786  ð¨ð¨ Arbitrage opportunity ð¨ð¨\\n\\nBitcoin pricing:\\nCoinBene: 3949 USD\\nSIMEX: 3886 USD\\n\\nEnter the Credditex trading desk now and take advantage of this opportunity.  #cryptocurrency #Bitcointrading #Ethereum #bitcoin #Crypto                                                                                                                                                                                                                                                                                                                                                                                                                                                                                                                                                                                                                                                                                                                                                                                                                                                                                                                                                                                                                                                                                                                                                                                                                                   \n",
       "\n",
       "      count  label  \n",
       "0     1      0      \n",
       "1     1      0      \n",
       "2     4      0      \n",
       "3     1      0      \n",
       "4     1      0      \n",
       "...  ..     ..      \n",
       "3782  1      0      \n",
       "3783  1      0      \n",
       "3784  1      1      \n",
       "3785  1      1      \n",
       "3786  1      0      \n",
       "\n",
       "[3787 rows x 3 columns]"
      ]
     },
     "execution_count": 193,
     "metadata": {},
     "output_type": "execute_result"
    }
   ],
   "source": [
    "df"
   ]
  },
  {
   "cell_type": "code",
   "execution_count": 194,
   "metadata": {
    "ExecuteTime": {
     "end_time": "2020-10-17T09:57:47.617206Z",
     "start_time": "2020-10-17T09:57:46.639756Z"
    },
    "hidden": true
   },
   "outputs": [],
   "source": [
    "text_embedding = pd.DataFrame(get_embed_features(df['text']))"
   ]
  },
  {
   "cell_type": "code",
   "execution_count": 202,
   "metadata": {
    "ExecuteTime": {
     "end_time": "2020-10-17T10:03:26.582614Z",
     "start_time": "2020-10-17T10:03:26.573895Z"
    },
    "hidden": true
   },
   "outputs": [],
   "source": [
    "features_with_count = pd.concat([text_embedding, df['count']], axis=1)"
   ]
  },
  {
   "cell_type": "code",
   "execution_count": 203,
   "metadata": {
    "ExecuteTime": {
     "end_time": "2020-10-17T10:03:27.972192Z",
     "start_time": "2020-10-17T10:03:27.968393Z"
    },
    "hidden": true
   },
   "outputs": [
    {
     "data": {
      "text/plain": [
       "(3787, 301)"
      ]
     },
     "execution_count": 203,
     "metadata": {},
     "output_type": "execute_result"
    }
   ],
   "source": [
    "features_with_count.shape"
   ]
  },
  {
   "cell_type": "code",
   "execution_count": 222,
   "metadata": {
    "ExecuteTime": {
     "end_time": "2020-10-17T10:13:24.687641Z",
     "start_time": "2020-10-17T10:13:24.685099Z"
    },
    "hidden": true
   },
   "outputs": [],
   "source": [
    "clf_count = lgb.LGBMClassifier()"
   ]
  },
  {
   "cell_type": "code",
   "execution_count": 223,
   "metadata": {
    "ExecuteTime": {
     "end_time": "2020-10-17T10:13:25.377779Z",
     "start_time": "2020-10-17T10:13:25.368363Z"
    },
    "hidden": true
   },
   "outputs": [],
   "source": [
    "train_features_with_count, val_features_with_count, train_y, val_y = train_test_split(features_with_count, df['label'], random_state=2020)"
   ]
  },
  {
   "cell_type": "code",
   "execution_count": 224,
   "metadata": {
    "ExecuteTime": {
     "end_time": "2020-10-17T10:13:27.898535Z",
     "start_time": "2020-10-17T10:13:26.558903Z"
    },
    "hidden": true,
    "scrolled": true
   },
   "outputs": [
    {
     "name": "stdout",
     "output_type": "stream",
     "text": [
      "[1]\tvalid_0's auc: 0.73991\tvalid_0's binary_logloss: 0.576913\n",
      "Training until validation scores don't improve for 50 rounds\n",
      "[2]\tvalid_0's auc: 0.766168\tvalid_0's binary_logloss: 0.555912\n",
      "[3]\tvalid_0's auc: 0.784125\tvalid_0's binary_logloss: 0.539263\n",
      "[4]\tvalid_0's auc: 0.792456\tvalid_0's binary_logloss: 0.525518\n",
      "[5]\tvalid_0's auc: 0.799366\tvalid_0's binary_logloss: 0.513458\n",
      "[6]\tvalid_0's auc: 0.80526\tvalid_0's binary_logloss: 0.501673\n",
      "[7]\tvalid_0's auc: 0.806817\tvalid_0's binary_logloss: 0.492639\n",
      "[8]\tvalid_0's auc: 0.812782\tvalid_0's binary_logloss: 0.483594\n",
      "[9]\tvalid_0's auc: 0.816363\tvalid_0's binary_logloss: 0.477887\n",
      "[10]\tvalid_0's auc: 0.818755\tvalid_0's binary_logloss: 0.470451\n",
      "[11]\tvalid_0's auc: 0.82091\tvalid_0's binary_logloss: 0.465467\n",
      "[12]\tvalid_0's auc: 0.821554\tvalid_0's binary_logloss: 0.461567\n",
      "[13]\tvalid_0's auc: 0.823385\tvalid_0's binary_logloss: 0.457313\n",
      "[14]\tvalid_0's auc: 0.824814\tvalid_0's binary_logloss: 0.453461\n",
      "[15]\tvalid_0's auc: 0.82595\tvalid_0's binary_logloss: 0.449941\n",
      "[16]\tvalid_0's auc: 0.828078\tvalid_0's binary_logloss: 0.446625\n",
      "[17]\tvalid_0's auc: 0.826486\tvalid_0's binary_logloss: 0.445534\n",
      "[18]\tvalid_0's auc: 0.827964\tvalid_0's binary_logloss: 0.44328\n",
      "[19]\tvalid_0's auc: 0.827442\tvalid_0's binary_logloss: 0.441239\n",
      "[20]\tvalid_0's auc: 0.830556\tvalid_0's binary_logloss: 0.438886\n",
      "[21]\tvalid_0's auc: 0.832225\tvalid_0's binary_logloss: 0.437105\n",
      "[22]\tvalid_0's auc: 0.833361\tvalid_0's binary_logloss: 0.434947\n",
      "[23]\tvalid_0's auc: 0.834089\tvalid_0's binary_logloss: 0.433471\n",
      "[24]\tvalid_0's auc: 0.836437\tvalid_0's binary_logloss: 0.430652\n",
      "[25]\tvalid_0's auc: 0.835437\tvalid_0's binary_logloss: 0.430277\n",
      "[26]\tvalid_0's auc: 0.835926\tvalid_0's binary_logloss: 0.429142\n",
      "[27]\tvalid_0's auc: 0.836176\tvalid_0's binary_logloss: 0.427759\n",
      "[28]\tvalid_0's auc: 0.837692\tvalid_0's binary_logloss: 0.425786\n",
      "[29]\tvalid_0's auc: 0.839312\tvalid_0's binary_logloss: 0.424163\n",
      "[30]\tvalid_0's auc: 0.838741\tvalid_0's binary_logloss: 0.424157\n",
      "[31]\tvalid_0's auc: 0.83923\tvalid_0's binary_logloss: 0.422925\n",
      "[32]\tvalid_0's auc: 0.840839\tvalid_0's binary_logloss: 0.421318\n",
      "[33]\tvalid_0's auc: 0.842197\tvalid_0's binary_logloss: 0.420284\n",
      "[34]\tvalid_0's auc: 0.841877\tvalid_0's binary_logloss: 0.420248\n",
      "[35]\tvalid_0's auc: 0.841975\tvalid_0's binary_logloss: 0.420236\n",
      "[36]\tvalid_0's auc: 0.843176\tvalid_0's binary_logloss: 0.419073\n",
      "[37]\tvalid_0's auc: 0.843447\tvalid_0's binary_logloss: 0.418075\n",
      "[38]\tvalid_0's auc: 0.842246\tvalid_0's binary_logloss: 0.418969\n",
      "[39]\tvalid_0's auc: 0.841621\tvalid_0's binary_logloss: 0.420064\n",
      "[40]\tvalid_0's auc: 0.84235\tvalid_0's binary_logloss: 0.419165\n",
      "[41]\tvalid_0's auc: 0.843665\tvalid_0's binary_logloss: 0.418254\n",
      "[42]\tvalid_0's auc: 0.843388\tvalid_0's binary_logloss: 0.418431\n",
      "[43]\tvalid_0's auc: 0.842708\tvalid_0's binary_logloss: 0.419296\n",
      "[44]\tvalid_0's auc: 0.842458\tvalid_0's binary_logloss: 0.419898\n",
      "[45]\tvalid_0's auc: 0.843447\tvalid_0's binary_logloss: 0.419229\n",
      "[46]\tvalid_0's auc: 0.843784\tvalid_0's binary_logloss: 0.41995\n",
      "[47]\tvalid_0's auc: 0.843377\tvalid_0's binary_logloss: 0.420571\n",
      "[48]\tvalid_0's auc: 0.843409\tvalid_0's binary_logloss: 0.420864\n",
      "[49]\tvalid_0's auc: 0.845029\tvalid_0's binary_logloss: 0.419625\n",
      "[50]\tvalid_0's auc: 0.846029\tvalid_0's binary_logloss: 0.419464\n",
      "[51]\tvalid_0's auc: 0.846556\tvalid_0's binary_logloss: 0.41965\n",
      "[52]\tvalid_0's auc: 0.847703\tvalid_0's binary_logloss: 0.418732\n",
      "[53]\tvalid_0's auc: 0.849708\tvalid_0's binary_logloss: 0.416791\n",
      "[54]\tvalid_0's auc: 0.849366\tvalid_0's binary_logloss: 0.417498\n",
      "[55]\tvalid_0's auc: 0.849958\tvalid_0's binary_logloss: 0.417489\n",
      "[56]\tvalid_0's auc: 0.850116\tvalid_0's binary_logloss: 0.416621\n",
      "[57]\tvalid_0's auc: 0.851349\tvalid_0's binary_logloss: 0.415932\n",
      "[58]\tvalid_0's auc: 0.851273\tvalid_0's binary_logloss: 0.416242\n",
      "[59]\tvalid_0's auc: 0.851784\tvalid_0's binary_logloss: 0.416768\n",
      "[60]\tvalid_0's auc: 0.851936\tvalid_0's binary_logloss: 0.417189\n",
      "[61]\tvalid_0's auc: 0.851377\tvalid_0's binary_logloss: 0.418768\n",
      "[62]\tvalid_0's auc: 0.851779\tvalid_0's binary_logloss: 0.418815\n",
      "[63]\tvalid_0's auc: 0.85198\tvalid_0's binary_logloss: 0.419199\n",
      "[64]\tvalid_0's auc: 0.851828\tvalid_0's binary_logloss: 0.419674\n",
      "[65]\tvalid_0's auc: 0.851561\tvalid_0's binary_logloss: 0.42089\n",
      "[66]\tvalid_0's auc: 0.851518\tvalid_0's binary_logloss: 0.421391\n",
      "[67]\tvalid_0's auc: 0.851686\tvalid_0's binary_logloss: 0.421998\n",
      "[68]\tvalid_0's auc: 0.851485\tvalid_0's binary_logloss: 0.423287\n",
      "[69]\tvalid_0's auc: 0.851078\tvalid_0's binary_logloss: 0.424388\n",
      "[70]\tvalid_0's auc: 0.850839\tvalid_0's binary_logloss: 0.425088\n",
      "[71]\tvalid_0's auc: 0.85073\tvalid_0's binary_logloss: 0.425912\n",
      "[72]\tvalid_0's auc: 0.850219\tvalid_0's binary_logloss: 0.426765\n",
      "[73]\tvalid_0's auc: 0.850137\tvalid_0's binary_logloss: 0.427618\n",
      "[74]\tvalid_0's auc: 0.849714\tvalid_0's binary_logloss: 0.429055\n",
      "[75]\tvalid_0's auc: 0.849708\tvalid_0's binary_logloss: 0.429617\n",
      "[76]\tvalid_0's auc: 0.849795\tvalid_0's binary_logloss: 0.430387\n",
      "[77]\tvalid_0's auc: 0.849969\tvalid_0's binary_logloss: 0.430332\n",
      "[78]\tvalid_0's auc: 0.850203\tvalid_0's binary_logloss: 0.431338\n",
      "[79]\tvalid_0's auc: 0.851578\tvalid_0's binary_logloss: 0.430756\n",
      "[80]\tvalid_0's auc: 0.851773\tvalid_0's binary_logloss: 0.431362\n",
      "[81]\tvalid_0's auc: 0.85217\tvalid_0's binary_logloss: 0.431909\n",
      "[82]\tvalid_0's auc: 0.852387\tvalid_0's binary_logloss: 0.432416\n",
      "[83]\tvalid_0's auc: 0.852686\tvalid_0's binary_logloss: 0.432722\n",
      "[84]\tvalid_0's auc: 0.853208\tvalid_0's binary_logloss: 0.432941\n",
      "[85]\tvalid_0's auc: 0.853464\tvalid_0's binary_logloss: 0.434128\n",
      "[86]\tvalid_0's auc: 0.853344\tvalid_0's binary_logloss: 0.434806\n",
      "[87]\tvalid_0's auc: 0.853355\tvalid_0's binary_logloss: 0.435493\n",
      "[88]\tvalid_0's auc: 0.853627\tvalid_0's binary_logloss: 0.436261\n",
      "[89]\tvalid_0's auc: 0.853757\tvalid_0's binary_logloss: 0.437595\n",
      "[90]\tvalid_0's auc: 0.853159\tvalid_0's binary_logloss: 0.438885\n",
      "[91]\tvalid_0's auc: 0.853355\tvalid_0's binary_logloss: 0.43946\n",
      "[92]\tvalid_0's auc: 0.853507\tvalid_0's binary_logloss: 0.439593\n",
      "[93]\tvalid_0's auc: 0.853512\tvalid_0's binary_logloss: 0.440996\n",
      "[94]\tvalid_0's auc: 0.854224\tvalid_0's binary_logloss: 0.441379\n",
      "[95]\tvalid_0's auc: 0.854262\tvalid_0's binary_logloss: 0.442467\n",
      "[96]\tvalid_0's auc: 0.853855\tvalid_0's binary_logloss: 0.444268\n",
      "[97]\tvalid_0's auc: 0.854284\tvalid_0's binary_logloss: 0.444212\n",
      "[98]\tvalid_0's auc: 0.854148\tvalid_0's binary_logloss: 0.445146\n",
      "[99]\tvalid_0's auc: 0.855105\tvalid_0's binary_logloss: 0.444534\n",
      "[100]\tvalid_0's auc: 0.855192\tvalid_0's binary_logloss: 0.445467\n",
      "Did not meet early stopping. Best iteration is:\n",
      "[100]\tvalid_0's auc: 0.855192\tvalid_0's binary_logloss: 0.445467\n"
     ]
    }
   ],
   "source": [
    "gbm_count = clf_count.fit(\n",
    "              X=train_features_with_count, \n",
    "              y=train_y,\n",
    "              eval_set=[(val_features_with_count, val_y)],\n",
    "              eval_metric=['auc', 'binary_logloss'],\n",
    "              early_stopping_rounds=50, \n",
    "              verbose=True)"
   ]
  },
  {
   "cell_type": "code",
   "execution_count": 225,
   "metadata": {
    "ExecuteTime": {
     "end_time": "2020-10-17T10:13:29.241094Z",
     "start_time": "2020-10-17T10:13:28.707446Z"
    },
    "hidden": true
   },
   "outputs": [
    {
     "data": {
      "image/png": "[encoded data removed]",
      "text/plain": [
       "<Figure size 1440x1152 with 1 Axes>"
      ]
     },
     "metadata": {
      "needs_background": "light"
     },
     "output_type": "display_data"
    }
   ],
   "source": [
    "ax = lgb.plot_importance(gbm_count, importance_type='gain', max_num_features=50)\n",
    "fig = ax.figure\n",
    "fig.set_size_inches(20, 16)"
   ]
  },
  {
   "cell_type": "code",
   "execution_count": 226,
   "metadata": {
    "ExecuteTime": {
     "end_time": "2020-10-17T10:13:33.287013Z",
     "start_time": "2020-10-17T10:13:33.283423Z"
    },
    "hidden": true
   },
   "outputs": [
    {
     "data": {
      "text/plain": [
       "100"
      ]
     },
     "execution_count": 226,
     "metadata": {},
     "output_type": "execute_result"
    }
   ],
   "source": [
    "gbm_count.best_iteration_"
   ]
  },
  {
   "cell_type": "code",
   "execution_count": 228,
   "metadata": {
    "ExecuteTime": {
     "end_time": "2020-10-17T10:13:41.277277Z",
     "start_time": "2020-10-17T10:13:41.274910Z"
    },
    "hidden": true
   },
   "outputs": [],
   "source": [
    "#lgb.create_tree_digraph(gbm_count,tree_index=99,orientation=\"vertical\")"
   ]
  },
  {
   "cell_type": "code",
   "execution_count": 231,
   "metadata": {
    "ExecuteTime": {
     "end_time": "2020-10-17T10:14:58.922867Z",
     "start_time": "2020-10-17T10:14:58.918907Z"
    },
    "hidden": true
   },
   "outputs": [
    {
     "data": {
      "text/plain": [
       "1061"
      ]
     },
     "execution_count": 231,
     "metadata": {},
     "output_type": "execute_result"
    }
   ],
   "source": [
    "len(all_test['text'])"
   ]
  },
  {
   "cell_type": "code",
   "execution_count": 232,
   "metadata": {
    "ExecuteTime": {
     "end_time": "2020-10-17T10:15:07.039128Z",
     "start_time": "2020-10-17T10:15:07.034154Z"
    },
    "hidden": true
   },
   "outputs": [
    {
     "data": {
      "text/plain": [
       "958"
      ]
     },
     "execution_count": 232,
     "metadata": {},
     "output_type": "execute_result"
    }
   ],
   "source": [
    "len(all_test['text'].unique())"
   ]
  },
  {
   "cell_type": "code",
   "execution_count": 233,
   "metadata": {
    "ExecuteTime": {
     "end_time": "2020-10-17T10:15:37.738058Z",
     "start_time": "2020-10-17T10:15:37.730443Z"
    },
    "hidden": true
   },
   "outputs": [],
   "source": [
    "df_test = all_test.groupby('text').agg({\n",
    "    'date_time': 'count',\n",
    "    'label': max\n",
    "}).reset_index()"
   ]
  },
  {
   "cell_type": "code",
   "execution_count": 234,
   "metadata": {
    "ExecuteTime": {
     "end_time": "2020-10-17T10:16:12.016221Z",
     "start_time": "2020-10-17T10:16:12.013196Z"
    },
    "hidden": true
   },
   "outputs": [],
   "source": [
    "df_test.columns = ['text', 'count', 'label']"
   ]
  },
  {
   "cell_type": "code",
   "execution_count": 236,
   "metadata": {
    "ExecuteTime": {
     "end_time": "2020-10-17T10:16:44.315021Z",
     "start_time": "2020-10-17T10:16:43.962324Z"
    },
    "hidden": true
   },
   "outputs": [],
   "source": [
    "text_embedding_test = pd.DataFrame(get_embed_features(df_test['text']))"
   ]
  },
  {
   "cell_type": "code",
   "execution_count": 237,
   "metadata": {
    "ExecuteTime": {
     "end_time": "2020-10-17T10:17:02.559188Z",
     "start_time": "2020-10-17T10:17:02.554662Z"
    },
    "hidden": true
   },
   "outputs": [],
   "source": [
    "features_with_count_test = pd.concat([text_embedding_test, df_test['count']], axis=1)"
   ]
  },
  {
   "cell_type": "code",
   "execution_count": 239,
   "metadata": {
    "ExecuteTime": {
     "end_time": "2020-10-17T10:17:11.811949Z",
     "start_time": "2020-10-17T10:17:11.808231Z"
    },
    "hidden": true
   },
   "outputs": [
    {
     "data": {
      "text/plain": [
       "(958, 301)"
      ]
     },
     "execution_count": 239,
     "metadata": {},
     "output_type": "execute_result"
    }
   ],
   "source": [
    "features_with_count_test.shape"
   ]
  },
  {
   "cell_type": "code",
   "execution_count": 240,
   "metadata": {
    "ExecuteTime": {
     "end_time": "2020-10-17T10:18:20.334322Z",
     "start_time": "2020-10-17T10:18:20.275611Z"
    },
    "hidden": true
   },
   "outputs": [
    {
     "name": "stdout",
     "output_type": "stream",
     "text": [
      "              precision    recall  f1-score   support\n",
      "\n",
      "           0    0.81614   0.93343   0.87085       661\n",
      "           1    0.78218   0.53199   0.63327       297\n",
      "\n",
      "    accuracy                        0.80898       958\n",
      "   macro avg    0.79916   0.73271   0.75206       958\n",
      "weighted avg    0.80561   0.80898   0.79720       958\n",
      "\n"
     ]
    }
   ],
   "source": [
    "get_results(gbm_count, features_with_count_test, df_test['label'])"
   ]
  },
  {
   "cell_type": "code",
   "execution_count": 244,
   "metadata": {
    "ExecuteTime": {
     "end_time": "2020-10-17T10:19:28.963935Z",
     "start_time": "2020-10-17T10:19:26.393860Z"
    },
    "hidden": true
   },
   "outputs": [
    {
     "name": "stdout",
     "output_type": "stream",
     "text": [
      "              precision    recall  f1-score   support\n",
      "\n",
      "           0    0.82078   0.89140   0.85463       709\n",
      "           1    0.73540   0.60795   0.66563       352\n",
      "\n",
      "    accuracy                        0.79736      1061\n",
      "   macro avg    0.77809   0.74968   0.76013      1061\n",
      "weighted avg    0.79245   0.79736   0.79193      1061\n",
      "\n"
     ]
    }
   ],
   "source": [
    "# previous\n",
    "get_results(svc, all_test_features, all_test['label'])"
   ]
  },
  {
   "cell_type": "markdown",
   "metadata": {
    "heading_collapsed": true
   },
   "source": [
    "### 5. Text preprocessing"
   ]
  },
  {
   "cell_type": "code",
   "execution_count": 180,
   "metadata": {
    "ExecuteTime": {
     "end_time": "2020-10-20T14:56:54.080391Z",
     "start_time": "2020-10-20T14:56:53.993251Z"
    },
    "hidden": true
   },
   "outputs": [],
   "source": [
    "def new_result_preprocessing(replace_hash = False, split_alphanumeric = False):\n",
    "    if replace_hash:\n",
    "        all_train['text_processed'] = all_train['text'].apply(lambda x: text_processing(x, replace_hash=True))\n",
    "    elif split_alphanumeric:\n",
    "        all_train['text_processed'] = all_train['text'].apply(lambda x: text_processing(x, split_alphanumeric=True))\n",
    "    else:\n",
    "        all_train['text_processed'] = all_train['text'].apply(lambda x: text_processing(x))        \n",
    "    \n",
    "    all_train['text_processed'].fillna('', inplace =True)\n",
    "    all_train['text_token'] = get_text_token(all_train['text_processed'])\n",
    "    all_train['token_exist'] = all_train['text_token'].apply(lambda x: len(x) > 0)\n",
    "    all_train_select = all_train[all_train['token_exist']]\n",
    "    \n",
    "\n",
    "    train_features = get_embedding(all_train_select['text_token'])\n",
    "    svc = SVC()\n",
    "    svc = CalibratedClassifierCV(svc) \n",
    "    svc.fit(train_features, all_train_select['label'])\n",
    "    news_features = get_embed_features_from_df(news)\n",
    "    pred = svc.predict_proba(news_features)\n",
    "    get_results(svc, news_features, news['label'])\n",
    "    return None"
   ]
  },
  {
   "cell_type": "code",
   "execution_count": 181,
   "metadata": {
    "ExecuteTime": {
     "end_time": "2020-10-20T14:57:11.579147Z",
     "start_time": "2020-10-20T14:56:54.697754Z"
    },
    "hidden": true
   },
   "outputs": [
    {
     "name": "stdout",
     "output_type": "stream",
     "text": [
      "              precision    recall  f1-score   support\n",
      "\n",
      "           0    0.86770   0.95708   0.91020       466\n",
      "           1    0.71429   0.42373   0.53191       118\n",
      "\n",
      "    accuracy                        0.84932       584\n",
      "   macro avg    0.79099   0.69041   0.72106       584\n",
      "weighted avg    0.83671   0.84932   0.83377       584\n",
      "\n"
     ]
    }
   ],
   "source": [
    "new_result_preprocessing(replace_hash = True)"
   ]
  },
  {
   "cell_type": "code",
   "execution_count": 182,
   "metadata": {
    "ExecuteTime": {
     "end_time": "2020-10-20T14:57:34.846162Z",
     "start_time": "2020-10-20T14:57:17.715307Z"
    },
    "hidden": true
   },
   "outputs": [
    {
     "name": "stdout",
     "output_type": "stream",
     "text": [
      "              precision    recall  f1-score   support\n",
      "\n",
      "           0    0.86770   0.95708   0.91020       466\n",
      "           1    0.71429   0.42373   0.53191       118\n",
      "\n",
      "    accuracy                        0.84932       584\n",
      "   macro avg    0.79099   0.69041   0.72106       584\n",
      "weighted avg    0.83671   0.84932   0.83377       584\n",
      "\n"
     ]
    }
   ],
   "source": [
    "new_result_preprocessing(split_alphanumeric = True)"
   ]
  },
  {
   "cell_type": "code",
   "execution_count": 183,
   "metadata": {
    "ExecuteTime": {
     "end_time": "2020-10-20T14:57:56.356444Z",
     "start_time": "2020-10-20T14:57:40.089920Z"
    },
    "hidden": true
   },
   "outputs": [
    {
     "name": "stdout",
     "output_type": "stream",
     "text": [
      "              precision    recall  f1-score   support\n",
      "\n",
      "           0    0.86770   0.95708   0.91020       466\n",
      "           1    0.71429   0.42373   0.53191       118\n",
      "\n",
      "    accuracy                        0.84932       584\n",
      "   macro avg    0.79099   0.69041   0.72106       584\n",
      "weighted avg    0.83671   0.84932   0.83377       584\n",
      "\n"
     ]
    }
   ],
   "source": [
    "pred = new_result_preprocessing()"
   ]
  },
  {
   "cell_type": "markdown",
   "metadata": {
    "hidden": true
   },
   "source": [
    "#### investigation"
   ]
  },
  {
   "cell_type": "code",
   "execution_count": 126,
   "metadata": {
    "ExecuteTime": {
     "end_time": "2020-10-20T10:12:37.707102Z",
     "start_time": "2020-10-20T10:12:34.740458Z"
    },
    "hidden": true
   },
   "outputs": [],
   "source": [
    "all_train['text_hash'] = all_train['text'].apply(lambda x: text_processing(x, replace_hash=True))\n",
    "all_train['text_split'] = all_train['text'].apply(lambda x: text_processing(x, split_alphanumeric=True))\n",
    "all_train['text_url'] = all_train['text'].apply(lambda x: text_processing(x))"
   ]
  },
  {
   "cell_type": "code",
   "execution_count": 135,
   "metadata": {
    "ExecuteTime": {
     "end_time": "2020-10-20T10:16:55.036380Z",
     "start_time": "2020-10-20T10:16:54.975608Z"
    },
    "hidden": true
   },
   "outputs": [],
   "source": [
    "pd.set_option('display.max_colwidth', -1)"
   ]
  },
  {
   "cell_type": "code",
   "execution_count": 138,
   "metadata": {
    "ExecuteTime": {
     "end_time": "2020-10-20T10:20:16.132566Z",
     "start_time": "2020-10-20T10:20:12.301910Z"
    },
    "hidden": true
   },
   "outputs": [],
   "source": [
    "all_train['text_hash_token'] = get_text_token(all_train['text'].apply(lambda x: text_processing(x, replace_hash=True)))\n",
    "all_train['text_split_token'] = get_text_token(all_train['text'].apply(lambda x: text_processing(x, split_alphanumeric=True)))\n",
    "all_train['text_url_token'] = get_text_token(all_train['text'].apply(lambda x: text_processing(x)))"
   ]
  },
  {
   "cell_type": "code",
   "execution_count": 144,
   "metadata": {
    "ExecuteTime": {
     "end_time": "2020-10-20T10:22:50.085609Z",
     "start_time": "2020-10-20T10:22:49.974027Z"
    },
    "hidden": true,
    "scrolled": true
   },
   "outputs": [
    {
     "data": {
      "text/html": [
       "<div>\n",
       "<style scoped>\n",
       "    .dataframe tbody tr th:only-of-type {\n",
       "        vertical-align: middle;\n",
       "    }\n",
       "\n",
       "    .dataframe tbody tr th {\n",
       "        vertical-align: top;\n",
       "    }\n",
       "\n",
       "    .dataframe thead th {\n",
       "        text-align: right;\n",
       "    }\n",
       "</style>\n",
       "<table border=\"1\" class=\"dataframe\">\n",
       "  <thead>\n",
       "    <tr style=\"text-align: right;\">\n",
       "      <th></th>\n",
       "      <th>text</th>\n",
       "      <th>text_hash_token</th>\n",
       "      <th>text_split_token</th>\n",
       "      <th>text_url_token</th>\n",
       "    </tr>\n",
       "  </thead>\n",
       "  <tbody>\n",
       "    <tr>\n",
       "      <th>63</th>\n",
       "      <td>bitfinex is a liar and a fraudster. i have never seen such a liar and a fake company in my life. you can steal our money and still make a statement here without being embarrassed. bitfinex is a liar and a fraudster.. bitfinex is a liar and a fraudster.\\ni have never seen such a liar and a fake company in my life. you can steal our money and still make a statement here without being embarrassed. bitfinex is a liar and a fraudster. \\nblock 498901 . 2017-12-12 .. https://btc.com/ee4c03d499b54db0606e048fefef86b3cac4720befae629819ba5e0db20d3629 \\nadres 18pdbf6u2pbbrjygby5txlxmwpdmmrbvsg\\n</td>\n",
       "      <td>[is, liar, fraudster, have, never, seen, such, liar, fake, company, in, my, life, you, can, steal, our, money, still, make, statement, here, without, being, embarrassed, is, liar, fraudster, is, liar, fraudster, have, never, seen, such, liar, fake, company, in, my, life, you, can, steal, our, money, still, make, statement, here, without, being, embarrassed, is, liar, fraudster, block, hash]</td>\n",
       "      <td>[is, liar, fraudster, have, never, seen, such, liar, fake, company, in, my, life, you, can, steal, our, money, still, make, statement, here, without, being, embarrassed, is, liar, fraudster, is, liar, fraudster, have, never, seen, such, liar, fake, company, in, my, life, you, can, steal, our, money, still, make, statement, here, without, being, embarrassed, is, liar, fraudster, block]</td>\n",
       "      <td>[is, liar, fraudster, have, never, seen, such, liar, fake, company, in, my, life, you, can, steal, our, money, still, make, statement, here, without, being, embarrassed, is, liar, fraudster, is, liar, fraudster, have, never, seen, such, liar, fake, company, in, my, life, you, can, steal, our, money, still, make, statement, here, without, being, embarrassed, is, liar, fraudster, block]</td>\n",
       "    </tr>\n",
       "    <tr>\n",
       "      <th>65</th>\n",
       "      <td>bitfinex is a liar and a fraudster. i have never seen such a liar and a fake company in my life. you can steal our money and still make a statement here without being embarrassed. bitfinex is a liar and a fraudster.social bfx you too... #546151]...#422206..#444167...#406908]...is it enough ????\\nblock 498901 . 2017-12-12 .. https://btc.com/ee4c03d499b54db0606e048fefef86b3cac4720befae629819ba5e0db20d3629 adres 18pdbf6u2pbbrjygby5txlxmwpdmmrbvsg 0.04358961 btc</td>\n",
       "      <td>[is, liar, fraudster, have, never, seen, such, liar, fake, company, in, my, life, you, can, steal, our, money, still, make, statement, here, without, being, embarrassed, is, liar, fraudster, social, you, too, is, it, enough, block, hash]</td>\n",
       "      <td>[is, liar, fraudster, have, never, seen, such, liar, fake, company, in, my, life, you, can, steal, our, money, still, make, statement, here, without, being, embarrassed, is, liar, fraudster, social, you, too, is, it, enough, block]</td>\n",
       "      <td>[is, liar, fraudster, have, never, seen, such, liar, fake, company, in, my, life, you, can, steal, our, money, still, make, statement, here, without, being, embarrassed, is, liar, fraudster, social, you, too, is, it, enough, block]</td>\n",
       "    </tr>\n",
       "    <tr>\n",
       "      <th>237</th>\n",
       "      <td>my coins were stolen !!!!!. someone converted my tesla coins to btc and then did the whitdraw for this wallet: 17yezm46udulejgdnjc3bh8jgtinakdzwu. everything was done without my authorization, without notification, without confirmation email. it sounds like little but it was all i had. i hope cryptopia will solve this situation soon, because from what i'm seeing, i'm not the only one who suffered this blow today.\\n\\n</td>\n",
       "      <td>[my, coins, were, stolen, someone, converted, my, tesla, coins, then, did, the, for, this, wallet, hash, everything, was, done, without, my, authorization, without, notification, without, confirmation, email, it, sounds, like, little, but, it, was, all, had, hope, will, solve, this, situation, soon, because, from, what, seeing, not, the, only, one, who, suffered, this, blow, today]</td>\n",
       "      <td>[my, coins, were, stolen, someone, converted, my, tesla, coins, then, did, the, for, this, wallet, bh, everything, was, done, without, my, authorization, without, notification, without, confirmation, email, it, sounds, like, little, but, it, was, all, had, hope, will, solve, this, situation, soon, because, from, what, seeing, not, the, only, one, who, suffered, this, blow, today]</td>\n",
       "      <td>[my, coins, were, stolen, someone, converted, my, tesla, coins, then, did, the, for, this, wallet, bh, everything, was, done, without, my, authorization, without, notification, without, confirmation, email, it, sounds, like, little, but, it, was, all, had, hope, will, solve, this, situation, soon, because, from, what, seeing, not, the, only, one, who, suffered, this, blow, today]</td>\n",
       "    </tr>\n",
       "    <tr>\n",
       "      <th>543</th>\n",
       "      <td>give away 5000 eth from bittrex scam/fake? i send eth to the bittrex wallet adress. they didnt send back my eth.. guys is there somebody with the same problem with bittrex ?\\n\\na few days ago i send some eth to bittrex wallet 0xd0206f494e1834a0ad76b202bebfc916317884cb , people need to send 0.5-5.0 eth and the people get back 10x what they send. for exemple you send 1 eth to bittrex you receive 10 eth back. if you are too late, you will receive your eth back. i think i was too late so i didnt get anything. i send bittrex a few e-mails and they say they didnt receive it. what the hell? its on the freaking blockchain you can see it there that bittrex received it. they are telling me no we didnt receive it. what the fck? now i lost money and they are scamming me? is this true? i never had problems with bittrex im using it for 1 year now and i never had a problem . can somebody tell me what is going on? \\n\\nthanks</td>\n",
       "      <td>[give, away, eth, from, scam, fake, send, eth, the, wallet, adress, they, send, back, my, eth, guys, is, there, somebody, with, the, same, problem, with, few, days, ago, send, some, eth, wallet, hash, people, need, send, eth, the, people, get, back, what, they, send, for, exemple, you, send, eth, you, receive, eth, back, if, you, are, too, late, you, will, receive, your, eth, back, think, was, too, late, so, get, anything, send, few, mails, they, say, they, receive, it, what, the, hell, its, on, the, freaking, you, can, see, it, there, that, received, it, they, are, telling, me, no, we, ...]</td>\n",
       "      <td>[give, away, eth, from, scam, fake, send, eth, the, wallet, adress, they, send, back, my, eth, guys, is, there, somebody, with, the, same, problem, with, few, days, ago, send, some, eth, wallet, xd, ad, cb, people, need, send, eth, the, people, get, back, what, they, send, for, exemple, you, send, eth, you, receive, eth, back, if, you, are, too, late, you, will, receive, your, eth, back, think, was, too, late, so, get, anything, send, few, mails, they, say, they, receive, it, what, the, hell, its, on, the, freaking, you, can, see, it, there, that, received, it, they, are, telling, me, ...]</td>\n",
       "      <td>[give, away, eth, from, scam, fake, send, eth, the, wallet, adress, they, send, back, my, eth, guys, is, there, somebody, with, the, same, problem, with, few, days, ago, send, some, eth, wallet, xd, ad, cb, people, need, send, eth, the, people, get, back, what, they, send, for, exemple, you, send, eth, you, receive, eth, back, if, you, are, too, late, you, will, receive, your, eth, back, think, was, too, late, so, get, anything, send, few, mails, they, say, they, receive, it, what, the, hell, its, on, the, freaking, you, can, see, it, there, that, received, it, they, are, telling, me, ...]</td>\n",
       "    </tr>\n",
       "    <tr>\n",
       "      <th>764</th>\n",
       "      <td>stolen btc :(. ## stolen btc\\n\\nhello guys,\\n\\none guy stolen my btc 27 :\\( what i can do ?\\n\\ni follow it everyday step one goes there [https://blockchain.info/de/address/1ffmdfy5eu5yegqysf3tk8i8datny7vycb](https://blockchain.info/de/address/1ffmdfy5eu5yegqysf3tk8i8datny7vycb)\\n\\nstep 2 goes here [https://blockchain.info/de/address/39rh7bp4d2psxmf2fslqhhkcmt39pyn5ut](https://blockchain.info/de/address/39rh7bp4d2psxmf2fslqhhkcmt39pyn5ut)\\n\\nand i tough that goes to bitfinex [1kr6qsydw9bfqg1mxipnnu6wpjgmua9i1g](https://blockchain.info/de/address/1kr6qsydw9bfqg1mxipnnu6wpjgmua9i1g) but he say no its not is wallet but when i searched by google i found it on hotstorage bitfinex\\n\\npls pls pls\\n\\ncan anybody help me :\\(\\n\\nbr\\n\\nibi</td>\n",
       "      <td>[stolen, stolen, guys, one, guy, stolen, my, what, can, do, follow, it, everyday, step, one, goes, there, step, goes, here, tough, that, goes, hash, but, he, say, no, its, not, is, wallet, but, when, searched, by, google, found, it, on, pls, anybody, help, me]</td>\n",
       "      <td>[stolen, stolen, guys, one, guy, stolen, my, what, can, do, follow, it, everyday, step, one, goes, there, step, goes, here, tough, that, goes, kr, but, he, say, no, its, not, is, wallet, but, when, searched, by, google, found, it, on, pls, anybody, help, me]</td>\n",
       "      <td>[stolen, stolen, guys, one, guy, stolen, my, what, can, do, follow, it, everyday, step, one, goes, there, step, goes, here, tough, that, goes, kr, but, he, say, no, its, not, is, wallet, but, when, searched, by, google, found, it, on, pls, anybody, help, me]</td>\n",
       "    </tr>\n",
       "    <tr>\n",
       "      <th>808</th>\n",
       "      <td>Use your #BTG to MAKE-A-WISH at the BITCOIN GOLD WISHING WELL, at http://cryptocurrencywishingwell.comÂ , or directly submit your wish here:\\n\\nGaDZ6nsTo69WdfmDAxg61EVvQqQaXYFCYA\\n\\n#CBSUpfront #EuropaLeagueFinal #EWA18 #NetNeutrality #WednesdayWisdompic.twitter.com/DGoN3rCUzP</td>\n",
       "      <td>[use, your, make, wish, at, the, gold, wishing, well, at, or, directly, submit, your, wish, here, hash, ewa, twitter, com]</td>\n",
       "      <td>[use, your, make, wish, at, the, gold, wishing, well, at, or, directly, submit, your, wish, here, ewa, twitter, com]</td>\n",
       "      <td>[use, your, make, wish, at, the, gold, wishing, well, at, or, directly, submit, your, wish, here, ewa, twitter, com]</td>\n",
       "    </tr>\n",
       "    <tr>\n",
       "      <th>2588</th>\n",
       "      <td>fundraiser for cryptopia hack victims. so this is how it works:\\n\\n**victims**\\n\\npost your eth address below and the fundraiser funds will be split between you and the other victims posting here.\\n\\n**those who want to help**\\n\\nsend eth to 0x7a0d08c2a22178b3d5693b314c2fa9773e1bb1d0\\n\\n&amp;amp;#x200b;\\n\\nfunds will be distributed at 12 am utc+0 time on 20 january.</td>\n",
       "      <td>[fundraiser, for, hack, victims, so, this, is, how, it, works, victims, post, your, eth, address, below, the, fundraiser, funds, will, be, split, between, you, the, other, victims, posting, here, those, who, want, help, send, eth, hash, amp, funds, will, be, distributed, at, am, utc, time, on, january]</td>\n",
       "      <td>[fundraiser, for, hack, victims, so, this, is, how, it, works, victims, post, your, eth, address, below, the, fundraiser, funds, will, be, split, between, you, the, other, victims, posting, here, those, who, want, help, send, eth, fa, bb, amp, funds, will, be, distributed, at, am, utc, time, on, january]</td>\n",
       "      <td>[fundraiser, for, hack, victims, so, this, is, how, it, works, victims, post, your, eth, address, below, the, fundraiser, funds, will, be, split, between, you, the, other, victims, posting, here, those, who, want, help, send, eth, fa, bb, amp, funds, will, be, distributed, at, am, utc, time, on, january]</td>\n",
       "    </tr>\n",
       "    <tr>\n",
       "      <th>2703</th>\n",
       "      <td>Looking for Bitcoin donations after 2018 meltdown and cryptopia stupidity.\\n\\n1AZTUSL2DJZ3Skh5xXyftdV6pmCHrV1awi\\n\\nNot a scam just a genuine interest in Bitcoin and blockchain but skint at the moment.\\nMuch love. Trade safe guys $BTC #btc #eth #crypto</td>\n",
       "      <td>[looking, for, donations, after, meltdown, stupidity, hash, scam, just, genuine, interest, in, but, skint, at, the, moment, much, love, trade, safe, guys, eth, crypto]</td>\n",
       "      <td>[looking, for, donations, after, meltdown, stupidity, scam, just, genuine, interest, in, but, skint, at, the, moment, much, love, trade, safe, guys, eth, crypto]</td>\n",
       "      <td>[looking, for, donations, after, meltdown, stupidity, scam, just, genuine, interest, in, but, skint, at, the, moment, much, love, trade, safe, guys, eth, crypto]</td>\n",
       "    </tr>\n",
       "    <tr>\n",
       "      <th>2742</th>\n",
       "      <td>hi binance, is this the cryptopia hacker?. hi binance,  \\ni write you because of the recent cryptopia hack.  \\ni write publicly, so when i did a mistake, the community will blame me.  \\n\\n\\nhere's what i found.\\n\\nes has marked this address [0xc8b759860149542a98a3eb57c14aadf59d6d89b9](https://etherscan.io/address/0xc8b759860149542a98a3eb57c14aadf59d6d89b9) as \"**cryptopia\\_hack**\" (hack1 address) and  \\nthis address [0x9007a0421145b06a0345d55a8c0f0327f62a2224](https://etherscan.io/address/0x9007a0421145b06a0345d55a8c0f0327f62a2224) as \"**cryptopia\\_hack3**\" (hack3 address).\\n\\nwhen we go down to the second transaction of the hack3 address, [the hack3 address got \\~20 eth](https://etherscan.io/tx/0x61e80885c1855f58e086109fca06bbcc259b551802830ccd26f44c7b1a8c7de1) from [0x57bc5eb69c380df5b0b808c64833e53f50cbd2ae](https://etherscan.io/address/0x57bc5eb69c380df5b0b808c64833e53f50cbd2ae) 8 days 20 hrs ago (while the hack?).\\n\\nbut the [0x57bc5eb69c380df5b0b808c64833e53f50cbd2ae](https://etherscan.io/address/0x57bc5eb69c380df5b0b808c64833e53f50cbd2ae) address has also [sent 0.01 eth](https://etherscan.io/tx/0xcd08ce9c01b1c79938f6d86eba6dcaf454f8b5db993ea4bd31b668bd5ea05507) to the hack1 address just a few hours later,  7 days 15 hrs ago.\\n\\nthe only transaction the [0x57bc5eb69c380df5b0b808c64833e53f50cbd2ae](https://etherscan.io/address/0x57bc5eb69c380df5b0b808c64833e53f50cbd2ae) got was [21 ether](https://etherscan.io/tx/0xe102e9de6c8769361349aacee8ef8d6b8ce4b6a495fb56795b200f06adf2b9a7) which were sent before the hack from the address  [0x4daf690a5f8a466cb49b424a776ad505d2cd7b7d](https://etherscan.io/address/0x4daf690a5f8a466cb49b424a776ad505d2cd7b7d). so i guess this 0x4 address also could be the hacker. the 0x4 address was used long before the hack.\\n\\nso binance,  \\ndo you have information about *0x4daf690a5f8a466cb49b424a776ad505d2cd7b7d*, which is basically the gap to the two hacker addresses? if i'm true, it would be too funny, yet too easy. sooo i think i'm wrong lol.  \\ni write, because the address has used binance before the hack so he/she/them might have done kyc.\\n\\nmultiple transaction were made from binance to this address. maybe you can help here.</td>\n",
       "      <td>[hi, is, this, the, hacker, hi, write, you, because, the, recent, hack, write, publicly, so, when, did, mistake, the, community, will, blame, me, here, what, found, es, has, marked, this, address, hash, as, hack, hack, address, this, address, hash, as, hack, hack, address, when, we, go, down, the, second, transaction, the, hack, address, the, hack, address, got, eth, from, hash, days, hrs, ago, while, the, hack, but, the, hash, address, has, also, sent, eth, the, hack, address, just, few, hours, later, days, hrs, ago, the, only, transaction, the, hash, got, was, ether, which, were, sent, before, the, hack, from, the, ...]</td>\n",
       "      <td>[hi, is, this, the, hacker, hi, write, you, because, the, recent, hack, write, publicly, so, when, did, mistake, the, community, will, blame, me, here, what, found, es, has, marked, this, address, xc, eb, as, hack, hack, address, this, address, as, hack, hack, address, when, we, go, down, the, second, transaction, the, hack, address, the, hack, address, got, eth, from, bc, eb, df, cbd, ae, days, hrs, ago, while, the, hack, but, the, bc, eb, df, cbd, ae, address, has, also, sent, eth, the, hack, address, just, few, hours, later, days, hrs, ago, the, only, transaction, the, bc, eb, df, cbd, ...]</td>\n",
       "      <td>[hi, is, this, the, hacker, hi, write, you, because, the, recent, hack, write, publicly, so, when, did, mistake, the, community, will, blame, me, here, what, found, es, has, marked, this, address, xc, eb, as, hack, hack, address, this, address, as, hack, hack, address, when, we, go, down, the, second, transaction, the, hack, address, the, hack, address, got, eth, from, bc, eb, df, cbd, ae, days, hrs, ago, while, the, hack, but, the, bc, eb, df, cbd, ae, address, has, also, sent, eth, the, hack, address, just, few, hours, later, days, hrs, ago, the, only, transaction, the, bc, eb, df, cbd, ...]</td>\n",
       "    </tr>\n",
       "    <tr>\n",
       "      <th>2743</th>\n",
       "      <td>is this the cryptopia hacker? --- to: binance, hitbtc, bitfinex, other exchanges. hi guys,  \\nhi crypto community,  \\nhi binance, hitbtc, bitfinex and other exchanges.\\n\\ni write you because of the recent cryptopia hack.  \\ni write publicly, so when i did a mistake, the community will blame me.\\n\\nhere's what i found.\\n\\nes has marked this address [0xc8b759860149542a98a3eb57c14aadf59d6d89b9](https://etherscan.io/address/0xc8b759860149542a98a3eb57c14aadf59d6d89b9) as \"**cryptopia\\_hack**\" (hack1 address) and  \\nthis address [0x9007a0421145b06a0345d55a8c0f0327f62a2224](https://etherscan.io/address/0x9007a0421145b06a0345d55a8c0f0327f62a2224) as \"**cryptopia\\_hack3**\" (hack3 address).\\n\\nwhen we go down to the second transaction of the hack3 address, [the hack3 address got \\~20 eth](https://etherscan.io/tx/0x61e80885c1855f58e086109fca06bbcc259b551802830ccd26f44c7b1a8c7de1) from [0x57bc5eb69c380df5b0b808c64833e53f50cbd2ae](https://etherscan.io/address/0x57bc5eb69c380df5b0b808c64833e53f50cbd2ae) 8 days 20 hrs ago (short before the hack / while the hack).\\n\\nbut the [0x57bc5eb69c380df5b0b808c64833e53f50cbd2ae](https://etherscan.io/address/0x57bc5eb69c380df5b0b808c64833e53f50cbd2ae) address has also [sent 0.01 eth](https://etherscan.io/tx/0xcd08ce9c01b1c79938f6d86eba6dcaf454f8b5db993ea4bd31b668bd5ea05507) to the hack1 address just a few hours later, 7 days 15 hrs ago.\\n\\nthe only transaction the [0x57bc5eb69c380df5b0b808c64833e53f50cbd2ae](https://etherscan.io/address/0x57bc5eb69c380df5b0b808c64833e53f50cbd2ae) got was [21 ether](https://etherscan.io/tx/0xe102e9de6c8769361349aacee8ef8d6b8ce4b6a495fb56795b200f06adf2b9a7) which were sent 14 days before the hack from the address [0x4daf690a5f8a466cb49b424a776ad505d2cd7b7d](https://etherscan.io/address/0x4daf690a5f8a466cb49b424a776ad505d2cd7b7d) and stayed there for 7 days until the transactions above were made. so i guess this 0x4 address also could be the hacker. the 0x4 address was used long before the hack.\\n\\ni first thought that the hacker might have hacked 0x4 too, but there's just too much amount of tokens and ethereum left. also simply there's too much time between the hack and the transaction to 0x5. and finally, the 0x4 address seems like a \"normal user address\". so i am sure that 0x4 could be the hackers address.  \\nbut i still feel like i am wrong here. because that's just way too easy if it'd be true that it's him/them...\\n\\nso exchanges,  \\ndo you have information like kyc details about *0x4daf690a5f8a466cb49b424a776ad505d2cd7b7d*, which is basically the gap to the two hacker addresses?\\n\\nif yes, write the new zealand police please.  \\n[https://www.police.govt.nz/news/release/police-making-progress-crypto-currency-investigation](https://www.police.govt.nz/news/release/police-making-progress-crypto-currency-investigation)\\n\\nbest regards,  \\nbeeeeedooooo</td>\n",
       "      <td>[is, this, the, hacker, other, exchanges, hi, guys, hi, crypto, community, hi, other, exchanges, write, you, because, the, recent, hack, write, publicly, so, when, did, mistake, the, community, will, blame, me, here, what, found, es, has, marked, this, address, hash, as, hack, hack, address, this, address, hash, as, hack, hack, address, when, we, go, down, the, second, transaction, the, hack, address, the, hack, address, got, eth, from, hash, days, hrs, ago, short, before, the, hack, while, the, hack, but, the, hash, address, has, also, sent, eth, the, hack, address, just, few, hours, later, days, hrs, ago, the, only, transaction, the, ...]</td>\n",
       "      <td>[is, this, the, hacker, other, exchanges, hi, guys, hi, crypto, community, hi, other, exchanges, write, you, because, the, recent, hack, write, publicly, so, when, did, mistake, the, community, will, blame, me, here, what, found, es, has, marked, this, address, xc, eb, as, hack, hack, address, this, address, as, hack, hack, address, when, we, go, down, the, second, transaction, the, hack, address, the, hack, address, got, eth, from, bc, eb, df, cbd, ae, days, hrs, ago, short, before, the, hack, while, the, hack, but, the, bc, eb, df, cbd, ae, address, has, also, sent, eth, the, hack, address, just, few, hours, ...]</td>\n",
       "      <td>[is, this, the, hacker, other, exchanges, hi, guys, hi, crypto, community, hi, other, exchanges, write, you, because, the, recent, hack, write, publicly, so, when, did, mistake, the, community, will, blame, me, here, what, found, es, has, marked, this, address, xc, eb, as, hack, hack, address, this, address, as, hack, hack, address, when, we, go, down, the, second, transaction, the, hack, address, the, hack, address, got, eth, from, bc, eb, df, cbd, ae, days, hrs, ago, short, before, the, hack, while, the, hack, but, the, bc, eb, df, cbd, ae, address, has, also, sent, eth, the, hack, address, just, few, hours, ...]</td>\n",
       "    </tr>\n",
       "    <tr>\n",
       "      <th>2744</th>\n",
       "      <td>is this the cryptopia hacker? --- to: binance, hitbtc, bitfinex, other exchanges. hi guys,  \\nhi crypto community,  \\nhi binance, hitbtc, bitfinex and other exchanges.\\n\\ni write you because of the recent cryptopia hack.  \\ni write publicly, so when i did a mistake, the community will blame me.\\n\\nhere's what i found.\\n\\nes has marked this address [0xc8b759860149542a98a3eb57c14aadf59d6d89b9](https://etherscan.io/address/0xc8b759860149542a98a3eb57c14aadf59d6d89b9) as \"**cryptopia\\_hack**\" (hack1 address) and  \\nthis address [0x9007a0421145b06a0345d55a8c0f0327f62a2224](https://etherscan.io/address/0x9007a0421145b06a0345d55a8c0f0327f62a2224) as \"**cryptopia\\_hack3**\" (hack3 address).\\n\\nwhen we go down to the second transaction of the hack3 address, [the hack3 address got \\~20 eth](https://etherscan.io/tx/0x61e80885c1855f58e086109fca06bbcc259b551802830ccd26f44c7b1a8c7de1) from [0x57bc5eb69c380df5b0b808c64833e53f50cbd2ae](https://etherscan.io/address/0x57bc5eb69c380df5b0b808c64833e53f50cbd2ae) 8 days 20 hrs ago (short before the hack / while the hack).\\n\\nbut the [0x57bc5eb69c380df5b0b808c64833e53f50cbd2ae](https://etherscan.io/address/0x57bc5eb69c380df5b0b808c64833e53f50cbd2ae) address has also [sent 0.01 eth](https://etherscan.io/tx/0xcd08ce9c01b1c79938f6d86eba6dcaf454f8b5db993ea4bd31b668bd5ea05507) to the hack1 address just a few hours later, 7 days 15 hrs ago.\\n\\nthe only transaction the [0x57bc5eb69c380df5b0b808c64833e53f50cbd2ae](https://etherscan.io/address/0x57bc5eb69c380df5b0b808c64833e53f50cbd2ae) got was [21 ether](https://etherscan.io/tx/0xe102e9de6c8769361349aacee8ef8d6b8ce4b6a495fb56795b200f06adf2b9a7) which were sent 14 days before the hack from the address [0x4daf690a5f8a466cb49b424a776ad505d2cd7b7d](https://etherscan.io/address/0x4daf690a5f8a466cb49b424a776ad505d2cd7b7d) and stayed there for 7 days until the transactions above were made. so i guess this 0x4 address also could be the hacker. the 0x4 address was used long before the hack.\\n\\ni first thought that the hacker might have hacked 0x4 too, but there's just too much amount of tokens and ethereum left. also simply there's too much time between the hack and the transaction to 0x5. and finally, the 0x4 address seems like a \"normal user address\". so i am sure that 0x4 could be the hackers address.  \\nbut i still feel like i am wrong here. because that's just way too easy if it'd be true that it's him/them...\\n\\nso exchanges,  \\ndo you have information like kyc details about *0x4daf690a5f8a466cb49b424a776ad505d2cd7b7d*, which is basically the gap to the two hacker addresses?\\n\\nif yes, write the new zealand police please.  \\n[https://www.police.govt.nz/news/release/police-making-progress-crypto-currency-investigation](https://www.police.govt.nz/news/release/police-making-progress-crypto-currency-investigation)\\n\\nbest regards,  \\nbeeeeedooooo</td>\n",
       "      <td>[is, this, the, hacker, other, exchanges, hi, guys, hi, crypto, community, hi, other, exchanges, write, you, because, the, recent, hack, write, publicly, so, when, did, mistake, the, community, will, blame, me, here, what, found, es, has, marked, this, address, hash, as, hack, hack, address, this, address, hash, as, hack, hack, address, when, we, go, down, the, second, transaction, the, hack, address, the, hack, address, got, eth, from, hash, days, hrs, ago, short, before, the, hack, while, the, hack, but, the, hash, address, has, also, sent, eth, the, hack, address, just, few, hours, later, days, hrs, ago, the, only, transaction, the, ...]</td>\n",
       "      <td>[is, this, the, hacker, other, exchanges, hi, guys, hi, crypto, community, hi, other, exchanges, write, you, because, the, recent, hack, write, publicly, so, when, did, mistake, the, community, will, blame, me, here, what, found, es, has, marked, this, address, xc, eb, as, hack, hack, address, this, address, as, hack, hack, address, when, we, go, down, the, second, transaction, the, hack, address, the, hack, address, got, eth, from, bc, eb, df, cbd, ae, days, hrs, ago, short, before, the, hack, while, the, hack, but, the, bc, eb, df, cbd, ae, address, has, also, sent, eth, the, hack, address, just, few, hours, ...]</td>\n",
       "      <td>[is, this, the, hacker, other, exchanges, hi, guys, hi, crypto, community, hi, other, exchanges, write, you, because, the, recent, hack, write, publicly, so, when, did, mistake, the, community, will, blame, me, here, what, found, es, has, marked, this, address, xc, eb, as, hack, hack, address, this, address, as, hack, hack, address, when, we, go, down, the, second, transaction, the, hack, address, the, hack, address, got, eth, from, bc, eb, df, cbd, ae, days, hrs, ago, short, before, the, hack, while, the, hack, but, the, bc, eb, df, cbd, ae, address, has, also, sent, eth, the, hack, address, just, few, hours, ...]</td>\n",
       "    </tr>\n",
       "  </tbody>\n",
       "</table>\n",
       "</div>"
      ],
      "text/plain": [
       "                                                                                                                                                                                                                                                                                                                                                                                                                                                                                                                                                                                                                                                                                                                                                                                                                                                                                                                                                                                                                                                                                                                                                                                                                                                                                                                                                                                                                                                                                                                                                                                                                                                                                                                                                                                                                                                                                                                                                                                                                                                                                                                                                                                                                                                                                                                                                                                                                                                                                                                                                                                                                                                                                                                                                                                                                                                                                                                                                                            text  \\\n",
       "63    bitfinex is a liar and a fraudster. i have never seen such a liar and a fake company in my life. you can steal our money and still make a statement here without being embarrassed. bitfinex is a liar and a fraudster.. bitfinex is a liar and a fraudster.\\ni have never seen such a liar and a fake company in my life. you can steal our money and still make a statement here without being embarrassed. bitfinex is a liar and a fraudster. \\nblock 498901 . 2017-12-12 .. https://btc.com/ee4c03d499b54db0606e048fefef86b3cac4720befae629819ba5e0db20d3629 \\nadres 18pdbf6u2pbbrjygby5txlxmwpdmmrbvsg\\n                                                                                                                                                                                                                                                                                                                                                                                                                                                                                                                                                                                                                                                                                                                                                                                                                                                                                                                                                                                                                                                                                                                                                                                                                                                                                                                                                                                                                                                                                                                                                                                                                                                                                                                                                                                                                                                                                                                                                                                                                                                                                                                                                                                                                                                                                                                                                               \n",
       "65    bitfinex is a liar and a fraudster. i have never seen such a liar and a fake company in my life. you can steal our money and still make a statement here without being embarrassed. bitfinex is a liar and a fraudster.social bfx you too... #546151]...#422206..#444167...#406908]...is it enough ????\\nblock 498901 . 2017-12-12 .. https://btc.com/ee4c03d499b54db0606e048fefef86b3cac4720befae629819ba5e0db20d3629 adres 18pdbf6u2pbbrjygby5txlxmwpdmmrbvsg 0.04358961 btc                                                                                                                                                                                                                                                                                                                                                                                                                                                                                                                                                                                                                                                                                                                                                                                                                                                                                                                                                                                                                                                                                                                                                                                                                                                                                                                                                                                                                                                                                                                                                                                                                                                                                                                                                                                                                                                                                                                                                                                                                                                                                                                                                                                                                                                                                                                                                                                                                                                                                               \n",
       "237   my coins were stolen !!!!!. someone converted my tesla coins to btc and then did the whitdraw for this wallet: 17yezm46udulejgdnjc3bh8jgtinakdzwu. everything was done without my authorization, without notification, without confirmation email. it sounds like little but it was all i had. i hope cryptopia will solve this situation soon, because from what i'm seeing, i'm not the only one who suffered this blow today.\\n\\n                                                                                                                                                                                                                                                                                                                                                                                                                                                                                                                                                                                                                                                                                                                                                                                                                                                                                                                                                                                                                                                                                                                                                                                                                                                                                                                                                                                                                                                                                                                                                                                                                                                                                                                                                                                                                                                                                                                                                                                                                                                                                                                                                                                                                                                                                                                                                                                                                                                                                                                                         \n",
       "543   give away 5000 eth from bittrex scam/fake? i send eth to the bittrex wallet adress. they didnt send back my eth.. guys is there somebody with the same problem with bittrex ?\\n\\na few days ago i send some eth to bittrex wallet 0xd0206f494e1834a0ad76b202bebfc916317884cb , people need to send 0.5-5.0 eth and the people get back 10x what they send. for exemple you send 1 eth to bittrex you receive 10 eth back. if you are too late, you will receive your eth back. i think i was too late so i didnt get anything. i send bittrex a few e-mails and they say they didnt receive it. what the hell? its on the freaking blockchain you can see it there that bittrex received it. they are telling me no we didnt receive it. what the fck? now i lost money and they are scamming me? is this true? i never had problems with bittrex im using it for 1 year now and i never had a problem . can somebody tell me what is going on? \\n\\nthanks                                                                                                                                                                                                                                                                                                                                                                                                                                                                                                                                                                                                                                                                                                                                                                                                                                                                                                                                                                                                                                                                                                                                                                                                                                                                                                                                                                                                                                                                                                                                                                                                                                                                                                                                                                                                                                                                                                                                                                                                                   \n",
       "764   stolen btc :(. ## stolen btc\\n\\nhello guys,\\n\\none guy stolen my btc 27 :\\( what i can do ?\\n\\ni follow it everyday step one goes there [https://blockchain.info/de/address/1ffmdfy5eu5yegqysf3tk8i8datny7vycb](https://blockchain.info/de/address/1ffmdfy5eu5yegqysf3tk8i8datny7vycb)\\n\\nstep 2 goes here [https://blockchain.info/de/address/39rh7bp4d2psxmf2fslqhhkcmt39pyn5ut](https://blockchain.info/de/address/39rh7bp4d2psxmf2fslqhhkcmt39pyn5ut)\\n\\nand i tough that goes to bitfinex [1kr6qsydw9bfqg1mxipnnu6wpjgmua9i1g](https://blockchain.info/de/address/1kr6qsydw9bfqg1mxipnnu6wpjgmua9i1g) but he say no its not is wallet but when i searched by google i found it on hotstorage bitfinex\\n\\npls pls pls\\n\\ncan anybody help me :\\(\\n\\nbr\\n\\nibi                                                                                                                                                                                                                                                                                                                                                                                                                                                                                                                                                                                                                                                                                                                                                                                                                                                                                                                                                                                                                                                                                                                                                                                                                                                                                                                                                                                                                                                                                                                                                                                                                                                                                                                                                                                                                                                                                                                                                                                                                                                                                                                                                                                                            \n",
       "808   Use your #BTG to MAKE-A-WISH at the BITCOIN GOLD WISHING WELL, at http://cryptocurrencywishingwell.comÂ , or directly submit your wish here:\\n\\nGaDZ6nsTo69WdfmDAxg61EVvQqQaXYFCYA\\n\\n#CBSUpfront #EuropaLeagueFinal #EWA18 #NetNeutrality #WednesdayWisdompic.twitter.com/DGoN3rCUzP                                                                                                                                                                                                                                                                                                                                                                                                                                                                                                                                                                                                                                                                                                                                                                                                                                                                                                                                                                                                                                                                                                                                                                                                                                                                                                                                                                                                                                                                                                                                                                                                                                                                                                                                                                                                                                                                                                                                                                                                                                                                                                                                                                                                                                                                                                                                                                                                                                                                                                                                                                                                                                                                                        \n",
       "2588  fundraiser for cryptopia hack victims. so this is how it works:\\n\\n**victims**\\n\\npost your eth address below and the fundraiser funds will be split between you and the other victims posting here.\\n\\n**those who want to help**\\n\\nsend eth to 0x7a0d08c2a22178b3d5693b314c2fa9773e1bb1d0\\n\\n&amp;#x200b;\\n\\nfunds will be distributed at 12 am utc+0 time on 20 january.                                                                                                                                                                                                                                                                                                                                                                                                                                                                                                                                                                                                                                                                                                                                                                                                                                                                                                                                                                                                                                                                                                                                                                                                                                                                                                                                                                                                                                                                                                                                                                                                                                                                                                                                                                                                                                                                                                                                                                                                                                                                                                                                                                                                                                                                                                                                                                                                                                                                                                                                                                                                 \n",
       "2703  Looking for Bitcoin donations after 2018 meltdown and cryptopia stupidity.\\n\\n1AZTUSL2DJZ3Skh5xXyftdV6pmCHrV1awi\\n\\nNot a scam just a genuine interest in Bitcoin and blockchain but skint at the moment.\\nMuch love. Trade safe guys $BTC #btc #eth #crypto                                                                                                                                                                                                                                                                                                                                                                                                                                                                                                                                                                                                                                                                                                                                                                                                                                                                                                                                                                                                                                                                                                                                                                                                                                                                                                                                                                                                                                                                                                                                                                                                                                                                                                                                                                                                                                                                                                                                                                                                                                                                                                                                                                                                                                                                                                                                                                                                                                                                                                                                                                                                                                                                                                                 \n",
       "2742  hi binance, is this the cryptopia hacker?. hi binance,  \\ni write you because of the recent cryptopia hack.  \\ni write publicly, so when i did a mistake, the community will blame me.  \\n\\n\\nhere's what i found.\\n\\nes has marked this address [0xc8b759860149542a98a3eb57c14aadf59d6d89b9](https://etherscan.io/address/0xc8b759860149542a98a3eb57c14aadf59d6d89b9) as \"**cryptopia\\_hack**\" (hack1 address) and  \\nthis address [0x9007a0421145b06a0345d55a8c0f0327f62a2224](https://etherscan.io/address/0x9007a0421145b06a0345d55a8c0f0327f62a2224) as \"**cryptopia\\_hack3**\" (hack3 address).\\n\\nwhen we go down to the second transaction of the hack3 address, [the hack3 address got \\~20 eth](https://etherscan.io/tx/0x61e80885c1855f58e086109fca06bbcc259b551802830ccd26f44c7b1a8c7de1) from [0x57bc5eb69c380df5b0b808c64833e53f50cbd2ae](https://etherscan.io/address/0x57bc5eb69c380df5b0b808c64833e53f50cbd2ae) 8 days 20 hrs ago (while the hack?).\\n\\nbut the [0x57bc5eb69c380df5b0b808c64833e53f50cbd2ae](https://etherscan.io/address/0x57bc5eb69c380df5b0b808c64833e53f50cbd2ae) address has also [sent 0.01 eth](https://etherscan.io/tx/0xcd08ce9c01b1c79938f6d86eba6dcaf454f8b5db993ea4bd31b668bd5ea05507) to the hack1 address just a few hours later,  7 days 15 hrs ago.\\n\\nthe only transaction the [0x57bc5eb69c380df5b0b808c64833e53f50cbd2ae](https://etherscan.io/address/0x57bc5eb69c380df5b0b808c64833e53f50cbd2ae) got was [21 ether](https://etherscan.io/tx/0xe102e9de6c8769361349aacee8ef8d6b8ce4b6a495fb56795b200f06adf2b9a7) which were sent before the hack from the address  [0x4daf690a5f8a466cb49b424a776ad505d2cd7b7d](https://etherscan.io/address/0x4daf690a5f8a466cb49b424a776ad505d2cd7b7d). so i guess this 0x4 address also could be the hacker. the 0x4 address was used long before the hack.\\n\\nso binance,  \\ndo you have information about *0x4daf690a5f8a466cb49b424a776ad505d2cd7b7d*, which is basically the gap to the two hacker addresses? if i'm true, it would be too funny, yet too easy. sooo i think i'm wrong lol.  \\ni write, because the address has used binance before the hack so he/she/them might have done kyc.\\n\\nmultiple transaction were made from binance to this address. maybe you can help here.                                                                                                                                                                                                                                                                                                                                                                                                                                                                                                                                                                                                                                                                                         \n",
       "2743  is this the cryptopia hacker? --- to: binance, hitbtc, bitfinex, other exchanges. hi guys,  \\nhi crypto community,  \\nhi binance, hitbtc, bitfinex and other exchanges.\\n\\ni write you because of the recent cryptopia hack.  \\ni write publicly, so when i did a mistake, the community will blame me.\\n\\nhere's what i found.\\n\\nes has marked this address [0xc8b759860149542a98a3eb57c14aadf59d6d89b9](https://etherscan.io/address/0xc8b759860149542a98a3eb57c14aadf59d6d89b9) as \"**cryptopia\\_hack**\" (hack1 address) and  \\nthis address [0x9007a0421145b06a0345d55a8c0f0327f62a2224](https://etherscan.io/address/0x9007a0421145b06a0345d55a8c0f0327f62a2224) as \"**cryptopia\\_hack3**\" (hack3 address).\\n\\nwhen we go down to the second transaction of the hack3 address, [the hack3 address got \\~20 eth](https://etherscan.io/tx/0x61e80885c1855f58e086109fca06bbcc259b551802830ccd26f44c7b1a8c7de1) from [0x57bc5eb69c380df5b0b808c64833e53f50cbd2ae](https://etherscan.io/address/0x57bc5eb69c380df5b0b808c64833e53f50cbd2ae) 8 days 20 hrs ago (short before the hack / while the hack).\\n\\nbut the [0x57bc5eb69c380df5b0b808c64833e53f50cbd2ae](https://etherscan.io/address/0x57bc5eb69c380df5b0b808c64833e53f50cbd2ae) address has also [sent 0.01 eth](https://etherscan.io/tx/0xcd08ce9c01b1c79938f6d86eba6dcaf454f8b5db993ea4bd31b668bd5ea05507) to the hack1 address just a few hours later, 7 days 15 hrs ago.\\n\\nthe only transaction the [0x57bc5eb69c380df5b0b808c64833e53f50cbd2ae](https://etherscan.io/address/0x57bc5eb69c380df5b0b808c64833e53f50cbd2ae) got was [21 ether](https://etherscan.io/tx/0xe102e9de6c8769361349aacee8ef8d6b8ce4b6a495fb56795b200f06adf2b9a7) which were sent 14 days before the hack from the address [0x4daf690a5f8a466cb49b424a776ad505d2cd7b7d](https://etherscan.io/address/0x4daf690a5f8a466cb49b424a776ad505d2cd7b7d) and stayed there for 7 days until the transactions above were made. so i guess this 0x4 address also could be the hacker. the 0x4 address was used long before the hack.\\n\\ni first thought that the hacker might have hacked 0x4 too, but there's just too much amount of tokens and ethereum left. also simply there's too much time between the hack and the transaction to 0x5. and finally, the 0x4 address seems like a \"normal user address\". so i am sure that 0x4 could be the hackers address.  \\nbut i still feel like i am wrong here. because that's just way too easy if it'd be true that it's him/them...\\n\\nso exchanges,  \\ndo you have information like kyc details about *0x4daf690a5f8a466cb49b424a776ad505d2cd7b7d*, which is basically the gap to the two hacker addresses?\\n\\nif yes, write the new zealand police please.  \\n[https://www.police.govt.nz/news/release/police-making-progress-crypto-currency-investigation](https://www.police.govt.nz/news/release/police-making-progress-crypto-currency-investigation)\\n\\nbest regards,  \\nbeeeeedooooo   \n",
       "2744  is this the cryptopia hacker? --- to: binance, hitbtc, bitfinex, other exchanges. hi guys,  \\nhi crypto community,  \\nhi binance, hitbtc, bitfinex and other exchanges.\\n\\ni write you because of the recent cryptopia hack.  \\ni write publicly, so when i did a mistake, the community will blame me.\\n\\nhere's what i found.\\n\\nes has marked this address [0xc8b759860149542a98a3eb57c14aadf59d6d89b9](https://etherscan.io/address/0xc8b759860149542a98a3eb57c14aadf59d6d89b9) as \"**cryptopia\\_hack**\" (hack1 address) and  \\nthis address [0x9007a0421145b06a0345d55a8c0f0327f62a2224](https://etherscan.io/address/0x9007a0421145b06a0345d55a8c0f0327f62a2224) as \"**cryptopia\\_hack3**\" (hack3 address).\\n\\nwhen we go down to the second transaction of the hack3 address, [the hack3 address got \\~20 eth](https://etherscan.io/tx/0x61e80885c1855f58e086109fca06bbcc259b551802830ccd26f44c7b1a8c7de1) from [0x57bc5eb69c380df5b0b808c64833e53f50cbd2ae](https://etherscan.io/address/0x57bc5eb69c380df5b0b808c64833e53f50cbd2ae) 8 days 20 hrs ago (short before the hack / while the hack).\\n\\nbut the [0x57bc5eb69c380df5b0b808c64833e53f50cbd2ae](https://etherscan.io/address/0x57bc5eb69c380df5b0b808c64833e53f50cbd2ae) address has also [sent 0.01 eth](https://etherscan.io/tx/0xcd08ce9c01b1c79938f6d86eba6dcaf454f8b5db993ea4bd31b668bd5ea05507) to the hack1 address just a few hours later, 7 days 15 hrs ago.\\n\\nthe only transaction the [0x57bc5eb69c380df5b0b808c64833e53f50cbd2ae](https://etherscan.io/address/0x57bc5eb69c380df5b0b808c64833e53f50cbd2ae) got was [21 ether](https://etherscan.io/tx/0xe102e9de6c8769361349aacee8ef8d6b8ce4b6a495fb56795b200f06adf2b9a7) which were sent 14 days before the hack from the address [0x4daf690a5f8a466cb49b424a776ad505d2cd7b7d](https://etherscan.io/address/0x4daf690a5f8a466cb49b424a776ad505d2cd7b7d) and stayed there for 7 days until the transactions above were made. so i guess this 0x4 address also could be the hacker. the 0x4 address was used long before the hack.\\n\\ni first thought that the hacker might have hacked 0x4 too, but there's just too much amount of tokens and ethereum left. also simply there's too much time between the hack and the transaction to 0x5. and finally, the 0x4 address seems like a \"normal user address\". so i am sure that 0x4 could be the hackers address.  \\nbut i still feel like i am wrong here. because that's just way too easy if it'd be true that it's him/them...\\n\\nso exchanges,  \\ndo you have information like kyc details about *0x4daf690a5f8a466cb49b424a776ad505d2cd7b7d*, which is basically the gap to the two hacker addresses?\\n\\nif yes, write the new zealand police please.  \\n[https://www.police.govt.nz/news/release/police-making-progress-crypto-currency-investigation](https://www.police.govt.nz/news/release/police-making-progress-crypto-currency-investigation)\\n\\nbest regards,  \\nbeeeeedooooo   \n",
       "\n",
       "                                                                                                                                                                                                                                                                                                                                                                                                                                                                                                                                                                                                                                                               text_hash_token  \\\n",
       "63    [is, liar, fraudster, have, never, seen, such, liar, fake, company, in, my, life, you, can, steal, our, money, still, make, statement, here, without, being, embarrassed, is, liar, fraudster, is, liar, fraudster, have, never, seen, such, liar, fake, company, in, my, life, you, can, steal, our, money, still, make, statement, here, without, being, embarrassed, is, liar, fraudster, block, hash]                                                                                                                                                                                                                                                                  \n",
       "65    [is, liar, fraudster, have, never, seen, such, liar, fake, company, in, my, life, you, can, steal, our, money, still, make, statement, here, without, being, embarrassed, is, liar, fraudster, social, you, too, is, it, enough, block, hash]                                                                                                                                                                                                                                                                                                                                                                                                                              \n",
       "237   [my, coins, were, stolen, someone, converted, my, tesla, coins, then, did, the, for, this, wallet, hash, everything, was, done, without, my, authorization, without, notification, without, confirmation, email, it, sounds, like, little, but, it, was, all, had, hope, will, solve, this, situation, soon, because, from, what, seeing, not, the, only, one, who, suffered, this, blow, today]                                                                                                                                                                                                                                                                           \n",
       "543   [give, away, eth, from, scam, fake, send, eth, the, wallet, adress, they, send, back, my, eth, guys, is, there, somebody, with, the, same, problem, with, few, days, ago, send, some, eth, wallet, hash, people, need, send, eth, the, people, get, back, what, they, send, for, exemple, you, send, eth, you, receive, eth, back, if, you, are, too, late, you, will, receive, your, eth, back, think, was, too, late, so, get, anything, send, few, mails, they, say, they, receive, it, what, the, hell, its, on, the, freaking, you, can, see, it, there, that, received, it, they, are, telling, me, no, we, ...]                                                     \n",
       "764   [stolen, stolen, guys, one, guy, stolen, my, what, can, do, follow, it, everyday, step, one, goes, there, step, goes, here, tough, that, goes, hash, but, he, say, no, its, not, is, wallet, but, when, searched, by, google, found, it, on, pls, anybody, help, me]                                                                                                                                                                                                                                                                                                                                                                                                       \n",
       "808   [use, your, make, wish, at, the, gold, wishing, well, at, or, directly, submit, your, wish, here, hash, ewa, twitter, com]                                                                                                                                                                                                                                                                                                                                                                                                                                                                                                                                                 \n",
       "2588  [fundraiser, for, hack, victims, so, this, is, how, it, works, victims, post, your, eth, address, below, the, fundraiser, funds, will, be, split, between, you, the, other, victims, posting, here, those, who, want, help, send, eth, hash, amp, funds, will, be, distributed, at, am, utc, time, on, january]                                                                                                                                                                                                                                                                                                                                                            \n",
       "2703  [looking, for, donations, after, meltdown, stupidity, hash, scam, just, genuine, interest, in, but, skint, at, the, moment, much, love, trade, safe, guys, eth, crypto]                                                                                                                                                                                                                                                                                                                                                                                                                                                                                                    \n",
       "2742  [hi, is, this, the, hacker, hi, write, you, because, the, recent, hack, write, publicly, so, when, did, mistake, the, community, will, blame, me, here, what, found, es, has, marked, this, address, hash, as, hack, hack, address, this, address, hash, as, hack, hack, address, when, we, go, down, the, second, transaction, the, hack, address, the, hack, address, got, eth, from, hash, days, hrs, ago, while, the, hack, but, the, hash, address, has, also, sent, eth, the, hack, address, just, few, hours, later, days, hrs, ago, the, only, transaction, the, hash, got, was, ether, which, were, sent, before, the, hack, from, the, ...]                      \n",
       "2743  [is, this, the, hacker, other, exchanges, hi, guys, hi, crypto, community, hi, other, exchanges, write, you, because, the, recent, hack, write, publicly, so, when, did, mistake, the, community, will, blame, me, here, what, found, es, has, marked, this, address, hash, as, hack, hack, address, this, address, hash, as, hack, hack, address, when, we, go, down, the, second, transaction, the, hack, address, the, hack, address, got, eth, from, hash, days, hrs, ago, short, before, the, hack, while, the, hack, but, the, hash, address, has, also, sent, eth, the, hack, address, just, few, hours, later, days, hrs, ago, the, only, transaction, the, ...]   \n",
       "2744  [is, this, the, hacker, other, exchanges, hi, guys, hi, crypto, community, hi, other, exchanges, write, you, because, the, recent, hack, write, publicly, so, when, did, mistake, the, community, will, blame, me, here, what, found, es, has, marked, this, address, hash, as, hack, hack, address, this, address, hash, as, hack, hack, address, when, we, go, down, the, second, transaction, the, hack, address, the, hack, address, got, eth, from, hash, days, hrs, ago, short, before, the, hack, while, the, hack, but, the, hash, address, has, also, sent, eth, the, hack, address, just, few, hours, later, days, hrs, ago, the, only, transaction, the, ...]   \n",
       "\n",
       "                                                                                                                                                                                                                                                                                                                                                                                                                                                                                                                                                                                                                                    text_split_token  \\\n",
       "63    [is, liar, fraudster, have, never, seen, such, liar, fake, company, in, my, life, you, can, steal, our, money, still, make, statement, here, without, being, embarrassed, is, liar, fraudster, is, liar, fraudster, have, never, seen, such, liar, fake, company, in, my, life, you, can, steal, our, money, still, make, statement, here, without, being, embarrassed, is, liar, fraudster, block]                                                                                                                                                                                                                                              \n",
       "65    [is, liar, fraudster, have, never, seen, such, liar, fake, company, in, my, life, you, can, steal, our, money, still, make, statement, here, without, being, embarrassed, is, liar, fraudster, social, you, too, is, it, enough, block]                                                                                                                                                                                                                                                                                                                                                                                                          \n",
       "237   [my, coins, were, stolen, someone, converted, my, tesla, coins, then, did, the, for, this, wallet, bh, everything, was, done, without, my, authorization, without, notification, without, confirmation, email, it, sounds, like, little, but, it, was, all, had, hope, will, solve, this, situation, soon, because, from, what, seeing, not, the, only, one, who, suffered, this, blow, today]                                                                                                                                                                                                                                                   \n",
       "543   [give, away, eth, from, scam, fake, send, eth, the, wallet, adress, they, send, back, my, eth, guys, is, there, somebody, with, the, same, problem, with, few, days, ago, send, some, eth, wallet, xd, ad, cb, people, need, send, eth, the, people, get, back, what, they, send, for, exemple, you, send, eth, you, receive, eth, back, if, you, are, too, late, you, will, receive, your, eth, back, think, was, too, late, so, get, anything, send, few, mails, they, say, they, receive, it, what, the, hell, its, on, the, freaking, you, can, see, it, there, that, received, it, they, are, telling, me, ...]                             \n",
       "764   [stolen, stolen, guys, one, guy, stolen, my, what, can, do, follow, it, everyday, step, one, goes, there, step, goes, here, tough, that, goes, kr, but, he, say, no, its, not, is, wallet, but, when, searched, by, google, found, it, on, pls, anybody, help, me]                                                                                                                                                                                                                                                                                                                                                                               \n",
       "808   [use, your, make, wish, at, the, gold, wishing, well, at, or, directly, submit, your, wish, here, ewa, twitter, com]                                                                                                                                                                                                                                                                                                                                                                                                                                                                                                                             \n",
       "2588  [fundraiser, for, hack, victims, so, this, is, how, it, works, victims, post, your, eth, address, below, the, fundraiser, funds, will, be, split, between, you, the, other, victims, posting, here, those, who, want, help, send, eth, fa, bb, amp, funds, will, be, distributed, at, am, utc, time, on, january]                                                                                                                                                                                                                                                                                                                                \n",
       "2703  [looking, for, donations, after, meltdown, stupidity, scam, just, genuine, interest, in, but, skint, at, the, moment, much, love, trade, safe, guys, eth, crypto]                                                                                                                                                                                                                                                                                                                                                                                                                                                                                \n",
       "2742  [hi, is, this, the, hacker, hi, write, you, because, the, recent, hack, write, publicly, so, when, did, mistake, the, community, will, blame, me, here, what, found, es, has, marked, this, address, xc, eb, as, hack, hack, address, this, address, as, hack, hack, address, when, we, go, down, the, second, transaction, the, hack, address, the, hack, address, got, eth, from, bc, eb, df, cbd, ae, days, hrs, ago, while, the, hack, but, the, bc, eb, df, cbd, ae, address, has, also, sent, eth, the, hack, address, just, few, hours, later, days, hrs, ago, the, only, transaction, the, bc, eb, df, cbd, ...]                         \n",
       "2743  [is, this, the, hacker, other, exchanges, hi, guys, hi, crypto, community, hi, other, exchanges, write, you, because, the, recent, hack, write, publicly, so, when, did, mistake, the, community, will, blame, me, here, what, found, es, has, marked, this, address, xc, eb, as, hack, hack, address, this, address, as, hack, hack, address, when, we, go, down, the, second, transaction, the, hack, address, the, hack, address, got, eth, from, bc, eb, df, cbd, ae, days, hrs, ago, short, before, the, hack, while, the, hack, but, the, bc, eb, df, cbd, ae, address, has, also, sent, eth, the, hack, address, just, few, hours, ...]   \n",
       "2744  [is, this, the, hacker, other, exchanges, hi, guys, hi, crypto, community, hi, other, exchanges, write, you, because, the, recent, hack, write, publicly, so, when, did, mistake, the, community, will, blame, me, here, what, found, es, has, marked, this, address, xc, eb, as, hack, hack, address, this, address, as, hack, hack, address, when, we, go, down, the, second, transaction, the, hack, address, the, hack, address, got, eth, from, bc, eb, df, cbd, ae, days, hrs, ago, short, before, the, hack, while, the, hack, but, the, bc, eb, df, cbd, ae, address, has, also, sent, eth, the, hack, address, just, few, hours, ...]   \n",
       "\n",
       "                                                                                                                                                                                                                                                                                                                                                                                                                                                                                                                                                                                                                                      text_url_token  \n",
       "63    [is, liar, fraudster, have, never, seen, such, liar, fake, company, in, my, life, you, can, steal, our, money, still, make, statement, here, without, being, embarrassed, is, liar, fraudster, is, liar, fraudster, have, never, seen, such, liar, fake, company, in, my, life, you, can, steal, our, money, still, make, statement, here, without, being, embarrassed, is, liar, fraudster, block]                                                                                                                                                                                                                                             \n",
       "65    [is, liar, fraudster, have, never, seen, such, liar, fake, company, in, my, life, you, can, steal, our, money, still, make, statement, here, without, being, embarrassed, is, liar, fraudster, social, you, too, is, it, enough, block]                                                                                                                                                                                                                                                                                                                                                                                                         \n",
       "237   [my, coins, were, stolen, someone, converted, my, tesla, coins, then, did, the, for, this, wallet, bh, everything, was, done, without, my, authorization, without, notification, without, confirmation, email, it, sounds, like, little, but, it, was, all, had, hope, will, solve, this, situation, soon, because, from, what, seeing, not, the, only, one, who, suffered, this, blow, today]                                                                                                                                                                                                                                                  \n",
       "543   [give, away, eth, from, scam, fake, send, eth, the, wallet, adress, they, send, back, my, eth, guys, is, there, somebody, with, the, same, problem, with, few, days, ago, send, some, eth, wallet, xd, ad, cb, people, need, send, eth, the, people, get, back, what, they, send, for, exemple, you, send, eth, you, receive, eth, back, if, you, are, too, late, you, will, receive, your, eth, back, think, was, too, late, so, get, anything, send, few, mails, they, say, they, receive, it, what, the, hell, its, on, the, freaking, you, can, see, it, there, that, received, it, they, are, telling, me, ...]                            \n",
       "764   [stolen, stolen, guys, one, guy, stolen, my, what, can, do, follow, it, everyday, step, one, goes, there, step, goes, here, tough, that, goes, kr, but, he, say, no, its, not, is, wallet, but, when, searched, by, google, found, it, on, pls, anybody, help, me]                                                                                                                                                                                                                                                                                                                                                                              \n",
       "808   [use, your, make, wish, at, the, gold, wishing, well, at, or, directly, submit, your, wish, here, ewa, twitter, com]                                                                                                                                                                                                                                                                                                                                                                                                                                                                                                                            \n",
       "2588  [fundraiser, for, hack, victims, so, this, is, how, it, works, victims, post, your, eth, address, below, the, fundraiser, funds, will, be, split, between, you, the, other, victims, posting, here, those, who, want, help, send, eth, fa, bb, amp, funds, will, be, distributed, at, am, utc, time, on, january]                                                                                                                                                                                                                                                                                                                               \n",
       "2703  [looking, for, donations, after, meltdown, stupidity, scam, just, genuine, interest, in, but, skint, at, the, moment, much, love, trade, safe, guys, eth, crypto]                                                                                                                                                                                                                                                                                                                                                                                                                                                                               \n",
       "2742  [hi, is, this, the, hacker, hi, write, you, because, the, recent, hack, write, publicly, so, when, did, mistake, the, community, will, blame, me, here, what, found, es, has, marked, this, address, xc, eb, as, hack, hack, address, this, address, as, hack, hack, address, when, we, go, down, the, second, transaction, the, hack, address, the, hack, address, got, eth, from, bc, eb, df, cbd, ae, days, hrs, ago, while, the, hack, but, the, bc, eb, df, cbd, ae, address, has, also, sent, eth, the, hack, address, just, few, hours, later, days, hrs, ago, the, only, transaction, the, bc, eb, df, cbd, ...]                        \n",
       "2743  [is, this, the, hacker, other, exchanges, hi, guys, hi, crypto, community, hi, other, exchanges, write, you, because, the, recent, hack, write, publicly, so, when, did, mistake, the, community, will, blame, me, here, what, found, es, has, marked, this, address, xc, eb, as, hack, hack, address, this, address, as, hack, hack, address, when, we, go, down, the, second, transaction, the, hack, address, the, hack, address, got, eth, from, bc, eb, df, cbd, ae, days, hrs, ago, short, before, the, hack, while, the, hack, but, the, bc, eb, df, cbd, ae, address, has, also, sent, eth, the, hack, address, just, few, hours, ...]  \n",
       "2744  [is, this, the, hacker, other, exchanges, hi, guys, hi, crypto, community, hi, other, exchanges, write, you, because, the, recent, hack, write, publicly, so, when, did, mistake, the, community, will, blame, me, here, what, found, es, has, marked, this, address, xc, eb, as, hack, hack, address, this, address, as, hack, hack, address, when, we, go, down, the, second, transaction, the, hack, address, the, hack, address, got, eth, from, bc, eb, df, cbd, ae, days, hrs, ago, short, before, the, hack, while, the, hack, but, the, bc, eb, df, cbd, ae, address, has, also, sent, eth, the, hack, address, just, few, hours, ...]  "
      ]
     },
     "execution_count": 144,
     "metadata": {},
     "output_type": "execute_result"
    }
   ],
   "source": [
    "all_train[(all_train['text_hash_token'] != all_train['text_split_token']) | (all_train['text_hash_token'] != all_train['text_url_token']) | (all_train['text_split_token'] != all_train['text_url_token'])][['text', 'text_hash_token', 'text_split_token', 'text_url_token']]"
   ]
  },
  {
   "cell_type": "code",
   "execution_count": 146,
   "metadata": {
    "ExecuteTime": {
     "end_time": "2020-10-20T10:24:30.579326Z",
     "start_time": "2020-10-20T10:24:30.491375Z"
    },
    "hidden": true
   },
   "outputs": [
    {
     "data": {
      "text/plain": [
       "(11, 4)"
      ]
     },
     "execution_count": 146,
     "metadata": {},
     "output_type": "execute_result"
    }
   ],
   "source": [
    "all_train[(all_train['text_hash_token'] != all_train['text_split_token']) | (all_train['text_hash_token'] != all_train['text_url_token']) | (all_train['text_split_token'] != all_train['text_url_token'])][['text', 'text_hash_token', 'text_split_token', 'text_url_token']].shape"
   ]
  },
  {
   "cell_type": "code",
   "execution_count": 145,
   "metadata": {
    "ExecuteTime": {
     "end_time": "2020-10-20T10:23:50.746421Z",
     "start_time": "2020-10-20T10:23:50.674889Z"
    },
    "hidden": true
   },
   "outputs": [
    {
     "data": {
      "text/html": [
       "<div>\n",
       "<style scoped>\n",
       "    .dataframe tbody tr th:only-of-type {\n",
       "        vertical-align: middle;\n",
       "    }\n",
       "\n",
       "    .dataframe tbody tr th {\n",
       "        vertical-align: top;\n",
       "    }\n",
       "\n",
       "    .dataframe thead th {\n",
       "        text-align: right;\n",
       "    }\n",
       "</style>\n",
       "<table border=\"1\" class=\"dataframe\">\n",
       "  <thead>\n",
       "    <tr style=\"text-align: right;\">\n",
       "      <th></th>\n",
       "      <th>text</th>\n",
       "      <th>text_hash_token</th>\n",
       "      <th>text_split_token</th>\n",
       "      <th>text_url_token</th>\n",
       "    </tr>\n",
       "  </thead>\n",
       "  <tbody>\n",
       "  </tbody>\n",
       "</table>\n",
       "</div>"
      ],
      "text/plain": [
       "Empty DataFrame\n",
       "Columns: [text, text_hash_token, text_split_token, text_url_token]\n",
       "Index: []"
      ]
     },
     "execution_count": 145,
     "metadata": {},
     "output_type": "execute_result"
    }
   ],
   "source": [
    "all_train[(all_train['text_split_token'] != all_train['text_url_token'])][['text', 'text_hash_token', 'text_split_token', 'text_url_token']]"
   ]
  },
  {
   "cell_type": "code",
   "execution_count": 190,
   "metadata": {
    "ExecuteTime": {
     "end_time": "2020-10-21T03:35:16.484142Z",
     "start_time": "2020-10-21T03:35:15.753534Z"
    },
    "hidden": true
   },
   "outputs": [],
   "source": [
    "all_train['text_token'] = get_text_token(all_train['text'])"
   ]
  },
  {
   "cell_type": "code",
   "execution_count": 191,
   "metadata": {
    "ExecuteTime": {
     "end_time": "2020-10-21T03:36:17.586626Z",
     "start_time": "2020-10-21T03:36:17.437959Z"
    },
    "hidden": true
   },
   "outputs": [
    {
     "data": {
      "text/html": [
       "<div>\n",
       "<style scoped>\n",
       "    .dataframe tbody tr th:only-of-type {\n",
       "        vertical-align: middle;\n",
       "    }\n",
       "\n",
       "    .dataframe tbody tr th {\n",
       "        vertical-align: top;\n",
       "    }\n",
       "\n",
       "    .dataframe thead th {\n",
       "        text-align: right;\n",
       "    }\n",
       "</style>\n",
       "<table border=\"1\" class=\"dataframe\">\n",
       "  <thead>\n",
       "    <tr style=\"text-align: right;\">\n",
       "      <th></th>\n",
       "      <th>text</th>\n",
       "      <th>text_url</th>\n",
       "      <th>text_token</th>\n",
       "      <th>text_url_token</th>\n",
       "    </tr>\n",
       "  </thead>\n",
       "  <tbody>\n",
       "    <tr>\n",
       "      <th>9</th>\n",
       "      <td>internal 2x attack failed. external shitcoin pump in effect.. we see all the shitcoins are pumping from one exchange called bithumb in south korea which we all know roger is associated with.\\n\\nhe mad\\n\\nwhat's funny is he's only making normies/n00blets rich.  and they're bound to wake up and convert to btc once they get w0ke.  so he and jihan are just giving away free btc (from the extraordinary amount they're mining, over half of the hash power) to ppl in a grand elaborate scheme of redistribution of wealth they arent even smart enough to see.  lol.  god works in mysterious ways</td>\n",
       "      <td>internal 2x attack failed external shitcoin pump in effect we see all the shitcoins are pumping from one exchange called bithumb in south korea which we all know roger is associated with he madwhat s funny is he s only making normies n00blets rich and they re bound to wake up and convert to btc once they get w0ke so he and jihan are just giving away free btc from the extraordinary amount they re mining over half of the hash power to ppl in a grand elaborate scheme of redistribution of wealth they arent even smart enough to see lol god works in mysterious ways</td>\n",
       "      <td>[internal, attack, failed, external, pump, in, effect, we, see, all, the, are, pumping, from, one, exchange, called, in, south, korea, which, we, all, know, roger, is, associated, with, he, mad, what, funny, is, he, only, making, normies, rich, they, re, bound, wake, up, convert, once, they, get, ke, so, he, are, just, giving, away, free, from, the, extraordinary, amount, they, re, mining, over, half, the, hash, power, ppl, in, grand, elaborate, scheme, redistribution, wealth, they, arent, even, smart, enough, see, lol, god, works, in, mysterious, ways]</td>\n",
       "      <td>[internal, attack, failed, external, pump, in, effect, we, see, all, the, are, pumping, from, one, exchange, called, in, south, korea, which, we, all, know, roger, is, associated, with, he, funny, is, he, only, making, normies, rich, they, re, bound, wake, up, convert, once, they, get, ke, so, he, are, just, giving, away, free, from, the, extraordinary, amount, they, re, mining, over, half, the, hash, power, ppl, in, grand, elaborate, scheme, redistribution, wealth, they, arent, even, smart, enough, see, lol, god, works, in, mysterious, ways]</td>\n",
       "    </tr>\n",
       "    <tr>\n",
       "      <th>14</th>\n",
       "      <td>beware of fake website as first search result/ bittrex acc hacked. if you are new to cryptotrading you dont always have the best security or experience. my friend searched for bittrex using google and clicked the first result. than he tried logging in and received a mail that someone logged in on his account. he realised that something was wrong. \\n&amp;amp;nbsp;&amp;amp;nbsp;\\n\\n\\nhe noticed that the website link was a bit different.\\nhttps://imgur.com/a/skvgn\\n&amp;amp;nbsp;&amp;amp;nbsp;\\n\\n\\nhe logged in on the real website now and saw that all his coins were sold for btc. than the btc was send away. he tried to cancel it in pending modus but it wouldn't work. \\nhttps://imgur.com/a/i0bk7\\n&amp;amp;nbsp;&amp;amp;nbsp;\\n\\n\\n*the first problem was that google gave a fake website as a first result.\\n\\n*also they could acces his account by using a new ip because the email adress and password combination was the same\\n\\n*third the 2factor was not enabled\\n&amp;amp;nbsp;\\n&amp;amp;nbsp;\\n\\n\\nthe hackers created a 2factor on his account and as result he cant login anymore. everything happened in a manner of minutes. \\n&amp;amp;nbsp;&amp;amp;nbsp;\\ni looked for thing he could do to receive his money back, but i dontt think that there is anything that can resolve this. it was a big amount for people like him and me.\\n&amp;amp;nbsp;&amp;amp;nbsp;\\n\\n\\n&amp;amp;nbsp;&amp;amp;nbsp;\\ni hope this can help some people in the future. \\n</td>\n",
       "      <td>beware of fake website as first search result bittrex acc hacked if you are new to cryptotrading you dont always have the best security or experience my friend searched for bittrex using google and clicked the first result than he tried logging in and received a mail that someone logged in on his account he realised that something was wrong amp nbsp amp nbsp he noticed that the website link was a bit different amp nbsp amp nbsp he logged in on the real website now and saw that all his coins were sold for btc than the btc was send away he tried to cancel it in pending modus but it wouldn t work amp nbsp amp nbsp the first problem was that google gave a fake website as a first result also they could acces his account by using a new ip because the email adress and password combination was the same third the 2factor was not enabled amp nbsp amp nbsp the hackers created a 2factor on his account and as result he cant login anymore everything happened in a manner of minutes amp nbsp amp nbsp i looked for thing he could do to receive his money back but i dontt think that there is anything that can resolve this it was a big amount for people like him and me amp nbsp amp nbsp amp nbsp amp nbsp i hope this can help some people in the future</td>\n",
       "      <td>[beware, fake, website, as, first, search, result, acc, hacked, if, you, are, new, you, dont, always, have, the, best, security, or, experience, my, friend, searched, for, using, google, clicked, the, first, result, than, he, tried, logging, in, received, mail, that, someone, logged, in, on, his, account, he, that, something, was, wrong, amp, nbsp, amp, nbsp, he, noticed, that, the, website, link, was, bit, different, https, com, amp, nbsp, amp, nbsp, he, logged, in, on, the, real, website, now, saw, that, all, his, coins, were, sold, for, than, the, was, send, away, he, tried, cancel, it, in, pending, modus, but, it, ...]</td>\n",
       "      <td>[beware, fake, website, as, first, search, result, acc, hacked, if, you, are, new, you, dont, always, have, the, best, security, or, experience, my, friend, searched, for, using, google, clicked, the, first, result, than, he, tried, logging, in, received, mail, that, someone, logged, in, on, his, account, he, that, something, was, wrong, amp, nbsp, amp, nbsp, he, noticed, that, the, website, link, was, bit, different, amp, nbsp, amp, nbsp, he, logged, in, on, the, real, website, now, saw, that, all, his, coins, were, sold, for, than, the, was, send, away, he, tried, cancel, it, in, pending, modus, but, it, wouldn, work, ...]</td>\n",
       "    </tr>\n",
       "    <tr>\n",
       "      <th>15</th>\n",
       "      <td>warning: don't use bittrex and pull your money if you can. scam incoming.. hello.\\n\\nas you might have noticed, bittrex went to shit lately. if you have a working account you might think it's just because they are understaffed. but the truth is that they are pulling a scam.\\n\\nfirst of all, bittrex has proved again and again that they are willing to blatantly lie to their users and even edit their blog posts to change facts as seen here :\\n\\nbefore edit : https://archive.fo/wlrvv\\n\\nafter edit : https://archive.fo/vxjzm\\n\\nthey also are rejecting documents that have been accepted by jumio the service they use to check documents. a service which is trusted and well-respected.\\n\\nwhat does the last part scream of? selective scamming.\\n\\nwhile bittrex can't just exit scam like a darknet drug market. they can select users based on their countries and other variables and lock them out of their accounts. those users won't have the power to do anything to change anything. they simply ignore them until they literally lose all hope and go away.\\n\\nof course what they are doing is illegal but it's very hard to prove. however it's very easy to see once you look at it objectively. after all what can an 18 y/o guy living in zimbabwe with a networth of 30k do that can affect a huge corporation in the u.s? sue them? thought so.\\n\\nhere is a google form. please fill it with your country, your ticket#, the date you first submitted the ticket, and optionally the amount of money locked in. this form will be used to help decide our next move and to prove what they are doing (no email or personal information required)\\n\\nhttps://docs.google.com/forms/d/e/1faipqlsd5iaymkl9_s7orjpcmd9nqn4ujv7enpw9kmht3-bq-me0nfq/viewform?usp=sf_link\\n\\ni urge anyone with a working account to pull all funds while you still have the chance and move them to another exchange.\\n\\ni also urge everyone to upvote this post for visibility and i urge the mods to pin it. \\ni also ask bittrex to issue a statement with their case.\\n\\nthanks. \\n</td>\n",
       "      <td>warning don t use bittrex and pull your money if you can scam incoming hello as you might have noticed bittrex went to shit lately if you have a working account you might think it s just because they are understaffed but the truth is that they are pulling a scam first of all bittrex has proved again and again that they are willing to blatantly lie to their users and even edit their blog posts to change facts as seen here before edit after edit they also are rejecting documents that have been accepted by jumio the service they use to check documents a service which is trusted and well respected what does the last part scream of selective scamming while bittrex can t just exit scam like a darknet drug market they can select users based on their countries and other variables and lock them out of their accounts those users won t have the power to do anything to change anything they simply ignore them until they literally lose all hope and go away of course what they are doing is illegal but it s very hard to prove however it s very easy to see once you look at it objectively after all what can an 18 y o guy living in zimbabwe with a networth of 30k do that can affect a huge corporation in the u s sue them thought so here is a google form please fill it with your country your ticket the date you first submitted the ticket and optionally the amount of money locked in this form will be used to help decide our next move and to prove what they are doing no email or personal information required i urge anyone with a working account to pull all funds while you still have the chance and move them to another exchange i also urge everyone to upvote this post for visibility and i urge the mods to pin it i also ask bittrex to issue a statement with their case thanks</td>\n",
       "      <td>[warning, don, use, pull, your, money, if, you, can, scam, incoming, hello, as, you, might, have, noticed, went, shit, lately, if, you, have, working, account, you, might, think, it, just, because, they, are, understaffed, but, the, truth, is, that, they, are, pulling, scam, first, all, has, proved, again, again, that, they, are, willing, blatantly, lie, their, users, even, edit, their, blog, posts, change, facts, as, seen, here, before, edit, https, archive, fo, after, edit, https, archive, fo, they, also, are, rejecting, documents, that, have, been, accepted, by, the, service, they, use, check, documents, service, which, is, trusted, well, respected, what, ...]</td>\n",
       "      <td>[warning, don, use, pull, your, money, if, you, can, scam, incoming, hello, as, you, might, have, noticed, went, shit, lately, if, you, have, working, account, you, might, think, it, just, because, they, are, understaffed, but, the, truth, is, that, they, are, pulling, scam, first, all, has, proved, again, again, that, they, are, willing, blatantly, lie, their, users, even, edit, their, blog, posts, change, facts, as, seen, here, before, edit, after, edit, they, also, are, rejecting, documents, that, have, been, accepted, by, the, service, they, use, check, documents, service, which, is, trusted, well, respected, what, does, the, last, part, scream, selective, ...]</td>\n",
       "    </tr>\n",
       "    <tr>\n",
       "      <th>17</th>\n",
       "      <td>The Satoshi Revolution Ã¢ÂÂ Chapter 4: What Do You Have to Hide? Everything! (Part 1).  The Satoshi Revolution: A Revolution of Rising Expectations.\\nSection 2: The Moral Imperative of Privacy\\nChapter 4: When Privacy Is Criminalized. Only Criminals Will Be Private\\nby...</td>\n",
       "      <td>the satoshi revolution chapter 4 what do you have to hide everything part 1 the satoshi revolution a revolution of rising expectations section 2 the moral imperative of privacychapter 4 when privacy is criminalized only criminals will be privateby</td>\n",
       "      <td>[the, revolution, chapter, what, do, you, have, hide, everything, part, the, revolution, revolution, rising, expectations, section, the, moral, imperative, privacy, chapter, when, privacy, is, criminalized, only, criminals, will, be, private, by]</td>\n",
       "      <td>[the, revolution, chapter, what, do, you, have, hide, everything, part, the, revolution, revolution, rising, expectations, section, the, moral, imperative, when, privacy, is, criminalized, only, criminals, will, be]</td>\n",
       "    </tr>\n",
       "    <tr>\n",
       "      <th>20</th>\n",
       "      <td>bittrex las vegas address is not really their office. i just happen to look at their address which is only a mile from my home so decided to take a look. itâs actually a cpa firm that occupies the address. does anyone know where their real office is? maybe for security they wonât let anyone know?.</td>\n",
       "      <td>bittrex las vegas address is not really their office i just happen to look at their address which is only a mile from my home so decided to take a look its actually a cpa firm that occupies the address does anyone know where their real office is maybe for security they wont let anyone know</td>\n",
       "      <td>[las, vegas, address, is, not, really, their, office, just, happen, look, at, their, address, which, is, only, mile, from, my, home, so, decided, take, look, itâ, actually, cpa, firm, that, occupies, the, address, does, anyone, know, where, their, real, office, is, maybe, for, security, they, wonâ, let, anyone, know]</td>\n",
       "      <td>[las, vegas, address, is, not, really, their, office, just, happen, look, at, their, address, which, is, only, mile, from, my, home, so, decided, take, look, its, actually, cpa, firm, that, occupies, the, address, does, anyone, know, where, their, real, office, is, maybe, for, security, they, wont, let, anyone, know]</td>\n",
       "    </tr>\n",
       "    <tr>\n",
       "      <th>...</th>\n",
       "      <td>...</td>\n",
       "      <td>...</td>\n",
       "      <td>...</td>\n",
       "      <td>...</td>\n",
       "    </tr>\n",
       "    <tr>\n",
       "      <th>4271</th>\n",
       "      <td>so binance wasn't actually hacked? stupid, arrogant users who are in over their heads and cannot manage their own computer hygiene got hacked and then binance took the blame? \\n\\n[https://twitter.com/nlw/status/1127584539008745472](https://twitter.com/nlw/status/1127584539008745472)\\n\\nchange my mind..</td>\n",
       "      <td>so binance wasn t actually hacked stupid arrogant users who are in over their heads and can not manage their own computer hygiene got hacked and then binance took the blame change my mind</td>\n",
       "      <td>[so, wasn, actually, hacked, stupid, arrogant, users, who, are, in, over, their, heads, cannot, manage, their, own, computer, hygiene, got, hacked, then, took, the, blame, https, twitter, com, status, https, twitter, com, status, change, my, mind]</td>\n",
       "      <td>[so, wasn, actually, hacked, stupid, arrogant, users, who, are, in, over, their, heads, can, not, manage, their, own, computer, hygiene, got, hacked, then, took, the, blame, change, my, mind]</td>\n",
       "    </tr>\n",
       "    <tr>\n",
       "      <th>4278</th>\n",
       "      <td>binance hacked\\n\\nquadriga no money left\\n\\ntether about to implode\\n\\nwho cares if its in the green am i right.</td>\n",
       "      <td>binance hackedquadriga no money lefttether about to implodewho cares if its in the green am i right</td>\n",
       "      <td>[hacked, no, money, left, tether, about, implode, who, cares, if, its, in, the, green, am, right]</td>\n",
       "      <td>[no, money, about, cares, if, its, in, the, green, am, right]</td>\n",
       "    </tr>\n",
       "    <tr>\n",
       "      <th>4280</th>\n",
       "      <td>yes you can. binance has a crypto/fiat gateway, which has not been affected by the security breach:\\n\\nhttps://www.binance.je/.</td>\n",
       "      <td>yes you can binance has a crypto fiat gateway which has not been affected by the security breach</td>\n",
       "      <td>[yes, you, can, has, crypto, fiat, gateway, which, has, not, been, affected, by, the, security, breach, https, www, je]</td>\n",
       "      <td>[yes, you, can, has, crypto, fiat, gateway, which, has, not, been, affected, by, the, security, breach]</td>\n",
       "    </tr>\n",
       "    <tr>\n",
       "      <th>4290</th>\n",
       "      <td>Hey @cz_binance we made the most honest âFunds are SAFUâ t-shirt out there! Homage to your Malta business getup! #fundsaresafu #bnb #btc #bitcoin #binance https://offthechain.shop/products/funds-are-safuÂ â¦</td>\n",
       "      <td>hey cz binance we made the most honest funds are safu t shirt out there homage to your malta business getup fundsaresafu bnb btc bitcoin binance</td>\n",
       "      <td>[hey, we, made, the, most, honest, funds, are, shirt, out, there, homage, your, malta, business, getup, https, shop, products, funds, are]</td>\n",
       "      <td>[hey, cz, we, made, the, most, honest, funds, are, shirt, out, there, homage, your, malta, business, getup]</td>\n",
       "    </tr>\n",
       "    <tr>\n",
       "      <th>4291</th>\n",
       "      <td>Wondering ð¤\\n\\nDo ..\\n\\n@cz_binance\\n@HuobiGlobal\\n@officialmcafee\\n@APompliano\\n@VitalikButerin\\n@MrMichaelNye\\n@CryptoVanessa\\n@CryptoVanessa\\n@officialmcafee\\n@JihanWu\\n\\nknow about the mass adoption that @AIRCOINS_App can bring to #crypto?\\n\\n$AIRx is the best unheard of crypto!\\n\\nDiscuss!</td>\n",
       "      <td>wondering do cz binance huobiglobal officialmcafee apompliano vitalikbuterin mrmichaelnye cryptovanessa cryptovanessa officialmcafee jihanwuknow about the mass adoption that aircoins app can bring to crypto airx is the best unheard of crypto discuss</td>\n",
       "      <td>[wondering, do, know, about, the, mass, adoption, that, can, bring, crypto, is, the, best, unheard, crypto, discuss]</td>\n",
       "      <td>[wondering, do, cz, about, the, mass, adoption, that, app, can, bring, crypto, is, the, best, unheard, crypto, discuss]</td>\n",
       "    </tr>\n",
       "  </tbody>\n",
       "</table>\n",
       "<p>1104 rows × 4 columns</p>\n",
       "</div>"
      ],
      "text/plain": [
       "                                                                                                                                                                                                                                                                                                                                                                                                                                                                                                                                                                                                                                                                                                                                                                                                                                                                                                                                                                                                                                                                                                                                                                                                                                                                                                                                                                                                                                                                                                                                                                                                                                                                                                                                                                                                                                                                                                                                                                                                                                                                                                             text  \\\n",
       "9     internal 2x attack failed. external shitcoin pump in effect.. we see all the shitcoins are pumping from one exchange called bithumb in south korea which we all know roger is associated with.\\n\\nhe mad\\n\\nwhat's funny is he's only making normies/n00blets rich.  and they're bound to wake up and convert to btc once they get w0ke.  so he and jihan are just giving away free btc (from the extraordinary amount they're mining, over half of the hash power) to ppl in a grand elaborate scheme of redistribution of wealth they arent even smart enough to see.  lol.  god works in mysterious ways                                                                                                                                                                                                                                                                                                                                                                                                                                                                                                                                                                                                                                                                                                                                                                                                                                                                                                                                                                                                                                                                                                                                                                                                                                                                                                                                                                                                                                                                                                   \n",
       "14    beware of fake website as first search result/ bittrex acc hacked. if you are new to cryptotrading you dont always have the best security or experience. my friend searched for bittrex using google and clicked the first result. than he tried logging in and received a mail that someone logged in on his account. he realised that something was wrong. \\n&amp;nbsp;&amp;nbsp;\\n\\n\\nhe noticed that the website link was a bit different.\\nhttps://imgur.com/a/skvgn\\n&amp;nbsp;&amp;nbsp;\\n\\n\\nhe logged in on the real website now and saw that all his coins were sold for btc. than the btc was send away. he tried to cancel it in pending modus but it wouldn't work. \\nhttps://imgur.com/a/i0bk7\\n&amp;nbsp;&amp;nbsp;\\n\\n\\n*the first problem was that google gave a fake website as a first result.\\n\\n*also they could acces his account by using a new ip because the email adress and password combination was the same\\n\\n*third the 2factor was not enabled\\n&amp;nbsp;\\n&amp;nbsp;\\n\\n\\nthe hackers created a 2factor on his account and as result he cant login anymore. everything happened in a manner of minutes. \\n&amp;nbsp;&amp;nbsp;\\ni looked for thing he could do to receive his money back, but i dontt think that there is anything that can resolve this. it was a big amount for people like him and me.\\n&amp;nbsp;&amp;nbsp;\\n\\n\\n&amp;nbsp;&amp;nbsp;\\ni hope this can help some people in the future. \\n                                                                                                                                                                                                                                                                                                                                                                                                                                                                                                                                                                                                                                                               \n",
       "15    warning: don't use bittrex and pull your money if you can. scam incoming.. hello.\\n\\nas you might have noticed, bittrex went to shit lately. if you have a working account you might think it's just because they are understaffed. but the truth is that they are pulling a scam.\\n\\nfirst of all, bittrex has proved again and again that they are willing to blatantly lie to their users and even edit their blog posts to change facts as seen here :\\n\\nbefore edit : https://archive.fo/wlrvv\\n\\nafter edit : https://archive.fo/vxjzm\\n\\nthey also are rejecting documents that have been accepted by jumio the service they use to check documents. a service which is trusted and well-respected.\\n\\nwhat does the last part scream of? selective scamming.\\n\\nwhile bittrex can't just exit scam like a darknet drug market. they can select users based on their countries and other variables and lock them out of their accounts. those users won't have the power to do anything to change anything. they simply ignore them until they literally lose all hope and go away.\\n\\nof course what they are doing is illegal but it's very hard to prove. however it's very easy to see once you look at it objectively. after all what can an 18 y/o guy living in zimbabwe with a networth of 30k do that can affect a huge corporation in the u.s? sue them? thought so.\\n\\nhere is a google form. please fill it with your country, your ticket#, the date you first submitted the ticket, and optionally the amount of money locked in. this form will be used to help decide our next move and to prove what they are doing (no email or personal information required)\\n\\nhttps://docs.google.com/forms/d/e/1faipqlsd5iaymkl9_s7orjpcmd9nqn4ujv7enpw9kmht3-bq-me0nfq/viewform?usp=sf_link\\n\\ni urge anyone with a working account to pull all funds while you still have the chance and move them to another exchange.\\n\\ni also urge everyone to upvote this post for visibility and i urge the mods to pin it. \\ni also ask bittrex to issue a statement with their case.\\n\\nthanks. \\n   \n",
       "17    The Satoshi Revolution Ã¢ÂÂ Chapter 4: What Do You Have to Hide? Everything! (Part 1).  The Satoshi Revolution: A Revolution of Rising Expectations.\\nSection 2: The Moral Imperative of Privacy\\nChapter 4: When Privacy Is Criminalized. Only Criminals Will Be Private\\nby...                                                                                                                                                                                                                                                                                                                                                                                                                                                                                                                                                                                                                                                                                                                                                                                                                                                                                                                                                                                                                                                                                                                                                                                                                                                                                                                                                                                                                                                                                                                                                                                                                                                                                                                                                                                                                            \n",
       "20    bittrex las vegas address is not really their office. i just happen to look at their address which is only a mile from my home so decided to take a look. itâs actually a cpa firm that occupies the address. does anyone know where their real office is? maybe for security they wonât let anyone know?.                                                                                                                                                                                                                                                                                                                                                                                                                                                                                                                                                                                                                                                                                                                                                                                                                                                                                                                                                                                                                                                                                                                                                                                                                                                                                                                                                                                                                                                                                                                                                                                                                                                                                                                                                                                                \n",
       "...                                                                                                                                                                                                                                                                                                               ...                                                                                                                                                                                                                                                                                                                                                                                                                                                                                                                                                                                                                                                                                                                                                                                                                                                                                                                                                                                                                                                                                                                                                                                                                                                                                                                                                                                                                                                                                                                                                                                                                                                                                                                                                                                               \n",
       "4271  so binance wasn't actually hacked? stupid, arrogant users who are in over their heads and cannot manage their own computer hygiene got hacked and then binance took the blame? \\n\\n[https://twitter.com/nlw/status/1127584539008745472](https://twitter.com/nlw/status/1127584539008745472)\\n\\nchange my mind..                                                                                                                                                                                                                                                                                                                                                                                                                                                                                                                                                                                                                                                                                                                                                                                                                                                                                                                                                                                                                                                                                                                                                                                                                                                                                                                                                                                                                                                                                                                                                                                                                                                                                                                                                                                               \n",
       "4278  binance hacked\\n\\nquadriga no money left\\n\\ntether about to implode\\n\\nwho cares if its in the green am i right.                                                                                                                                                                                                                                                                                                                                                                                                                                                                                                                                                                                                                                                                                                                                                                                                                                                                                                                                                                                                                                                                                                                                                                                                                                                                                                                                                                                                                                                                                                                                                                                                                                                                                                                                                                                                                                                                                                                                                                                              \n",
       "4280  yes you can. binance has a crypto/fiat gateway, which has not been affected by the security breach:\\n\\nhttps://www.binance.je/.                                                                                                                                                                                                                                                                                                                                                                                                                                                                                                                                                                                                                                                                                                                                                                                                                                                                                                                                                                                                                                                                                                                                                                                                                                                                                                                                                                                                                                                                                                                                                                                                                                                                                                                                                                                                                                                                                                                                                                               \n",
       "4290  Hey @cz_binance we made the most honest âFunds are SAFUâ t-shirt out there! Homage to your Malta business getup! #fundsaresafu #bnb #btc #bitcoin #binance https://offthechain.shop/products/funds-are-safuÂ â¦                                                                                                                                                                                                                                                                                                                                                                                                                                                                                                                                                                                                                                                                                                                                                                                                                                                                                                                                                                                                                                                                                                                                                                                                                                                                                                                                                                                                                                                                                                                                                                                                                                                                                                                                                                                                                                                                                          \n",
       "4291  Wondering ð¤\\n\\nDo ..\\n\\n@cz_binance\\n@HuobiGlobal\\n@officialmcafee\\n@APompliano\\n@VitalikButerin\\n@MrMichaelNye\\n@CryptoVanessa\\n@CryptoVanessa\\n@officialmcafee\\n@JihanWu\\n\\nknow about the mass adoption that @AIRCOINS_App can bring to #crypto?\\n\\n$AIRx is the best unheard of crypto!\\n\\nDiscuss!                                                                                                                                                                                                                                                                                                                                                                                                                                                                                                                                                                                                                                                                                                                                                                                                                                                                                                                                                                                                                                                                                                                                                                                                                                                                                                                                                                                                                                                                                                                                                                                                                                                                                                                                                                                                    \n",
       "\n",
       "                                                                                                                                                                                                                                                                                                                                                                                                                                                                                                                                                                                                                                                                                                                                                                                                                                                                                                                                                                                                                                                                                                                                                                                                                                                                                                                                                                                                                                                                                                                                                                                                                                                                                                                                                                                                                                                  text_url  \\\n",
       "9     internal 2x attack failed external shitcoin pump in effect we see all the shitcoins are pumping from one exchange called bithumb in south korea which we all know roger is associated with he madwhat s funny is he s only making normies n00blets rich and they re bound to wake up and convert to btc once they get w0ke so he and jihan are just giving away free btc from the extraordinary amount they re mining over half of the hash power to ppl in a grand elaborate scheme of redistribution of wealth they arent even smart enough to see lol god works in mysterious ways                                                                                                                                                                                                                                                                                                                                                                                                                                                                                                                                                                                                                                                                                                                                                                                                                                                                                                                                                                                                                                                                                                                                                                                                                                                                  \n",
       "14    beware of fake website as first search result bittrex acc hacked if you are new to cryptotrading you dont always have the best security or experience my friend searched for bittrex using google and clicked the first result than he tried logging in and received a mail that someone logged in on his account he realised that something was wrong amp nbsp amp nbsp he noticed that the website link was a bit different amp nbsp amp nbsp he logged in on the real website now and saw that all his coins were sold for btc than the btc was send away he tried to cancel it in pending modus but it wouldn t work amp nbsp amp nbsp the first problem was that google gave a fake website as a first result also they could acces his account by using a new ip because the email adress and password combination was the same third the 2factor was not enabled amp nbsp amp nbsp the hackers created a 2factor on his account and as result he cant login anymore everything happened in a manner of minutes amp nbsp amp nbsp i looked for thing he could do to receive his money back but i dontt think that there is anything that can resolve this it was a big amount for people like him and me amp nbsp amp nbsp amp nbsp amp nbsp i hope this can help some people in the future                                                                                                                                                                                                                                                                                                                                                                                                                                                                                                                                                      \n",
       "15    warning don t use bittrex and pull your money if you can scam incoming hello as you might have noticed bittrex went to shit lately if you have a working account you might think it s just because they are understaffed but the truth is that they are pulling a scam first of all bittrex has proved again and again that they are willing to blatantly lie to their users and even edit their blog posts to change facts as seen here before edit after edit they also are rejecting documents that have been accepted by jumio the service they use to check documents a service which is trusted and well respected what does the last part scream of selective scamming while bittrex can t just exit scam like a darknet drug market they can select users based on their countries and other variables and lock them out of their accounts those users won t have the power to do anything to change anything they simply ignore them until they literally lose all hope and go away of course what they are doing is illegal but it s very hard to prove however it s very easy to see once you look at it objectively after all what can an 18 y o guy living in zimbabwe with a networth of 30k do that can affect a huge corporation in the u s sue them thought so here is a google form please fill it with your country your ticket the date you first submitted the ticket and optionally the amount of money locked in this form will be used to help decide our next move and to prove what they are doing no email or personal information required i urge anyone with a working account to pull all funds while you still have the chance and move them to another exchange i also urge everyone to upvote this post for visibility and i urge the mods to pin it i also ask bittrex to issue a statement with their case thanks   \n",
       "17    the satoshi revolution chapter 4 what do you have to hide everything part 1 the satoshi revolution a revolution of rising expectations section 2 the moral imperative of privacychapter 4 when privacy is criminalized only criminals will be privateby                                                                                                                                                                                                                                                                                                                                                                                                                                                                                                                                                                                                                                                                                                                                                                                                                                                                                                                                                                                                                                                                                                                                                                                                                                                                                                                                                                                                                                                                                                                                                                                                \n",
       "20    bittrex las vegas address is not really their office i just happen to look at their address which is only a mile from my home so decided to take a look its actually a cpa firm that occupies the address does anyone know where their real office is maybe for security they wont let anyone know                                                                                                                                                                                                                                                                                                                                                                                                                                                                                                                                                                                                                                                                                                                                                                                                                                                                                                                                                                                                                                                                                                                                                                                                                                                                                                                                                                                                                                                                                                                                                     \n",
       "...                                                                                                                                                                                                                                                                                                  ...                                                                                                                                                                                                                                                                                                                                                                                                                                                                                                                                                                                                                                                                                                                                                                                                                                                                                                                                                                                                                                                                                                                                                                                                                                                                                                                                                                                                                                                                                                                                                     \n",
       "4271  so binance wasn t actually hacked stupid arrogant users who are in over their heads and can not manage their own computer hygiene got hacked and then binance took the blame change my mind                                                                                                                                                                                                                                                                                                                                                                                                                                                                                                                                                                                                                                                                                                                                                                                                                                                                                                                                                                                                                                                                                                                                                                                                                                                                                                                                                                                                                                                                                                                                                                                                                                                            \n",
       "4278  binance hackedquadriga no money lefttether about to implodewho cares if its in the green am i right                                                                                                                                                                                                                                                                                                                                                                                                                                                                                                                                                                                                                                                                                                                                                                                                                                                                                                                                                                                                                                                                                                                                                                                                                                                                                                                                                                                                                                                                                                                                                                                                                                                                                                                                                    \n",
       "4280  yes you can binance has a crypto fiat gateway which has not been affected by the security breach                                                                                                                                                                                                                                                                                                                                                                                                                                                                                                                                                                                                                                                                                                                                                                                                                                                                                                                                                                                                                                                                                                                                                                                                                                                                                                                                                                                                                                                                                                                                                                                                                                                                                                                                                       \n",
       "4290  hey cz binance we made the most honest funds are safu t shirt out there homage to your malta business getup fundsaresafu bnb btc bitcoin binance                                                                                                                                                                                                                                                                                                                                                                                                                                                                                                                                                                                                                                                                                                                                                                                                                                                                                                                                                                                                                                                                                                                                                                                                                                                                                                                                                                                                                                                                                                                                                                                                                                                                                                       \n",
       "4291  wondering do cz binance huobiglobal officialmcafee apompliano vitalikbuterin mrmichaelnye cryptovanessa cryptovanessa officialmcafee jihanwuknow about the mass adoption that aircoins app can bring to crypto airx is the best unheard of crypto discuss                                                                                                                                                                                                                                                                                                                                                                                                                                                                                                                                                                                                                                                                                                                                                                                                                                                                                                                                                                                                                                                                                                                                                                                                                                                                                                                                                                                                                                                                                                                                                                                              \n",
       "\n",
       "                                                                                                                                                                                                                                                                                                                                                                                                                                                                                                                                                                                                                                                                                           text_token  \\\n",
       "9     [internal, attack, failed, external, pump, in, effect, we, see, all, the, are, pumping, from, one, exchange, called, in, south, korea, which, we, all, know, roger, is, associated, with, he, mad, what, funny, is, he, only, making, normies, rich, they, re, bound, wake, up, convert, once, they, get, ke, so, he, are, just, giving, away, free, from, the, extraordinary, amount, they, re, mining, over, half, the, hash, power, ppl, in, grand, elaborate, scheme, redistribution, wealth, they, arent, even, smart, enough, see, lol, god, works, in, mysterious, ways]                                                                                                                   \n",
       "14    [beware, fake, website, as, first, search, result, acc, hacked, if, you, are, new, you, dont, always, have, the, best, security, or, experience, my, friend, searched, for, using, google, clicked, the, first, result, than, he, tried, logging, in, received, mail, that, someone, logged, in, on, his, account, he, that, something, was, wrong, amp, nbsp, amp, nbsp, he, noticed, that, the, website, link, was, bit, different, https, com, amp, nbsp, amp, nbsp, he, logged, in, on, the, real, website, now, saw, that, all, his, coins, were, sold, for, than, the, was, send, away, he, tried, cancel, it, in, pending, modus, but, it, ...]                                            \n",
       "15    [warning, don, use, pull, your, money, if, you, can, scam, incoming, hello, as, you, might, have, noticed, went, shit, lately, if, you, have, working, account, you, might, think, it, just, because, they, are, understaffed, but, the, truth, is, that, they, are, pulling, scam, first, all, has, proved, again, again, that, they, are, willing, blatantly, lie, their, users, even, edit, their, blog, posts, change, facts, as, seen, here, before, edit, https, archive, fo, after, edit, https, archive, fo, they, also, are, rejecting, documents, that, have, been, accepted, by, the, service, they, use, check, documents, service, which, is, trusted, well, respected, what, ...]   \n",
       "17    [the, revolution, chapter, what, do, you, have, hide, everything, part, the, revolution, revolution, rising, expectations, section, the, moral, imperative, privacy, chapter, when, privacy, is, criminalized, only, criminals, will, be, private, by]                                                                                                                                                                                                                                                                                                                                                                                                                                            \n",
       "20    [las, vegas, address, is, not, really, their, office, just, happen, look, at, their, address, which, is, only, mile, from, my, home, so, decided, take, look, itâ, actually, cpa, firm, that, occupies, the, address, does, anyone, know, where, their, real, office, is, maybe, for, security, they, wonâ, let, anyone, know]                                                                                                                                                                                                                                                                                                                                                                    \n",
       "...                                                                                                                                                                                                                                                                                                                              ...                                                                                                                                                                                                                                                                                                                                                                    \n",
       "4271  [so, wasn, actually, hacked, stupid, arrogant, users, who, are, in, over, their, heads, cannot, manage, their, own, computer, hygiene, got, hacked, then, took, the, blame, https, twitter, com, status, https, twitter, com, status, change, my, mind]                                                                                                                                                                                                                                                                                                                                                                                                                                           \n",
       "4278  [hacked, no, money, left, tether, about, implode, who, cares, if, its, in, the, green, am, right]                                                                                                                                                                                                                                                                                                                                                                                                                                                                                                                                                                                                 \n",
       "4280  [yes, you, can, has, crypto, fiat, gateway, which, has, not, been, affected, by, the, security, breach, https, www, je]                                                                                                                                                                                                                                                                                                                                                                                                                                                                                                                                                                           \n",
       "4290  [hey, we, made, the, most, honest, funds, are, shirt, out, there, homage, your, malta, business, getup, https, shop, products, funds, are]                                                                                                                                                                                                                                                                                                                                                                                                                                                                                                                                                        \n",
       "4291  [wondering, do, know, about, the, mass, adoption, that, can, bring, crypto, is, the, best, unheard, crypto, discuss]                                                                                                                                                                                                                                                                                                                                                                                                                                                                                                                                                                              \n",
       "\n",
       "                                                                                                                                                                                                                                                                                                                                                                                                                                                                                                                                                                                                                                                                                         text_url_token  \n",
       "9     [internal, attack, failed, external, pump, in, effect, we, see, all, the, are, pumping, from, one, exchange, called, in, south, korea, which, we, all, know, roger, is, associated, with, he, funny, is, he, only, making, normies, rich, they, re, bound, wake, up, convert, once, they, get, ke, so, he, are, just, giving, away, free, from, the, extraordinary, amount, they, re, mining, over, half, the, hash, power, ppl, in, grand, elaborate, scheme, redistribution, wealth, they, arent, even, smart, enough, see, lol, god, works, in, mysterious, ways]                                                                                                                               \n",
       "14    [beware, fake, website, as, first, search, result, acc, hacked, if, you, are, new, you, dont, always, have, the, best, security, or, experience, my, friend, searched, for, using, google, clicked, the, first, result, than, he, tried, logging, in, received, mail, that, someone, logged, in, on, his, account, he, that, something, was, wrong, amp, nbsp, amp, nbsp, he, noticed, that, the, website, link, was, bit, different, amp, nbsp, amp, nbsp, he, logged, in, on, the, real, website, now, saw, that, all, his, coins, were, sold, for, than, the, was, send, away, he, tried, cancel, it, in, pending, modus, but, it, wouldn, work, ...]                                           \n",
       "15    [warning, don, use, pull, your, money, if, you, can, scam, incoming, hello, as, you, might, have, noticed, went, shit, lately, if, you, have, working, account, you, might, think, it, just, because, they, are, understaffed, but, the, truth, is, that, they, are, pulling, scam, first, all, has, proved, again, again, that, they, are, willing, blatantly, lie, their, users, even, edit, their, blog, posts, change, facts, as, seen, here, before, edit, after, edit, they, also, are, rejecting, documents, that, have, been, accepted, by, the, service, they, use, check, documents, service, which, is, trusted, well, respected, what, does, the, last, part, scream, selective, ...]  \n",
       "17    [the, revolution, chapter, what, do, you, have, hide, everything, part, the, revolution, revolution, rising, expectations, section, the, moral, imperative, when, privacy, is, criminalized, only, criminals, will, be]                                                                                                                                                                                                                                                                                                                                                                                                                                                                            \n",
       "20    [las, vegas, address, is, not, really, their, office, just, happen, look, at, their, address, which, is, only, mile, from, my, home, so, decided, take, look, its, actually, cpa, firm, that, occupies, the, address, does, anyone, know, where, their, real, office, is, maybe, for, security, they, wont, let, anyone, know]                                                                                                                                                                                                                                                                                                                                                                     \n",
       "...                                                                                                                                                                                                                                                                                                                              ...                                                                                                                                                                                                                                                                                                                                                                     \n",
       "4271  [so, wasn, actually, hacked, stupid, arrogant, users, who, are, in, over, their, heads, can, not, manage, their, own, computer, hygiene, got, hacked, then, took, the, blame, change, my, mind]                                                                                                                                                                                                                                                                                                                                                                                                                                                                                                    \n",
       "4278  [no, money, about, cares, if, its, in, the, green, am, right]                                                                                                                                                                                                                                                                                                                                                                                                                                                                                                                                                                                                                                      \n",
       "4280  [yes, you, can, has, crypto, fiat, gateway, which, has, not, been, affected, by, the, security, breach]                                                                                                                                                                                                                                                                                                                                                                                                                                                                                                                                                                                            \n",
       "4290  [hey, cz, we, made, the, most, honest, funds, are, shirt, out, there, homage, your, malta, business, getup]                                                                                                                                                                                                                                                                                                                                                                                                                                                                                                                                                                                        \n",
       "4291  [wondering, do, cz, about, the, mass, adoption, that, app, can, bring, crypto, is, the, best, unheard, crypto, discuss]                                                                                                                                                                                                                                                                                                                                                                                                                                                                                                                                                                            \n",
       "\n",
       "[1104 rows x 4 columns]"
      ]
     },
     "execution_count": 191,
     "metadata": {},
     "output_type": "execute_result"
    }
   ],
   "source": [
    "all_train[(all_train['text_token'] != all_train['text_url_token'])][['text', 'text_url', 'text_token', 'text_url_token']]"
   ]
  },
  {
   "cell_type": "markdown",
   "metadata": {},
   "source": [
    "### 6. Downsample negative cases"
   ]
  },
  {
   "cell_type": "code",
   "execution_count": 13,
   "metadata": {
    "ExecuteTime": {
     "end_time": "2020-10-24T08:00:35.477711Z",
     "start_time": "2020-10-24T08:00:35.393943Z"
    }
   },
   "outputs": [
    {
     "data": {
      "text/plain": [
       "0    2910\n",
       "1    1383\n",
       "Name: label, dtype: int64"
      ]
     },
     "execution_count": 13,
     "metadata": {},
     "output_type": "execute_result"
    }
   ],
   "source": [
    "all_train.label.value_counts()"
   ]
  },
  {
   "cell_type": "code",
   "execution_count": 14,
   "metadata": {
    "ExecuteTime": {
     "end_time": "2020-10-24T08:04:41.274047Z",
     "start_time": "2020-10-24T08:04:41.137929Z"
    }
   },
   "outputs": [],
   "source": [
    "all_train_1 = all_train[all_train.label == 1]"
   ]
  },
  {
   "cell_type": "code",
   "execution_count": 16,
   "metadata": {
    "ExecuteTime": {
     "end_time": "2020-10-24T08:05:45.149546Z",
     "start_time": "2020-10-24T08:05:45.085747Z"
    }
   },
   "outputs": [],
   "source": [
    "all_train_0_under = all_train[all_train.label == 0].sample(n=len(all_train_1), random_state = 2020)"
   ]
  },
  {
   "cell_type": "code",
   "execution_count": 18,
   "metadata": {
    "ExecuteTime": {
     "end_time": "2020-10-24T08:07:16.256500Z",
     "start_time": "2020-10-24T08:07:16.193941Z"
    }
   },
   "outputs": [],
   "source": [
    "all_train_b = pd.concat([all_train_1, all_train_0_under], axis=0)"
   ]
  },
  {
   "cell_type": "code",
   "execution_count": 19,
   "metadata": {
    "ExecuteTime": {
     "end_time": "2020-10-24T08:07:22.433239Z",
     "start_time": "2020-10-24T08:07:22.370770Z"
    }
   },
   "outputs": [
    {
     "data": {
      "text/plain": [
       "(2766, 4)"
      ]
     },
     "execution_count": 19,
     "metadata": {},
     "output_type": "execute_result"
    }
   ],
   "source": [
    "all_train_b.shape"
   ]
  },
  {
   "cell_type": "code",
   "execution_count": 21,
   "metadata": {
    "ExecuteTime": {
     "end_time": "2020-10-24T08:08:08.330740Z",
     "start_time": "2020-10-24T08:08:07.634149Z"
    }
   },
   "outputs": [],
   "source": [
    "train_features_b = get_embed_features(all_train_b['text'])"
   ]
  },
  {
   "cell_type": "code",
   "execution_count": 31,
   "metadata": {
    "ExecuteTime": {
     "end_time": "2020-10-24T08:10:33.697859Z",
     "start_time": "2020-10-24T08:10:27.861359Z"
    }
   },
   "outputs": [
    {
     "data": {
      "text/plain": [
       "CalibratedClassifierCV(base_estimator=SVC(C=1.0, break_ties=False,\n",
       "                                          cache_size=200, class_weight=None,\n",
       "                                          coef0=0.0,\n",
       "                                          decision_function_shape='ovr',\n",
       "                                          degree=3, gamma='scale', kernel='rbf',\n",
       "                                          max_iter=-1, probability=False,\n",
       "                                          random_state=None, shrinking=True,\n",
       "                                          tol=0.001, verbose=False),\n",
       "                       cv=None, method='sigmoid')"
      ]
     },
     "execution_count": 31,
     "metadata": {},
     "output_type": "execute_result"
    }
   ],
   "source": [
    "svc_b = SVC()\n",
    "svc_b = CalibratedClassifierCV(svc_b) \n",
    "svc_b.fit(train_features_b, all_train_b['label'])"
   ]
  },
  {
   "cell_type": "code",
   "execution_count": 32,
   "metadata": {
    "ExecuteTime": {
     "end_time": "2020-10-24T08:11:21.548844Z",
     "start_time": "2020-10-24T08:11:21.264808Z"
    }
   },
   "outputs": [],
   "source": [
    "news_features = get_embed_features(news['text'])"
   ]
  },
  {
   "cell_type": "code",
   "execution_count": 34,
   "metadata": {
    "ExecuteTime": {
     "end_time": "2020-10-24T08:12:20.492321Z",
     "start_time": "2020-10-24T08:12:19.314957Z"
    }
   },
   "outputs": [
    {
     "name": "stdout",
     "output_type": "stream",
     "text": [
      "              precision    recall  f1-score   support\n",
      "\n",
      "           0    0.95082   0.87124   0.90929       466\n",
      "           1    0.61783   0.82203   0.70545       118\n",
      "\n",
      "    accuracy                        0.86130       584\n",
      "   macro avg    0.78433   0.84664   0.80737       584\n",
      "weighted avg    0.88354   0.86130   0.86811       584\n",
      "\n"
     ]
    }
   ],
   "source": [
    "# svm balanced training\n",
    "get_results(svc_b, news_features, news['label'])"
   ]
  },
  {
   "cell_type": "code",
   "execution_count": null,
   "metadata": {},
   "outputs": [],
   "source": []
  },
  {
   "cell_type": "code",
   "execution_count": null,
   "metadata": {},
   "outputs": [],
   "source": []
  },
  {
   "cell_type": "code",
   "execution_count": null,
   "metadata": {},
   "outputs": [],
   "source": []
  },
  {
   "cell_type": "markdown",
   "metadata": {},
   "source": [
    "## Final model: remove url, downsample negative cases"
   ]
  },
  {
   "cell_type": "code",
   "execution_count": 36,
   "metadata": {
    "ExecuteTime": {
     "end_time": "2020-10-24T08:15:46.523110Z",
     "start_time": "2020-10-24T08:15:46.459967Z"
    }
   },
   "outputs": [],
   "source": [
    "def get_embed_features_from_df(df):\n",
    "    df['text_processed'] = df['text'].apply(lambda x: text_processing(x))\n",
    "    df['text_processed'].fillna('', inplace =True)\n",
    "    df['text_token'] = get_text_token(df['text_processed'])\n",
    "    df['token_exist'] = df['text_token'].apply(lambda x: len(x) > 0)\n",
    "    df_select = df[df['token_exist']]\n",
    "    return get_embedding(df_select['text_token'])"
   ]
  },
  {
   "cell_type": "code",
   "execution_count": 35,
   "metadata": {
    "ExecuteTime": {
     "end_time": "2020-10-24T08:15:44.018923Z",
     "start_time": "2020-10-24T08:15:37.378686Z"
    }
   },
   "outputs": [
    {
     "data": {
      "text/plain": [
       "CalibratedClassifierCV(base_estimator=SVC(C=1.0, break_ties=False,\n",
       "                                          cache_size=200, class_weight=None,\n",
       "                                          coef0=0.0,\n",
       "                                          decision_function_shape='ovr',\n",
       "                                          degree=3, gamma='scale', kernel='rbf',\n",
       "                                          max_iter=-1, probability=False,\n",
       "                                          random_state=None, shrinking=True,\n",
       "                                          tol=0.001, verbose=False),\n",
       "                       cv=None, method='sigmoid')"
      ]
     },
     "execution_count": 35,
     "metadata": {},
     "output_type": "execute_result"
    }
   ],
   "source": [
    "all_train_b['text_processed'] = all_train_b['text'].apply(lambda x: text_processing(x))\n",
    "all_train_b['text_processed'].fillna('', inplace =True)\n",
    "all_train_b['text_token'] = get_text_token(all_train_b['text_processed'])\n",
    "all_train_b['token_exist'] = all_train_b['text_token'].apply(lambda x: len(x) > 0)\n",
    "all_train_b_select = all_train_b[all_train_b['token_exist']]\n",
    "\n",
    "\n",
    "train_features_b = get_embedding(all_train_b_select['text_token'])\n",
    "svc_final = SVC()\n",
    "svc_final = CalibratedClassifierCV(svc_final) \n",
    "svc_final.fit(train_features_b, all_train_b_select['label'])"
   ]
  },
  {
   "cell_type": "code",
   "execution_count": 38,
   "metadata": {
    "ExecuteTime": {
     "end_time": "2020-10-24T08:16:03.709765Z",
     "start_time": "2020-10-24T08:16:02.226425Z"
    }
   },
   "outputs": [
    {
     "name": "stdout",
     "output_type": "stream",
     "text": [
      "              precision    recall  f1-score   support\n",
      "\n",
      "           0    0.95249   0.86052   0.90417       466\n",
      "           1    0.60123   0.83051   0.69751       118\n",
      "\n",
      "    accuracy                        0.85445       584\n",
      "   macro avg    0.77686   0.84551   0.80084       584\n",
      "weighted avg    0.88152   0.85445   0.86241       584\n",
      "\n"
     ]
    }
   ],
   "source": [
    "news_features = get_embed_features_from_df(news)\n",
    "get_results(svc_final, news_features, news['label'])"
   ]
  },
  {
   "cell_type": "code",
   "execution_count": 44,
   "metadata": {
    "ExecuteTime": {
     "end_time": "2020-10-24T08:17:07.625085Z",
     "start_time": "2020-10-24T08:17:06.739013Z"
    }
   },
   "outputs": [
    {
     "name": "stdout",
     "output_type": "stream",
     "text": [
      "              precision    recall  f1-score   support\n",
      "\n",
      "           0    0.69231   0.55385   0.61538       195\n",
      "           1    0.60811   0.73770   0.66667       183\n",
      "\n",
      "    accuracy                        0.64286       378\n",
      "   macro avg    0.65021   0.64578   0.64103       378\n",
      "weighted avg    0.65154   0.64286   0.64021       378\n",
      "\n"
     ]
    }
   ],
   "source": [
    "rd_features = get_embed_features_from_df(rd)\n",
    "get_results(svc_final, rd_features, rd['label'])"
   ]
  },
  {
   "cell_type": "code",
   "execution_count": 46,
   "metadata": {
    "ExecuteTime": {
     "end_time": "2020-10-24T08:17:24.454936Z",
     "start_time": "2020-10-24T08:17:24.122581Z"
    }
   },
   "outputs": [
    {
     "name": "stdout",
     "output_type": "stream",
     "text": [
      "              precision    recall  f1-score   support\n",
      "\n",
      "           0    0.90385   0.97917   0.94000        48\n",
      "           1    0.97872   0.90196   0.93878        51\n",
      "\n",
      "    accuracy                        0.93939        99\n",
      "   macro avg    0.94128   0.94056   0.93939        99\n",
      "weighted avg    0.94242   0.93939   0.93937        99\n",
      "\n"
     ]
    }
   ],
   "source": [
    "tt_features = get_embed_features_from_df(tt)\n",
    "get_results(svc_final, tt_features, tt['label'])"
   ]
  },
  {
   "cell_type": "code",
   "execution_count": 47,
   "metadata": {
    "ExecuteTime": {
     "end_time": "2020-10-24T08:17:34.326702Z",
     "start_time": "2020-10-24T08:17:31.831299Z"
    }
   },
   "outputs": [
    {
     "name": "stdout",
     "output_type": "stream",
     "text": [
      "              precision    recall  f1-score   support\n",
      "\n",
      "           0    0.88394   0.78420   0.83109       709\n",
      "           1    0.64583   0.79261   0.71173       352\n",
      "\n",
      "    accuracy                        0.78699      1061\n",
      "   macro avg    0.76489   0.78841   0.77141      1061\n",
      "weighted avg    0.80495   0.78699   0.79149      1061\n",
      "\n"
     ]
    }
   ],
   "source": [
    "all_test_features = get_embed_features_from_df(all_test)\n",
    "get_results(svc_final, all_test_features, all_test['label'])"
   ]
  },
  {
   "cell_type": "markdown",
   "metadata": {},
   "source": [
    "# -----"
   ]
  },
  {
   "cell_type": "markdown",
   "metadata": {
    "heading_collapsed": true
   },
   "source": [
    "## training"
   ]
  },
  {
   "cell_type": "code",
   "execution_count": 11,
   "metadata": {
    "ExecuteTime": {
     "end_time": "2020-10-24T07:59:54.686028Z",
     "start_time": "2020-10-24T07:59:54.594738Z"
    },
    "hidden": true
   },
   "outputs": [],
   "source": [
    "all_train = pd.read_csv('../data/final_0923/all_train.csv', index_col = 0)"
   ]
  },
  {
   "cell_type": "code",
   "execution_count": 140,
   "metadata": {
    "ExecuteTime": {
     "end_time": "2020-10-17T08:59:38.318393Z",
     "start_time": "2020-10-17T08:59:37.389416Z"
    },
    "hidden": true
   },
   "outputs": [],
   "source": [
    "train_features = get_embed_features(all_train['text'])"
   ]
  },
  {
   "cell_type": "code",
   "execution_count": 74,
   "metadata": {
    "ExecuteTime": {
     "end_time": "2020-10-17T08:08:41.423722Z",
     "start_time": "2020-10-17T08:08:41.420323Z"
    },
    "hidden": true
   },
   "outputs": [
    {
     "data": {
      "text/plain": [
       "(4293, 300)"
      ]
     },
     "execution_count": 74,
     "metadata": {},
     "output_type": "execute_result"
    }
   ],
   "source": [
    "train_features.shape"
   ]
  },
  {
   "cell_type": "markdown",
   "metadata": {
    "hidden": true
   },
   "source": [
    "### - svm"
   ]
  },
  {
   "cell_type": "code",
   "execution_count": 141,
   "metadata": {
    "ExecuteTime": {
     "end_time": "2020-10-17T08:59:45.159550Z",
     "start_time": "2020-10-17T08:59:45.156918Z"
    },
    "hidden": true
   },
   "outputs": [],
   "source": [
    "from sklearn.calibration import CalibratedClassifierCV"
   ]
  },
  {
   "cell_type": "code",
   "execution_count": 142,
   "metadata": {
    "ExecuteTime": {
     "end_time": "2020-10-17T08:59:59.403367Z",
     "start_time": "2020-10-17T08:59:47.766943Z"
    },
    "hidden": true
   },
   "outputs": [
    {
     "data": {
      "text/plain": [
       "CalibratedClassifierCV(base_estimator=SVC(C=1.0, break_ties=False,\n",
       "                                          cache_size=200, class_weight=None,\n",
       "                                          coef0=0.0,\n",
       "                                          decision_function_shape='ovr',\n",
       "                                          degree=3, gamma='scale', kernel='rbf',\n",
       "                                          max_iter=-1, probability=False,\n",
       "                                          random_state=None, shrinking=True,\n",
       "                                          tol=0.001, verbose=False),\n",
       "                       cv=None, method='sigmoid')"
      ]
     },
     "execution_count": 142,
     "metadata": {},
     "output_type": "execute_result"
    }
   ],
   "source": [
    "svc = SVC()\n",
    "svc = CalibratedClassifierCV(svc) \n",
    "svc.fit(train_features, all_train['label'])"
   ]
  },
  {
   "cell_type": "code",
   "execution_count": 41,
   "metadata": {
    "ExecuteTime": {
     "end_time": "2020-10-13T10:14:50.906598Z",
     "start_time": "2020-10-13T10:14:50.891746Z"
    },
    "hidden": true
   },
   "outputs": [],
   "source": [
    "pickle.dump(svc, open('svm_1013.txt', 'wb'))"
   ]
  },
  {
   "cell_type": "markdown",
   "metadata": {
    "heading_collapsed": true,
    "hidden": true
   },
   "source": [
    "### - lightGBM"
   ]
  },
  {
   "cell_type": "code",
   "execution_count": 82,
   "metadata": {
    "ExecuteTime": {
     "end_time": "2020-10-17T08:12:44.149375Z",
     "start_time": "2020-10-17T08:12:44.145514Z"
    },
    "hidden": true
   },
   "outputs": [],
   "source": [
    "clf = lgb.LGBMClassifier()"
   ]
  },
  {
   "cell_type": "code",
   "execution_count": 87,
   "metadata": {
    "ExecuteTime": {
     "end_time": "2020-10-17T08:17:32.103026Z",
     "start_time": "2020-10-17T08:17:32.089655Z"
    },
    "hidden": true
   },
   "outputs": [],
   "source": [
    "train_features, val_features, train_y, val_y = train_test_split(train_features, all_train['label'], random_state=4222)"
   ]
  },
  {
   "cell_type": "code",
   "execution_count": 89,
   "metadata": {
    "ExecuteTime": {
     "end_time": "2020-10-17T08:20:03.545251Z",
     "start_time": "2020-10-17T08:20:02.341656Z"
    },
    "hidden": true,
    "scrolled": true
   },
   "outputs": [
    {
     "name": "stdout",
     "output_type": "stream",
     "text": [
      "[1]\tvalid_0's auc: 0.792534\tvalid_0's binary_logloss: 0.589081\n",
      "Training until validation scores don't improve for 50 rounds\n",
      "[2]\tvalid_0's auc: 0.812303\tvalid_0's binary_logloss: 0.562837\n",
      "[3]\tvalid_0's auc: 0.811909\tvalid_0's binary_logloss: 0.543352\n",
      "[4]\tvalid_0's auc: 0.816088\tvalid_0's binary_logloss: 0.525586\n",
      "[5]\tvalid_0's auc: 0.818476\tvalid_0's binary_logloss: 0.511651\n",
      "[6]\tvalid_0's auc: 0.820551\tvalid_0's binary_logloss: 0.499509\n",
      "[7]\tvalid_0's auc: 0.823605\tvalid_0's binary_logloss: 0.488807\n",
      "[8]\tvalid_0's auc: 0.829781\tvalid_0's binary_logloss: 0.478446\n",
      "[9]\tvalid_0's auc: 0.834591\tvalid_0's binary_logloss: 0.468999\n",
      "[10]\tvalid_0's auc: 0.835823\tvalid_0's binary_logloss: 0.462119\n",
      "[11]\tvalid_0's auc: 0.841548\tvalid_0's binary_logloss: 0.453749\n",
      "[12]\tvalid_0's auc: 0.844061\tvalid_0's binary_logloss: 0.447497\n",
      "[13]\tvalid_0's auc: 0.844749\tvalid_0's binary_logloss: 0.442022\n",
      "[14]\tvalid_0's auc: 0.844427\tvalid_0's binary_logloss: 0.438363\n",
      "[15]\tvalid_0's auc: 0.847062\tvalid_0's binary_logloss: 0.433248\n",
      "[16]\tvalid_0's auc: 0.849353\tvalid_0's binary_logloss: 0.428489\n",
      "[17]\tvalid_0's auc: 0.849691\tvalid_0's binary_logloss: 0.425689\n",
      "[18]\tvalid_0's auc: 0.849869\tvalid_0's binary_logloss: 0.422527\n",
      "[19]\tvalid_0's auc: 0.850662\tvalid_0's binary_logloss: 0.419889\n",
      "[20]\tvalid_0's auc: 0.854366\tvalid_0's binary_logloss: 0.416608\n",
      "[21]\tvalid_0's auc: 0.85677\tvalid_0's binary_logloss: 0.412983\n",
      "[22]\tvalid_0's auc: 0.859918\tvalid_0's binary_logloss: 0.40875\n",
      "[23]\tvalid_0's auc: 0.86144\tvalid_0's binary_logloss: 0.405715\n",
      "[24]\tvalid_0's auc: 0.860454\tvalid_0's binary_logloss: 0.404356\n",
      "[25]\tvalid_0's auc: 0.860836\tvalid_0's binary_logloss: 0.401962\n",
      "[26]\tvalid_0's auc: 0.8615\tvalid_0's binary_logloss: 0.401023\n",
      "[27]\tvalid_0's auc: 0.860993\tvalid_0's binary_logloss: 0.40016\n",
      "[28]\tvalid_0's auc: 0.86107\tvalid_0's binary_logloss: 0.399396\n",
      "[29]\tvalid_0's auc: 0.862012\tvalid_0's binary_logloss: 0.397895\n",
      "[30]\tvalid_0's auc: 0.862447\tvalid_0's binary_logloss: 0.396474\n",
      "[31]\tvalid_0's auc: 0.862696\tvalid_0's binary_logloss: 0.396207\n",
      "[32]\tvalid_0's auc: 0.863304\tvalid_0's binary_logloss: 0.394819\n",
      "[33]\tvalid_0's auc: 0.863357\tvalid_0's binary_logloss: 0.394716\n",
      "[34]\tvalid_0's auc: 0.864279\tvalid_0's binary_logloss: 0.393398\n",
      "[35]\tvalid_0's auc: 0.865865\tvalid_0's binary_logloss: 0.39193\n",
      "[36]\tvalid_0's auc: 0.865756\tvalid_0's binary_logloss: 0.391504\n",
      "[37]\tvalid_0's auc: 0.867181\tvalid_0's binary_logloss: 0.389513\n",
      "[38]\tvalid_0's auc: 0.868152\tvalid_0's binary_logloss: 0.388182\n",
      "[39]\tvalid_0's auc: 0.868212\tvalid_0's binary_logloss: 0.387976\n",
      "[40]\tvalid_0's auc: 0.870499\tvalid_0's binary_logloss: 0.386447\n",
      "[41]\tvalid_0's auc: 0.871236\tvalid_0's binary_logloss: 0.38563\n",
      "[42]\tvalid_0's auc: 0.872033\tvalid_0's binary_logloss: 0.384723\n",
      "[43]\tvalid_0's auc: 0.871828\tvalid_0's binary_logloss: 0.385108\n",
      "[44]\tvalid_0's auc: 0.871292\tvalid_0's binary_logloss: 0.386151\n",
      "[45]\tvalid_0's auc: 0.872094\tvalid_0's binary_logloss: 0.385648\n",
      "[46]\tvalid_0's auc: 0.872476\tvalid_0's binary_logloss: 0.385344\n",
      "[47]\tvalid_0's auc: 0.871945\tvalid_0's binary_logloss: 0.386221\n",
      "[48]\tvalid_0's auc: 0.871808\tvalid_0's binary_logloss: 0.386518\n",
      "[49]\tvalid_0's auc: 0.871751\tvalid_0's binary_logloss: 0.386808\n",
      "[50]\tvalid_0's auc: 0.872702\tvalid_0's binary_logloss: 0.386353\n",
      "[51]\tvalid_0's auc: 0.873519\tvalid_0's binary_logloss: 0.385817\n",
      "[52]\tvalid_0's auc: 0.874332\tvalid_0's binary_logloss: 0.38565\n",
      "[53]\tvalid_0's auc: 0.874755\tvalid_0's binary_logloss: 0.385392\n",
      "[54]\tvalid_0's auc: 0.874638\tvalid_0's binary_logloss: 0.385531\n",
      "[55]\tvalid_0's auc: 0.87608\tvalid_0's binary_logloss: 0.384243\n",
      "[56]\tvalid_0's auc: 0.876047\tvalid_0's binary_logloss: 0.384248\n",
      "[57]\tvalid_0's auc: 0.876752\tvalid_0's binary_logloss: 0.384055\n",
      "[58]\tvalid_0's auc: 0.876555\tvalid_0's binary_logloss: 0.384909\n",
      "[59]\tvalid_0's auc: 0.876929\tvalid_0's binary_logloss: 0.385046\n",
      "[60]\tvalid_0's auc: 0.877734\tvalid_0's binary_logloss: 0.384982\n",
      "[61]\tvalid_0's auc: 0.878636\tvalid_0's binary_logloss: 0.384427\n",
      "[62]\tvalid_0's auc: 0.879248\tvalid_0's binary_logloss: 0.384344\n",
      "[63]\tvalid_0's auc: 0.879095\tvalid_0's binary_logloss: 0.38497\n",
      "[64]\tvalid_0's auc: 0.878592\tvalid_0's binary_logloss: 0.386886\n",
      "[65]\tvalid_0's auc: 0.878431\tvalid_0's binary_logloss: 0.387845\n",
      "[66]\tvalid_0's auc: 0.878681\tvalid_0's binary_logloss: 0.387977\n",
      "[67]\tvalid_0's auc: 0.878785\tvalid_0's binary_logloss: 0.388424\n",
      "[68]\tvalid_0's auc: 0.879083\tvalid_0's binary_logloss: 0.388658\n",
      "[69]\tvalid_0's auc: 0.879172\tvalid_0's binary_logloss: 0.389173\n",
      "[70]\tvalid_0's auc: 0.879268\tvalid_0's binary_logloss: 0.390093\n",
      "[71]\tvalid_0's auc: 0.879478\tvalid_0's binary_logloss: 0.390043\n",
      "[72]\tvalid_0's auc: 0.879945\tvalid_0's binary_logloss: 0.390397\n",
      "[73]\tvalid_0's auc: 0.879103\tvalid_0's binary_logloss: 0.391933\n",
      "[74]\tvalid_0's auc: 0.879135\tvalid_0's binary_logloss: 0.392666\n",
      "[75]\tvalid_0's auc: 0.879913\tvalid_0's binary_logloss: 0.392294\n",
      "[76]\tvalid_0's auc: 0.880259\tvalid_0's binary_logloss: 0.392068\n",
      "[77]\tvalid_0's auc: 0.880351\tvalid_0's binary_logloss: 0.392949\n",
      "[78]\tvalid_0's auc: 0.880404\tvalid_0's binary_logloss: 0.393403\n",
      "[79]\tvalid_0's auc: 0.88007\tvalid_0's binary_logloss: 0.394348\n",
      "[80]\tvalid_0's auc: 0.880174\tvalid_0's binary_logloss: 0.394668\n",
      "[81]\tvalid_0's auc: 0.88017\tvalid_0's binary_logloss: 0.396041\n",
      "[82]\tvalid_0's auc: 0.880074\tvalid_0's binary_logloss: 0.397034\n",
      "[83]\tvalid_0's auc: 0.880235\tvalid_0's binary_logloss: 0.397224\n",
      "[84]\tvalid_0's auc: 0.880235\tvalid_0's binary_logloss: 0.398352\n",
      "[85]\tvalid_0's auc: 0.880363\tvalid_0's binary_logloss: 0.399482\n",
      "[86]\tvalid_0's auc: 0.88017\tvalid_0's binary_logloss: 0.400166\n",
      "[87]\tvalid_0's auc: 0.880512\tvalid_0's binary_logloss: 0.400795\n",
      "[88]\tvalid_0's auc: 0.880219\tvalid_0's binary_logloss: 0.402258\n",
      "[89]\tvalid_0's auc: 0.880553\tvalid_0's binary_logloss: 0.402339\n",
      "[90]\tvalid_0's auc: 0.880368\tvalid_0's binary_logloss: 0.403635\n",
      "[91]\tvalid_0's auc: 0.88042\tvalid_0's binary_logloss: 0.404003\n",
      "[92]\tvalid_0's auc: 0.880464\tvalid_0's binary_logloss: 0.405176\n",
      "[93]\tvalid_0's auc: 0.880311\tvalid_0's binary_logloss: 0.406474\n",
      "[94]\tvalid_0's auc: 0.880855\tvalid_0's binary_logloss: 0.406592\n",
      "[95]\tvalid_0's auc: 0.880504\tvalid_0's binary_logloss: 0.408169\n",
      "[96]\tvalid_0's auc: 0.88046\tvalid_0's binary_logloss: 0.408953\n",
      "[97]\tvalid_0's auc: 0.880162\tvalid_0's binary_logloss: 0.4101\n",
      "[98]\tvalid_0's auc: 0.880802\tvalid_0's binary_logloss: 0.410227\n",
      "[99]\tvalid_0's auc: 0.881322\tvalid_0's binary_logloss: 0.410687\n",
      "[100]\tvalid_0's auc: 0.882018\tvalid_0's binary_logloss: 0.410265\n",
      "Did not meet early stopping. Best iteration is:\n",
      "[100]\tvalid_0's auc: 0.882018\tvalid_0's binary_logloss: 0.410265\n"
     ]
    }
   ],
   "source": [
    "gbm = clf.fit(X=train_features, \n",
    "              y=train_y,\n",
    "              eval_set=[(val_features, val_y)],\n",
    "              eval_metric=['auc', 'binary_logloss'],\n",
    "              early_stopping_rounds=50, \n",
    "              verbose=True)"
   ]
  },
  {
   "cell_type": "markdown",
   "metadata": {},
   "source": [
    "## testing"
   ]
  },
  {
   "cell_type": "markdown",
   "metadata": {
    "heading_collapsed": true
   },
   "source": [
    "### - news"
   ]
  },
  {
   "cell_type": "code",
   "execution_count": 28,
   "metadata": {
    "ExecuteTime": {
     "end_time": "2020-10-24T08:09:49.634558Z",
     "start_time": "2020-10-24T08:09:49.561138Z"
    },
    "hidden": true
   },
   "outputs": [],
   "source": [
    "news = pd.read_csv('../data/final_0923/news_test.csv', index_col = 0)"
   ]
  },
  {
   "cell_type": "code",
   "execution_count": 144,
   "metadata": {
    "ExecuteTime": {
     "end_time": "2020-10-17T09:00:10.527533Z",
     "start_time": "2020-10-17T09:00:10.339138Z"
    },
    "hidden": true
   },
   "outputs": [],
   "source": [
    "news_features = get_embed_features(news['text'])"
   ]
  },
  {
   "cell_type": "code",
   "execution_count": 28,
   "metadata": {
    "ExecuteTime": {
     "end_time": "2020-09-23T10:12:55.061619Z",
     "start_time": "2020-09-23T10:12:55.052427Z"
    },
    "hidden": true
   },
   "outputs": [
    {
     "name": "stdout",
     "output_type": "stream",
     "text": [
      "              precision    recall  f1-score   support\n",
      "\n",
      "           0    0.85878   0.96567   0.90909       466\n",
      "           1    0.73333   0.37288   0.49438       118\n",
      "\n",
      "    accuracy                        0.84589       584\n",
      "   macro avg    0.79606   0.66927   0.70174       584\n",
      "weighted avg    0.83343   0.84589   0.82530       584\n",
      "\n"
     ]
    }
   ],
   "source": [
    "# logistic regression\n",
    "get_results(lr, news_features, news['label'])"
   ]
  },
  {
   "cell_type": "code",
   "execution_count": 29,
   "metadata": {
    "ExecuteTime": {
     "end_time": "2020-09-23T10:13:12.406791Z",
     "start_time": "2020-09-23T10:13:12.023984Z"
    },
    "hidden": true
   },
   "outputs": [
    {
     "name": "stdout",
     "output_type": "stream",
     "text": [
      "              precision    recall  f1-score   support\n",
      "\n",
      "           0    0.86372   0.96567   0.91185       466\n",
      "           1    0.74603   0.39831   0.51934       118\n",
      "\n",
      "    accuracy                        0.85103       584\n",
      "   macro avg    0.80488   0.68199   0.71560       584\n",
      "weighted avg    0.83994   0.85103   0.83254       584\n",
      "\n"
     ]
    }
   ],
   "source": [
    "# svm\n",
    "get_results(svc, news_features, news['label'])"
   ]
  },
  {
   "cell_type": "code",
   "execution_count": 112,
   "metadata": {
    "ExecuteTime": {
     "end_time": "2020-10-17T08:31:56.283132Z",
     "start_time": "2020-10-17T08:31:56.272152Z"
    },
    "hidden": true
   },
   "outputs": [
    {
     "name": "stdout",
     "output_type": "stream",
     "text": [
      "              precision    recall  f1-score   support\n",
      "\n",
      "           0    0.86590   0.96996   0.91498       466\n",
      "           1    0.77419   0.40678   0.53333       118\n",
      "\n",
      "    accuracy                        0.85616       584\n",
      "   macro avg    0.82005   0.68837   0.72416       584\n",
      "weighted avg    0.84737   0.85616   0.83787       584\n",
      "\n"
     ]
    }
   ],
   "source": [
    "# lightGBM\n",
    "get_results(gbm, news_features, news['label'])"
   ]
  },
  {
   "cell_type": "code",
   "execution_count": 145,
   "metadata": {
    "ExecuteTime": {
     "end_time": "2020-10-17T09:00:22.581104Z",
     "start_time": "2020-10-17T09:00:21.135024Z"
    },
    "hidden": true
   },
   "outputs": [
    {
     "name": "stdout",
     "output_type": "stream",
     "text": [
      "              precision    recall  f1-score   support\n",
      "\n",
      "           0    0.86965   0.95923   0.91224       466\n",
      "           1    0.72857   0.43220   0.54255       118\n",
      "\n",
      "    accuracy                        0.85274       584\n",
      "   macro avg    0.79911   0.69572   0.72740       584\n",
      "weighted avg    0.84114   0.85274   0.83755       584\n",
      "\n"
     ]
    }
   ],
   "source": [
    "# svm\n",
    "get_results(svc, news_features, news['label'])"
   ]
  },
  {
   "cell_type": "code",
   "execution_count": 30,
   "metadata": {
    "ExecuteTime": {
     "end_time": "2020-09-23T10:13:28.705878Z",
     "start_time": "2020-09-23T10:13:28.673065Z"
    },
    "hidden": true
   },
   "outputs": [
    {
     "name": "stdout",
     "output_type": "stream",
     "text": [
      "              precision    recall  f1-score   support\n",
      "\n",
      "           0    0.84601   0.97854   0.90746       466\n",
      "           1    0.77778   0.29661   0.42945       118\n",
      "\n",
      "    accuracy                        0.84075       584\n",
      "   macro avg    0.81189   0.63758   0.66846       584\n",
      "weighted avg    0.83222   0.84075   0.81088       584\n",
      "\n"
     ]
    }
   ],
   "source": [
    "# random forest\n",
    "get_results(rf, news_features, news['label'])"
   ]
  },
  {
   "cell_type": "markdown",
   "metadata": {
    "heading_collapsed": true
   },
   "source": [
    "### - reddit"
   ]
  },
  {
   "cell_type": "code",
   "execution_count": 40,
   "metadata": {
    "ExecuteTime": {
     "end_time": "2020-10-24T08:16:37.774030Z",
     "start_time": "2020-10-24T08:16:37.707321Z"
    },
    "hidden": true
   },
   "outputs": [],
   "source": [
    "rd = pd.read_csv('../data/final_0923/reddit_test.csv', index_col = 0)"
   ]
  },
  {
   "cell_type": "code",
   "execution_count": 14,
   "metadata": {
    "ExecuteTime": {
     "end_time": "2020-10-02T10:49:40.752782Z",
     "start_time": "2020-10-02T10:49:40.656348Z"
    },
    "hidden": true
   },
   "outputs": [],
   "source": [
    "rd_features = get_embed_features(rd['text'])"
   ]
  },
  {
   "cell_type": "markdown",
   "metadata": {
    "heading_collapsed": true,
    "hidden": true
   },
   "source": [
    "#### all_model"
   ]
  },
  {
   "cell_type": "code",
   "execution_count": 34,
   "metadata": {
    "ExecuteTime": {
     "end_time": "2020-09-23T10:16:29.011659Z",
     "start_time": "2020-09-23T10:16:29.003020Z"
    },
    "hidden": true
   },
   "outputs": [
    {
     "name": "stdout",
     "output_type": "stream",
     "text": [
      "              precision    recall  f1-score   support\n",
      "\n",
      "           0    0.66816   0.76410   0.71292       195\n",
      "           1    0.70323   0.59563   0.64497       183\n",
      "\n",
      "    accuracy                        0.68254       378\n",
      "   macro avg    0.68569   0.67987   0.67894       378\n",
      "weighted avg    0.68514   0.68254   0.68002       378\n",
      "\n"
     ]
    }
   ],
   "source": [
    "# logistic regression\n",
    "get_results(lr, rd_features, rd['label'])"
   ]
  },
  {
   "cell_type": "code",
   "execution_count": 35,
   "metadata": {
    "ExecuteTime": {
     "end_time": "2020-09-23T10:16:47.265649Z",
     "start_time": "2020-09-23T10:16:47.002480Z"
    },
    "hidden": true
   },
   "outputs": [
    {
     "name": "stdout",
     "output_type": "stream",
     "text": [
      "              precision    recall  f1-score   support\n",
      "\n",
      "           0    0.67105   0.78462   0.72340       195\n",
      "           1    0.72000   0.59016   0.64865       183\n",
      "\n",
      "    accuracy                        0.69048       378\n",
      "   macro avg    0.69553   0.68739   0.68603       378\n",
      "weighted avg    0.69475   0.69048   0.68721       378\n",
      "\n"
     ]
    }
   ],
   "source": [
    "# svm\n",
    "get_results(svm, rd_features, rd['label'])"
   ]
  },
  {
   "cell_type": "code",
   "execution_count": 107,
   "metadata": {
    "ExecuteTime": {
     "end_time": "2020-10-17T08:30:14.110452Z",
     "start_time": "2020-10-17T08:30:14.095308Z"
    },
    "hidden": true
   },
   "outputs": [
    {
     "name": "stdout",
     "output_type": "stream",
     "text": [
      "              precision    recall  f1-score   support\n",
      "\n",
      "           0    0.67606   0.73846   0.70588       195\n",
      "           1    0.69091   0.62295   0.65517       183\n",
      "\n",
      "    accuracy                        0.68254       378\n",
      "   macro avg    0.68348   0.68071   0.68053       378\n",
      "weighted avg    0.68325   0.68254   0.68133       378\n",
      "\n"
     ]
    }
   ],
   "source": [
    "# lightGBM\n",
    "get_results(gbm, rd_features, rd['label'])"
   ]
  },
  {
   "cell_type": "code",
   "execution_count": 36,
   "metadata": {
    "ExecuteTime": {
     "end_time": "2020-09-23T10:17:01.697731Z",
     "start_time": "2020-09-23T10:17:01.673467Z"
    },
    "hidden": true
   },
   "outputs": [
    {
     "name": "stdout",
     "output_type": "stream",
     "text": [
      "              precision    recall  f1-score   support\n",
      "\n",
      "           0    0.64407   0.77949   0.70534       195\n",
      "           1    0.69718   0.54098   0.60923       183\n",
      "\n",
      "    accuracy                        0.66402       378\n",
      "   macro avg    0.67063   0.66024   0.65728       378\n",
      "weighted avg    0.66978   0.66402   0.65881       378\n",
      "\n"
     ]
    }
   ],
   "source": [
    "# random forest\n",
    "get_results(rf, rd_features, rd['label'])"
   ]
  },
  {
   "cell_type": "markdown",
   "metadata": {
    "heading_collapsed": true,
    "hidden": true
   },
   "source": [
    "#### reddit_model"
   ]
  },
  {
   "cell_type": "code",
   "execution_count": 15,
   "metadata": {
    "ExecuteTime": {
     "end_time": "2020-10-02T10:50:38.620488Z",
     "start_time": "2020-10-02T10:50:38.611608Z"
    },
    "hidden": true
   },
   "outputs": [
    {
     "name": "stdout",
     "output_type": "stream",
     "text": [
      "              precision    recall  f1-score   support\n",
      "\n",
      "           0    0.66250   0.81538   0.73103       195\n",
      "           1    0.73913   0.55738   0.63551       183\n",
      "\n",
      "    accuracy                        0.69048       378\n",
      "   macro avg    0.70082   0.68638   0.68327       378\n",
      "weighted avg    0.69960   0.69048   0.68479       378\n",
      "\n"
     ]
    }
   ],
   "source": [
    "# logistic regression\n",
    "get_results(rd_lr, rd_features, rd['label'])"
   ]
  },
  {
   "cell_type": "code",
   "execution_count": 16,
   "metadata": {
    "ExecuteTime": {
     "end_time": "2020-10-02T10:51:22.741343Z",
     "start_time": "2020-10-02T10:51:22.561391Z"
    },
    "hidden": true
   },
   "outputs": [
    {
     "name": "stdout",
     "output_type": "stream",
     "text": [
      "              precision    recall  f1-score   support\n",
      "\n",
      "           0    0.66531   0.83590   0.74091       195\n",
      "           1    0.75940   0.55191   0.63924       183\n",
      "\n",
      "    accuracy                        0.69841       378\n",
      "   macro avg    0.71235   0.69391   0.69007       378\n",
      "weighted avg    0.71086   0.69841   0.69169       378\n",
      "\n"
     ]
    }
   ],
   "source": [
    "# svm\n",
    "get_results(rd_svm, rd_features, rd['label'])"
   ]
  },
  {
   "cell_type": "code",
   "execution_count": 17,
   "metadata": {
    "ExecuteTime": {
     "end_time": "2020-10-02T10:51:59.562878Z",
     "start_time": "2020-10-02T10:51:59.538403Z"
    },
    "hidden": true
   },
   "outputs": [
    {
     "name": "stdout",
     "output_type": "stream",
     "text": [
      "              precision    recall  f1-score   support\n",
      "\n",
      "           0    0.62846   0.81538   0.70982       195\n",
      "           1    0.71200   0.48634   0.57792       183\n",
      "\n",
      "    accuracy                        0.65608       378\n",
      "   macro avg    0.67023   0.65086   0.64387       378\n",
      "weighted avg    0.66890   0.65608   0.64597       378\n",
      "\n"
     ]
    }
   ],
   "source": [
    "# random forest\n",
    "get_results(rd_rf, rd_features, rd['label'])"
   ]
  },
  {
   "cell_type": "markdown",
   "metadata": {
    "heading_collapsed": true
   },
   "source": [
    "### - twitter"
   ]
  },
  {
   "cell_type": "code",
   "execution_count": 41,
   "metadata": {
    "ExecuteTime": {
     "end_time": "2020-10-24T08:16:45.917788Z",
     "start_time": "2020-10-24T08:16:45.840682Z"
    },
    "hidden": true
   },
   "outputs": [],
   "source": [
    "tt = pd.read_csv('../data/final_0923/twitter_test.csv', index_col = 0)"
   ]
  },
  {
   "cell_type": "code",
   "execution_count": 110,
   "metadata": {
    "ExecuteTime": {
     "end_time": "2020-10-17T08:30:55.544561Z",
     "start_time": "2020-10-17T08:30:55.465224Z"
    },
    "hidden": true
   },
   "outputs": [],
   "source": [
    "tt_features = get_embed_features(tt['text'])"
   ]
  },
  {
   "cell_type": "code",
   "execution_count": 20,
   "metadata": {
    "ExecuteTime": {
     "end_time": "2020-09-23T10:04:48.378946Z",
     "start_time": "2020-09-23T10:04:48.368363Z"
    },
    "hidden": true
   },
   "outputs": [
    {
     "name": "stdout",
     "output_type": "stream",
     "text": [
      "              precision    recall  f1-score   support\n",
      "\n",
      "           0    0.75000   1.00000   0.85714        48\n",
      "           1    1.00000   0.68627   0.81395        51\n",
      "\n",
      "    accuracy                        0.83838        99\n",
      "   macro avg    0.87500   0.84314   0.83555        99\n",
      "weighted avg    0.87879   0.83838   0.83489        99\n",
      "\n"
     ]
    }
   ],
   "source": [
    "# logistic regression\n",
    "get_results(lr, tt_features, tt['label'])"
   ]
  },
  {
   "cell_type": "code",
   "execution_count": 22,
   "metadata": {
    "ExecuteTime": {
     "end_time": "2020-09-23T10:07:43.254843Z",
     "start_time": "2020-09-23T10:07:43.163398Z"
    },
    "hidden": true
   },
   "outputs": [
    {
     "name": "stdout",
     "output_type": "stream",
     "text": [
      "              precision    recall  f1-score   support\n",
      "\n",
      "           0    0.84211   1.00000   0.91429        48\n",
      "           1    1.00000   0.82353   0.90323        51\n",
      "\n",
      "    accuracy                        0.90909        99\n",
      "   macro avg    0.92105   0.91176   0.90876        99\n",
      "weighted avg    0.92344   0.90909   0.90859        99\n",
      "\n"
     ]
    }
   ],
   "source": [
    "# svm\n",
    "get_results(svm, tt_features, tt['label'])"
   ]
  },
  {
   "cell_type": "code",
   "execution_count": 111,
   "metadata": {
    "ExecuteTime": {
     "end_time": "2020-10-17T08:30:58.546790Z",
     "start_time": "2020-10-17T08:30:58.538106Z"
    },
    "hidden": true
   },
   "outputs": [
    {
     "name": "stdout",
     "output_type": "stream",
     "text": [
      "              precision    recall  f1-score   support\n",
      "\n",
      "           0    0.82759   1.00000   0.90566        48\n",
      "           1    1.00000   0.80392   0.89130        51\n",
      "\n",
      "    accuracy                        0.89899        99\n",
      "   macro avg    0.91379   0.90196   0.89848        99\n",
      "weighted avg    0.91641   0.89899   0.89826        99\n",
      "\n"
     ]
    }
   ],
   "source": [
    "# lightGBM\n",
    "get_results(gbm, tt_features, tt['label'])"
   ]
  },
  {
   "cell_type": "code",
   "execution_count": 24,
   "metadata": {
    "ExecuteTime": {
     "end_time": "2020-09-23T10:10:27.684822Z",
     "start_time": "2020-09-23T10:10:27.664676Z"
    },
    "hidden": true
   },
   "outputs": [
    {
     "name": "stdout",
     "output_type": "stream",
     "text": [
      "              precision    recall  f1-score   support\n",
      "\n",
      "           0    0.76190   1.00000   0.86486        48\n",
      "           1    1.00000   0.70588   0.82759        51\n",
      "\n",
      "    accuracy                        0.84848        99\n",
      "   macro avg    0.88095   0.85294   0.84623        99\n",
      "weighted avg    0.88456   0.84848   0.84566        99\n",
      "\n"
     ]
    }
   ],
   "source": [
    "# random forest\n",
    "get_results(rf, tt_features, tt['label'])"
   ]
  },
  {
   "cell_type": "markdown",
   "metadata": {
    "heading_collapsed": true
   },
   "source": [
    "### - all"
   ]
  },
  {
   "cell_type": "code",
   "execution_count": 42,
   "metadata": {
    "ExecuteTime": {
     "end_time": "2020-10-24T08:16:49.901549Z",
     "start_time": "2020-10-24T08:16:49.827538Z"
    },
    "hidden": true
   },
   "outputs": [],
   "source": [
    "all_test = pd.read_csv('../data/final_0923/all_test.csv', index_col = 0)"
   ]
  },
  {
   "cell_type": "code",
   "execution_count": 242,
   "metadata": {
    "ExecuteTime": {
     "end_time": "2020-10-17T10:19:15.001094Z",
     "start_time": "2020-10-17T10:19:14.737123Z"
    },
    "hidden": true
   },
   "outputs": [],
   "source": [
    "all_test_features = get_embed_features(all_test['text'])"
   ]
  },
  {
   "cell_type": "code",
   "execution_count": 39,
   "metadata": {
    "ExecuteTime": {
     "end_time": "2020-09-23T10:18:47.687832Z",
     "start_time": "2020-09-23T10:18:47.677725Z"
    },
    "hidden": true
   },
   "outputs": [
    {
     "name": "stdout",
     "output_type": "stream",
     "text": [
      "              precision    recall  f1-score   support\n",
      "\n",
      "           0    0.79778   0.91255   0.85132       709\n",
      "           1    0.75200   0.53409   0.62458       352\n",
      "\n",
      "    accuracy                        0.78699      1061\n",
      "   macro avg    0.77489   0.72332   0.73795      1061\n",
      "weighted avg    0.78259   0.78699   0.77609      1061\n",
      "\n"
     ]
    }
   ],
   "source": [
    "# logistic regression\n",
    "get_results(lr, all_test_features, all_test['label'])"
   ]
  },
  {
   "cell_type": "code",
   "execution_count": 40,
   "metadata": {
    "ExecuteTime": {
     "end_time": "2020-09-23T10:18:59.288872Z",
     "start_time": "2020-09-23T10:18:58.530185Z"
    },
    "hidden": true
   },
   "outputs": [
    {
     "name": "stdout",
     "output_type": "stream",
     "text": [
      "              precision    recall  f1-score   support\n",
      "\n",
      "           0    0.80769   0.91819   0.85941       709\n",
      "           1    0.77255   0.55966   0.64909       352\n",
      "\n",
      "    accuracy                        0.79925      1061\n",
      "   macro avg    0.79012   0.73893   0.75425      1061\n",
      "weighted avg    0.79603   0.79925   0.78963      1061\n",
      "\n"
     ]
    }
   ],
   "source": [
    "# svm\n",
    "get_results(svm, all_test_features, all_test['label'])"
   ]
  },
  {
   "cell_type": "code",
   "execution_count": 41,
   "metadata": {
    "ExecuteTime": {
     "end_time": "2020-09-23T10:19:14.289087Z",
     "start_time": "2020-09-23T10:19:14.253659Z"
    },
    "hidden": true
   },
   "outputs": [
    {
     "name": "stdout",
     "output_type": "stream",
     "text": [
      "              precision    recall  f1-score   support\n",
      "\n",
      "           0    0.78282   0.92525   0.84809       709\n",
      "           1    0.76233   0.48295   0.59130       352\n",
      "\n",
      "    accuracy                        0.77851      1061\n",
      "   macro avg    0.77257   0.70410   0.71970      1061\n",
      "weighted avg    0.77602   0.77851   0.76290      1061\n",
      "\n"
     ]
    }
   ],
   "source": [
    "# random forest\n",
    "get_results(rf, all_test_features, all_test['label'])"
   ]
  },
  {
   "cell_type": "code",
   "execution_count": null,
   "metadata": {
    "hidden": true
   },
   "outputs": [],
   "source": []
  },
  {
   "cell_type": "code",
   "execution_count": null,
   "metadata": {
    "hidden": true
   },
   "outputs": [],
   "source": []
  }
 ],
 "metadata": {
  "kernelspec": {
   "display_name": "Python 3",
   "language": "python",
   "name": "python3"
  },
  "language_info": {
   "codemirror_mode": {
    "name": "ipython",
    "version": 3
   },
   "file_extension": ".py",
   "mimetype": "text/x-python",
   "name": "python",
   "nbconvert_exporter": "python",
   "pygments_lexer": "ipython3",
   "version": "3.7.6"
  },
  "toc": {
   "base_numbering": "",
   "nav_menu": {},
   "number_sections": false,
   "sideBar": true,
   "skip_h1_title": false,
   "title_cell": "Table of Contents",
   "title_sidebar": "Contents",
   "toc_cell": false,
   "toc_position": {
    "height": "calc(100% - 180px)",
    "left": "10px",
    "top": "150px",
    "width": "165px"
   },
   "toc_section_display": true,
   "toc_window_display": false
  }
 },
 "nbformat": 4,
 "nbformat_minor": 4
}
