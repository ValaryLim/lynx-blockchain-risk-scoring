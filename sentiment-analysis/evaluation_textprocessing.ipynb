{
 "cells": [
  {
   "cell_type": "markdown",
   "metadata": {},
   "source": [
    "# Evaluation of Text Processing Functions"
   ]
  },
  {
   "cell_type": "code",
   "execution_count": 1,
   "metadata": {},
   "outputs": [
    {
     "name": "stderr",
     "output_type": "stream",
     "text": [
      "\u001b[34m\u001b[1mwandb\u001b[0m: \u001b[33mWARNING\u001b[0m W&B installed but not logged in.  Run `wandb login` or set the WANDB_API_KEY env variable.\n"
     ]
    }
   ],
   "source": [
    "import numpy as np\n",
    "import pandas as pd\n",
    "\n",
    "# pre-processing\n",
    "import re\n",
    "import string\n",
    "import nltk\n",
    "from nltk.corpus import stopwords # stopwords\n",
    "from nltk.stem import WordNetLemmatizer # word lemmatizer\n",
    "from nltk.stem.snowball import SnowballStemmer # stemmer\n",
    "\n",
    "# model loading packages (for testing)\n",
    "import pickle\n",
    "import fasttext\n",
    "from word2vec import get_embed_features\n",
    "from simpletransformers.classification import ClassificationModel, ClassificationArgs # bert\n",
    "from sklearn.metrics import classification_report # bert\n",
    "from scipy.special import softmax # bert"
   ]
  },
  {
   "cell_type": "code",
   "execution_count": 2,
   "metadata": {},
   "outputs": [],
   "source": [
    "def is_alphanumeric(text):\n",
    "    return any(char.isdigit() for char in text) and any(char.isalpha() for char in text)\n",
    "\n",
    "def is_transaction_hash(text):\n",
    "    return is_alphanumeric(text) and len(text) > 20\n",
    "\n",
    "def text_processing(text, \n",
    "                    lower=True, \n",
    "                    remove_url=True, \n",
    "                    remove_punctuation=True, \n",
    "                    remove_stopwords=False, \n",
    "                    replace_entity=False, \n",
    "                    replace_hash=False,\n",
    "                    split_alphanumeric=False,\n",
    "                    lemmatize=False,\n",
    "                    stem=False):\n",
    "    '''\n",
    "    Accepts a text and options to run the following processing functions:\n",
    "    '''\n",
    "    # strip non-ascii characters\n",
    "    text = text.encode('ascii', errors='ignore')\n",
    "    text = str(text.decode(\"utf-8\"))\n",
    "\n",
    "    # covert to lowercase\n",
    "    if lower:\n",
    "        text = text.lower()\n",
    "\n",
    "    # remove url \n",
    "    if remove_url:\n",
    "        text = re.sub(r'http\\S+', '', text)\n",
    "    \n",
    "    # remove punctuation\n",
    "    if remove_punctuation:\n",
    "        text = text.translate(str.maketrans(string.punctuation, ' '*len(string.punctuation)))\n",
    "        \n",
    "    # remove unnecessary new lines and whitespaces\n",
    "    text = text.replace(\"\\n\", \"\") \n",
    "    text = ' '.join(text.split())\n",
    "    \n",
    "    # tokenize\n",
    "    text_words = nltk.word_tokenize(text)\n",
    "\n",
    "    # lemmatize\n",
    "    if lemmatize:\n",
    "        wordnet_lemmatizer = WordNetLemmatizer()\n",
    "        text_words = [wordnet_lemmatizer.lemmatize(x, pos=\"v\") for x in text_words]\n",
    "\n",
    "    # stem\n",
    "    if stem:\n",
    "        stemmer = SnowballStemmer(\"english\")\n",
    "        text_words = [stemmer.stem(x) for x in text_words]\n",
    "\n",
    "    # remove stop words\n",
    "    if remove_stopwords:\n",
    "        stop = list(stopwords.words('english'))\n",
    "        keep_stopwords = [\"no\", \"not\", \"nor\"]\n",
    "        for word in keep_stopwords:\n",
    "            stop.remove(word)\n",
    "            stop = set(stop)\n",
    "        text_words = [x for x in text_words if not x.lower() in stop]\n",
    "    \n",
    "    # replace entity\n",
    "    entity_list = set(pd.read_csv(\"data/entity_list.csv\", header=0)[\"entity\"])\n",
    "    entity_list = set(x.lower() for x in entity_list) # convert to lowercase\n",
    "    if replace_entity:\n",
    "        text_words = [x if not (x.lower() in entity_list) else \"entity\" for x in text_words]\n",
    "        \n",
    "    # replace transaction hashes\n",
    "    if replace_hash:\n",
    "        text_words = [x if not is_transaction_hash(x) else \"hash\" for x in text_words]\n",
    "    \n",
    "    # split alphanumeric numbers\n",
    "    updated_words = []\n",
    "    if split_alphanumeric:\n",
    "        for word in text_words:\n",
    "            if (word != \"2fa\") and is_alphanumeric(word) and (word[0].isdigit() or word[-1].isdigit()): # first or last is digit\n",
    "                new_word = re.findall('\\d+|\\D+', word)\n",
    "                updated_words.extend(new_word)\n",
    "            else:\n",
    "                updated_words.append(word)\n",
    "        text_words = updated_words\n",
    "    \n",
    "    return ' '.join(text_words)"
   ]
  },
  {
   "cell_type": "code",
   "execution_count": 3,
   "metadata": {},
   "outputs": [],
   "source": [
    "# load data\n",
    "all_train = pd.read_csv('data/all_train.csv', header = 0)[[\"date_time\", \"text\", \"label\"]]\n",
    "all_test = pd.read_csv('data/all_test.csv', header = 0)[[\"date_time\", \"text\", \"label\"]]"
   ]
  },
  {
   "cell_type": "markdown",
   "metadata": {},
   "source": [
    "## Check: Transaction Hashes\n",
    "Check effect of changing transaction hashes on prediction.\n",
    "\n",
    "#### Conclusion\n",
    "- Only small difference when we replace transaction hashes\n",
    "- Discovered that text processing will need to include removal of urls (else removing punctuation will make https: link look like a transaction hash)"
   ]
  },
  {
   "cell_type": "code",
   "execution_count": 4,
   "metadata": {},
   "outputs": [],
   "source": [
    "# pre-process\n",
    "all_train[\"text_processed\"] = all_train[\"text\"].apply(lambda x: text_processing(x, replace_hash=False))"
   ]
  },
  {
   "cell_type": "code",
   "execution_count": 5,
   "metadata": {},
   "outputs": [],
   "source": [
    "trans_hashes = [\"0xd0206f494e1834a0ad76b202bebfc916317884cb\", \"0x57bc5eb69c380df5b0b808c64833e53f50cbd2ae\", \n",
    " \"0x7a0d08c2a22178b3d5693b314c2fa9773e1bb1d0\", \"18pdbf6u2pbbrjygby5txlxmwpdmmrbvsg\", \n",
    "                \"1aztusl2djz3skh5xxyftdv6pmchrv1awinot\"]\n",
    "\n",
    "pre_text = \"give away 5000 eth from bittrex scam wallet \"\n",
    "post_text = \" people need to get back 10x what they send i never had a problem can somebody tell me what \\\n",
    "is going on thanks\"\n",
    "\n",
    "text = [pre_text + x + post_text for x in trans_hashes]"
   ]
  },
  {
   "cell_type": "markdown",
   "metadata": {},
   "source": [
    "### Word2Vec"
   ]
  },
  {
   "cell_type": "code",
   "execution_count": 6,
   "metadata": {},
   "outputs": [
    {
     "data": {
      "text/html": [
       "<div>\n",
       "<style scoped>\n",
       "    .dataframe tbody tr th:only-of-type {\n",
       "        vertical-align: middle;\n",
       "    }\n",
       "\n",
       "    .dataframe tbody tr th {\n",
       "        vertical-align: top;\n",
       "    }\n",
       "\n",
       "    .dataframe thead th {\n",
       "        text-align: right;\n",
       "    }\n",
       "</style>\n",
       "<table border=\"1\" class=\"dataframe\">\n",
       "  <thead>\n",
       "    <tr style=\"text-align: right;\">\n",
       "      <th></th>\n",
       "      <th>word</th>\n",
       "      <th>prob_0</th>\n",
       "      <th>prob_1</th>\n",
       "    </tr>\n",
       "  </thead>\n",
       "  <tbody>\n",
       "    <tr>\n",
       "      <th>0</th>\n",
       "      <td>0xd0206f494e1834a0ad76b202bebfc916317884cb</td>\n",
       "      <td>0.902133</td>\n",
       "      <td>0.097867</td>\n",
       "    </tr>\n",
       "    <tr>\n",
       "      <th>1</th>\n",
       "      <td>0x57bc5eb69c380df5b0b808c64833e53f50cbd2ae</td>\n",
       "      <td>0.868528</td>\n",
       "      <td>0.131472</td>\n",
       "    </tr>\n",
       "    <tr>\n",
       "      <th>2</th>\n",
       "      <td>0x7a0d08c2a22178b3d5693b314c2fa9773e1bb1d0</td>\n",
       "      <td>0.902943</td>\n",
       "      <td>0.097057</td>\n",
       "    </tr>\n",
       "    <tr>\n",
       "      <th>3</th>\n",
       "      <td>18pdbf6u2pbbrjygby5txlxmwpdmmrbvsg</td>\n",
       "      <td>0.911818</td>\n",
       "      <td>0.088182</td>\n",
       "    </tr>\n",
       "    <tr>\n",
       "      <th>4</th>\n",
       "      <td>1aztusl2djz3skh5xxyftdv6pmchrv1awinot</td>\n",
       "      <td>0.911818</td>\n",
       "      <td>0.088182</td>\n",
       "    </tr>\n",
       "  </tbody>\n",
       "</table>\n",
       "</div>"
      ],
      "text/plain": [
       "                                         word    prob_0    prob_1\n",
       "0  0xd0206f494e1834a0ad76b202bebfc916317884cb  0.902133  0.097867\n",
       "1  0x57bc5eb69c380df5b0b808c64833e53f50cbd2ae  0.868528  0.131472\n",
       "2  0x7a0d08c2a22178b3d5693b314c2fa9773e1bb1d0  0.902943  0.097057\n",
       "3          18pdbf6u2pbbrjygby5txlxmwpdmmrbvsg  0.911818  0.088182\n",
       "4       1aztusl2djz3skh5xxyftdv6pmchrv1awinot  0.911818  0.088182"
      ]
     },
     "execution_count": 6,
     "metadata": {},
     "output_type": "execute_result"
    }
   ],
   "source": [
    "word_embeddings = get_embed_features(pd.Series(text))\n",
    "\n",
    "# load logistic regression model\n",
    "model_word2vec_lr = pickle.load(open('./models/word2vec/lr.sav', 'rb'))\n",
    "pred_word2vec_lr = model_word2vec_lr.predict_proba(word_embeddings)\n",
    "res_word2vec_lr = pd.DataFrame(pred_word2vec_lr)\n",
    "res_word2vec_lr.insert(0, \"word\", trans_hashes)\n",
    "res_word2vec_lr.columns = [\"word\", \"prob_0\", \"prob_1\"]\n",
    "\n",
    "res_word2vec_lr"
   ]
  },
  {
   "cell_type": "code",
   "execution_count": 7,
   "metadata": {},
   "outputs": [
    {
     "data": {
      "text/html": [
       "<div>\n",
       "<style scoped>\n",
       "    .dataframe tbody tr th:only-of-type {\n",
       "        vertical-align: middle;\n",
       "    }\n",
       "\n",
       "    .dataframe tbody tr th {\n",
       "        vertical-align: top;\n",
       "    }\n",
       "\n",
       "    .dataframe thead th {\n",
       "        text-align: right;\n",
       "    }\n",
       "</style>\n",
       "<table border=\"1\" class=\"dataframe\">\n",
       "  <thead>\n",
       "    <tr style=\"text-align: right;\">\n",
       "      <th></th>\n",
       "      <th>word</th>\n",
       "      <th>prob_0</th>\n",
       "      <th>prob_1</th>\n",
       "    </tr>\n",
       "  </thead>\n",
       "  <tbody>\n",
       "    <tr>\n",
       "      <th>0</th>\n",
       "      <td>0xd0206f494e1834a0ad76b202bebfc916317884cb</td>\n",
       "      <td>0.916506</td>\n",
       "      <td>0.083494</td>\n",
       "    </tr>\n",
       "    <tr>\n",
       "      <th>1</th>\n",
       "      <td>0x57bc5eb69c380df5b0b808c64833e53f50cbd2ae</td>\n",
       "      <td>0.898148</td>\n",
       "      <td>0.101852</td>\n",
       "    </tr>\n",
       "    <tr>\n",
       "      <th>2</th>\n",
       "      <td>0x7a0d08c2a22178b3d5693b314c2fa9773e1bb1d0</td>\n",
       "      <td>0.933495</td>\n",
       "      <td>0.066505</td>\n",
       "    </tr>\n",
       "    <tr>\n",
       "      <th>3</th>\n",
       "      <td>18pdbf6u2pbbrjygby5txlxmwpdmmrbvsg</td>\n",
       "      <td>0.920017</td>\n",
       "      <td>0.079983</td>\n",
       "    </tr>\n",
       "    <tr>\n",
       "      <th>4</th>\n",
       "      <td>1aztusl2djz3skh5xxyftdv6pmchrv1awinot</td>\n",
       "      <td>0.920017</td>\n",
       "      <td>0.079983</td>\n",
       "    </tr>\n",
       "  </tbody>\n",
       "</table>\n",
       "</div>"
      ],
      "text/plain": [
       "                                         word    prob_0    prob_1\n",
       "0  0xd0206f494e1834a0ad76b202bebfc916317884cb  0.916506  0.083494\n",
       "1  0x57bc5eb69c380df5b0b808c64833e53f50cbd2ae  0.898148  0.101852\n",
       "2  0x7a0d08c2a22178b3d5693b314c2fa9773e1bb1d0  0.933495  0.066505\n",
       "3          18pdbf6u2pbbrjygby5txlxmwpdmmrbvsg  0.920017  0.079983\n",
       "4       1aztusl2djz3skh5xxyftdv6pmchrv1awinot  0.920017  0.079983"
      ]
     },
     "execution_count": 7,
     "metadata": {},
     "output_type": "execute_result"
    }
   ],
   "source": [
    "# load svm model\n",
    "model_word2vec_svm = pickle.load(open('./models/word2vec/svm.txt', 'rb'))\n",
    "pred_word2vec_svm = model_word2vec_svm.predict_proba(word_embeddings)\n",
    "res_word2vec_svm = pd.DataFrame(pred_word2vec_svm)\n",
    "res_word2vec_svm.insert(0, \"word\", trans_hashes)\n",
    "res_word2vec_svm.columns = [\"word\", \"prob_0\", \"prob_1\"]\n",
    "\n",
    "res_word2vec_svm"
   ]
  },
  {
   "cell_type": "markdown",
   "metadata": {},
   "source": [
    "### Bert"
   ]
  },
  {
   "cell_type": "code",
   "execution_count": 8,
   "metadata": {},
   "outputs": [],
   "source": [
    "# load bert model\n",
    "model_args = ClassificationArgs(num_train_epochs=2, learning_rate=5e-5)\n",
    "model_bert = ClassificationModel(model_type = 'bert', model_name = 'models/bert/outputs_bert_base_cased/', args = model_args, use_cuda=False)"
   ]
  },
  {
   "cell_type": "code",
   "execution_count": 9,
   "metadata": {
    "scrolled": true
   },
   "outputs": [
    {
     "data": {
      "application/vnd.jupyter.widget-view+json": {
       "model_id": "4da4f97cf5244ab9b0446cf869055b52",
       "version_major": 2,
       "version_minor": 0
      },
      "text/plain": [
       "HBox(children=(HTML(value=''), FloatProgress(value=0.0, max=5.0), HTML(value='')))"
      ]
     },
     "metadata": {},
     "output_type": "display_data"
    },
    {
     "name": "stdout",
     "output_type": "stream",
     "text": [
      "\n"
     ]
    },
    {
     "data": {
      "application/vnd.jupyter.widget-view+json": {
       "model_id": "41344fb833e9480ab1203d675c16a4f1",
       "version_major": 2,
       "version_minor": 0
      },
      "text/plain": [
       "HBox(children=(HTML(value=''), FloatProgress(value=0.0, max=1.0), HTML(value='')))"
      ]
     },
     "metadata": {},
     "output_type": "display_data"
    },
    {
     "name": "stdout",
     "output_type": "stream",
     "text": [
      "\n"
     ]
    },
    {
     "data": {
      "text/html": [
       "<div>\n",
       "<style scoped>\n",
       "    .dataframe tbody tr th:only-of-type {\n",
       "        vertical-align: middle;\n",
       "    }\n",
       "\n",
       "    .dataframe tbody tr th {\n",
       "        vertical-align: top;\n",
       "    }\n",
       "\n",
       "    .dataframe thead th {\n",
       "        text-align: right;\n",
       "    }\n",
       "</style>\n",
       "<table border=\"1\" class=\"dataframe\">\n",
       "  <thead>\n",
       "    <tr style=\"text-align: right;\">\n",
       "      <th></th>\n",
       "      <th>word</th>\n",
       "      <th>prob_0</th>\n",
       "      <th>prob_1</th>\n",
       "    </tr>\n",
       "  </thead>\n",
       "  <tbody>\n",
       "    <tr>\n",
       "      <th>0</th>\n",
       "      <td>0xd0206f494e1834a0ad76b202bebfc916317884cb</td>\n",
       "      <td>0.967565</td>\n",
       "      <td>0.032435</td>\n",
       "    </tr>\n",
       "    <tr>\n",
       "      <th>1</th>\n",
       "      <td>0x57bc5eb69c380df5b0b808c64833e53f50cbd2ae</td>\n",
       "      <td>0.969289</td>\n",
       "      <td>0.030711</td>\n",
       "    </tr>\n",
       "    <tr>\n",
       "      <th>2</th>\n",
       "      <td>0x7a0d08c2a22178b3d5693b314c2fa9773e1bb1d0</td>\n",
       "      <td>0.966527</td>\n",
       "      <td>0.033473</td>\n",
       "    </tr>\n",
       "    <tr>\n",
       "      <th>3</th>\n",
       "      <td>18pdbf6u2pbbrjygby5txlxmwpdmmrbvsg</td>\n",
       "      <td>0.974026</td>\n",
       "      <td>0.025974</td>\n",
       "    </tr>\n",
       "    <tr>\n",
       "      <th>4</th>\n",
       "      <td>1aztusl2djz3skh5xxyftdv6pmchrv1awinot</td>\n",
       "      <td>0.973592</td>\n",
       "      <td>0.026408</td>\n",
       "    </tr>\n",
       "  </tbody>\n",
       "</table>\n",
       "</div>"
      ],
      "text/plain": [
       "                                         word    prob_0    prob_1\n",
       "0  0xd0206f494e1834a0ad76b202bebfc916317884cb  0.967565  0.032435\n",
       "1  0x57bc5eb69c380df5b0b808c64833e53f50cbd2ae  0.969289  0.030711\n",
       "2  0x7a0d08c2a22178b3d5693b314c2fa9773e1bb1d0  0.966527  0.033473\n",
       "3          18pdbf6u2pbbrjygby5txlxmwpdmmrbvsg  0.974026  0.025974\n",
       "4       1aztusl2djz3skh5xxyftdv6pmchrv1awinot  0.973592  0.026408"
      ]
     },
     "execution_count": 9,
     "metadata": {},
     "output_type": "execute_result"
    }
   ],
   "source": [
    "pred_bert, raw_output_bert = model_bert.predict(pd.Series(text))\n",
    "probabilties_bert = softmax(raw_output_bert, axis=1)\n",
    "res_bert = pd.DataFrame(probabilties_bert)\n",
    "res_bert.insert(0, \"word\", trans_hashes)\n",
    "res_bert.columns = [\"word\", \"prob_0\", \"prob_1\"]\n",
    "\n",
    "res_bert"
   ]
  },
  {
   "cell_type": "markdown",
   "metadata": {},
   "source": [
    "### Roberta"
   ]
  },
  {
   "cell_type": "code",
   "execution_count": 10,
   "metadata": {},
   "outputs": [],
   "source": [
    "# load roberta model\n",
    "model_args = ClassificationArgs(num_train_epochs=2, learning_rate=5e-5)\n",
    "model_roberta = ClassificationModel(model_type = 'roberta', model_name = 'models/bert/outputs_roberta_base/', args = model_args, use_cuda=False)"
   ]
  },
  {
   "cell_type": "code",
   "execution_count": 11,
   "metadata": {},
   "outputs": [
    {
     "data": {
      "application/vnd.jupyter.widget-view+json": {
       "model_id": "1ff317d3335b49689812570f89e86e78",
       "version_major": 2,
       "version_minor": 0
      },
      "text/plain": [
       "HBox(children=(HTML(value=''), FloatProgress(value=0.0, max=5.0), HTML(value='')))"
      ]
     },
     "metadata": {},
     "output_type": "display_data"
    },
    {
     "name": "stdout",
     "output_type": "stream",
     "text": [
      "\n"
     ]
    },
    {
     "data": {
      "application/vnd.jupyter.widget-view+json": {
       "model_id": "9931d9efee6644269e51fccc4c2ea9f4",
       "version_major": 2,
       "version_minor": 0
      },
      "text/plain": [
       "HBox(children=(HTML(value=''), FloatProgress(value=0.0, max=1.0), HTML(value='')))"
      ]
     },
     "metadata": {},
     "output_type": "display_data"
    },
    {
     "name": "stdout",
     "output_type": "stream",
     "text": [
      "\n"
     ]
    },
    {
     "data": {
      "text/html": [
       "<div>\n",
       "<style scoped>\n",
       "    .dataframe tbody tr th:only-of-type {\n",
       "        vertical-align: middle;\n",
       "    }\n",
       "\n",
       "    .dataframe tbody tr th {\n",
       "        vertical-align: top;\n",
       "    }\n",
       "\n",
       "    .dataframe thead th {\n",
       "        text-align: right;\n",
       "    }\n",
       "</style>\n",
       "<table border=\"1\" class=\"dataframe\">\n",
       "  <thead>\n",
       "    <tr style=\"text-align: right;\">\n",
       "      <th></th>\n",
       "      <th>word</th>\n",
       "      <th>prob_0</th>\n",
       "      <th>prob_1</th>\n",
       "    </tr>\n",
       "  </thead>\n",
       "  <tbody>\n",
       "    <tr>\n",
       "      <th>0</th>\n",
       "      <td>0xd0206f494e1834a0ad76b202bebfc916317884cb</td>\n",
       "      <td>0.960102</td>\n",
       "      <td>0.039898</td>\n",
       "    </tr>\n",
       "    <tr>\n",
       "      <th>1</th>\n",
       "      <td>0x57bc5eb69c380df5b0b808c64833e53f50cbd2ae</td>\n",
       "      <td>0.960510</td>\n",
       "      <td>0.039490</td>\n",
       "    </tr>\n",
       "    <tr>\n",
       "      <th>2</th>\n",
       "      <td>0x7a0d08c2a22178b3d5693b314c2fa9773e1bb1d0</td>\n",
       "      <td>0.960254</td>\n",
       "      <td>0.039746</td>\n",
       "    </tr>\n",
       "    <tr>\n",
       "      <th>3</th>\n",
       "      <td>18pdbf6u2pbbrjygby5txlxmwpdmmrbvsg</td>\n",
       "      <td>0.961083</td>\n",
       "      <td>0.038917</td>\n",
       "    </tr>\n",
       "    <tr>\n",
       "      <th>4</th>\n",
       "      <td>1aztusl2djz3skh5xxyftdv6pmchrv1awinot</td>\n",
       "      <td>0.961198</td>\n",
       "      <td>0.038802</td>\n",
       "    </tr>\n",
       "  </tbody>\n",
       "</table>\n",
       "</div>"
      ],
      "text/plain": [
       "                                         word    prob_0    prob_1\n",
       "0  0xd0206f494e1834a0ad76b202bebfc916317884cb  0.960102  0.039898\n",
       "1  0x57bc5eb69c380df5b0b808c64833e53f50cbd2ae  0.960510  0.039490\n",
       "2  0x7a0d08c2a22178b3d5693b314c2fa9773e1bb1d0  0.960254  0.039746\n",
       "3          18pdbf6u2pbbrjygby5txlxmwpdmmrbvsg  0.961083  0.038917\n",
       "4       1aztusl2djz3skh5xxyftdv6pmchrv1awinot  0.961198  0.038802"
      ]
     },
     "execution_count": 11,
     "metadata": {},
     "output_type": "execute_result"
    }
   ],
   "source": [
    "pred_roberta, raw_output_roberta = model_roberta.predict(pd.Series(text))\n",
    "probabilties_roberta = softmax(raw_output_roberta, axis=1)\n",
    "res_roberta = pd.DataFrame(probabilties_roberta)\n",
    "res_roberta.insert(0, \"word\", trans_hashes)\n",
    "res_roberta.columns = [\"word\", \"prob_0\", \"prob_1\"]\n",
    "\n",
    "res_roberta"
   ]
  },
  {
   "cell_type": "markdown",
   "metadata": {},
   "source": [
    "## Check: Joint Digits and Words\n",
    "Check if model predicts differently for \"40 million\" and \"40million\" (joined)."
   ]
  },
  {
   "cell_type": "code",
   "execution_count": 12,
   "metadata": {},
   "outputs": [],
   "source": [
    "digits = [\"3k\", \"3 k\", \"40million\", \"40 million\", \"40mln\", \"40 mln\"]\n",
    "pre_text = \"cryptopia pump and freeze scams they did it with kayicoin pumped it \"\n",
    "post_text = \" and froze the exchange now they do it with paccoin pump\"\n",
    "text = [pre_text + x + post_text for x in digits]"
   ]
  },
  {
   "cell_type": "markdown",
   "metadata": {},
   "source": [
    "### Word2Vec"
   ]
  },
  {
   "cell_type": "code",
   "execution_count": 13,
   "metadata": {},
   "outputs": [
    {
     "data": {
      "text/html": [
       "<div>\n",
       "<style scoped>\n",
       "    .dataframe tbody tr th:only-of-type {\n",
       "        vertical-align: middle;\n",
       "    }\n",
       "\n",
       "    .dataframe tbody tr th {\n",
       "        vertical-align: top;\n",
       "    }\n",
       "\n",
       "    .dataframe thead th {\n",
       "        text-align: right;\n",
       "    }\n",
       "</style>\n",
       "<table border=\"1\" class=\"dataframe\">\n",
       "  <thead>\n",
       "    <tr style=\"text-align: right;\">\n",
       "      <th></th>\n",
       "      <th>word</th>\n",
       "      <th>prob_0</th>\n",
       "      <th>prob_1</th>\n",
       "    </tr>\n",
       "  </thead>\n",
       "  <tbody>\n",
       "    <tr>\n",
       "      <th>0</th>\n",
       "      <td>3k</td>\n",
       "      <td>0.756201</td>\n",
       "      <td>0.243799</td>\n",
       "    </tr>\n",
       "    <tr>\n",
       "      <th>1</th>\n",
       "      <td>3 k</td>\n",
       "      <td>0.756201</td>\n",
       "      <td>0.243799</td>\n",
       "    </tr>\n",
       "    <tr>\n",
       "      <th>2</th>\n",
       "      <td>40million</td>\n",
       "      <td>0.656230</td>\n",
       "      <td>0.343770</td>\n",
       "    </tr>\n",
       "    <tr>\n",
       "      <th>3</th>\n",
       "      <td>40 million</td>\n",
       "      <td>0.656230</td>\n",
       "      <td>0.343770</td>\n",
       "    </tr>\n",
       "    <tr>\n",
       "      <th>4</th>\n",
       "      <td>40mln</td>\n",
       "      <td>0.678749</td>\n",
       "      <td>0.321251</td>\n",
       "    </tr>\n",
       "    <tr>\n",
       "      <th>5</th>\n",
       "      <td>40 mln</td>\n",
       "      <td>0.678749</td>\n",
       "      <td>0.321251</td>\n",
       "    </tr>\n",
       "  </tbody>\n",
       "</table>\n",
       "</div>"
      ],
      "text/plain": [
       "         word    prob_0    prob_1\n",
       "0          3k  0.756201  0.243799\n",
       "1         3 k  0.756201  0.243799\n",
       "2   40million  0.656230  0.343770\n",
       "3  40 million  0.656230  0.343770\n",
       "4       40mln  0.678749  0.321251\n",
       "5      40 mln  0.678749  0.321251"
      ]
     },
     "execution_count": 13,
     "metadata": {},
     "output_type": "execute_result"
    }
   ],
   "source": [
    "word_embeddings = get_embed_features(pd.Series(text))\n",
    "\n",
    "# load logistic regression model\n",
    "model_word2vec_lr = pickle.load(open('./models/word2vec/lr.sav', 'rb'))\n",
    "pred_word2vec_lr = model_word2vec_lr.predict_proba(word_embeddings)\n",
    "res_word2vec_lr = pd.DataFrame(pred_word2vec_lr)\n",
    "res_word2vec_lr.insert(0, \"word\", digits)\n",
    "res_word2vec_lr.columns = [\"word\", \"prob_0\", \"prob_1\"]\n",
    "\n",
    "res_word2vec_lr"
   ]
  },
  {
   "cell_type": "markdown",
   "metadata": {},
   "source": [
    "### Bert"
   ]
  },
  {
   "cell_type": "code",
   "execution_count": 14,
   "metadata": {},
   "outputs": [
    {
     "data": {
      "application/vnd.jupyter.widget-view+json": {
       "model_id": "107d3e614bbb4970930b862de3a46953",
       "version_major": 2,
       "version_minor": 0
      },
      "text/plain": [
       "HBox(children=(HTML(value=''), FloatProgress(value=0.0, max=6.0), HTML(value='')))"
      ]
     },
     "metadata": {},
     "output_type": "display_data"
    },
    {
     "name": "stdout",
     "output_type": "stream",
     "text": [
      "\n"
     ]
    },
    {
     "data": {
      "application/vnd.jupyter.widget-view+json": {
       "model_id": "05cedcee2c974c0aa070c8a9519e4d49",
       "version_major": 2,
       "version_minor": 0
      },
      "text/plain": [
       "HBox(children=(HTML(value=''), FloatProgress(value=0.0, max=1.0), HTML(value='')))"
      ]
     },
     "metadata": {},
     "output_type": "display_data"
    },
    {
     "name": "stdout",
     "output_type": "stream",
     "text": [
      "\n"
     ]
    },
    {
     "data": {
      "text/html": [
       "<div>\n",
       "<style scoped>\n",
       "    .dataframe tbody tr th:only-of-type {\n",
       "        vertical-align: middle;\n",
       "    }\n",
       "\n",
       "    .dataframe tbody tr th {\n",
       "        vertical-align: top;\n",
       "    }\n",
       "\n",
       "    .dataframe thead th {\n",
       "        text-align: right;\n",
       "    }\n",
       "</style>\n",
       "<table border=\"1\" class=\"dataframe\">\n",
       "  <thead>\n",
       "    <tr style=\"text-align: right;\">\n",
       "      <th></th>\n",
       "      <th>word</th>\n",
       "      <th>prob_0</th>\n",
       "      <th>prob_1</th>\n",
       "    </tr>\n",
       "  </thead>\n",
       "  <tbody>\n",
       "    <tr>\n",
       "      <th>0</th>\n",
       "      <td>3k</td>\n",
       "      <td>0.489450</td>\n",
       "      <td>0.510550</td>\n",
       "    </tr>\n",
       "    <tr>\n",
       "      <th>1</th>\n",
       "      <td>3 k</td>\n",
       "      <td>0.433566</td>\n",
       "      <td>0.566434</td>\n",
       "    </tr>\n",
       "    <tr>\n",
       "      <th>2</th>\n",
       "      <td>40million</td>\n",
       "      <td>0.332956</td>\n",
       "      <td>0.667044</td>\n",
       "    </tr>\n",
       "    <tr>\n",
       "      <th>3</th>\n",
       "      <td>40 million</td>\n",
       "      <td>0.223287</td>\n",
       "      <td>0.776713</td>\n",
       "    </tr>\n",
       "    <tr>\n",
       "      <th>4</th>\n",
       "      <td>40mln</td>\n",
       "      <td>0.387410</td>\n",
       "      <td>0.612590</td>\n",
       "    </tr>\n",
       "    <tr>\n",
       "      <th>5</th>\n",
       "      <td>40 mln</td>\n",
       "      <td>0.360513</td>\n",
       "      <td>0.639487</td>\n",
       "    </tr>\n",
       "  </tbody>\n",
       "</table>\n",
       "</div>"
      ],
      "text/plain": [
       "         word    prob_0    prob_1\n",
       "0          3k  0.489450  0.510550\n",
       "1         3 k  0.433566  0.566434\n",
       "2   40million  0.332956  0.667044\n",
       "3  40 million  0.223287  0.776713\n",
       "4       40mln  0.387410  0.612590\n",
       "5      40 mln  0.360513  0.639487"
      ]
     },
     "execution_count": 14,
     "metadata": {},
     "output_type": "execute_result"
    }
   ],
   "source": [
    "pred_bert, raw_output_bert = model_bert.predict(pd.Series(text))\n",
    "probabilties_bert = softmax(raw_output_bert, axis=1)\n",
    "res_bert = pd.DataFrame(probabilties_bert)\n",
    "res_bert.insert(0, \"word\", digits)\n",
    "res_bert.columns = [\"word\", \"prob_0\", \"prob_1\"]\n",
    "\n",
    "res_bert"
   ]
  },
  {
   "cell_type": "markdown",
   "metadata": {},
   "source": [
    "### Roberta"
   ]
  },
  {
   "cell_type": "code",
   "execution_count": 15,
   "metadata": {
    "scrolled": false
   },
   "outputs": [
    {
     "data": {
      "application/vnd.jupyter.widget-view+json": {
       "model_id": "a9f112a975e14388afba80f0331cb4c2",
       "version_major": 2,
       "version_minor": 0
      },
      "text/plain": [
       "HBox(children=(HTML(value=''), FloatProgress(value=0.0, max=6.0), HTML(value='')))"
      ]
     },
     "metadata": {},
     "output_type": "display_data"
    },
    {
     "name": "stdout",
     "output_type": "stream",
     "text": [
      "\n"
     ]
    },
    {
     "data": {
      "application/vnd.jupyter.widget-view+json": {
       "model_id": "b6bd25211fb4499dbc9f7b13e32cf5d7",
       "version_major": 2,
       "version_minor": 0
      },
      "text/plain": [
       "HBox(children=(HTML(value=''), FloatProgress(value=0.0, max=1.0), HTML(value='')))"
      ]
     },
     "metadata": {},
     "output_type": "display_data"
    },
    {
     "name": "stdout",
     "output_type": "stream",
     "text": [
      "\n"
     ]
    },
    {
     "data": {
      "text/html": [
       "<div>\n",
       "<style scoped>\n",
       "    .dataframe tbody tr th:only-of-type {\n",
       "        vertical-align: middle;\n",
       "    }\n",
       "\n",
       "    .dataframe tbody tr th {\n",
       "        vertical-align: top;\n",
       "    }\n",
       "\n",
       "    .dataframe thead th {\n",
       "        text-align: right;\n",
       "    }\n",
       "</style>\n",
       "<table border=\"1\" class=\"dataframe\">\n",
       "  <thead>\n",
       "    <tr style=\"text-align: right;\">\n",
       "      <th></th>\n",
       "      <th>word</th>\n",
       "      <th>prob_0</th>\n",
       "      <th>prob_1</th>\n",
       "    </tr>\n",
       "  </thead>\n",
       "  <tbody>\n",
       "    <tr>\n",
       "      <th>0</th>\n",
       "      <td>3k</td>\n",
       "      <td>0.961638</td>\n",
       "      <td>0.038362</td>\n",
       "    </tr>\n",
       "    <tr>\n",
       "      <th>1</th>\n",
       "      <td>3 k</td>\n",
       "      <td>0.961677</td>\n",
       "      <td>0.038323</td>\n",
       "    </tr>\n",
       "    <tr>\n",
       "      <th>2</th>\n",
       "      <td>40million</td>\n",
       "      <td>0.961113</td>\n",
       "      <td>0.038887</td>\n",
       "    </tr>\n",
       "    <tr>\n",
       "      <th>3</th>\n",
       "      <td>40 million</td>\n",
       "      <td>0.960976</td>\n",
       "      <td>0.039024</td>\n",
       "    </tr>\n",
       "    <tr>\n",
       "      <th>4</th>\n",
       "      <td>40mln</td>\n",
       "      <td>0.961564</td>\n",
       "      <td>0.038436</td>\n",
       "    </tr>\n",
       "    <tr>\n",
       "      <th>5</th>\n",
       "      <td>40 mln</td>\n",
       "      <td>0.961331</td>\n",
       "      <td>0.038669</td>\n",
       "    </tr>\n",
       "  </tbody>\n",
       "</table>\n",
       "</div>"
      ],
      "text/plain": [
       "         word    prob_0    prob_1\n",
       "0          3k  0.961638  0.038362\n",
       "1         3 k  0.961677  0.038323\n",
       "2   40million  0.961113  0.038887\n",
       "3  40 million  0.960976  0.039024\n",
       "4       40mln  0.961564  0.038436\n",
       "5      40 mln  0.961331  0.038669"
      ]
     },
     "execution_count": 15,
     "metadata": {},
     "output_type": "execute_result"
    }
   ],
   "source": [
    "pred_roberta, raw_output_roberta = model_roberta.predict(pd.Series(text))\n",
    "probabilties_roberta = softmax(raw_output_roberta, axis=1)\n",
    "res_roberta = pd.DataFrame(probabilties_roberta)\n",
    "res_roberta.insert(0, \"word\", digits)\n",
    "res_roberta.columns = [\"word\", \"prob_0\", \"prob_1\"]\n",
    "\n",
    "res_roberta"
   ]
  },
  {
   "cell_type": "code",
   "execution_count": null,
   "metadata": {},
   "outputs": [],
   "source": []
  }
 ],
 "metadata": {
  "kernelspec": {
   "display_name": "Python 3",
   "language": "python",
   "name": "python3"
  },
  "language_info": {
   "codemirror_mode": {
    "name": "ipython",
    "version": 3
   },
   "file_extension": ".py",
   "mimetype": "text/x-python",
   "name": "python",
   "nbconvert_exporter": "python",
   "pygments_lexer": "ipython3",
   "version": "3.8.5"
  }
 },
 "nbformat": 4,
 "nbformat_minor": 4
}
