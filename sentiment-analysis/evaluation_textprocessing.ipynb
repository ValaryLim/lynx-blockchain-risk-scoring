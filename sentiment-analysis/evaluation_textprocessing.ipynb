{
 "cells": [
  {
   "cell_type": "markdown",
   "metadata": {},
   "source": [
    "# Evaluation of Text Processing Functions"
   ]
  },
  {
   "cell_type": "code",
   "execution_count": 1,
   "metadata": {},
   "outputs": [
    {
     "name": "stderr",
     "output_type": "stream",
     "text": [
      "\u001b[34m\u001b[1mwandb\u001b[0m: \u001b[33mWARNING\u001b[0m W&B installed but not logged in.  Run `wandb login` or set the WANDB_API_KEY env variable.\n"
     ]
    }
   ],
   "source": [
    "import numpy as np\n",
    "import pandas as pd\n",
    "\n",
    "# pre-processing\n",
    "import re\n",
    "import string\n",
    "import nltk\n",
    "from nltk.corpus import stopwords # stopwords\n",
    "from nltk.stem import WordNetLemmatizer # word lemmatizer\n",
    "from nltk.stem.snowball import SnowballStemmer # stemmer\n",
    "\n",
    "# model loading packages (for testing)\n",
    "import pickle\n",
    "import fasttext\n",
    "from word2vec import get_embed_features\n",
    "from simpletransformers.classification import ClassificationModel, ClassificationArgs # bert\n",
    "from sklearn.metrics import classification_report # bert\n",
    "from scipy.special import softmax # bert"
   ]
  },
  {
   "cell_type": "code",
   "execution_count": 2,
   "metadata": {},
   "outputs": [],
   "source": [
    "def is_alphanumeric(text):\n",
    "    return any(char.isdigit() for char in text) and any(char.isalpha() for char in text)\n",
    "\n",
    "def is_transaction_hash(text):\n",
    "    return is_alphanumeric(text) and len(text) > 20\n",
    "\n",
    "def text_processing(text, \n",
    "                    lower=True, \n",
    "                    remove_url=True, \n",
    "                    remove_punctuation=True, \n",
    "                    remove_stopwords=False, \n",
    "                    replace_entity=False, \n",
    "                    replace_hash=False,\n",
    "                    split_alphanumeric=False,\n",
    "                    lemmatize=False,\n",
    "                    stem=False):\n",
    "    '''\n",
    "    Accepts a text and options to run the following processing functions:\n",
    "    '''\n",
    "    # strip non-ascii characters\n",
    "    text = text.encode('ascii', errors='ignore')\n",
    "    text = str(text.decode(\"utf-8\"))\n",
    "\n",
    "    # covert to lowercase\n",
    "    if lower:\n",
    "        text = text.lower()\n",
    "\n",
    "    # remove url \n",
    "    if remove_url:\n",
    "        text = re.sub(r'http\\S+', '', text)\n",
    "    \n",
    "    # remove punctuation\n",
    "    if remove_punctuation:\n",
    "        text = text.translate(str.maketrans(string.punctuation, ' '*len(string.punctuation)))\n",
    "        \n",
    "    # remove unnecessary new lines and whitespaces\n",
    "    text = text.replace(\"\\n\", \"\") \n",
    "    text = ' '.join(text.split())\n",
    "    \n",
    "    # tokenize\n",
    "    text_words = nltk.word_tokenize(text)\n",
    "\n",
    "    # lemmatize\n",
    "    if lemmatize:\n",
    "        wordnet_lemmatizer = WordNetLemmatizer()\n",
    "        text_words = [wordnet_lemmatizer.lemmatize(x, pos=\"v\") for x in text_words]\n",
    "\n",
    "    # stem\n",
    "    if stem:\n",
    "        stemmer = SnowballStemmer(\"english\")\n",
    "        text_words = [stemmer.stem(x) for x in text_words]\n",
    "\n",
    "    # remove stop words\n",
    "    if remove_stopwords:\n",
    "        stop = list(stopwords.words('english'))\n",
    "        keep_stopwords = [\"no\", \"not\", \"nor\"]\n",
    "        for word in keep_stopwords:\n",
    "            stop.remove(word)\n",
    "            stop = set(stop)\n",
    "        text_words = [x for x in text_words if not x.lower() in stop]\n",
    "    \n",
    "    # replace entity\n",
    "    entity_list = set(pd.read_csv(\"data/entity_list.csv\", header=0)[\"entity\"])\n",
    "    entity_list = set(x.lower() for x in entity_list) # convert to lowercase\n",
    "    if replace_entity:\n",
    "        text_words = [x if not (x.lower() in entity_list) else \"entity\" for x in text_words]\n",
    "        \n",
    "    # replace transaction hashes\n",
    "    if replace_hash:\n",
    "        text_words = [x if not is_transaction_hash(x) else \"hash\" for x in text_words]\n",
    "    \n",
    "    # split alphanumeric numbers\n",
    "    updated_words = []\n",
    "    if split_alphanumeric:\n",
    "        for word in text_words:\n",
    "            if (word != \"2fa\") and is_alphanumeric(word) and (word[0].isdigit() or word[-1].isdigit()): # first or last is digit\n",
    "                new_word = re.findall('\\d+|\\D+', word)\n",
    "                updated_words.extend(new_word)\n",
    "            else:\n",
    "                updated_words.append(word)\n",
    "        text_words = updated_words\n",
    "    \n",
    "    return ' '.join(text_words)"
   ]
  },
  {
   "cell_type": "code",
   "execution_count": 9,
   "metadata": {},
   "outputs": [],
   "source": [
    "# load data\n",
    "all_train = pd.read_csv('data/all_train.csv', header = 0)[[\"date_time\", \"text\", \"label\"]]\n",
    "all_test = pd.read_csv('data/all_test.csv', header = 0)[[\"date_time\", \"text\", \"label\"]]"
   ]
  },
  {
   "cell_type": "code",
   "execution_count": 10,
   "metadata": {},
   "outputs": [],
   "source": [
    "mask = all_train[\"label\"] == 1"
   ]
  },
  {
   "cell_type": "code",
   "execution_count": 11,
   "metadata": {},
   "outputs": [
    {
     "data": {
      "text/plain": [
       "0       False\n",
       "1       False\n",
       "2       False\n",
       "3       False\n",
       "4       False\n",
       "        ...  \n",
       "4288    False\n",
       "4289    False\n",
       "4290    False\n",
       "4291    False\n",
       "4292    False\n",
       "Name: label, Length: 4293, dtype: bool"
      ]
     },
     "execution_count": 11,
     "metadata": {},
     "output_type": "execute_result"
    }
   ],
   "source": [
    "mask"
   ]
  },
  {
   "cell_type": "code",
   "execution_count": 12,
   "metadata": {},
   "outputs": [
    {
     "data": {
      "text/html": [
       "<div>\n",
       "<style scoped>\n",
       "    .dataframe tbody tr th:only-of-type {\n",
       "        vertical-align: middle;\n",
       "    }\n",
       "\n",
       "    .dataframe tbody tr th {\n",
       "        vertical-align: top;\n",
       "    }\n",
       "\n",
       "    .dataframe thead th {\n",
       "        text-align: right;\n",
       "    }\n",
       "</style>\n",
       "<table border=\"1\" class=\"dataframe\">\n",
       "  <thead>\n",
       "    <tr style=\"text-align: right;\">\n",
       "      <th></th>\n",
       "      <th>date_time</th>\n",
       "      <th>text</th>\n",
       "      <th>label</th>\n",
       "    </tr>\n",
       "  </thead>\n",
       "  <tbody>\n",
       "    <tr>\n",
       "      <th>8</th>\n",
       "      <td>2018-01-04 00:00:00</td>\n",
       "      <td>Bittrex Wallets Are Taken Offline as Companies...</td>\n",
       "      <td>1</td>\n",
       "    </tr>\n",
       "    <tr>\n",
       "      <th>10</th>\n",
       "      <td>2018-01-04 10:56:00</td>\n",
       "      <td>all bittrex withdrawals disabled after breach:...</td>\n",
       "      <td>1</td>\n",
       "    </tr>\n",
       "    <tr>\n",
       "      <th>12</th>\n",
       "      <td>2018-01-05 00:00:00</td>\n",
       "      <td>Mt. Gox Bitcoin Missing In relation to Mysteri...</td>\n",
       "      <td>1</td>\n",
       "    </tr>\n",
       "    <tr>\n",
       "      <th>14</th>\n",
       "      <td>2018-01-05 19:34:00</td>\n",
       "      <td>beware of fake website as first search result/...</td>\n",
       "      <td>1</td>\n",
       "    </tr>\n",
       "    <tr>\n",
       "      <th>15</th>\n",
       "      <td>2018-01-05 23:02:00</td>\n",
       "      <td>warning: don't use bittrex and pull your money...</td>\n",
       "      <td>1</td>\n",
       "    </tr>\n",
       "    <tr>\n",
       "      <th>...</th>\n",
       "      <td>...</td>\n",
       "      <td>...</td>\n",
       "      <td>...</td>\n",
       "    </tr>\n",
       "    <tr>\n",
       "      <th>4168</th>\n",
       "      <td>2019-05-12 01:07:00</td>\n",
       "      <td>investigating the $40m binance hack.</td>\n",
       "      <td>1</td>\n",
       "    </tr>\n",
       "    <tr>\n",
       "      <th>4170</th>\n",
       "      <td>2019-05-12 01:54:00</td>\n",
       "      <td>âwe got itâ, says binance ceo on stolen $4...</td>\n",
       "      <td>1</td>\n",
       "    </tr>\n",
       "    <tr>\n",
       "      <th>4173</th>\n",
       "      <td>2019-05-12 02:19:00</td>\n",
       "      <td>crypto tidbits: binance bitcoin hack, buffett ...</td>\n",
       "      <td>1</td>\n",
       "    </tr>\n",
       "    <tr>\n",
       "      <th>4174</th>\n",
       "      <td>2019-05-12 02:33:00</td>\n",
       "      <td>âwe got itâ, says binance ceo on stolen $4...</td>\n",
       "      <td>1</td>\n",
       "    </tr>\n",
       "    <tr>\n",
       "      <th>4218</th>\n",
       "      <td>2019-05-12 23:59:00</td>\n",
       "      <td>Binance Hacked â Unknown Hackers Stolen More...</td>\n",
       "      <td>1</td>\n",
       "    </tr>\n",
       "  </tbody>\n",
       "</table>\n",
       "<p>1383 rows × 3 columns</p>\n",
       "</div>"
      ],
      "text/plain": [
       "                date_time                                               text  \\\n",
       "8     2018-01-04 00:00:00  Bittrex Wallets Are Taken Offline as Companies...   \n",
       "10    2018-01-04 10:56:00  all bittrex withdrawals disabled after breach:...   \n",
       "12    2018-01-05 00:00:00  Mt. Gox Bitcoin Missing In relation to Mysteri...   \n",
       "14    2018-01-05 19:34:00  beware of fake website as first search result/...   \n",
       "15    2018-01-05 23:02:00  warning: don't use bittrex and pull your money...   \n",
       "...                   ...                                                ...   \n",
       "4168  2019-05-12 01:07:00              investigating the $40m binance hack.    \n",
       "4170  2019-05-12 01:54:00  âwe got itâ, says binance ceo on stolen $4...   \n",
       "4173  2019-05-12 02:19:00  crypto tidbits: binance bitcoin hack, buffett ...   \n",
       "4174  2019-05-12 02:33:00  âwe got itâ, says binance ceo on stolen $4...   \n",
       "4218  2019-05-12 23:59:00  Binance Hacked â Unknown Hackers Stolen More...   \n",
       "\n",
       "      label  \n",
       "8         1  \n",
       "10        1  \n",
       "12        1  \n",
       "14        1  \n",
       "15        1  \n",
       "...     ...  \n",
       "4168      1  \n",
       "4170      1  \n",
       "4173      1  \n",
       "4174      1  \n",
       "4218      1  \n",
       "\n",
       "[1383 rows x 3 columns]"
      ]
     },
     "execution_count": 12,
     "metadata": {},
     "output_type": "execute_result"
    }
   ],
   "source": [
    "all_train[list(mask)]"
   ]
  },
  {
   "cell_type": "markdown",
   "metadata": {},
   "source": [
    "## Check: Transaction Hashes\n",
    "Check effect of changing transaction hashes on prediction.\n",
    "\n",
    "#### Conclusion\n",
    "- Only small difference when we replace transaction hashes\n",
    "- Discovered that text processing will need to include removal of urls (else removing punctuation will make https: link look like a transaction hash)"
   ]
  },
  {
   "cell_type": "code",
   "execution_count": null,
   "metadata": {},
   "outputs": [],
   "source": [
    "# pre-process\n",
    "all_train[\"text_processed\"] = all_train[\"text\"].apply(lambda x: text_processing(x, replace_hash=False))"
   ]
  },
  {
   "cell_type": "code",
   "execution_count": null,
   "metadata": {},
   "outputs": [],
   "source": [
    "trans_hashes = [\"0xd0206f494e1834a0ad76b202bebfc916317884cb\", \"0x57bc5eb69c380df5b0b808c64833e53f50cbd2ae\", \n",
    " \"0x7a0d08c2a22178b3d5693b314c2fa9773e1bb1d0\", \"18pdbf6u2pbbrjygby5txlxmwpdmmrbvsg\", \n",
    "                \"1aztusl2djz3skh5xxyftdv6pmchrv1awinot\"]\n",
    "\n",
    "pre_text = \"give away 5000 eth from bittrex scam wallet \"\n",
    "post_text = \" people need to get back 10x what they send i never had a problem can somebody tell me what \\\n",
    "is going on thanks\"\n",
    "\n",
    "text = [pre_text + x + post_text for x in trans_hashes]"
   ]
  },
  {
   "cell_type": "markdown",
   "metadata": {},
   "source": [
    "### Word2Vec"
   ]
  },
  {
   "cell_type": "code",
   "execution_count": null,
   "metadata": {},
   "outputs": [],
   "source": [
    "word_embeddings = get_embed_features(pd.Series(text))\n",
    "\n",
    "# load logistic regression model\n",
    "model_word2vec_lr = pickle.load(open('./models/word2vec/lr.sav', 'rb'))\n",
    "pred_word2vec_lr = model_word2vec_lr.predict_proba(word_embeddings)\n",
    "res_word2vec_lr = pd.DataFrame(pred_word2vec_lr)\n",
    "res_word2vec_lr.insert(0, \"word\", trans_hashes)\n",
    "res_word2vec_lr.columns = [\"word\", \"prob_0\", \"prob_1\"]\n",
    "\n",
    "res_word2vec_lr"
   ]
  },
  {
   "cell_type": "code",
   "execution_count": null,
   "metadata": {},
   "outputs": [],
   "source": [
    "# load svm model\n",
    "model_word2vec_svm = pickle.load(open('./models/word2vec/svm.txt', 'rb'))\n",
    "pred_word2vec_svm = model_word2vec_svm.predict_proba(word_embeddings)\n",
    "res_word2vec_svm = pd.DataFrame(pred_word2vec_svm)\n",
    "res_word2vec_svm.insert(0, \"word\", trans_hashes)\n",
    "res_word2vec_svm.columns = [\"word\", \"prob_0\", \"prob_1\"]\n",
    "\n",
    "res_word2vec_svm"
   ]
  },
  {
   "cell_type": "markdown",
   "metadata": {},
   "source": [
    "### Bert"
   ]
  },
  {
   "cell_type": "code",
   "execution_count": null,
   "metadata": {},
   "outputs": [],
   "source": [
    "# load bert model\n",
    "model_args = ClassificationArgs(num_train_epochs=2, learning_rate=5e-5)\n",
    "model_bert = ClassificationModel(model_type = 'bert', model_name = 'models/bert/outputs_bert_base_cased/', args = model_args, use_cuda=False)"
   ]
  },
  {
   "cell_type": "code",
   "execution_count": null,
   "metadata": {
    "scrolled": true
   },
   "outputs": [],
   "source": [
    "pred_bert, raw_output_bert = model_bert.predict(pd.Series(text))\n",
    "probabilties_bert = softmax(raw_output_bert, axis=1)\n",
    "res_bert = pd.DataFrame(probabilties_bert)\n",
    "res_bert.insert(0, \"word\", trans_hashes)\n",
    "res_bert.columns = [\"word\", \"prob_0\", \"prob_1\"]\n",
    "\n",
    "res_bert"
   ]
  },
  {
   "cell_type": "markdown",
   "metadata": {},
   "source": [
    "### Roberta"
   ]
  },
  {
   "cell_type": "code",
   "execution_count": null,
   "metadata": {},
   "outputs": [],
   "source": [
    "# load roberta model\n",
    "model_args = ClassificationArgs(num_train_epochs=2, learning_rate=5e-5)\n",
    "model_roberta = ClassificationModel(model_type = 'roberta', model_name = 'models/bert/outputs_roberta_base/', args = model_args, use_cuda=False)"
   ]
  },
  {
   "cell_type": "code",
   "execution_count": null,
   "metadata": {},
   "outputs": [],
   "source": [
    "pred_roberta, raw_output_roberta = model_roberta.predict(pd.Series(text))\n",
    "probabilties_roberta = softmax(raw_output_roberta, axis=1)\n",
    "res_roberta = pd.DataFrame(probabilties_roberta)\n",
    "res_roberta.insert(0, \"word\", trans_hashes)\n",
    "res_roberta.columns = [\"word\", \"prob_0\", \"prob_1\"]\n",
    "\n",
    "res_roberta"
   ]
  },
  {
   "cell_type": "markdown",
   "metadata": {},
   "source": [
    "## Check: Joint Digits and Words\n",
    "Check if model predicts differently for \"40 million\" and \"40million\" (joined)."
   ]
  },
  {
   "cell_type": "code",
   "execution_count": null,
   "metadata": {},
   "outputs": [],
   "source": [
    "digits = [\"3k\", \"3 k\", \"40million\", \"40 million\", \"40mln\", \"40 mln\"]\n",
    "pre_text = \"cryptopia pump and freeze scams they did it with kayicoin pumped it \"\n",
    "post_text = \" and froze the exchange now they do it with paccoin pump\"\n",
    "text = [pre_text + x + post_text for x in digits]"
   ]
  },
  {
   "cell_type": "markdown",
   "metadata": {},
   "source": [
    "### Word2Vec"
   ]
  },
  {
   "cell_type": "code",
   "execution_count": null,
   "metadata": {},
   "outputs": [],
   "source": [
    "word_embeddings = get_embed_features(pd.Series(text))\n",
    "\n",
    "# load logistic regression model\n",
    "model_word2vec_lr = pickle.load(open('./models/word2vec/lr.sav', 'rb'))\n",
    "pred_word2vec_lr = model_word2vec_lr.predict_proba(word_embeddings)\n",
    "res_word2vec_lr = pd.DataFrame(pred_word2vec_lr)\n",
    "res_word2vec_lr.insert(0, \"word\", digits)\n",
    "res_word2vec_lr.columns = [\"word\", \"prob_0\", \"prob_1\"]\n",
    "\n",
    "res_word2vec_lr"
   ]
  },
  {
   "cell_type": "markdown",
   "metadata": {},
   "source": [
    "### Bert"
   ]
  },
  {
   "cell_type": "code",
   "execution_count": null,
   "metadata": {},
   "outputs": [],
   "source": [
    "pred_bert, raw_output_bert = model_bert.predict(pd.Series(text))\n",
    "probabilties_bert = softmax(raw_output_bert, axis=1)\n",
    "res_bert = pd.DataFrame(probabilties_bert)\n",
    "res_bert.insert(0, \"word\", digits)\n",
    "res_bert.columns = [\"word\", \"prob_0\", \"prob_1\"]\n",
    "\n",
    "res_bert"
   ]
  },
  {
   "cell_type": "markdown",
   "metadata": {},
   "source": [
    "### Roberta"
   ]
  },
  {
   "cell_type": "code",
   "execution_count": null,
   "metadata": {
    "scrolled": false
   },
   "outputs": [],
   "source": [
    "pred_roberta, raw_output_roberta = model_roberta.predict(pd.Series(text))\n",
    "probabilties_roberta = softmax(raw_output_roberta, axis=1)\n",
    "res_roberta = pd.DataFrame(probabilties_roberta)\n",
    "res_roberta.insert(0, \"word\", digits)\n",
    "res_roberta.columns = [\"word\", \"prob_0\", \"prob_1\"]\n",
    "\n",
    "res_roberta"
   ]
  },
  {
   "cell_type": "markdown",
   "metadata": {},
   "source": []
  }
 ],
 "metadata": {
  "kernelspec": {
   "display_name": "Python 3",
   "language": "python",
   "name": "python3"
  },
  "language_info": {
   "codemirror_mode": {
    "name": "ipython",
    "version": 3
   },
   "file_extension": ".py",
   "mimetype": "text/x-python",
   "name": "python",
   "nbconvert_exporter": "python",
   "pygments_lexer": "ipython3",
   "version": "3.8.5"
  }
 },
 "nbformat": 4,
 "nbformat_minor": 4
}
