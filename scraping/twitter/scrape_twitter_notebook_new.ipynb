{
 "cells": [
  {
   "cell_type": "code",
   "execution_count": 7,
   "metadata": {
    "ExecuteTime": {
     "end_time": "2020-08-26T07:39:38.640808Z",
     "start_time": "2020-08-26T07:39:38.630405Z"
    }
   },
   "outputs": [
    {
     "name": "stdout",
     "output_type": "stream",
     "text": [
      "Python 3.7.6\n"
     ]
    },
    {
     "data": {
      "text/html": [
       "\n",
       "<style>\n",
       "    div#notebook-container    { width: 95%; }\n",
       "    div#menubar-container     { width: 95%; }\n",
       "    div#header-container      { width: 95%; }\n",
       "    div#maintoolbar-container { width: 95%; }\"\"\n",
       "</style>\n"
      ],
      "text/plain": [
       "<IPython.core.display.HTML object>"
      ]
     },
     "metadata": {},
     "output_type": "display_data"
    }
   ],
   "source": [
    "from platform import python_version\n",
    "from IPython.display import display, HTML\n",
    "print('Python', python_version())\n",
    "display(HTML(data=\"\"\"\n",
    "<style>\n",
    "    div#notebook-container    { width: 95%; }\n",
    "    div#menubar-container     { width: 95%; }\n",
    "    div#header-container      { width: 95%; }\n",
    "    div#maintoolbar-container { width: 95%; }\"\"\n",
    "</style>\n",
    "\"\"\"))"
   ]
  },
  {
   "cell_type": "code",
   "execution_count": 10,
   "metadata": {
    "ExecuteTime": {
     "end_time": "2020-08-26T07:50:06.607880Z",
     "start_time": "2020-08-26T07:50:06.559665Z"
    }
   },
   "outputs": [],
   "source": [
    "%load_ext autoreload\n",
    "%autoreload 2\n",
    "from scrape_twitter import * #self-written python script\n",
    "from datetime import datetime"
   ]
  },
  {
   "cell_type": "markdown",
   "metadata": {},
   "source": [
    "### Get the names of the top 200 exchanges (by Trade Volume) from https://coin.market/exchanges "
   ]
  },
  {
   "cell_type": "code",
   "execution_count": 9,
   "metadata": {
    "ExecuteTime": {
     "end_time": "2020-08-26T07:41:22.754933Z",
     "start_time": "2020-08-26T07:41:17.959187Z"
    }
   },
   "outputs": [
    {
     "data": {
      "text/plain": [
       "['binance',\n",
       " 'okex',\n",
       " 'coinbene',\n",
       " 'rightbtc',\n",
       " 'huobi korea',\n",
       " 'bit-z',\n",
       " 'hitbtc',\n",
       " 'digifinex',\n",
       " 'coineal',\n",
       " 'coinbase pro',\n",
       " 'dragonex',\n",
       " 'bibox',\n",
       " 'bitrue',\n",
       " 'upbit korea',\n",
       " 'sistemkoin',\n",
       " 'huobi global',\n",
       " 'cointiger',\n",
       " 'bithumb',\n",
       " 'kraken',\n",
       " 'bitforex',\n",
       " 'bitstamp',\n",
       " 'hotbit',\n",
       " 'bitmart',\n",
       " 'simex',\n",
       " 'bitfinex',\n",
       " 'yobit',\n",
       " 'primexbt',\n",
       " 'bilaxy',\n",
       " 'indoex',\n",
       " 'aofex',\n",
       " 'coinone',\n",
       " 'btc-alpha',\n",
       " 'liquid',\n",
       " 'gate.io',\n",
       " 'exx',\n",
       " 'lbank',\n",
       " 'bitflyer',\n",
       " 'poloniex',\n",
       " 'coinfield',\n",
       " 'stex',\n",
       " 'kucoin',\n",
       " 'bittrex',\n",
       " 'mercatox',\n",
       " 'bitinka',\n",
       " 'gemini',\n",
       " 'p2pb2b',\n",
       " 'bitbay',\n",
       " 'livecoin',\n",
       " 'binance.us',\n",
       " 'exmo',\n",
       " 'kryptono',\n",
       " 'indodax',\n",
       " 'bitkub',\n",
       " 'zaif',\n",
       " 'localbitcoins',\n",
       " 'bw',\n",
       " 'coindeal',\n",
       " 'korbit',\n",
       " 'lakebtc',\n",
       " 'bitbns',\n",
       " 'bcex',\n",
       " 'itbit',\n",
       " 'btc markets',\n",
       " 'btcbox',\n",
       " 'bithumb global',\n",
       " 'big.one',\n",
       " 'crex24',\n",
       " 'tidex',\n",
       " 'litebit',\n",
       " 'cex.io',\n",
       " 'idex',\n",
       " 'coinfloor',\n",
       " 'chaoex',\n",
       " 'the rock trading',\n",
       " 'tradeogre',\n",
       " 'coinmate',\n",
       " 'bit2c',\n",
       " 'paymium',\n",
       " 'bleutrade',\n",
       " 'cryptox',\n",
       " 'boa exchange',\n",
       " 'bitkonan',\n",
       " 'bitx south africa',\n",
       " 'bitfex',\n",
       " 'coins pro',\n",
       " 'go4cryptos',\n",
       " 'zb.com',\n",
       " 'latoken',\n",
       " 'binance jersey',\n",
       " 'binance dex',\n",
       " 'novadax',\n",
       " 'acx',\n",
       " 'cat.ex',\n",
       " 'dobi exchange',\n",
       " 'token store',\n",
       " 'openledger dex',\n",
       " 'idax',\n",
       " 'bitubu',\n",
       " 'bx thailand',\n",
       " 'okcoin',\n",
       " 'dsx',\n",
       " 'allcoin',\n",
       " 'tradesatoshi',\n",
       " 'bisq',\n",
       " 'virwox',\n",
       " 'coinexchange',\n",
       " 'coss',\n",
       " 'vaultoro',\n",
       " 'mxc',\n",
       " 'oceanex',\n",
       " 'ooobtc',\n",
       " 'bitso',\n",
       " 'cryptonit',\n",
       " 'c-cex',\n",
       " 'indacoin',\n",
       " 'bitcoins norway',\n",
       " 'gatecoin',\n",
       " 'vircurex',\n",
       " 'quadrigacx',\n",
       " 'abucoins',\n",
       " 'coincoz',\n",
       " 'btcc',\n",
       " 'flowbtc',\n",
       " 'bitmarket',\n",
       " 'coinsecure',\n",
       " 'braziliex',\n",
       " 'coinnest',\n",
       " 'stocks exchange',\n",
       " 'cryptobridge',\n",
       " 'abcc',\n",
       " 'binance uganda',\n",
       " 'chaince',\n",
       " 'eterbase']"
      ]
     },
     "execution_count": 9,
     "metadata": {},
     "output_type": "execute_result"
    }
   ],
   "source": [
    "top_exchange()"
   ]
  },
  {
   "cell_type": "markdown",
   "metadata": {},
   "source": [
    "### Scraping\n",
    "#### Scrape tweets that mentions the top 200 changes from start_date to end_date \n",
    "\n",
    " Tweets are saved to a csv named \"{start_date}_{end_date}_scrapedtweets.csv\""
   ]
  },
  {
   "cell_type": "code",
   "execution_count": 16,
   "metadata": {
    "ExecuteTime": {
     "end_time": "2020-08-26T09:47:40.207805Z",
     "start_time": "2020-08-26T09:47:40.004331Z"
    }
   },
   "outputs": [],
   "source": [
    "start_date = datetime.strptime(\"2020-08-24\", '%Y-%m-%d')\n",
    "end_date = datetime.strptime(\"2020-08-25\", '%Y-%m-%d')\n",
    "#scrape_tweets(start_date, end_date, top_exchange())"
   ]
  },
  {
   "cell_type": "code",
   "execution_count": null,
   "metadata": {},
   "outputs": [],
   "source": []
  },
  {
   "cell_type": "code",
   "execution_count": null,
   "metadata": {},
   "outputs": [],
   "source": []
  },
  {
   "cell_type": "code",
   "execution_count": null,
   "metadata": {},
   "outputs": [],
   "source": []
  },
  {
   "cell_type": "code",
   "execution_count": null,
   "metadata": {},
   "outputs": [],
   "source": []
  }
 ],
 "metadata": {
  "kernelspec": {
   "display_name": "Python 3",
   "language": "python",
   "name": "python3"
  },
  "language_info": {
   "codemirror_mode": {
    "name": "ipython",
    "version": 3
   },
   "file_extension": ".py",
   "mimetype": "text/x-python",
   "name": "python",
   "nbconvert_exporter": "python",
   "pygments_lexer": "ipython3",
   "version": "3.7.6"
  }
 },
 "nbformat": 4,
 "nbformat_minor": 4
}
