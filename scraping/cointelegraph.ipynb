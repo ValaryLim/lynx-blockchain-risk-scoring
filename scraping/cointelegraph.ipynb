{
 "cells": [
  {
   "cell_type": "code",
   "execution_count": 28,
   "metadata": {
    "ExecuteTime": {
     "end_time": "2020-08-29T09:40:51.003076Z",
     "start_time": "2020-08-29T09:40:50.999151Z"
    }
   },
   "outputs": [],
   "source": [
    "from selenium import webdriver\n",
    "from selenium.webdriver.common.keys import Keys\n",
    "from selenium.webdriver.common.action_chains import ActionChains\n",
    "from bs4 import BeautifulSoup\n",
    "from datetime import datetime\n",
    "from datetime import date\n",
    "import pandas as pd\n",
    "import time"
   ]
  },
  {
   "cell_type": "code",
   "execution_count": 95,
   "metadata": {
    "ExecuteTime": {
     "end_time": "2020-08-29T10:48:50.296785Z",
     "start_time": "2020-08-29T10:48:50.279332Z"
    }
   },
   "outputs": [],
   "source": [
    "def cointelegraph_scrape(entity, start_date, end_date): \n",
    "    # remove notifications\n",
    "    chrome_options = webdriver.ChromeOptions()\n",
    "    prefs = {\"profile.default_content_setting_values.notifications\" : 2}\n",
    "    chrome_options.add_experimental_option(\"prefs\", prefs)\n",
    "    \n",
    "    # create driver\n",
    "    driver = webdriver.Chrome('./utils/chromedriver', options=chrome_options)\n",
    "\n",
    "    # search for webpage\n",
    "    search = f\"https://cointelegraph.com/search?query={entity}\"\n",
    "    driver.get(search)\n",
    "\n",
    "    # preliminary search of all articles\n",
    "    articles = driver.find_elements_by_xpath(\"//div[@class='row result']\")\n",
    "    time.sleep(3)\n",
    "    soup = BeautifulSoup(articles[-1].get_attribute(\"innerHTML\"), features=\"html.parser\")\n",
    "\n",
    "    # time\n",
    "    date_string = soup.find(class_=\"date\").text\n",
    "    if(date_string.split(\" \")[2]==\"AGO\"):   # deals with 'X HOURS AGO' format\n",
    "        date_time = datetime.strptime(date.today().strftime('%Y%m%d'), '%Y%m%d')\n",
    "    else:\n",
    "        date_time = datetime.strptime(date_string, \"%b %d, %Y\")\n",
    "\n",
    "    # keep pressing load more button until reach start date\n",
    "    current_date = date_time\n",
    "    while current_date >= start_date:\n",
    "        # refind load button and press\n",
    "        driver.execute_script(\"window.scrollTo(0, document.body.scrollHeight)\")\n",
    "        time.sleep(2)\n",
    "        load_more_section = driver.find_element_by_xpath(\"//div[@class='col-xs-12 load']\")\n",
    "        load_more_button = load_more_section.find_element_by_tag_name(\"a\")\n",
    "        action = ActionChains(driver)\n",
    "        action.move_to_element(load_more_button).click(load_more_button).perform()\n",
    "        time.sleep(3)\n",
    "\n",
    "        # retrieve articles again\n",
    "        articles = driver.find_elements_by_xpath(\"//div[@class='row result']\")\n",
    "        soup = BeautifulSoup(articles[-1].get_attribute(\"innerHTML\"), features=\"html.parser\")\n",
    "\n",
    "        # retrieve earliest date\n",
    "        date_string = soup.find(class_=\"date\").text\n",
    "        if(date_string.split(\" \")[2]==\"AGO\"):   # deals with 'X HOURS AGO' format\n",
    "            date_time = datetime.strptime(date.today().strftime('%Y%m%d'), '%Y%m%d')\n",
    "        else:\n",
    "            date_time = datetime.strptime(date_string, \"%b %d, %Y\")\n",
    "\n",
    "        current_date = date_time    \n",
    "        \n",
    "    column_names = [\"date_time\", \"title\", \"excerpt\", \"category\", \"article_url\"]\n",
    "    df = pd.DataFrame(columns = column_names)\n",
    "\n",
    "    # retrieve details from all articles\n",
    "    for article in articles: \n",
    "        soup = BeautifulSoup(article.get_attribute(\"innerHTML\"), features=\"html.parser\")\n",
    "\n",
    "        # retrieve date\n",
    "        date_string = soup.find(class_=\"date\").text\n",
    "        if(date_string.split(\" \")[2]==\"AGO\"):\n",
    "            date_time = datetime.strptime(date.today().strftime('%Y%m%d'), '%Y%m%d')\n",
    "        else:\n",
    "            date_time = datetime.strptime(date_string, \"%b %d, %Y\")\n",
    "\n",
    "        if date_time > end_date:\n",
    "            continue\n",
    "\n",
    "        # retrieve url and text \n",
    "        article_module = soup.find(class_=\"header\").find(\"a\")\n",
    "        article_url = article_module[\"href\"]\n",
    "        title_text = article_module.text.strip()\n",
    "        \n",
    "        # retrieve excerpt\n",
    "        excerpt = soup.find(class_=\"text\").find(\"a\").text.strip()\n",
    "\n",
    "        # retrieve category\n",
    "        category = soup.find(class_=\"image\").find(\"p\").text\n",
    "\n",
    "        # add information to dataframe\n",
    "        df = df.append({\"date_time\": date_time, \"title\": title_text, \"excerpt\": excerpt, \\\n",
    "            \"category\": category, \"article_url\": article_url}, ignore_index=True)\n",
    "\n",
    "    driver.quit()\n",
    "    return df"
   ]
  },
  {
   "cell_type": "code",
   "execution_count": 97,
   "metadata": {
    "ExecuteTime": {
     "end_time": "2020-08-29T10:53:33.811406Z",
     "start_time": "2020-08-29T10:52:33.617612Z"
    }
   },
   "outputs": [],
   "source": [
    "# testing function\n",
    "start_date = datetime(2020, 8, 20)\n",
    "end_date = datetime(2020, 8, 28)\n",
    "test = cointelegraph_scrape(\"bitcoin\", start_date, end_date)"
   ]
  },
  {
   "cell_type": "code",
   "execution_count": null,
   "metadata": {},
   "outputs": [],
   "source": []
  }
 ],
 "metadata": {
  "kernelspec": {
   "display_name": "Python 3",
   "language": "python",
   "name": "python3"
  },
  "language_info": {
   "codemirror_mode": {
    "name": "ipython",
    "version": 3
   },
   "file_extension": ".py",
   "mimetype": "text/x-python",
   "name": "python",
   "nbconvert_exporter": "python",
   "pygments_lexer": "ipython3",
   "version": "3.7.6"
  }
 },
 "nbformat": 4,
 "nbformat_minor": 4
}
