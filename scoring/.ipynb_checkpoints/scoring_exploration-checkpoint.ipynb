{
 "cells": [
  {
   "cell_type": "code",
   "execution_count": null,
   "metadata": {},
   "outputs": [],
   "source": [
    "import pandas as pd\n",
    "import matplotlib.pyplot as plt\n",
    "import seaborn as sns\n",
    "import numpy as np\n",
    "from datetime import datetime\n",
    "\n",
    "from utils.result_processing import process_dataframe\n",
    "\n",
    "pd.set_option('display.max_rows', 150)"
   ]
  },
  {
   "cell_type": "markdown",
   "metadata": {
    "heading_collapsed": true
   },
   "source": [
    "# Import and Format Predicted Data"
   ]
  },
  {
   "cell_type": "code",
   "execution_count": null,
   "metadata": {
    "hidden": true
   },
   "outputs": [],
   "source": [
    "roberta_2020_reddit = pd.read_csv('./data/roberta/2020_roberta_reddit.csv')\n",
    "roberta_2020_twitter = pd.read_csv('./data/roberta/2020_roberta_twitter.csv')\n",
    "roberta_2020_conventional = pd.read_csv('./data/roberta/2020_roberta_conventional.csv')\n",
    "roberta_2020_crypto = pd.read_csv('./data/roberta/2020_roberta_crypto.csv')\n",
    "\n",
    "roberta_2020_news = pd.concat([roberta_2020_conventional, roberta_2020_crypto], axis=0)"
   ]
  },
  {
   "cell_type": "code",
   "execution_count": null,
   "metadata": {
    "hidden": true,
    "scrolled": false
   },
   "outputs": [],
   "source": [
    "roberta_2020_news = process_dataframe(roberta_2020_news)\n",
    "roberta_2020_twitter = process_dataframe(roberta_2020_twitter)\n",
    "roberta_2020_reddit = process_dataframe(roberta_2020_reddit)\n",
    "\n",
    "roberta_2020_news[\"source\"] = \"news\"\n",
    "roberta_2020_twitter[\"source\"] = \"twitter\"\n",
    "roberta_2020_reddit[\"source\"] = \"reddit\"\n",
    "\n",
    "roberta_2020 = pd.concat([roberta_2020_news, roberta_2020_reddit, roberta_2020_twitter], axis=0)"
   ]
  },
  {
   "cell_type": "markdown",
   "metadata": {
    "heading_collapsed": true
   },
   "source": [
    "# Risk Scoring"
   ]
  },
  {
   "cell_type": "markdown",
   "metadata": {
    "hidden": true
   },
   "source": [
    "## Risk Scoring Methods"
   ]
  },
  {
   "cell_type": "markdown",
   "metadata": {
    "hidden": true
   },
   "source": [
    "### Helper Functions"
   ]
  },
  {
   "cell_type": "code",
   "execution_count": null,
   "metadata": {
    "hidden": true
   },
   "outputs": [],
   "source": [
    "def filter_risk(risk_df, threshold):\n",
    "    # filter by threshold: only source or risk can be filtered, one at a time\n",
    "    filtered_risk = []\n",
    "    if threshold_all:\n",
    "        for ind, row in risk_df.iterrows():\n",
    "            if row[\"count\"] < threshold_all:\n",
    "                filtered_risk.append(0)\n",
    "            else:\n",
    "                filtered_risk.append(row[\"risk\"])\n",
    "        # update risk\n",
    "        risk_df[\"risk\"] = filtered_risk  \n",
    "        \n",
    "    elif threshold_risk:\n",
    "        for ind, row in risk_df.iterrows():\n",
    "            if row[\"risk_count\"] < threshold_risk:\n",
    "                filtered_risk.append(0)\n",
    "            else:\n",
    "                filtered_risk.append(row[\"risk\"])\n",
    "    \n",
    "        risk_df[\"risk\"] = filtered_risk\n",
    "    \n",
    "    return risk_df"
   ]
  },
  {
   "cell_type": "code",
   "execution_count": null,
   "metadata": {
    "hidden": true
   },
   "outputs": [],
   "source": [
    "def retrieve_counts(df):\n",
    "    # get risk_count\n",
    "    df[\"risk_count\"] = df[\"pred\"] * df[\"counter\"]\n",
    "    risk_count = df.groupby(by=[\"date\"]).risk_count.sum()\n",
    "    risk_count = pd.DataFrame(risk_count)\n",
    "    risk_count = risk_count.reset_index()\n",
    "    risk_count.columns = [\"date\", \"risk_count\"]\n",
    "    \n",
    "    # get count\n",
    "    count = df.groupby(by=[\"date\"]).counter.sum()\n",
    "    count = pd.DataFrame(count)\n",
    "    count = count.reset_index()\n",
    "    count.columns = [\"date\", \"count\"]\n",
    "    \n",
    "    combined_df = pd.merge(count, risk_count, on=\"date\")\n",
    "    return combined_df"
   ]
  },
  {
   "cell_type": "markdown",
   "metadata": {
    "heading_collapsed": true,
    "hidden": true
   },
   "source": [
    "### Maximum"
   ]
  },
  {
   "cell_type": "code",
   "execution_count": null,
   "metadata": {
    "hidden": true
   },
   "outputs": [],
   "source": [
    "def risk_max(df, entity=\"\", source=\"\", threshold_all=0, threshold_risk=0):\n",
    "    df_copy = df.copy(deep=True)\n",
    "    \n",
    "    if source:\n",
    "        df_copy = df_copy[df_copy[\"source\"]==source]\n",
    "    if entity:\n",
    "        df_copy = df_copy[df_copy[\"entity\"]==entity]\n",
    "        \n",
    "    # get max risk score\n",
    "    risk = df_copy.groupby(by=[\"date\"]).prob.max() * 100\n",
    "    \n",
    "    # convert to dataframe\n",
    "    risk = pd.DataFrame(risk)\n",
    "    risk = risk.reset_index()\n",
    "    risk.columns = [\"date\", \"risk\"]\n",
    "    \n",
    "    # retrieve counts\n",
    "    counts = retrieve_counts(df_copy)\n",
    "    \n",
    "    # merge\n",
    "    risk = pd.merge(risk, counts, on=\"date\")\n",
    "    \n",
    "    # filter\n",
    "    risk = filter_risk(risk, threshold_all=threshold_all, threshold_risk=threshold_risk)\n",
    "    \n",
    "    return risk"
   ]
  },
  {
   "cell_type": "markdown",
   "metadata": {
    "heading_collapsed": true,
    "hidden": true
   },
   "source": [
    "### Average"
   ]
  },
  {
   "cell_type": "code",
   "execution_count": null,
   "metadata": {
    "hidden": true
   },
   "outputs": [],
   "source": [
    "def risk_avg(df, entity=\"\", source=\"\", threshold_all=0, threshold_risk=0):\n",
    "    df_copy = df.copy(deep=True)\n",
    "    if source:\n",
    "        df_copy = df_copy[df_copy[\"source\"]==source]\n",
    "    if entity: \n",
    "        df_copy = df_copy[df_copy[\"entity\"]==entity]\n",
    "    \n",
    "    # get average risk score\n",
    "    risk = df_copy.groupby(by=[\"date\"]).prob.mean() * 100\n",
    "    risk = pd.DataFrame(risk)\n",
    "    risk = risk.reset_index()\n",
    "    risk.columns = [\"date\", \"risk\"]\n",
    "    \n",
    "    # retrieve counts\n",
    "    counts = retrieve_counts(df_copy)\n",
    "    \n",
    "    # merge\n",
    "    risk = pd.merge(risk, counts, on=\"date\")\n",
    "    \n",
    "    # filter\n",
    "    risk = filter_risk(risk, threshold_all=threshold_all, threshold_risk=threshold_risk)\n",
    "    \n",
    "    return risk"
   ]
  },
  {
   "cell_type": "markdown",
   "metadata": {
    "heading_collapsed": true,
    "hidden": true
   },
   "source": [
    "### Weighted Average"
   ]
  },
  {
   "cell_type": "code",
   "execution_count": null,
   "metadata": {
    "hidden": true
   },
   "outputs": [],
   "source": [
    "def risk_weighted_avg(df, entity=\"\", source=\"\", threshold_all=0, threshold_risk=0):\n",
    "    df_copy = df.copy(deep=True)\n",
    "    df_copy[\"prob_counter\"] = df_copy[\"prob\"] * df_copy[\"counter\"]\n",
    "    \n",
    "    if source:\n",
    "        df_copy = df_copy[df_copy[\"source\"]==source]\n",
    "    if entity: \n",
    "        df_copy = df_copy[df_copy[\"entity\"]==entity]\n",
    "    \n",
    "    # get sum of risk score\n",
    "    risk = df_copy.groupby(by=[\"date\"]).prob_counter.sum() * 100\n",
    "    risk = pd.DataFrame(risk)\n",
    "    risk = risk.reset_index()\n",
    "    risk.columns = [\"date\", \"risk\"]\n",
    "    \n",
    "    # retrieve counts\n",
    "    counts = retrieve_counts(df_copy)\n",
    "    \n",
    "    # merge\n",
    "    risk = pd.merge(risk, counts, on=\"date\")\n",
    "    \n",
    "    # filter\n",
    "    risk = filter_risk(risk, threshold_all=threshold_all, threshold_risk=threshold_risk)\n",
    "    \n",
    "    risk[\"risk\"] = risk[\"risk\"] / risk[\"count\"]\n",
    "    \n",
    "    return risk"
   ]
  },
  {
   "cell_type": "markdown",
   "metadata": {
    "hidden": true
   },
   "source": [
    "### Relative Sources"
   ]
  },
  {
   "cell_type": "code",
   "execution_count": null,
   "metadata": {
    "hidden": true
   },
   "outputs": [],
   "source": [
    "def risk_relative_sources(df, entity=\"\", weights={\"news\":0.5, \"reddit\": 0.4, \"twitter\":0.1}, weighted=True,\n",
    "                         threshold_all=0, threshold_risk=0):\n",
    "    if weighted:\n",
    "        news = risk_weighted_avg(df, entity=entity, source=\"news\")\n",
    "        reddit = risk_weighted_avg(df, entity=entity, source=\"reddit\")\n",
    "        twitter = risk_weighted_avg(df, entity=entity, source=\"twitter\")\n",
    "    else:\n",
    "        news = risk_avg(df, entity=entity, source=\"news\")\n",
    "        reddit = risk_avg(df, entity=entity, source=\"reddit\")\n",
    "        twitter = risk_avg(df, entity=entity, source=\"twitter\") \n",
    "        \n",
    "    # rename dataframes\n",
    "    news.columns = [\"date\", \"news\", \"news_count\", \"news_risk_count\"]\n",
    "    reddit.columns = [\"date\", \"reddit\", \"reddit_count\", \"reddit_risk_count\"]\n",
    "    twitter.columns = [\"date\", \"twitter\", \"twitter_count\", \"twitter_risk_count\"]\n",
    "    \n",
    "    # combine dataframe and weight\n",
    "    combined = pd.merge(news, reddit, on=\"date\", how=\"outer\")\n",
    "    combined = pd.merge(combined, twitter, on=\"date\", how=\"outer\")\n",
    "    combined = combined.fillna(0) # fill 0s\n",
    "    combined[\"risk\"] = weights[\"news\"] * combined[\"news\"] + weights[\"reddit\"] * combined[\"reddit\"] +\\\n",
    "        weights[\"twitter\"] * combined[\"twitter\"]\n",
    "    \n",
    "    combined[\"count\"] = combined[\"news_count\"] + combined[\"reddit_count\"] + combined[\"twitter_count\"]\n",
    "    combined[\"risk_count\"] = combined[\"news_risk_count\"] + combined[\"reddit_risk_count\"] + combined[\"twitter_risk_count\"]\n",
    "    \n",
    "    # filter\n",
    "    combined = filter_risk(combined, threshold_all=threshold_all, threshold_risk=threshold_risk)\n",
    "    \n",
    "    combined = combined[[\"date\", \"risk\", \"count\", \"risk_count\"]]\n",
    "    combined = combined.sort_values(by=\"date\") # sort values\n",
    "    \n",
    "    return combined"
   ]
  },
  {
   "cell_type": "code",
   "execution_count": null,
   "metadata": {
    "hidden": true
   },
   "outputs": [],
   "source": [
    "def risk_relative_sources_split(df, entity=\"\", weights={\"news\":0.5, \"reddit\": 0.4, \"twitter\":0.1}, weighted=True,\n",
    "                                threshold_all={\"news\": 0, \"reddit\": 0, \"twitter\": 0}, \n",
    "                                threshold_risk={\"news\": 0, \"reddit\": 0, \"twitter\": 0}):\n",
    "    if weighted:\n",
    "        news = risk_weighted_avg(df, entity=entity, source=\"news\", \n",
    "                                 threshold_all=threshold_all[\"news\"], threshold_risk=threshold_risk[\"news\"])\n",
    "        reddit = risk_weighted_avg(df, entity=entity, source=\"reddit\",\n",
    "                                  threshold_all=threshold_all[\"reddit\"], threshold_risk=threshold_risk[\"reddit\"])\n",
    "        twitter = risk_weighted_avg(df, entity=entity, source=\"twitter\",\n",
    "                                   threshold_all=threshold_all[\"twitter\"], threshold_risk=threshold_risk[\"twitter\"])\n",
    "    else:\n",
    "        news = risk_avg(df, entity=entity, source=\"news\",\n",
    "                       threshold_all=threshold_all[\"news\"], threshold_risk=threshold_risk[\"news\"])\n",
    "        reddit = risk_avg(df, entity=entity, source=\"reddit\",\n",
    "                         threshold_all=threshold_all[\"reddit\"], threshold_risk=threshold_risk[\"reddit\"])\n",
    "        twitter = risk_avg(df, entity=entity, source=\"twitter\",\n",
    "                          threshold_all=threshold_all[\"twitter\"], threshold_risk=threshold_risk[\"twitter\"]) \n",
    "        \n",
    "    # rename dataframes\n",
    "    news.columns = [\"date\", \"news\", \"news_count\", \"news_risk_count\"]\n",
    "    reddit.columns = [\"date\", \"reddit\", \"reddit_count\", \"reddit_risk_count\"]\n",
    "    twitter.columns = [\"date\", \"twitter\", \"twitter_count\", \"twitter_risk_count\"]\n",
    "    \n",
    "    # combine dataframe and weight\n",
    "    combined = pd.merge(news, reddit, on=\"date\", how=\"outer\")\n",
    "    combined = pd.merge(combined, twitter, on=\"date\", how=\"outer\")\n",
    "    combined = combined.fillna(0) # fill 0s\n",
    "    combined[\"risk\"] = weights[\"news\"] * combined[\"news\"] + weights[\"reddit\"] * combined[\"reddit\"] +\\\n",
    "        weights[\"twitter\"] * combined[\"twitter\"]\n",
    "    \n",
    "    combined[\"count\"] = combined[\"news_count\"] + combined[\"reddit_count\"] + combined[\"twitter_count\"]\n",
    "    combined[\"risk_count\"] = combined[\"news_risk_count\"] + combined[\"reddit_risk_count\"] + combined[\"twitter_risk_count\"]\n",
    "    \n",
    "    combined = combined[[\"date\", \"risk\", \"count\", \"risk_count\"]]\n",
    "    combined = combined.sort_values(by=\"date\") # sort values\n",
    "    \n",
    "    return combined"
   ]
  },
  {
   "cell_type": "markdown",
   "metadata": {
    "heading_collapsed": true,
    "hidden": true
   },
   "source": [
    "## Decay"
   ]
  },
  {
   "cell_type": "code",
   "execution_count": null,
   "metadata": {
    "hidden": true,
    "scrolled": false
   },
   "outputs": [],
   "source": [
    "def reindex_dataframe(df, start_date, end_date):\n",
    "    # create copy of dataframe\n",
    "    df_copy = df.copy(deep=True)\n",
    "    \n",
    "    # generate new index\n",
    "    date_idx = pd.date_range(start_date, end_date, freq=\"D\")\n",
    "    \n",
    "    # change index\n",
    "    df_copy = df_copy.set_index(\"date\")\n",
    "    \n",
    "    # reindex\n",
    "    df_copy = df_copy.reindex(date_idx)\n",
    "    \n",
    "    return df_copy"
   ]
  },
  {
   "cell_type": "code",
   "execution_count": null,
   "metadata": {
    "hidden": true
   },
   "outputs": [],
   "source": [
    "def linear_decay(df, decay_rate = 0.5):\n",
    "    # create copy\n",
    "    df_copy = df.copy(deep=True)\n",
    "    \n",
    "    prev_value = 0\n",
    "    for index, row in df.iterrows():\n",
    "        if np.isnan(row[\"risk\"]):\n",
    "            df_copy[\"risk\"][index] = prev_value * 0.5\n",
    "            prev_value = prev_value * 0.5\n",
    "        else:\n",
    "            prev_value = row[\"risk\"]\n",
    "    \n",
    "    df_copy = df_copy.fillna(0)\n",
    "    \n",
    "    df_copy = df_copy.reset_index()\n",
    "    df_copy.columns = [\"date\", \"risk\", \"count\", \"risk_count\"]\n",
    "    \n",
    "    return df_copy"
   ]
  },
  {
   "cell_type": "code",
   "execution_count": null,
   "metadata": {
    "hidden": true
   },
   "outputs": [],
   "source": [
    "def exp_decay(df, span = 5):\n",
    "    # create copy\n",
    "    df_copy = df.copy(deep=True)\n",
    "    df_copy_final = df.copy(deep=True)\n",
    "    \n",
    "    # fill na\n",
    "    df_copy = df_copy.fillna(0)\n",
    "    \n",
    "    # decay\n",
    "    df_copy = df_copy.ewm(span=5).mean()\n",
    "    \n",
    "    # fill\n",
    "    df_copy_final[df_copy_final.isnull()] = df_copy\n",
    "    \n",
    "    df_copy_final = df_copy_final.reset_index()\n",
    "    df_copy_final.columns = [\"date\", \"risk\", \"count\", \"risk_count\"]\n",
    "    \n",
    "    return df_copy_final"
   ]
  },
  {
   "cell_type": "markdown",
   "metadata": {
    "hidden": true
   },
   "source": [
    "## Evaluation of Methods"
   ]
  },
  {
   "cell_type": "code",
   "execution_count": null,
   "metadata": {
    "hidden": true
   },
   "outputs": [],
   "source": [
    "def risk_graph(df, start_date, end_date, title=\"Risk Score Over Time\", entity=\"\", show_hacks=True):\n",
    "    '''\n",
    "    start_date/end_date in foramt: 'YYYY-MM-DD'\n",
    "    '''\n",
    "    start_date = datetime.strptime(start_date, \"%Y-%m-%d\").date()\n",
    "    end_date = datetime.strptime(end_date, \"%Y-%m-%d\").date()\n",
    "    \n",
    "    filtered_df = df[df[\"date\"].apply(lambda x: x <= end_date and x >= start_date)]\n",
    "    \n",
    "    # graph\n",
    "    plt.figure(figsize=(15,5))\n",
    "    \n",
    "    if show_hacks:\n",
    "        # retrieve hacks list\n",
    "        hacks_list = pd.read_csv('./data/hacks_list_2020.csv')\n",
    "        hacks_list['Date'] = pd.to_datetime(hacks_list.Date, format=\"%d-%m-%Y\")\n",
    "        hacks_list['Entity'] = hacks_list['Entity'].apply(lambda x: x.lower())\n",
    "        \n",
    "        if entity:\n",
    "            hacks_list = hacks_list[hacks_list[\"Entity\"] == entity]\n",
    "        \n",
    "        for hack_date in hacks_list.Date:\n",
    "            plt.axvline(hack_date, linestyle=\"--\", color=\"red\")\n",
    "    \n",
    "    plt.plot(filtered_df.date, filtered_df.risk, color=\"black\")\n",
    "    \n",
    "    plt.grid(True)\n",
    "    plt.xlabel('Date')\n",
    "    plt.ylabel('Risk Score')\n",
    "    plt.title(title)\n",
    "    plt.show()"
   ]
  },
  {
   "cell_type": "markdown",
   "metadata": {
    "heading_collapsed": true
   },
   "source": [
    "# Entity Analysis"
   ]
  },
  {
   "cell_type": "code",
   "execution_count": null,
   "metadata": {
    "hidden": true
   },
   "outputs": [],
   "source": [
    "start_date = \"2020-01-01\"\n",
    "end_date = \"2020-06-30\""
   ]
  },
  {
   "cell_type": "markdown",
   "metadata": {
    "hidden": true
   },
   "source": [
    "## Binance"
   ]
  },
  {
   "cell_type": "code",
   "execution_count": null,
   "metadata": {
    "hidden": true
   },
   "outputs": [],
   "source": [
    "entity = \"binance\""
   ]
  },
  {
   "cell_type": "markdown",
   "metadata": {
    "hidden": true
   },
   "source": [
    "### Maximum Risk"
   ]
  },
  {
   "cell_type": "markdown",
   "metadata": {
    "hidden": true
   },
   "source": [
    "#### Threshold: None"
   ]
  },
  {
   "cell_type": "code",
   "execution_count": null,
   "metadata": {
    "hidden": true
   },
   "outputs": [],
   "source": [
    "risk_max_overall = risk_max(roberta_2020, entity=entity)\n",
    "risk_graph(risk_max_overall, start_date=start_date, end_date=end_date, title=\"Overall: Max Probability\", entity=entity)"
   ]
  },
  {
   "cell_type": "code",
   "execution_count": null,
   "metadata": {
    "hidden": true
   },
   "outputs": [],
   "source": [
    "risk_max_news = risk_max(roberta_2020, source=\"news\", entity=entity)\n",
    "risk_graph(risk_max_news, start_date=start_date, end_date=end_date, title=\"News: Max Probability\", entity=entity)"
   ]
  },
  {
   "cell_type": "code",
   "execution_count": null,
   "metadata": {
    "hidden": true
   },
   "outputs": [],
   "source": [
    "risk_max_reddit = risk_max(roberta_2020, source=\"reddit\", entity=entity)\n",
    "risk_graph(risk_max_reddit, start_date=start_date, end_date=end_date, title=\"Reddit: Max Probability\", entity=entity)"
   ]
  },
  {
   "cell_type": "code",
   "execution_count": null,
   "metadata": {
    "hidden": true
   },
   "outputs": [],
   "source": [
    "risk_max_twitter = risk_max(roberta_2020, source=\"twitter\", entity=entity)\n",
    "risk_graph(risk_max_twitter, start_date=start_date, end_date=end_date, title=\"Twitter: Max Probability\", entity=entity)"
   ]
  },
  {
   "cell_type": "markdown",
   "metadata": {
    "heading_collapsed": true,
    "hidden": true
   },
   "source": [
    "#### Threshold: All Count"
   ]
  },
  {
   "cell_type": "code",
   "execution_count": null,
   "metadata": {
    "hidden": true,
    "scrolled": true
   },
   "outputs": [],
   "source": [
    "risk_max_overall = risk_max(roberta_2020, entity=entity, threshold_all=10)\n",
    "risk_graph(risk_max_overall, start_date=start_date, end_date=end_date, title=\"Overall: Max Probability\", entity=entity)"
   ]
  },
  {
   "cell_type": "code",
   "execution_count": null,
   "metadata": {
    "hidden": true,
    "scrolled": true
   },
   "outputs": [],
   "source": [
    "risk_max_news = risk_max(roberta_2020, source=\"news\", entity=\"binance\", threshold_all=1)\n",
    "risk_graph(risk_max_news, start_date=start_date, end_date=end_date, title=\"News: Max Probability\", entity=\"binance\")"
   ]
  },
  {
   "cell_type": "code",
   "execution_count": null,
   "metadata": {
    "hidden": true
   },
   "outputs": [],
   "source": [
    "risk_max_reddit = risk_max(roberta_2020, source=\"reddit\", entity=entity, threshold_all=10)\n",
    "risk_graph(risk_max_reddit, start_date=start_date, end_date=end_date, title=\"Reddit: Max Probability\", entity=entity)"
   ]
  },
  {
   "cell_type": "code",
   "execution_count": null,
   "metadata": {
    "hidden": true,
    "scrolled": true
   },
   "outputs": [],
   "source": [
    "risk_max_twitter = risk_max(roberta_2020, source=\"twitter\", entity=entity, threshold_all=2)\n",
    "risk_graph(risk_max_twitter, start_date=start_date, end_date=end_date, title=\"Twitter: Max Probability\", entity=entity)"
   ]
  },
  {
   "cell_type": "markdown",
   "metadata": {
    "heading_collapsed": true,
    "hidden": true
   },
   "source": [
    "#### Threshold: Risk Count"
   ]
  },
  {
   "cell_type": "code",
   "execution_count": null,
   "metadata": {
    "hidden": true
   },
   "outputs": [],
   "source": [
    "risk_max_overall = risk_max(roberta_2020, entity=entity, threshold_risk=4)\n",
    "risk_graph(risk_max_overall, start_date=start_date, end_date=end_date, title=\"Overall: Max Probability\", entity=entity)"
   ]
  },
  {
   "cell_type": "code",
   "execution_count": null,
   "metadata": {
    "hidden": true
   },
   "outputs": [],
   "source": [
    "risk_max_news = risk_max(roberta_2020, source=\"news\", entity=entity, threshold_risk=1)\n",
    "risk_graph(risk_max_news, start_date=start_date, end_date=end_date, title=\"News: Max Probability\", entity=entity)"
   ]
  },
  {
   "cell_type": "code",
   "execution_count": null,
   "metadata": {
    "hidden": true
   },
   "outputs": [],
   "source": [
    "risk_max_reddit = risk_max(roberta_2020, source=\"reddit\", entity=entity, threshold_risk=3)\n",
    "risk_graph(risk_max_reddit, start_date=start_date, end_date=end_date, title=\"Reddit: Max Probability\", entity=entity)"
   ]
  },
  {
   "cell_type": "code",
   "execution_count": null,
   "metadata": {
    "hidden": true
   },
   "outputs": [],
   "source": [
    "risk_max_twitter = risk_max(roberta_2020, source=\"twitter\", entity=entity, threshold_risk=1)\n",
    "risk_graph(risk_max_twitter, start_date=start_date, end_date=end_date, title=\"Twitter: Max Probability\", entity=entity)"
   ]
  },
  {
   "cell_type": "markdown",
   "metadata": {
    "heading_collapsed": true,
    "hidden": true
   },
   "source": [
    "### Average Risk"
   ]
  },
  {
   "cell_type": "markdown",
   "metadata": {
    "heading_collapsed": true,
    "hidden": true
   },
   "source": [
    "#### Threshold: None"
   ]
  },
  {
   "cell_type": "code",
   "execution_count": null,
   "metadata": {
    "hidden": true
   },
   "outputs": [],
   "source": [
    "risk_avg_overall = risk_avg(roberta_2020, entity=entity) \n",
    "risk_graph(risk_avg_overall, start_date=start_date, end_date=end_date, title=\"Overall: Average Probability\", entity=entity)"
   ]
  },
  {
   "cell_type": "code",
   "execution_count": null,
   "metadata": {
    "hidden": true
   },
   "outputs": [],
   "source": [
    "risk_avg_news = risk_avg(roberta_2020, source=\"news\", entity=entity) \n",
    "risk_graph(risk_avg_news, start_date=start_date, end_date=end_date, title=\"News: Average Probability\", entity=entity)"
   ]
  },
  {
   "cell_type": "code",
   "execution_count": null,
   "metadata": {
    "hidden": true
   },
   "outputs": [],
   "source": [
    "risk_avg_reddit = risk_avg(roberta_2020, source=\"reddit\", entity=entity) \n",
    "risk_graph(risk_avg_reddit, start_date=start_date, end_date=end_date, title=\"Reddit: Average Probability\", entity=entity)"
   ]
  },
  {
   "cell_type": "code",
   "execution_count": null,
   "metadata": {
    "hidden": true
   },
   "outputs": [],
   "source": [
    "risk_avg_twitter = risk_avg(roberta_2020, source=\"twitter\", entity=entity) \n",
    "risk_graph(risk_avg_twitter, start_date=start_date, end_date=end_date, title=\"Twitter: Average Probability\", entity=entity)"
   ]
  },
  {
   "cell_type": "markdown",
   "metadata": {
    "heading_collapsed": true,
    "hidden": true
   },
   "source": [
    "#### Threshold: All Count"
   ]
  },
  {
   "cell_type": "code",
   "execution_count": null,
   "metadata": {
    "hidden": true,
    "scrolled": true
   },
   "outputs": [],
   "source": [
    "risk_avg_overall = risk_avg(roberta_2020, entity=entity, threshold_all=10) \n",
    "risk_graph(risk_avg_overall, start_date=start_date, end_date=end_date, title=\"Overall: Average Probability\", entity=entity)"
   ]
  },
  {
   "cell_type": "code",
   "execution_count": null,
   "metadata": {
    "hidden": true
   },
   "outputs": [],
   "source": [
    "risk_avg_news = risk_avg(roberta_2020, source=\"news\", entity=entity, threshold_all=1) \n",
    "risk_graph(risk_avg_news, start_date=start_date, end_date=end_date, title=\"News: Average Probability\", entity=entity)"
   ]
  },
  {
   "cell_type": "code",
   "execution_count": null,
   "metadata": {
    "hidden": true,
    "scrolled": true
   },
   "outputs": [],
   "source": [
    "risk_avg_reddit = risk_avg(roberta_2020, source=\"reddit\", entity=entity, threshold_all=10) \n",
    "risk_graph(risk_avg_reddit, start_date=start_date, end_date=end_date, title=\"Reddit: Average Probability\", entity=entity)"
   ]
  },
  {
   "cell_type": "code",
   "execution_count": null,
   "metadata": {
    "hidden": true
   },
   "outputs": [],
   "source": [
    "risk_avg_twitter = risk_avg(roberta_2020, source=\"twitter\", entity=entity, threshold_all=1) \n",
    "risk_graph(risk_avg_twitter, start_date=start_date, end_date=end_date, title=\"Twitter: Average Probability\", entity=entity)"
   ]
  },
  {
   "cell_type": "markdown",
   "metadata": {
    "heading_collapsed": true,
    "hidden": true
   },
   "source": [
    "#### Threshold: Risk Count"
   ]
  },
  {
   "cell_type": "code",
   "execution_count": null,
   "metadata": {
    "hidden": true,
    "scrolled": true
   },
   "outputs": [],
   "source": [
    "risk_avg_overall = risk_avg(roberta_2020, entity=entity, threshold_risk=2) \n",
    "risk_graph(risk_avg_overall, start_date=start_date, end_date=end_date, title=\"Overall: Average Probability\", entity=entity)"
   ]
  },
  {
   "cell_type": "code",
   "execution_count": null,
   "metadata": {
    "hidden": true
   },
   "outputs": [],
   "source": [
    "risk_avg_news = risk_avg(roberta_2020, source=\"news\", entity=entity, threshold_risk=1) \n",
    "risk_graph(risk_avg_news, start_date=start_date, end_date=end_date, title=\"News: Average Probability\", entity=entity)"
   ]
  },
  {
   "cell_type": "code",
   "execution_count": null,
   "metadata": {
    "hidden": true
   },
   "outputs": [],
   "source": [
    "risk_avg_reddit = risk_avg(roberta_2020, source=\"reddit\", entity=entity, threshold_risk=4) \n",
    "risk_graph(risk_avg_reddit, start_date=start_date, end_date=end_date, title=\"Reddit: Average Probability\", entity=entity)"
   ]
  },
  {
   "cell_type": "code",
   "execution_count": null,
   "metadata": {
    "hidden": true
   },
   "outputs": [],
   "source": [
    "risk_avg_twitter = risk_avg(roberta_2020, source=\"twitter\", entity=entity, threshold_risk=1) \n",
    "risk_graph(risk_avg_twitter, start_date=start_date, end_date=end_date, title=\"Twitter: Average Probability\", entity=entity)"
   ]
  },
  {
   "cell_type": "markdown",
   "metadata": {
    "heading_collapsed": true,
    "hidden": true
   },
   "source": [
    "### Weighted Average Risk"
   ]
  },
  {
   "cell_type": "markdown",
   "metadata": {
    "heading_collapsed": true,
    "hidden": true
   },
   "source": [
    "#### Threshold: None"
   ]
  },
  {
   "cell_type": "code",
   "execution_count": null,
   "metadata": {
    "hidden": true,
    "scrolled": false
   },
   "outputs": [],
   "source": [
    "risk_weighted_avg_overall = risk_weighted_avg(roberta_2020, entity=entity) \n",
    "risk_graph(risk_weighted_avg_overall, start_date=start_date, end_date=end_date, title=\"Overall: Weighted Average Probability\", entity=entity)"
   ]
  },
  {
   "cell_type": "code",
   "execution_count": null,
   "metadata": {
    "hidden": true,
    "scrolled": true
   },
   "outputs": [],
   "source": [
    "risk_weighted_avg_news = risk_weighted_avg(roberta_2020, source=\"news\", entity=entity) \n",
    "risk_graph(risk_weighted_avg_news, start_date=start_date, end_date=end_date, title=\"News: Weighted Average Probability\", entity=entity)"
   ]
  },
  {
   "cell_type": "code",
   "execution_count": null,
   "metadata": {
    "hidden": true
   },
   "outputs": [],
   "source": [
    "risk_weighted_avg_reddit = risk_weighted_avg(roberta_2020, source=\"reddit\", entity=entity) \n",
    "risk_graph(risk_weighted_avg_reddit, start_date=start_date, end_date=end_date, title=\"Reddit: Weighted Average Probability\", entity=entity)"
   ]
  },
  {
   "cell_type": "code",
   "execution_count": null,
   "metadata": {
    "hidden": true
   },
   "outputs": [],
   "source": [
    "risk_weighted_avg_twitter = risk_weighted_avg(roberta_2020, source=\"twitter\", entity=entity) \n",
    "risk_graph(risk_weighted_avg_twitter, start_date=start_date, end_date=end_date, title=\"Twitter: Weighted Average Probability\", entity=entity)"
   ]
  },
  {
   "cell_type": "markdown",
   "metadata": {
    "heading_collapsed": true,
    "hidden": true
   },
   "source": [
    "#### Threshold: All Count"
   ]
  },
  {
   "cell_type": "code",
   "execution_count": null,
   "metadata": {
    "hidden": true,
    "scrolled": true
   },
   "outputs": [],
   "source": [
    "risk_weighted_avg_overall = risk_weighted_avg(roberta_2020, entity=entity, threshold_all=10) \n",
    "risk_graph(risk_weighted_avg_overall, start_date=start_date, end_date=end_date, title=\"Overall: Weighted Average Probability\", entity=entity)"
   ]
  },
  {
   "cell_type": "code",
   "execution_count": null,
   "metadata": {
    "hidden": true,
    "scrolled": true
   },
   "outputs": [],
   "source": [
    "risk_weighted_avg_news = risk_weighted_avg(roberta_2020, source=\"news\", entity=entity, threshold_all=1) \n",
    "risk_graph(risk_weighted_avg_news, start_date=start_date, end_date=end_date, title=\"News: Weighted Average Probability\", entity=entity)"
   ]
  },
  {
   "cell_type": "code",
   "execution_count": null,
   "metadata": {
    "hidden": true
   },
   "outputs": [],
   "source": [
    "risk_weighted_avg_reddit = risk_weighted_avg(roberta_2020, source=\"reddit\", entity=entity, threshold_all=10) \n",
    "risk_graph(risk_weighted_avg_reddit, start_date=start_date, end_date=end_date, title=\"Reddit: Weighted Average Probability\", entity=entity)"
   ]
  },
  {
   "cell_type": "code",
   "execution_count": null,
   "metadata": {
    "hidden": true
   },
   "outputs": [],
   "source": [
    "risk_weighted_avg_twitter = risk_weighted_avg(roberta_2020, source=\"twitter\", entity=entity, threshold_all=2) \n",
    "risk_graph(risk_weighted_avg_twitter, start_date=start_date, end_date=end_date, title=\"Twitter: Weighted Average Probability\", entity=entity)"
   ]
  },
  {
   "cell_type": "markdown",
   "metadata": {
    "heading_collapsed": true,
    "hidden": true
   },
   "source": [
    "#### Threshold: Risk Count"
   ]
  },
  {
   "cell_type": "code",
   "execution_count": null,
   "metadata": {
    "hidden": true,
    "scrolled": true
   },
   "outputs": [],
   "source": [
    "risk_weighted_avg_overall = risk_weighted_avg(roberta_2020, entity=entity, threshold_risk=4) \n",
    "risk_graph(risk_weighted_avg_overall, start_date=start_date, end_date=end_date, title=\"Overall: Weighted Average Probability\", entity=entity)"
   ]
  },
  {
   "cell_type": "code",
   "execution_count": null,
   "metadata": {
    "hidden": true
   },
   "outputs": [],
   "source": [
    "risk_weighted_avg_news = risk_weighted_avg(roberta_2020, source=\"news\", entity=entity, threshold_risk=1) \n",
    "risk_graph(risk_weighted_avg_news, start_date=start_date, end_date=end_date, title=\"News: Weighted Average Probability\", entity=entity)"
   ]
  },
  {
   "cell_type": "code",
   "execution_count": null,
   "metadata": {
    "hidden": true,
    "scrolled": false
   },
   "outputs": [],
   "source": [
    "risk_weighted_avg_reddit = risk_weighted_avg(roberta_2020, source=\"reddit\", entity=entity, threshold_risk=3) \n",
    "risk_graph(risk_weighted_avg_reddit, start_date=start_date, end_date=end_date, title=\"Reddit: Weighted Average Probability\", entity=entity)"
   ]
  },
  {
   "cell_type": "code",
   "execution_count": null,
   "metadata": {
    "hidden": true
   },
   "outputs": [],
   "source": [
    "risk_weighted_avg_twitter = risk_weighted_avg(roberta_2020, source=\"twitter\", entity=entity, threshold_risk=1) \n",
    "risk_graph(risk_weighted_avg_twitter, start_date=start_date, end_date=end_date, title=\"Twitter: Weighted Average Probability\", entity=entity)"
   ]
  },
  {
   "cell_type": "markdown",
   "metadata": {
    "heading_collapsed": true,
    "hidden": true
   },
   "source": [
    "### Relative Source - Average Risk"
   ]
  },
  {
   "cell_type": "markdown",
   "metadata": {
    "heading_collapsed": true,
    "hidden": true
   },
   "source": [
    "#### Threshold: None"
   ]
  },
  {
   "cell_type": "code",
   "execution_count": null,
   "metadata": {
    "hidden": true
   },
   "outputs": [],
   "source": [
    "weights={\"news\":0.5, \"reddit\": 0.25, \"twitter\":0.25}\n",
    "\n",
    "risk_relative = risk_relative_sources(roberta_2020, entity=entity, weights=weights, weighted=False)\n",
    "risk_graph(risk_relative, start_date=start_date, end_date=end_date, \n",
    "           title=\"Relative Source Risk Over Time\", entity=entity)"
   ]
  },
  {
   "cell_type": "markdown",
   "metadata": {
    "heading_collapsed": true,
    "hidden": true
   },
   "source": [
    "#### Threshold: All (Overall)"
   ]
  },
  {
   "cell_type": "code",
   "execution_count": null,
   "metadata": {
    "hidden": true
   },
   "outputs": [],
   "source": [
    "weights={\"news\":0.5, \"reddit\": 0.25, \"twitter\":0.25}\n",
    "threshold_all = 10\n",
    "\n",
    "risk_relative = risk_relative_sources(roberta_2020, entity=entity, weights=weights, weighted=False, \n",
    "                                     threshold_all=threshold_all)\n",
    "risk_graph(risk_relative, start_date=start_date, end_date=end_date, \n",
    "           title=\"Relative Source Risk Over Time\", entity=entity)"
   ]
  },
  {
   "cell_type": "markdown",
   "metadata": {
    "heading_collapsed": true,
    "hidden": true
   },
   "source": [
    "#### Threshold: Risk (Overall)"
   ]
  },
  {
   "cell_type": "code",
   "execution_count": null,
   "metadata": {
    "hidden": true
   },
   "outputs": [],
   "source": [
    "weights={\"news\":0.5, \"reddit\": 0.25, \"twitter\":0.25}\n",
    "threshold_risk = 5\n",
    "\n",
    "risk_relative = risk_relative_sources(roberta_2020, entity=entity, weights=weights, weighted=False, \n",
    "                                     threshold_risk=threshold_risk)\n",
    "risk_graph(risk_relative, start_date=start_date, end_date=end_date, \n",
    "           title=\"Relative Source Risk Over Time\", entity=entity)"
   ]
  },
  {
   "cell_type": "markdown",
   "metadata": {
    "heading_collapsed": true,
    "hidden": true
   },
   "source": [
    "#### Threshold: All (By Source)"
   ]
  },
  {
   "cell_type": "code",
   "execution_count": null,
   "metadata": {
    "hidden": true
   },
   "outputs": [],
   "source": [
    "weights={\"news\":0.5, \"reddit\": 0.25, \"twitter\":0.25}\n",
    "threshold_all = {\"news\":1, \"reddit\":10, \"twitter\":1}\n",
    "\n",
    "risk_relative = risk_relative_sources_split(roberta_2020, entity=entity, weights=weights, weighted=False, \n",
    "                                     threshold_all=threshold_all)\n",
    "risk_graph(risk_relative, start_date=start_date, end_date=end_date, \n",
    "           title=\"Relative Source Risk Over Time\", entity=entity)"
   ]
  },
  {
   "cell_type": "markdown",
   "metadata": {
    "heading_collapsed": true,
    "hidden": true
   },
   "source": [
    "#### Threshold: Risk (By Source)"
   ]
  },
  {
   "cell_type": "code",
   "execution_count": null,
   "metadata": {
    "hidden": true
   },
   "outputs": [],
   "source": [
    "weights={\"news\":0.5, \"reddit\": 0.25, \"twitter\":0.25}\n",
    "threshold_risk = {\"news\":1, \"reddit\":4, \"twitter\":1}\n",
    "\n",
    "risk_relative = risk_relative_sources_split(roberta_2020, entity=entity, weights=weights, weighted=False, \n",
    "                                     threshold_risk=threshold_risk)\n",
    "risk_graph(risk_relative, start_date=start_date, end_date=end_date, \n",
    "           title=\"Relative Source Risk Over Time\", entity=entity)"
   ]
  },
  {
   "cell_type": "markdown",
   "metadata": {
    "heading_collapsed": true,
    "hidden": true
   },
   "source": [
    "### Relative Source - Weighted Average Risk"
   ]
  },
  {
   "cell_type": "markdown",
   "metadata": {
    "hidden": true
   },
   "source": [
    "## Bitfinex"
   ]
  },
  {
   "cell_type": "code",
   "execution_count": null,
   "metadata": {
    "hidden": true
   },
   "outputs": [],
   "source": [
    "entity = \"bitfinex\""
   ]
  },
  {
   "cell_type": "markdown",
   "metadata": {
    "heading_collapsed": true,
    "hidden": true
   },
   "source": [
    "### Maximum Risk"
   ]
  },
  {
   "cell_type": "markdown",
   "metadata": {
    "heading_collapsed": true,
    "hidden": true
   },
   "source": [
    "#### Threshold: None"
   ]
  },
  {
   "cell_type": "code",
   "execution_count": null,
   "metadata": {
    "hidden": true
   },
   "outputs": [],
   "source": [
    "risk_max_overall = risk_max(roberta_2020, entity=entity)\n",
    "risk_graph(risk_max_overall, start_date=start_date, end_date=end_date, title=\"Overall: Max Probability\", entity=entity)"
   ]
  },
  {
   "cell_type": "code",
   "execution_count": null,
   "metadata": {
    "hidden": true
   },
   "outputs": [],
   "source": [
    "risk_max_news = risk_max(roberta_2020, source=\"news\", entity=entity)\n",
    "risk_graph(risk_max_news, start_date=start_date, end_date=end_date, title=\"News: Max Probability\", entity=entity)"
   ]
  },
  {
   "cell_type": "code",
   "execution_count": null,
   "metadata": {
    "hidden": true
   },
   "outputs": [],
   "source": [
    "risk_max_reddit = risk_max(roberta_2020, source=\"reddit\", entity=entity)\n",
    "risk_graph(risk_max_reddit, start_date=start_date, end_date=end_date, title=\"Reddit: Max Probability\", entity=entity)"
   ]
  },
  {
   "cell_type": "code",
   "execution_count": null,
   "metadata": {
    "hidden": true
   },
   "outputs": [],
   "source": [
    "risk_max_twitter = risk_max(roberta_2020, source=\"twitter\", entity=entity)\n",
    "risk_graph(risk_max_twitter, start_date=start_date, end_date=end_date, title=\"Twitter: Max Probability\", entity=entity)"
   ]
  },
  {
   "cell_type": "markdown",
   "metadata": {
    "hidden": true
   },
   "source": [
    "#### Threshold: All Count"
   ]
  },
  {
   "cell_type": "code",
   "execution_count": null,
   "metadata": {
    "hidden": true,
    "scrolled": true
   },
   "outputs": [],
   "source": [
    "risk_max_overall = risk_max(roberta_2020, entity=entity, threshold_all=5)\n",
    "risk_graph(risk_max_overall, start_date=start_date, end_date=end_date, title=\"Overall: Max Probability\", entity=entity)"
   ]
  },
  {
   "cell_type": "code",
   "execution_count": null,
   "metadata": {
    "hidden": true,
    "scrolled": true
   },
   "outputs": [],
   "source": [
    "risk_max_news = risk_max(roberta_2020, source=\"news\", entity=entity, threshold_all=1)\n",
    "risk_graph(risk_max_news, start_date=start_date, end_date=end_date, title=\"News: Max Probability\", entity=entity)"
   ]
  },
  {
   "cell_type": "code",
   "execution_count": null,
   "metadata": {
    "hidden": true
   },
   "outputs": [],
   "source": [
    "risk_max_reddit = risk_max(roberta_2020, source=\"reddit\", entity=entity, threshold_all=4)\n",
    "risk_graph(risk_max_reddit, start_date=start_date, end_date=end_date, title=\"Reddit: Max Probability\", entity=entity)"
   ]
  },
  {
   "cell_type": "code",
   "execution_count": null,
   "metadata": {
    "hidden": true
   },
   "outputs": [],
   "source": [
    "risk_max_twitter = risk_max(roberta_2020, source=\"twitter\", entity=entity, threshold_all=3)\n",
    "risk_graph(risk_max_twitter, start_date=start_date, end_date=end_date, title=\"Twitter: Max Probability\", entity=entity)"
   ]
  },
  {
   "cell_type": "markdown",
   "metadata": {
    "heading_collapsed": true,
    "hidden": true
   },
   "source": [
    "#### Threshold: Risk Count"
   ]
  },
  {
   "cell_type": "code",
   "execution_count": null,
   "metadata": {
    "hidden": true
   },
   "outputs": [],
   "source": [
    "risk_max_overall = risk_max(roberta_2020, entity=entity, threshold_risk=2)\n",
    "risk_graph(risk_max_overall, start_date=start_date, end_date=end_date, title=\"Overall: Max Probability\", entity=entity)"
   ]
  },
  {
   "cell_type": "code",
   "execution_count": null,
   "metadata": {
    "hidden": true
   },
   "outputs": [],
   "source": [
    "risk_max_news = risk_max(roberta_2020, source=\"news\", entity=entity, threshold_risk=1)\n",
    "risk_graph(risk_max_news, start_date=start_date, end_date=end_date, title=\"News: Max Probability\", entity=entity)"
   ]
  },
  {
   "cell_type": "code",
   "execution_count": null,
   "metadata": {
    "hidden": true
   },
   "outputs": [],
   "source": [
    "risk_max_reddit = risk_max(roberta_2020, source=\"reddit\", entity=entity, threshold_risk=1)\n",
    "risk_graph(risk_max_reddit, start_date=start_date, end_date=end_date, title=\"Reddit: Max Probability\", entity=entity)"
   ]
  },
  {
   "cell_type": "code",
   "execution_count": null,
   "metadata": {
    "hidden": true
   },
   "outputs": [],
   "source": [
    "risk_max_twitter = risk_max(roberta_2020, source=\"twitter\", entity=entity, threshold_risk=2)\n",
    "risk_graph(risk_max_twitter, start_date=start_date, end_date=end_date, title=\"Twitter: Max Probability\", entity=entity)"
   ]
  },
  {
   "cell_type": "markdown",
   "metadata": {
    "heading_collapsed": true,
    "hidden": true
   },
   "source": [
    "### Average Risk"
   ]
  },
  {
   "cell_type": "markdown",
   "metadata": {
    "heading_collapsed": true,
    "hidden": true
   },
   "source": [
    "#### Threshold: None"
   ]
  },
  {
   "cell_type": "code",
   "execution_count": null,
   "metadata": {
    "hidden": true
   },
   "outputs": [],
   "source": [
    "risk_avg_overall = risk_avg(roberta_2020, entity=entity) \n",
    "risk_graph(risk_avg_overall, start_date=start_date, end_date=end_date, title=\"Overall: Average Probability\", entity=entity)"
   ]
  },
  {
   "cell_type": "code",
   "execution_count": null,
   "metadata": {
    "hidden": true
   },
   "outputs": [],
   "source": [
    "risk_avg_news = risk_avg(roberta_2020, source=\"news\", entity=entity) \n",
    "risk_graph(risk_avg_news, start_date=start_date, end_date=end_date, title=\"News: Average Probability\", entity=entity)"
   ]
  },
  {
   "cell_type": "code",
   "execution_count": null,
   "metadata": {
    "hidden": true
   },
   "outputs": [],
   "source": [
    "risk_avg_reddit = risk_avg(roberta_2020, source=\"reddit\", entity=entity) \n",
    "risk_graph(risk_avg_reddit, start_date=start_date, end_date=end_date, title=\"Reddit: Average Probability\", entity=entity)"
   ]
  },
  {
   "cell_type": "code",
   "execution_count": null,
   "metadata": {
    "hidden": true
   },
   "outputs": [],
   "source": [
    "risk_avg_twitter = risk_avg(roberta_2020, source=\"twitter\", entity=entity) \n",
    "risk_graph(risk_avg_twitter, start_date=start_date, end_date=end_date, title=\"Twitter: Average Probability\", entity=entity)"
   ]
  },
  {
   "cell_type": "markdown",
   "metadata": {
    "hidden": true
   },
   "source": [
    "#### Threshold: All Count"
   ]
  },
  {
   "cell_type": "code",
   "execution_count": null,
   "metadata": {
    "hidden": true,
    "scrolled": true
   },
   "outputs": [],
   "source": [
    "risk_avg_overall = risk_avg(roberta_2020, entity=entity, threshold_all=5) \n",
    "risk_graph(risk_avg_overall, start_date=start_date, end_date=end_date, title=\"Overall: Average Probability\", entity=entity)"
   ]
  },
  {
   "cell_type": "code",
   "execution_count": null,
   "metadata": {
    "hidden": true
   },
   "outputs": [],
   "source": [
    "risk_avg_news = risk_avg(roberta_2020, source=\"news\", entity=entity, threshold_all=1) \n",
    "risk_graph(risk_avg_news, start_date=start_date, end_date=end_date, title=\"News: Average Probability\", entity=entity)"
   ]
  },
  {
   "cell_type": "code",
   "execution_count": null,
   "metadata": {
    "hidden": true,
    "scrolled": true
   },
   "outputs": [],
   "source": [
    "risk_avg_reddit = risk_avg(roberta_2020, source=\"reddit\", entity=entity, threshold_all=3) \n",
    "risk_graph(risk_avg_reddit, start_date=start_date, end_date=end_date, title=\"Reddit: Average Probability\", entity=entity)"
   ]
  },
  {
   "cell_type": "code",
   "execution_count": null,
   "metadata": {
    "hidden": true
   },
   "outputs": [],
   "source": [
    "risk_avg_twitter = risk_avg(roberta_2020, source=\"twitter\", entity=entity, threshold_all=2) \n",
    "risk_graph(risk_avg_twitter, start_date=start_date, end_date=end_date, title=\"Twitter: Average Probability\", entity=entity)"
   ]
  },
  {
   "cell_type": "markdown",
   "metadata": {
    "hidden": true
   },
   "source": [
    "#### Threshold: Risk Count"
   ]
  },
  {
   "cell_type": "code",
   "execution_count": null,
   "metadata": {
    "hidden": true,
    "scrolled": true
   },
   "outputs": [],
   "source": [
    "risk_avg_overall = risk_avg(roberta_2020, entity=entity, threshold_risk=2) \n",
    "risk_graph(risk_avg_overall, start_date=start_date, end_date=end_date, title=\"Overall: Average Probability\", entity=entity)"
   ]
  },
  {
   "cell_type": "code",
   "execution_count": null,
   "metadata": {
    "hidden": true
   },
   "outputs": [],
   "source": [
    "risk_avg_news = risk_avg(roberta_2020, source=\"news\", entity=entity, threshold_risk=1) \n",
    "risk_graph(risk_avg_news, start_date=start_date, end_date=end_date, title=\"News: Average Probability\", entity=entity)"
   ]
  },
  {
   "cell_type": "code",
   "execution_count": null,
   "metadata": {
    "hidden": true
   },
   "outputs": [],
   "source": [
    "risk_avg_reddit = risk_avg(roberta_2020, source=\"reddit\", entity=entity, threshold_risk=1) \n",
    "risk_graph(risk_avg_reddit, start_date=start_date, end_date=end_date, title=\"Reddit: Average Probability\", entity=entity)"
   ]
  },
  {
   "cell_type": "code",
   "execution_count": null,
   "metadata": {
    "hidden": true
   },
   "outputs": [],
   "source": [
    "risk_avg_twitter = risk_avg(roberta_2020, source=\"twitter\", entity=entity, threshold_risk=2) \n",
    "risk_graph(risk_avg_twitter, start_date=start_date, end_date=end_date, title=\"Twitter: Average Probability\", entity=entity)"
   ]
  },
  {
   "cell_type": "markdown",
   "metadata": {
    "heading_collapsed": true,
    "hidden": true
   },
   "source": [
    "### Weighted Average Risk"
   ]
  },
  {
   "cell_type": "markdown",
   "metadata": {
    "heading_collapsed": true,
    "hidden": true
   },
   "source": [
    "#### Threshold: None"
   ]
  },
  {
   "cell_type": "code",
   "execution_count": null,
   "metadata": {
    "hidden": true,
    "scrolled": false
   },
   "outputs": [],
   "source": [
    "risk_weighted_avg_overall = risk_weighted_avg(roberta_2020, entity=entity) \n",
    "risk_graph(risk_weighted_avg_overall, start_date=start_date, end_date=end_date, title=\"Overall: Weighted Average Probability\", entity=entity)"
   ]
  },
  {
   "cell_type": "code",
   "execution_count": null,
   "metadata": {
    "hidden": true
   },
   "outputs": [],
   "source": [
    "risk_weighted_avg_news = risk_weighted_avg(roberta_2020, source=\"news\", entity=entity) \n",
    "risk_graph(risk_weighted_avg_news, start_date=start_date, end_date=end_date, title=\"News: Weighted Average Probability\", entity=entity)"
   ]
  },
  {
   "cell_type": "code",
   "execution_count": null,
   "metadata": {
    "hidden": true
   },
   "outputs": [],
   "source": [
    "risk_weighted_avg_reddit = risk_weighted_avg(roberta_2020, source=\"reddit\", entity=entity) \n",
    "risk_graph(risk_weighted_avg_reddit, start_date=start_date, end_date=end_date, title=\"Reddit: Weighted Average Probability\", entity=entity)"
   ]
  },
  {
   "cell_type": "code",
   "execution_count": null,
   "metadata": {
    "hidden": true,
    "scrolled": true
   },
   "outputs": [],
   "source": [
    "risk_weighted_avg_twitter = risk_weighted_avg(roberta_2020, source=\"twitter\", entity=entity) \n",
    "risk_graph(risk_weighted_avg_twitter, start_date=start_date, end_date=end_date, title=\"Twitter: Weighted Average Probability\", entity=entity)"
   ]
  },
  {
   "cell_type": "markdown",
   "metadata": {
    "hidden": true
   },
   "source": [
    "#### Threshold: All Count"
   ]
  },
  {
   "cell_type": "code",
   "execution_count": null,
   "metadata": {
    "hidden": true,
    "scrolled": true
   },
   "outputs": [],
   "source": [
    "risk_weighted_avg_overall = risk_weighted_avg(roberta_2020, entity=entity, threshold_all=5) \n",
    "risk_graph(risk_weighted_avg_overall, start_date=start_date, end_date=end_date, title=\"Overall: Weighted Average Probability\", entity=entity)"
   ]
  },
  {
   "cell_type": "code",
   "execution_count": null,
   "metadata": {
    "hidden": true,
    "scrolled": true
   },
   "outputs": [],
   "source": [
    "risk_weighted_avg_news = risk_weighted_avg(roberta_2020, source=\"news\", entity=entity, threshold_all=1) \n",
    "risk_graph(risk_weighted_avg_news, start_date=start_date, end_date=end_date, title=\"News: Weighted Average Probability\", entity=entity)"
   ]
  },
  {
   "cell_type": "code",
   "execution_count": null,
   "metadata": {
    "hidden": true
   },
   "outputs": [],
   "source": [
    "risk_weighted_avg_reddit = risk_weighted_avg(roberta_2020, source=\"reddit\", entity=entity, threshold_all=3) \n",
    "risk_graph(risk_weighted_avg_reddit, start_date=start_date, end_date=end_date, title=\"Reddit: Weighted Average Probability\", entity=entity)"
   ]
  },
  {
   "cell_type": "code",
   "execution_count": null,
   "metadata": {
    "hidden": true
   },
   "outputs": [],
   "source": [
    "risk_weighted_avg_twitter = risk_weighted_avg(roberta_2020, source=\"twitter\", entity=entity, threshold_all=2) \n",
    "risk_graph(risk_weighted_avg_twitter, start_date=start_date, end_date=end_date, title=\"Twitter: Weighted Average Probability\", entity=entity)"
   ]
  },
  {
   "cell_type": "markdown",
   "metadata": {
    "hidden": true
   },
   "source": [
    "#### Threshold: Risk Count"
   ]
  },
  {
   "cell_type": "code",
   "execution_count": null,
   "metadata": {
    "hidden": true,
    "scrolled": true
   },
   "outputs": [],
   "source": [
    "risk_weighted_avg_overall = risk_weighted_avg(roberta_2020, entity=entity, threshold_risk=2) \n",
    "risk_graph(risk_weighted_avg_overall, start_date=start_date, end_date=end_date, title=\"Overall: Weighted Average Probability\", entity=entity)"
   ]
  },
  {
   "cell_type": "code",
   "execution_count": null,
   "metadata": {
    "hidden": true
   },
   "outputs": [],
   "source": [
    "risk_weighted_avg_news = risk_weighted_avg(roberta_2020, source=\"news\", entity=entity, threshold_risk=1) \n",
    "risk_graph(risk_weighted_avg_news, start_date=start_date, end_date=end_date, title=\"News: Weighted Average Probability\", entity=entity)"
   ]
  },
  {
   "cell_type": "code",
   "execution_count": null,
   "metadata": {
    "hidden": true,
    "scrolled": false
   },
   "outputs": [],
   "source": [
    "risk_weighted_avg_reddit = risk_weighted_avg(roberta_2020, source=\"reddit\", entity=entity, threshold_risk=1) \n",
    "risk_graph(risk_weighted_avg_reddit, start_date=start_date, end_date=end_date, title=\"Reddit: Weighted Average Probability\", entity=entity)"
   ]
  },
  {
   "cell_type": "code",
   "execution_count": null,
   "metadata": {
    "hidden": true
   },
   "outputs": [],
   "source": [
    "risk_weighted_avg_twitter = risk_weighted_avg(roberta_2020, source=\"twitter\", entity=entity, threshold_risk=1) \n",
    "risk_graph(risk_weighted_avg_twitter, start_date=start_date, end_date=end_date, title=\"Twitter: Weighted Average Probability\", entity=entity)"
   ]
  },
  {
   "cell_type": "markdown",
   "metadata": {
    "hidden": true
   },
   "source": [
    "### Relative Source - Average Risk"
   ]
  },
  {
   "cell_type": "markdown",
   "metadata": {
    "heading_collapsed": true,
    "hidden": true
   },
   "source": [
    "#### Threshold: None"
   ]
  },
  {
   "cell_type": "code",
   "execution_count": null,
   "metadata": {
    "hidden": true
   },
   "outputs": [],
   "source": [
    "weights={\"news\":0.5, \"reddit\": 0.25, \"twitter\":0.25}\n",
    "\n",
    "risk_relative = risk_relative_sources(roberta_2020, entity=entity, weights=weights, weighted=False)\n",
    "risk_graph(risk_relative, start_date=start_date, end_date=end_date, \n",
    "           title=\"Relative Source Risk Over Time\", entity=entity)"
   ]
  },
  {
   "cell_type": "markdown",
   "metadata": {
    "heading_collapsed": true,
    "hidden": true
   },
   "source": [
    "#### Threshold: All (Overall)"
   ]
  },
  {
   "cell_type": "code",
   "execution_count": null,
   "metadata": {
    "hidden": true
   },
   "outputs": [],
   "source": [
    "weights={\"news\":0.5, \"reddit\": 0.25, \"twitter\":0.25}\n",
    "threshold_all = 5\n",
    "\n",
    "risk_relative = risk_relative_sources(roberta_2020, entity=entity, weights=weights, weighted=False, \n",
    "                                     threshold_all=threshold_all)\n",
    "risk_graph(risk_relative, start_date=start_date, end_date=end_date, \n",
    "           title=\"Relative Source Risk Over Time\", entity=entity)"
   ]
  },
  {
   "cell_type": "markdown",
   "metadata": {
    "heading_collapsed": true,
    "hidden": true
   },
   "source": [
    "#### Threshold: Risk (Overall)"
   ]
  },
  {
   "cell_type": "code",
   "execution_count": null,
   "metadata": {
    "hidden": true
   },
   "outputs": [],
   "source": [
    "weights={\"news\":0.5, \"reddit\": 0.25, \"twitter\":0.25}\n",
    "threshold_risk = 1\n",
    "\n",
    "risk_relative = risk_relative_sources(roberta_2020, entity=entity, weights=weights, weighted=False, \n",
    "                                     threshold_risk=threshold_risk)\n",
    "risk_graph(risk_relative, start_date=start_date, end_date=end_date, \n",
    "           title=\"Relative Source Risk Over Time\", entity=entity)"
   ]
  },
  {
   "cell_type": "markdown",
   "metadata": {
    "heading_collapsed": true,
    "hidden": true
   },
   "source": [
    "#### Threshold: All (By Source)"
   ]
  },
  {
   "cell_type": "code",
   "execution_count": null,
   "metadata": {
    "hidden": true
   },
   "outputs": [],
   "source": [
    "weights={\"news\":0.5, \"reddit\": 0.25, \"twitter\":0.25}\n",
    "threshold_all = {\"news\":1, \"reddit\":3, \"twitter\":1}\n",
    "\n",
    "risk_relative = risk_relative_sources_split(roberta_2020, entity=entity, weights=weights, weighted=False, \n",
    "                                     threshold_all=threshold_all)\n",
    "risk_graph(risk_relative, start_date=start_date, end_date=end_date, \n",
    "           title=\"Relative Source Risk Over Time\", entity=entity)"
   ]
  },
  {
   "cell_type": "markdown",
   "metadata": {
    "heading_collapsed": true,
    "hidden": true
   },
   "source": [
    "#### Threshold: Risk (By Source)"
   ]
  },
  {
   "cell_type": "code",
   "execution_count": null,
   "metadata": {
    "hidden": true
   },
   "outputs": [],
   "source": [
    "weights={\"news\":0.5, \"reddit\": 0.25, \"twitter\":0.25}\n",
    "threshold_risk = {\"news\":1, \"reddit\":3, \"twitter\":1}\n",
    "\n",
    "risk_relative = risk_relative_sources_split(roberta_2020, entity=entity, weights=weights, weighted=False, \n",
    "                                     threshold_risk=threshold_risk)\n",
    "risk_graph(risk_relative, start_date=start_date, end_date=end_date, \n",
    "           title=\"Relative Source Risk Over Time\", entity=entity)"
   ]
  },
  {
   "cell_type": "markdown",
   "metadata": {
    "hidden": true
   },
   "source": [
    "### Relative Source - Weighted Average Risk"
   ]
  },
  {
   "cell_type": "markdown",
   "metadata": {
    "hidden": true
   },
   "source": [
    "#### Threshold: None"
   ]
  },
  {
   "cell_type": "code",
   "execution_count": null,
   "metadata": {
    "hidden": true,
    "scrolled": true
   },
   "outputs": [],
   "source": [
    "weights={\"news\":0.5, \"reddit\": 0.25, \"twitter\":0.25}\n",
    "\n",
    "risk_relative = risk_relative_sources(roberta_2020, entity=entity, weights=weights, weighted=True)\n",
    "risk_graph(risk_relative, start_date=start_date, end_date=end_date, \n",
    "           title=\"Relative Source Risk Over Time\", entity=entity)"
   ]
  },
  {
   "cell_type": "markdown",
   "metadata": {
    "hidden": true
   },
   "source": [
    "#### Threshold: All (Overall)"
   ]
  },
  {
   "cell_type": "code",
   "execution_count": null,
   "metadata": {
    "hidden": true,
    "scrolled": true
   },
   "outputs": [],
   "source": [
    "weights={\"news\":0.5, \"reddit\": 0.25, \"twitter\":0.25}\n",
    "threshold_all = 5\n",
    "\n",
    "risk_relative = risk_relative_sources(roberta_2020, entity=entity, weights=weights, weighted=True, \n",
    "                                     threshold_all=threshold_all)\n",
    "risk_graph(risk_relative, start_date=start_date, end_date=end_date, \n",
    "           title=\"Relative Source Risk Over Time\", entity=entity)"
   ]
  },
  {
   "cell_type": "markdown",
   "metadata": {
    "hidden": true
   },
   "source": [
    "#### Threshold: Risk (Overall)"
   ]
  },
  {
   "cell_type": "code",
   "execution_count": null,
   "metadata": {
    "hidden": true
   },
   "outputs": [],
   "source": [
    "weights={\"news\":0.5, \"reddit\": 0.25, \"twitter\":0.25}\n",
    "threshold_risk = 2\n",
    "\n",
    "risk_relative = risk_relative_sources(roberta_2020, entity=entity, weights=weights, weighted=True, \n",
    "                                     threshold_risk=threshold_risk)\n",
    "risk_graph(risk_relative, start_date=start_date, end_date=end_date, \n",
    "           title=\"Relative Source Risk Over Time\", entity=entity)"
   ]
  },
  {
   "cell_type": "markdown",
   "metadata": {
    "hidden": true
   },
   "source": [
    "#### Threshold: All (By Source)"
   ]
  },
  {
   "cell_type": "code",
   "execution_count": null,
   "metadata": {
    "hidden": true,
    "scrolled": true
   },
   "outputs": [],
   "source": [
    "weights={\"news\":0.5, \"reddit\": 0.25, \"twitter\":0.25}\n",
    "threshold_all = {\"news\":1, \"reddit\":2, \"twitter\":1}\n",
    "\n",
    "risk_relative = risk_relative_sources_split(roberta_2020, entity=entity, weights=weights, weighted=True, \n",
    "                                     threshold_all=threshold_all)\n",
    "risk_graph(risk_relative, start_date=start_date, end_date=end_date, \n",
    "           title=\"Relative Source Risk Over Time\", entity=entity)"
   ]
  },
  {
   "cell_type": "markdown",
   "metadata": {
    "hidden": true
   },
   "source": [
    "#### Threshold: Risk (By Source)"
   ]
  },
  {
   "cell_type": "code",
   "execution_count": null,
   "metadata": {
    "hidden": true
   },
   "outputs": [],
   "source": [
    "weights={\"news\":0.5, \"reddit\": 0.25, \"twitter\":0.25}\n",
    "threshold_risk = {\"news\":1, \"reddit\":2, \"twitter\":1}\n",
    "\n",
    "risk_relative = risk_relative_sources_split(roberta_2020, entity=entity, weights=weights, weighted=True, \n",
    "                                     threshold_risk=threshold_risk)\n",
    "risk_graph(risk_relative, start_date=start_date, end_date=end_date, \n",
    "           title=\"Relative Source Risk Over Time\", entity=entity)"
   ]
  },
  {
   "cell_type": "markdown",
   "metadata": {
    "hidden": true
   },
   "source": [
    "#### Threshold: None"
   ]
  },
  {
   "cell_type": "code",
   "execution_count": null,
   "metadata": {
    "hidden": true,
    "scrolled": true
   },
   "outputs": [],
   "source": [
    "weights={\"news\":0.5, \"reddit\": 0.25, \"twitter\":0.25}\n",
    "\n",
    "risk_relative = risk_relative_sources(roberta_2020, entity=entity, weights=weights, weighted=True)\n",
    "risk_graph(risk_relative, start_date=start_date, end_date=end_date, \n",
    "           title=\"Relative Source Risk Over Time\", entity=entity)"
   ]
  },
  {
   "cell_type": "markdown",
   "metadata": {
    "hidden": true
   },
   "source": [
    "#### Threshold: All (Overall)"
   ]
  },
  {
   "cell_type": "code",
   "execution_count": null,
   "metadata": {
    "hidden": true,
    "scrolled": true
   },
   "outputs": [],
   "source": [
    "weights={\"news\":0.5, \"reddit\": 0.25, \"twitter\":0.25}\n",
    "threshold_all = 5\n",
    "\n",
    "risk_relative = risk_relative_sources(roberta_2020, entity=entity, weights=weights, weighted=True, \n",
    "                                     threshold_all=threshold_all)\n",
    "risk_graph(risk_relative, start_date=start_date, end_date=end_date, \n",
    "           title=\"Relative Source Risk Over Time\", entity=entity)"
   ]
  },
  {
   "cell_type": "markdown",
   "metadata": {
    "hidden": true
   },
   "source": [
    "#### Threshold: Risk (Overall)"
   ]
  },
  {
   "cell_type": "code",
   "execution_count": null,
   "metadata": {
    "hidden": true
   },
   "outputs": [],
   "source": [
    "weights={\"news\":0.5, \"reddit\": 0.25, \"twitter\":0.25}\n",
    "threshold_risk = 2\n",
    "\n",
    "risk_relative = risk_relative_sources(roberta_2020, entity=entity, weights=weights, weighted=True, \n",
    "                                     threshold_risk=threshold_risk)\n",
    "risk_graph(risk_relative, start_date=start_date, end_date=end_date, \n",
    "           title=\"Relative Source Risk Over Time\", entity=entity)"
   ]
  },
  {
   "cell_type": "markdown",
   "metadata": {
    "hidden": true
   },
   "source": [
    "#### Threshold: All (By Source)"
   ]
  },
  {
   "cell_type": "code",
   "execution_count": null,
   "metadata": {
    "hidden": true,
    "scrolled": true
   },
   "outputs": [],
   "source": [
    "weights={\"news\":0.5, \"reddit\": 0.25, \"twitter\":0.25}\n",
    "threshold_all = {\"news\":1, \"reddit\":3, \"twitter\":1}\n",
    "\n",
    "risk_relative = risk_relative_sources_split(roberta_2020, entity=entity, weights=weights, weighted=True, \n",
    "                                     threshold_all=threshold_all)\n",
    "risk_graph(risk_relative, start_date=start_date, end_date=end_date, \n",
    "           title=\"Relative Source Risk Over Time\", entity=entity)"
   ]
  },
  {
   "cell_type": "markdown",
   "metadata": {
    "hidden": true
   },
   "source": [
    "#### Threshold: Risk (By Source)"
   ]
  },
  {
   "cell_type": "code",
   "execution_count": null,
   "metadata": {
    "hidden": true,
    "scrolled": true
   },
   "outputs": [],
   "source": [
    "weights={\"news\":0.5, \"reddit\": 0.25, \"twitter\":0.25}\n",
    "threshold_risk = {\"news\":1, \"reddit\":3, \"twitter\":1}\n",
    "\n",
    "risk_relative = risk_relative_sources_split(roberta_2020, entity=entity, weights=weights, weighted=True, \n",
    "                                     threshold_risk=threshold_risk)\n",
    "risk_graph(risk_relative, start_date=start_date, end_date=end_date, \n",
    "           title=\"Relative Source Risk Over Time\", entity=entity)"
   ]
  },
  {
   "cell_type": "markdown",
   "metadata": {
    "heading_collapsed": true,
    "hidden": true
   },
   "source": [
    "## OKEx"
   ]
  },
  {
   "cell_type": "code",
   "execution_count": null,
   "metadata": {
    "hidden": true
   },
   "outputs": [],
   "source": [
    "entity = \"okex\""
   ]
  },
  {
   "cell_type": "markdown",
   "metadata": {
    "heading_collapsed": true,
    "hidden": true
   },
   "source": [
    "### Maximum Risk"
   ]
  },
  {
   "cell_type": "markdown",
   "metadata": {
    "heading_collapsed": true,
    "hidden": true
   },
   "source": [
    "#### Threshold: None"
   ]
  },
  {
   "cell_type": "code",
   "execution_count": null,
   "metadata": {
    "hidden": true
   },
   "outputs": [],
   "source": [
    "risk_max_overall = risk_max(roberta_2020, entity=entity)\n",
    "risk_graph(risk_max_overall, start_date=start_date, end_date=end_date, title=\"Overall: Max Probability\", entity=entity)"
   ]
  },
  {
   "cell_type": "code",
   "execution_count": null,
   "metadata": {
    "hidden": true
   },
   "outputs": [],
   "source": [
    "# NO NEWS\n",
    "# risk_max_news = risk_max(roberta_2020, source=\"news\", entity=entity)\n",
    "# risk_graph(risk_max_news, start_date=start_date, end_date=end_date, title=\"News: Max Probability\", entity=entity)"
   ]
  },
  {
   "cell_type": "code",
   "execution_count": null,
   "metadata": {
    "hidden": true
   },
   "outputs": [],
   "source": [
    "risk_max_reddit = risk_max(roberta_2020, source=\"reddit\", entity=entity)\n",
    "risk_graph(risk_max_reddit, start_date=start_date, end_date=end_date, title=\"Reddit: Max Probability\", entity=entity)"
   ]
  },
  {
   "cell_type": "code",
   "execution_count": null,
   "metadata": {
    "hidden": true
   },
   "outputs": [],
   "source": [
    "risk_max_twitter = risk_max(roberta_2020, source=\"twitter\", entity=entity)\n",
    "risk_graph(risk_max_twitter, start_date=start_date, end_date=end_date, title=\"Twitter: Max Probability\", entity=entity)"
   ]
  },
  {
   "cell_type": "markdown",
   "metadata": {
    "heading_collapsed": true,
    "hidden": true
   },
   "source": [
    "#### Threshold: All Count"
   ]
  },
  {
   "cell_type": "code",
   "execution_count": null,
   "metadata": {
    "hidden": true,
    "scrolled": true
   },
   "outputs": [],
   "source": [
    "risk_max_overall = risk_max(roberta_2020, entity=entity, threshold_all=1)\n",
    "risk_graph(risk_max_overall, start_date=start_date, end_date=end_date, title=\"Overall: Max Probability\", entity=entity)"
   ]
  },
  {
   "cell_type": "code",
   "execution_count": null,
   "metadata": {
    "hidden": true,
    "scrolled": true
   },
   "outputs": [],
   "source": [
    "# risk_max_news = risk_max(roberta_2020, source=\"news\", entity=entity, threshold_all=1)\n",
    "# risk_graph(risk_max_news, start_date=start_date, end_date=end_date, title=\"News: Max Probability\", entity=entity)"
   ]
  },
  {
   "cell_type": "code",
   "execution_count": null,
   "metadata": {
    "hidden": true
   },
   "outputs": [],
   "source": [
    "risk_max_reddit = risk_max(roberta_2020, source=\"reddit\", entity=entity, threshold_all=1)\n",
    "risk_graph(risk_max_reddit, start_date=start_date, end_date=end_date, title=\"Reddit: Max Probability\", entity=entity)"
   ]
  },
  {
   "cell_type": "code",
   "execution_count": null,
   "metadata": {
    "hidden": true
   },
   "outputs": [],
   "source": [
    "risk_max_twitter = risk_max(roberta_2020, source=\"twitter\", entity=entity, threshold_all=3)\n",
    "risk_graph(risk_max_twitter, start_date=start_date, end_date=end_date, title=\"Twitter: Max Probability\", entity=entity)"
   ]
  },
  {
   "cell_type": "markdown",
   "metadata": {
    "heading_collapsed": true,
    "hidden": true
   },
   "source": [
    "#### Threshold: Risk Count"
   ]
  },
  {
   "cell_type": "code",
   "execution_count": null,
   "metadata": {
    "hidden": true
   },
   "outputs": [],
   "source": [
    "risk_max_overall = risk_max(roberta_2020, entity=entity, threshold_risk=1)\n",
    "risk_graph(risk_max_overall, start_date=start_date, end_date=end_date, title=\"Overall: Max Probability\", entity=entity)"
   ]
  },
  {
   "cell_type": "code",
   "execution_count": null,
   "metadata": {
    "hidden": true
   },
   "outputs": [],
   "source": [
    "# risk_max_news = risk_max(roberta_2020, source=\"news\", entity=entity, threshold_risk=0)\n",
    "# risk_graph(risk_max_news, start_date=start_date, end_date=end_date, title=\"News: Max Probability\", entity=entity)"
   ]
  },
  {
   "cell_type": "code",
   "execution_count": null,
   "metadata": {
    "hidden": true
   },
   "outputs": [],
   "source": [
    "risk_max_reddit = risk_max(roberta_2020, source=\"reddit\", entity=entity, threshold_risk=1)\n",
    "risk_graph(risk_max_reddit, start_date=start_date, end_date=end_date, title=\"Reddit: Max Probability\", entity=entity)"
   ]
  },
  {
   "cell_type": "code",
   "execution_count": null,
   "metadata": {
    "hidden": true
   },
   "outputs": [],
   "source": [
    "risk_max_twitter = risk_max(roberta_2020, source=\"twitter\", entity=entity, threshold_risk=1)\n",
    "risk_graph(risk_max_twitter, start_date=start_date, end_date=end_date, title=\"Twitter: Max Probability\", entity=entity)"
   ]
  },
  {
   "cell_type": "markdown",
   "metadata": {
    "heading_collapsed": true,
    "hidden": true
   },
   "source": [
    "### Average Risk"
   ]
  },
  {
   "cell_type": "markdown",
   "metadata": {
    "hidden": true
   },
   "source": [
    "#### Threshold: None"
   ]
  },
  {
   "cell_type": "code",
   "execution_count": null,
   "metadata": {
    "hidden": true
   },
   "outputs": [],
   "source": [
    "risk_avg_overall = risk_avg(roberta_2020, entity=entity) \n",
    "risk_graph(risk_avg_overall, start_date=start_date, end_date=end_date, title=\"Overall: Average Probability\", entity=entity)"
   ]
  },
  {
   "cell_type": "code",
   "execution_count": null,
   "metadata": {
    "hidden": true
   },
   "outputs": [],
   "source": [
    "# risk_avg_news = risk_avg(roberta_2020, source=\"news\", entity=entity) \n",
    "# risk_graph(risk_avg_news, start_date=start_date, end_date=end_date, title=\"News: Average Probability\", entity=entity)"
   ]
  },
  {
   "cell_type": "code",
   "execution_count": null,
   "metadata": {
    "hidden": true
   },
   "outputs": [],
   "source": [
    "risk_avg_reddit = risk_avg(roberta_2020, source=\"reddit\", entity=entity) \n",
    "risk_graph(risk_avg_reddit, start_date=start_date, end_date=end_date, title=\"Reddit: Average Probability\", entity=entity)"
   ]
  },
  {
   "cell_type": "code",
   "execution_count": null,
   "metadata": {
    "hidden": true
   },
   "outputs": [],
   "source": [
    "risk_avg_twitter = risk_avg(roberta_2020, source=\"twitter\", entity=entity) \n",
    "risk_graph(risk_avg_twitter, start_date=start_date, end_date=end_date, title=\"Twitter: Average Probability\", entity=entity)"
   ]
  },
  {
   "cell_type": "markdown",
   "metadata": {
    "hidden": true
   },
   "source": [
    "#### Threshold: All Count"
   ]
  },
  {
   "cell_type": "code",
   "execution_count": null,
   "metadata": {
    "hidden": true,
    "scrolled": true
   },
   "outputs": [],
   "source": [
    "risk_avg_overall = risk_avg(roberta_2020, entity=entity, threshold_all=1) \n",
    "risk_graph(risk_avg_overall, start_date=start_date, end_date=end_date, title=\"Overall: Average Probability\", entity=entity)"
   ]
  },
  {
   "cell_type": "code",
   "execution_count": null,
   "metadata": {
    "hidden": true
   },
   "outputs": [],
   "source": [
    "# risk_avg_news = risk_avg(roberta_2020, source=\"news\", entity=entity, threshold_all=1) \n",
    "# risk_graph(risk_avg_news, start_date=start_date, end_date=end_date, title=\"News: Average Probability\", entity=entity)"
   ]
  },
  {
   "cell_type": "code",
   "execution_count": null,
   "metadata": {
    "hidden": true,
    "scrolled": true
   },
   "outputs": [],
   "source": [
    "risk_avg_reddit = risk_avg(roberta_2020, source=\"reddit\", entity=entity, threshold_all=1) \n",
    "risk_graph(risk_avg_reddit, start_date=start_date, end_date=end_date, title=\"Reddit: Average Probability\", entity=entity)"
   ]
  },
  {
   "cell_type": "code",
   "execution_count": null,
   "metadata": {
    "hidden": true
   },
   "outputs": [],
   "source": [
    "risk_avg_twitter = risk_avg(roberta_2020, source=\"twitter\", entity=entity, threshold_all=2) \n",
    "risk_graph(risk_avg_twitter, start_date=start_date, end_date=end_date, title=\"Twitter: Average Probability\", entity=entity)"
   ]
  },
  {
   "cell_type": "markdown",
   "metadata": {
    "hidden": true
   },
   "source": [
    "#### Threshold: Risk Count"
   ]
  },
  {
   "cell_type": "code",
   "execution_count": null,
   "metadata": {
    "hidden": true,
    "scrolled": true
   },
   "outputs": [],
   "source": [
    "risk_avg_overall = risk_avg(roberta_2020, entity=entity, threshold_risk=1) \n",
    "risk_graph(risk_avg_overall, start_date=start_date, end_date=end_date, title=\"Overall: Average Probability\", entity=entity)"
   ]
  },
  {
   "cell_type": "code",
   "execution_count": null,
   "metadata": {
    "hidden": true
   },
   "outputs": [],
   "source": [
    "# risk_avg_news = risk_avg(roberta_2020, source=\"news\", entity=entity, threshold_risk=1) \n",
    "# risk_graph(risk_avg_news, start_date=start_date, end_date=end_date, title=\"News: Average Probability\", entity=entity)"
   ]
  },
  {
   "cell_type": "code",
   "execution_count": null,
   "metadata": {
    "hidden": true
   },
   "outputs": [],
   "source": [
    "risk_avg_reddit = risk_avg(roberta_2020, source=\"reddit\", entity=entity, threshold_risk=1) \n",
    "risk_graph(risk_avg_reddit, start_date=start_date, end_date=end_date, title=\"Reddit: Average Probability\", entity=entity)"
   ]
  },
  {
   "cell_type": "code",
   "execution_count": null,
   "metadata": {
    "hidden": true
   },
   "outputs": [],
   "source": [
    "risk_avg_twitter = risk_avg(roberta_2020, source=\"twitter\", entity=entity, threshold_risk=1) \n",
    "risk_graph(risk_avg_twitter, start_date=start_date, end_date=end_date, title=\"Twitter: Average Probability\", entity=entity)"
   ]
  },
  {
   "cell_type": "markdown",
   "metadata": {
    "heading_collapsed": true,
    "hidden": true
   },
   "source": [
    "### Weighted Average Risk"
   ]
  },
  {
   "cell_type": "markdown",
   "metadata": {
    "hidden": true
   },
   "source": [
    "#### Threshold: None"
   ]
  },
  {
   "cell_type": "code",
   "execution_count": null,
   "metadata": {
    "hidden": true,
    "scrolled": false
   },
   "outputs": [],
   "source": [
    "risk_weighted_avg_overall = risk_weighted_avg(roberta_2020, entity=entity) \n",
    "risk_graph(risk_weighted_avg_overall, start_date=start_date, end_date=end_date, title=\"Overall: Weighted Average Probability\", entity=entity)"
   ]
  },
  {
   "cell_type": "code",
   "execution_count": null,
   "metadata": {
    "hidden": true
   },
   "outputs": [],
   "source": [
    "# risk_weighted_avg_news = risk_weighted_avg(roberta_2020, source=\"news\", entity=entity) \n",
    "# risk_graph(risk_weighted_avg_news, start_date=start_date, end_date=end_date, title=\"News: Weighted Average Probability\", entity=entity)"
   ]
  },
  {
   "cell_type": "code",
   "execution_count": null,
   "metadata": {
    "hidden": true
   },
   "outputs": [],
   "source": [
    "risk_weighted_avg_reddit = risk_weighted_avg(roberta_2020, source=\"reddit\", entity=entity) \n",
    "risk_graph(risk_weighted_avg_reddit, start_date=start_date, end_date=end_date, title=\"Reddit: Weighted Average Probability\", entity=entity)"
   ]
  },
  {
   "cell_type": "code",
   "execution_count": null,
   "metadata": {
    "hidden": true
   },
   "outputs": [],
   "source": [
    "risk_weighted_avg_twitter = risk_weighted_avg(roberta_2020, source=\"twitter\", entity=entity) \n",
    "risk_graph(risk_weighted_avg_twitter, start_date=start_date, end_date=end_date, title=\"Twitter: Weighted Average Probability\", entity=entity)"
   ]
  },
  {
   "cell_type": "markdown",
   "metadata": {
    "hidden": true
   },
   "source": [
    "#### Threshold: All Count"
   ]
  },
  {
   "cell_type": "code",
   "execution_count": null,
   "metadata": {
    "hidden": true,
    "scrolled": true
   },
   "outputs": [],
   "source": [
    "risk_weighted_avg_overall = risk_weighted_avg(roberta_2020, entity=entity, threshold_all=2) \n",
    "risk_graph(risk_weighted_avg_overall, start_date=start_date, end_date=end_date, title=\"Overall: Weighted Average Probability\", entity=entity)"
   ]
  },
  {
   "cell_type": "code",
   "execution_count": null,
   "metadata": {
    "hidden": true,
    "scrolled": true
   },
   "outputs": [],
   "source": [
    "# risk_weighted_avg_news = risk_weighted_avg(roberta_2020, source=\"news\", entity=entity, threshold_all=1) \n",
    "# risk_graph(risk_weighted_avg_news, start_date=start_date, end_date=end_date, title=\"News: Weighted Average Probability\", entity=entity)"
   ]
  },
  {
   "cell_type": "code",
   "execution_count": null,
   "metadata": {
    "hidden": true
   },
   "outputs": [],
   "source": [
    "risk_weighted_avg_reddit = risk_weighted_avg(roberta_2020, source=\"reddit\", entity=entity, threshold_all=1) \n",
    "risk_graph(risk_weighted_avg_reddit, start_date=start_date, end_date=end_date, title=\"Reddit: Weighted Average Probability\", entity=entity)"
   ]
  },
  {
   "cell_type": "code",
   "execution_count": null,
   "metadata": {
    "hidden": true
   },
   "outputs": [],
   "source": [
    "risk_weighted_avg_twitter = risk_weighted_avg(roberta_2020, source=\"twitter\", entity=entity, threshold_all=2) \n",
    "risk_graph(risk_weighted_avg_twitter, start_date=start_date, end_date=end_date, title=\"Twitter: Weighted Average Probability\", entity=entity)"
   ]
  },
  {
   "cell_type": "markdown",
   "metadata": {
    "hidden": true
   },
   "source": [
    "#### Threshold: Risk Count"
   ]
  },
  {
   "cell_type": "code",
   "execution_count": null,
   "metadata": {
    "hidden": true,
    "scrolled": true
   },
   "outputs": [],
   "source": [
    "risk_weighted_avg_overall = risk_weighted_avg(roberta_2020, entity=entity, threshold_risk=1) \n",
    "risk_graph(risk_weighted_avg_overall, start_date=start_date, end_date=end_date, title=\"Overall: Weighted Average Probability\", entity=entity)"
   ]
  },
  {
   "cell_type": "code",
   "execution_count": null,
   "metadata": {
    "hidden": true
   },
   "outputs": [],
   "source": [
    "# risk_weighted_avg_news = risk_weighted_avg(roberta_2020, source=\"news\", entity=entity, threshold_risk=1) \n",
    "# risk_graph(risk_weighted_avg_news, start_date=start_date, end_date=end_date, title=\"News: Weighted Average Probability\", entity=entity)"
   ]
  },
  {
   "cell_type": "code",
   "execution_count": null,
   "metadata": {
    "hidden": true,
    "scrolled": false
   },
   "outputs": [],
   "source": [
    "risk_weighted_avg_reddit = risk_weighted_avg(roberta_2020, source=\"reddit\", entity=entity, threshold_risk=1) \n",
    "risk_graph(risk_weighted_avg_reddit, start_date=start_date, end_date=end_date, title=\"Reddit: Weighted Average Probability\", entity=entity)"
   ]
  },
  {
   "cell_type": "code",
   "execution_count": null,
   "metadata": {
    "hidden": true
   },
   "outputs": [],
   "source": [
    "risk_weighted_avg_twitter = risk_weighted_avg(roberta_2020, source=\"twitter\", entity=entity, threshold_risk=1) \n",
    "risk_graph(risk_weighted_avg_twitter, start_date=start_date, end_date=end_date, title=\"Twitter: Weighted Average Probability\", entity=entity)"
   ]
  },
  {
   "cell_type": "markdown",
   "metadata": {
    "heading_collapsed": true,
    "hidden": true
   },
   "source": [
    "### Relative Source - Average Risk"
   ]
  },
  {
   "cell_type": "markdown",
   "metadata": {
    "heading_collapsed": true,
    "hidden": true
   },
   "source": [
    "#### Threshold: None"
   ]
  },
  {
   "cell_type": "code",
   "execution_count": null,
   "metadata": {
    "hidden": true
   },
   "outputs": [],
   "source": [
    "weights={\"news\":0.5, \"reddit\": 0.25, \"twitter\":0.25}\n",
    "\n",
    "risk_relative = risk_relative_sources(roberta_2020, entity=entity, weights=weights, weighted=False)\n",
    "risk_graph(risk_relative, start_date=start_date, end_date=end_date, \n",
    "           title=\"Relative Source Risk Over Time\", entity=entity)"
   ]
  },
  {
   "cell_type": "markdown",
   "metadata": {
    "heading_collapsed": true,
    "hidden": true
   },
   "source": [
    "#### Threshold: All (Overall)"
   ]
  },
  {
   "cell_type": "code",
   "execution_count": null,
   "metadata": {
    "hidden": true
   },
   "outputs": [],
   "source": [
    "weights={\"news\":0.5, \"reddit\": 0.25, \"twitter\":0.25}\n",
    "threshold_all = 1\n",
    "\n",
    "risk_relative = risk_relative_sources(roberta_2020, entity=entity, weights=weights, weighted=False, \n",
    "                                     threshold_all=threshold_all)\n",
    "risk_graph(risk_relative, start_date=start_date, end_date=end_date, \n",
    "           title=\"Relative Source Risk Over Time\", entity=entity)"
   ]
  },
  {
   "cell_type": "markdown",
   "metadata": {
    "heading_collapsed": true,
    "hidden": true
   },
   "source": [
    "#### Threshold: Risk (Overall)"
   ]
  },
  {
   "cell_type": "code",
   "execution_count": null,
   "metadata": {
    "hidden": true
   },
   "outputs": [],
   "source": [
    "weights={\"news\":0.5, \"reddit\": 0.25, \"twitter\":0.25}\n",
    "threshold_risk = 1\n",
    "\n",
    "risk_relative = risk_relative_sources(roberta_2020, entity=entity, weights=weights, weighted=False, \n",
    "                                     threshold_risk=threshold_risk)\n",
    "risk_graph(risk_relative, start_date=start_date, end_date=end_date, \n",
    "           title=\"Relative Source Risk Over Time\", entity=entity)"
   ]
  },
  {
   "cell_type": "markdown",
   "metadata": {
    "heading_collapsed": true,
    "hidden": true
   },
   "source": [
    "#### Threshold: All (By Source)"
   ]
  },
  {
   "cell_type": "code",
   "execution_count": null,
   "metadata": {
    "hidden": true
   },
   "outputs": [],
   "source": [
    "weights={\"news\":0.5, \"reddit\": 0.25, \"twitter\":0.25}\n",
    "threshold_all = {\"news\":0, \"reddit\":1, \"twitter\":0}\n",
    "\n",
    "risk_relative = risk_relative_sources_split(roberta_2020, entity=entity, weights=weights, weighted=False, \n",
    "                                     threshold_all=threshold_all)\n",
    "risk_graph(risk_relative, start_date=start_date, end_date=end_date, \n",
    "           title=\"Relative Source Risk Over Time\", entity=entity)"
   ]
  },
  {
   "cell_type": "markdown",
   "metadata": {
    "heading_collapsed": true,
    "hidden": true
   },
   "source": [
    "#### Threshold: Risk (By Source)"
   ]
  },
  {
   "cell_type": "code",
   "execution_count": null,
   "metadata": {
    "hidden": true
   },
   "outputs": [],
   "source": [
    "weights={\"news\":0.5, \"reddit\": 0.25, \"twitter\":0.25}\n",
    "threshold_risk = {\"news\":0, \"reddit\":1, \"twitter\":0}\n",
    "\n",
    "risk_relative = risk_relative_sources_split(roberta_2020, entity=entity, weights=weights, weighted=False, \n",
    "                                     threshold_risk=threshold_risk)\n",
    "risk_graph(risk_relative, start_date=start_date, end_date=end_date, \n",
    "           title=\"Relative Source Risk Over Time\", entity=entity)"
   ]
  },
  {
   "cell_type": "markdown",
   "metadata": {
    "heading_collapsed": true,
    "hidden": true
   },
   "source": [
    "### Relative Source - Weighted Average Risk"
   ]
  },
  {
   "cell_type": "markdown",
   "metadata": {
    "heading_collapsed": true,
    "hidden": true
   },
   "source": [
    "#### Threshold: None"
   ]
  },
  {
   "cell_type": "code",
   "execution_count": null,
   "metadata": {
    "hidden": true,
    "scrolled": true
   },
   "outputs": [],
   "source": [
    "weights={\"news\":0.5, \"reddit\": 0.25, \"twitter\":0.25}\n",
    "\n",
    "risk_relative = risk_relative_sources(roberta_2020, entity=entity, weights=weights, weighted=True)\n",
    "risk_graph(risk_relative, start_date=start_date, end_date=end_date, \n",
    "           title=\"Relative Source Risk Over Time\", entity=entity)"
   ]
  },
  {
   "cell_type": "markdown",
   "metadata": {
    "heading_collapsed": true,
    "hidden": true
   },
   "source": [
    "#### Threshold: All (Overall)"
   ]
  },
  {
   "cell_type": "code",
   "execution_count": null,
   "metadata": {
    "hidden": true,
    "scrolled": true
   },
   "outputs": [],
   "source": [
    "weights={\"news\":0.5, \"reddit\": 0.25, \"twitter\":0.25}\n",
    "threshold_all = 1\n",
    "\n",
    "risk_relative = risk_relative_sources(roberta_2020, entity=entity, weights=weights, weighted=True, \n",
    "                                     threshold_all=threshold_all)\n",
    "risk_graph(risk_relative, start_date=start_date, end_date=end_date, \n",
    "           title=\"Relative Source Risk Over Time\", entity=entity)"
   ]
  },
  {
   "cell_type": "markdown",
   "metadata": {
    "heading_collapsed": true,
    "hidden": true
   },
   "source": [
    "#### Threshold: Risk (Overall)"
   ]
  },
  {
   "cell_type": "code",
   "execution_count": null,
   "metadata": {
    "hidden": true
   },
   "outputs": [],
   "source": [
    "weights={\"news\":0.5, \"reddit\": 0.25, \"twitter\":0.25}\n",
    "threshold_risk = 1\n",
    "\n",
    "risk_relative = risk_relative_sources(roberta_2020, entity=entity, weights=weights, weighted=True, \n",
    "                                     threshold_risk=threshold_risk)\n",
    "risk_graph(risk_relative, start_date=start_date, end_date=end_date, \n",
    "           title=\"Relative Source Risk Over Time\", entity=entity)"
   ]
  },
  {
   "cell_type": "markdown",
   "metadata": {
    "heading_collapsed": true,
    "hidden": true
   },
   "source": [
    "#### Threshold: All (By Source)"
   ]
  },
  {
   "cell_type": "code",
   "execution_count": null,
   "metadata": {
    "hidden": true,
    "scrolled": true
   },
   "outputs": [],
   "source": [
    "weights={\"news\":0.5, \"reddit\": 0.25, \"twitter\":0.25}\n",
    "threshold_all = {\"news\":0, \"reddit\":1, \"twitter\":1}\n",
    "\n",
    "risk_relative = risk_relative_sources_split(roberta_2020, entity=entity, weights=weights, weighted=True, \n",
    "                                     threshold_all=threshold_all)\n",
    "risk_graph(risk_relative, start_date=start_date, end_date=end_date, \n",
    "           title=\"Relative Source Risk Over Time\", entity=entity)"
   ]
  },
  {
   "cell_type": "markdown",
   "metadata": {
    "heading_collapsed": true,
    "hidden": true
   },
   "source": [
    "#### Threshold: Risk (By Source)"
   ]
  },
  {
   "cell_type": "code",
   "execution_count": null,
   "metadata": {
    "hidden": true,
    "scrolled": true
   },
   "outputs": [],
   "source": [
    "weights={\"news\":0.5, \"reddit\": 0.25, \"twitter\":0.25}\n",
    "threshold_risk = {\"news\":0, \"reddit\":1, \"twitter\":0}\n",
    "\n",
    "risk_relative = risk_relative_sources_split(roberta_2020, entity=entity, weights=weights, weighted=True, \n",
    "                                     threshold_risk=threshold_risk)\n",
    "risk_graph(risk_relative, start_date=start_date, end_date=end_date, \n",
    "           title=\"Relative Source Risk Over Time\", entity=entity)"
   ]
  },
  {
   "cell_type": "markdown",
   "metadata": {
    "hidden": true
   },
   "source": [
    "## Bancor"
   ]
  },
  {
   "cell_type": "code",
   "execution_count": null,
   "metadata": {
    "hidden": true
   },
   "outputs": [],
   "source": [
    "entity = \"bancor\""
   ]
  },
  {
   "cell_type": "markdown",
   "metadata": {
    "heading_collapsed": true,
    "hidden": true
   },
   "source": [
    "### Maximum Risk"
   ]
  },
  {
   "cell_type": "markdown",
   "metadata": {
    "heading_collapsed": true,
    "hidden": true
   },
   "source": [
    "#### Threshold: None"
   ]
  },
  {
   "cell_type": "code",
   "execution_count": null,
   "metadata": {
    "hidden": true
   },
   "outputs": [],
   "source": [
    "risk_max_overall = risk_max(roberta_2020, entity=entity)\n",
    "risk_graph(risk_max_overall, start_date=start_date, end_date=end_date, title=\"Overall: Max Probability\", entity=entity)"
   ]
  },
  {
   "cell_type": "code",
   "execution_count": null,
   "metadata": {
    "hidden": true
   },
   "outputs": [],
   "source": [
    "risk_max_news = risk_max(roberta_2020, source=\"news\", entity=entity)\n",
    "risk_graph(risk_max_news, start_date=start_date, end_date=end_date, title=\"News: Max Probability\", entity=entity)"
   ]
  },
  {
   "cell_type": "code",
   "execution_count": null,
   "metadata": {
    "hidden": true
   },
   "outputs": [],
   "source": [
    "risk_max_reddit = risk_max(roberta_2020, source=\"reddit\", entity=entity)\n",
    "risk_graph(risk_max_reddit, start_date=start_date, end_date=end_date, title=\"Reddit: Max Probability\", entity=entity)"
   ]
  },
  {
   "cell_type": "code",
   "execution_count": null,
   "metadata": {
    "hidden": true
   },
   "outputs": [],
   "source": [
    "risk_max_twitter = risk_max(roberta_2020, source=\"twitter\", entity=entity)\n",
    "risk_graph(risk_max_twitter, start_date=start_date, end_date=end_date, title=\"Twitter: Max Probability\", entity=entity)"
   ]
  },
  {
   "cell_type": "markdown",
   "metadata": {
    "heading_collapsed": true,
    "hidden": true
   },
   "source": [
    "#### Threshold: All Count"
   ]
  },
  {
   "cell_type": "code",
   "execution_count": null,
   "metadata": {
    "hidden": true,
    "scrolled": true
   },
   "outputs": [],
   "source": [
    "risk_max_overall = risk_max(roberta_2020, entity=entity, threshold_all=10)\n",
    "risk_graph(risk_max_overall, start_date=start_date, end_date=end_date, title=\"Overall: Max Probability\", entity=entity)"
   ]
  },
  {
   "cell_type": "code",
   "execution_count": null,
   "metadata": {
    "hidden": true,
    "scrolled": true
   },
   "outputs": [],
   "source": [
    "risk_max_news = risk_max(roberta_2020, source=\"news\", entity=entity, threshold_all=1)\n",
    "risk_graph(risk_max_news, start_date=start_date, end_date=end_date, title=\"News: Max Probability\", entity=entity)"
   ]
  },
  {
   "cell_type": "code",
   "execution_count": null,
   "metadata": {
    "hidden": true
   },
   "outputs": [],
   "source": [
    "risk_max_reddit = risk_max(roberta_2020, source=\"reddit\", entity=entity, threshold_all=10)\n",
    "risk_graph(risk_max_reddit, start_date=start_date, end_date=end_date, title=\"Reddit: Max Probability\", entity=entity)"
   ]
  },
  {
   "cell_type": "code",
   "execution_count": null,
   "metadata": {
    "hidden": true
   },
   "outputs": [],
   "source": [
    "risk_max_twitter = risk_max(roberta_2020, source=\"twitter\", entity=entity, threshold_all=10)\n",
    "risk_graph(risk_max_twitter, start_date=start_date, end_date=end_date, title=\"Twitter: Max Probability\", entity=entity)"
   ]
  },
  {
   "cell_type": "markdown",
   "metadata": {
    "heading_collapsed": true,
    "hidden": true
   },
   "source": [
    "#### Threshold: Risk Count"
   ]
  },
  {
   "cell_type": "code",
   "execution_count": null,
   "metadata": {
    "hidden": true,
    "scrolled": true
   },
   "outputs": [],
   "source": [
    "risk_max_overall = risk_max(roberta_2020, entity=entity, threshold_risk=10)\n",
    "risk_graph(risk_max_overall, start_date=start_date, end_date=end_date, title=\"Overall: Max Probability\", entity=entity)"
   ]
  },
  {
   "cell_type": "code",
   "execution_count": null,
   "metadata": {
    "hidden": true
   },
   "outputs": [],
   "source": [
    "risk_max_news = risk_max(roberta_2020, source=\"news\", entity=entity, threshold_risk=1)\n",
    "risk_graph(risk_max_news, start_date=start_date, end_date=end_date, title=\"News: Max Probability\", entity=entity)"
   ]
  },
  {
   "cell_type": "code",
   "execution_count": null,
   "metadata": {
    "hidden": true
   },
   "outputs": [],
   "source": [
    "risk_max_reddit = risk_max(roberta_2020, source=\"reddit\", entity=entity, threshold_risk=10)\n",
    "risk_graph(risk_max_reddit, start_date=start_date, end_date=end_date, title=\"Reddit: Max Probability\", entity=entity)"
   ]
  },
  {
   "cell_type": "code",
   "execution_count": null,
   "metadata": {
    "hidden": true
   },
   "outputs": [],
   "source": [
    "risk_max_twitter = risk_max(roberta_2020, source=\"twitter\", entity=entity, threshold_risk=5)\n",
    "risk_graph(risk_max_twitter, start_date=start_date, end_date=end_date, title=\"Twitter: Max Probability\", entity=entity)"
   ]
  },
  {
   "cell_type": "markdown",
   "metadata": {
    "heading_collapsed": true,
    "hidden": true
   },
   "source": [
    "### Average Risk"
   ]
  },
  {
   "cell_type": "markdown",
   "metadata": {
    "hidden": true
   },
   "source": [
    "#### Threshold: None"
   ]
  },
  {
   "cell_type": "code",
   "execution_count": null,
   "metadata": {
    "hidden": true
   },
   "outputs": [],
   "source": [
    "risk_avg_overall = risk_avg(roberta_2020, entity=entity) \n",
    "risk_graph(risk_avg_overall, start_date=start_date, end_date=end_date, title=\"Overall: Average Probability\", entity=entity)"
   ]
  },
  {
   "cell_type": "code",
   "execution_count": null,
   "metadata": {
    "hidden": true
   },
   "outputs": [],
   "source": [
    "risk_avg_news = risk_avg(roberta_2020, source=\"news\", entity=entity) \n",
    "risk_graph(risk_avg_news, start_date=start_date, end_date=end_date, title=\"News: Average Probability\", entity=entity)"
   ]
  },
  {
   "cell_type": "code",
   "execution_count": null,
   "metadata": {
    "hidden": true
   },
   "outputs": [],
   "source": [
    "risk_avg_reddit = risk_avg(roberta_2020, source=\"reddit\", entity=entity) \n",
    "risk_graph(risk_avg_reddit, start_date=start_date, end_date=end_date, title=\"Reddit: Average Probability\", entity=entity)"
   ]
  },
  {
   "cell_type": "code",
   "execution_count": null,
   "metadata": {
    "hidden": true
   },
   "outputs": [],
   "source": [
    "risk_avg_twitter = risk_avg(roberta_2020, source=\"twitter\", entity=entity) \n",
    "risk_graph(risk_avg_twitter, start_date=start_date, end_date=end_date, title=\"Twitter: Average Probability\", entity=entity)"
   ]
  },
  {
   "cell_type": "markdown",
   "metadata": {
    "hidden": true
   },
   "source": [
    "#### Threshold: All Count"
   ]
  },
  {
   "cell_type": "code",
   "execution_count": null,
   "metadata": {
    "hidden": true,
    "scrolled": true
   },
   "outputs": [],
   "source": [
    "risk_avg_overall = risk_avg(roberta_2020, entity=entity, threshold_all=5) \n",
    "risk_graph(risk_avg_overall, start_date=start_date, end_date=end_date, title=\"Overall: Average Probability\", entity=entity)"
   ]
  },
  {
   "cell_type": "code",
   "execution_count": null,
   "metadata": {
    "hidden": true
   },
   "outputs": [],
   "source": [
    "risk_avg_news = risk_avg(roberta_2020, source=\"news\", entity=entity, threshold_all=1) \n",
    "risk_graph(risk_avg_news, start_date=start_date, end_date=end_date, title=\"News: Average Probability\", entity=entity)"
   ]
  },
  {
   "cell_type": "code",
   "execution_count": null,
   "metadata": {
    "hidden": true,
    "scrolled": true
   },
   "outputs": [],
   "source": [
    "risk_avg_reddit = risk_avg(roberta_2020, source=\"reddit\", entity=entity, threshold_all=5) \n",
    "risk_graph(risk_avg_reddit, start_date=start_date, end_date=end_date, title=\"Reddit: Average Probability\", entity=entity)"
   ]
  },
  {
   "cell_type": "code",
   "execution_count": null,
   "metadata": {
    "hidden": true
   },
   "outputs": [],
   "source": [
    "risk_avg_twitter = risk_avg(roberta_2020, source=\"twitter\", entity=entity, threshold_all=5) \n",
    "risk_graph(risk_avg_twitter, start_date=start_date, end_date=end_date, title=\"Twitter: Average Probability\", entity=entity)"
   ]
  },
  {
   "cell_type": "markdown",
   "metadata": {
    "hidden": true
   },
   "source": [
    "#### Threshold: Risk Count"
   ]
  },
  {
   "cell_type": "code",
   "execution_count": null,
   "metadata": {
    "hidden": true,
    "scrolled": true
   },
   "outputs": [],
   "source": [
    "risk_avg_overall = risk_avg(roberta_2020, entity=entity, threshold_risk=5) \n",
    "risk_graph(risk_avg_overall, start_date=start_date, end_date=end_date, title=\"Overall: Average Probability\", entity=entity)"
   ]
  },
  {
   "cell_type": "code",
   "execution_count": null,
   "metadata": {
    "hidden": true
   },
   "outputs": [],
   "source": [
    "risk_avg_news = risk_avg(roberta_2020, source=\"news\", entity=entity, threshold_risk=1) \n",
    "risk_graph(risk_avg_news, start_date=start_date, end_date=end_date, title=\"News: Average Probability\", entity=entity)"
   ]
  },
  {
   "cell_type": "code",
   "execution_count": null,
   "metadata": {
    "hidden": true
   },
   "outputs": [],
   "source": [
    "risk_avg_reddit = risk_avg(roberta_2020, source=\"reddit\", entity=entity, threshold_risk=5) \n",
    "risk_graph(risk_avg_reddit, start_date=start_date, end_date=end_date, title=\"Reddit: Average Probability\", entity=entity)"
   ]
  },
  {
   "cell_type": "code",
   "execution_count": null,
   "metadata": {
    "hidden": true
   },
   "outputs": [],
   "source": [
    "risk_avg_twitter = risk_avg(roberta_2020, source=\"twitter\", entity=entity, threshold_risk=5) \n",
    "risk_graph(risk_avg_twitter, start_date=start_date, end_date=end_date, title=\"Twitter: Average Probability\", entity=entity)"
   ]
  },
  {
   "cell_type": "markdown",
   "metadata": {
    "heading_collapsed": true,
    "hidden": true
   },
   "source": [
    "### Weighted Average Risk"
   ]
  },
  {
   "cell_type": "markdown",
   "metadata": {
    "hidden": true
   },
   "source": [
    "#### Threshold: None"
   ]
  },
  {
   "cell_type": "code",
   "execution_count": null,
   "metadata": {
    "hidden": true,
    "scrolled": false
   },
   "outputs": [],
   "source": [
    "risk_weighted_avg_overall = risk_weighted_avg(roberta_2020, entity=entity) \n",
    "risk_graph(risk_weighted_avg_overall, start_date=start_date, end_date=end_date, title=\"Overall: Weighted Average Probability\", entity=entity)"
   ]
  },
  {
   "cell_type": "code",
   "execution_count": null,
   "metadata": {
    "hidden": true
   },
   "outputs": [],
   "source": [
    "risk_weighted_avg_news = risk_weighted_avg(roberta_2020, source=\"news\", entity=entity) \n",
    "risk_graph(risk_weighted_avg_news, start_date=start_date, end_date=end_date, title=\"News: Weighted Average Probability\", entity=entity)"
   ]
  },
  {
   "cell_type": "code",
   "execution_count": null,
   "metadata": {
    "hidden": true
   },
   "outputs": [],
   "source": [
    "risk_weighted_avg_reddit = risk_weighted_avg(roberta_2020, source=\"reddit\", entity=entity) \n",
    "risk_graph(risk_weighted_avg_reddit, start_date=start_date, end_date=end_date, title=\"Reddit: Weighted Average Probability\", entity=entity)"
   ]
  },
  {
   "cell_type": "code",
   "execution_count": null,
   "metadata": {
    "hidden": true
   },
   "outputs": [],
   "source": [
    "risk_weighted_avg_twitter = risk_weighted_avg(roberta_2020, source=\"twitter\", entity=entity) \n",
    "risk_graph(risk_weighted_avg_twitter, start_date=start_date, end_date=end_date, title=\"Twitter: Weighted Average Probability\", entity=entity)"
   ]
  },
  {
   "cell_type": "markdown",
   "metadata": {
    "hidden": true
   },
   "source": [
    "#### Threshold: All Count"
   ]
  },
  {
   "cell_type": "code",
   "execution_count": null,
   "metadata": {
    "hidden": true,
    "scrolled": true
   },
   "outputs": [],
   "source": [
    "risk_weighted_avg_overall = risk_weighted_avg(roberta_2020, entity=entity, threshold_all=10) \n",
    "risk_graph(risk_weighted_avg_overall, start_date=start_date, end_date=end_date, title=\"Overall: Weighted Average Probability\", entity=entity)"
   ]
  },
  {
   "cell_type": "code",
   "execution_count": null,
   "metadata": {
    "hidden": true,
    "scrolled": true
   },
   "outputs": [],
   "source": [
    "risk_weighted_avg_news = risk_weighted_avg(roberta_2020, source=\"news\", entity=entity, threshold_all=1) \n",
    "risk_graph(risk_weighted_avg_news, start_date=start_date, end_date=end_date, title=\"News: Weighted Average Probability\", entity=entity)"
   ]
  },
  {
   "cell_type": "code",
   "execution_count": null,
   "metadata": {
    "hidden": true
   },
   "outputs": [],
   "source": [
    "risk_weighted_avg_reddit = risk_weighted_avg(roberta_2020, source=\"reddit\", entity=entity, threshold_all=5) \n",
    "risk_graph(risk_weighted_avg_reddit, start_date=start_date, end_date=end_date, title=\"Reddit: Weighted Average Probability\", entity=entity)"
   ]
  },
  {
   "cell_type": "code",
   "execution_count": null,
   "metadata": {
    "hidden": true
   },
   "outputs": [],
   "source": [
    "risk_weighted_avg_twitter = risk_weighted_avg(roberta_2020, source=\"twitter\", entity=entity, threshold_all=5) \n",
    "risk_graph(risk_weighted_avg_twitter, start_date=start_date, end_date=end_date, title=\"Twitter: Weighted Average Probability\", entity=entity)"
   ]
  },
  {
   "cell_type": "markdown",
   "metadata": {
    "hidden": true
   },
   "source": [
    "#### Threshold: Risk Count"
   ]
  },
  {
   "cell_type": "code",
   "execution_count": null,
   "metadata": {
    "hidden": true,
    "scrolled": true
   },
   "outputs": [],
   "source": [
    "risk_weighted_avg_overall = risk_weighted_avg(roberta_2020, entity=entity, threshold_risk=5) \n",
    "risk_graph(risk_weighted_avg_overall, start_date=start_date, end_date=end_date, title=\"Overall: Weighted Average Probability\", entity=entity)"
   ]
  },
  {
   "cell_type": "code",
   "execution_count": null,
   "metadata": {
    "hidden": true
   },
   "outputs": [],
   "source": [
    "risk_weighted_avg_news = risk_weighted_avg(roberta_2020, source=\"news\", entity=entity, threshold_risk=1) \n",
    "risk_graph(risk_weighted_avg_news, start_date=start_date, end_date=end_date, title=\"News: Weighted Average Probability\", entity=entity)"
   ]
  },
  {
   "cell_type": "code",
   "execution_count": null,
   "metadata": {
    "hidden": true,
    "scrolled": false
   },
   "outputs": [],
   "source": [
    "risk_weighted_avg_reddit = risk_weighted_avg(roberta_2020, source=\"reddit\", entity=entity, threshold_risk=5) \n",
    "risk_graph(risk_weighted_avg_reddit, start_date=start_date, end_date=end_date, title=\"Reddit: Weighted Average Probability\", entity=entity)"
   ]
  },
  {
   "cell_type": "code",
   "execution_count": null,
   "metadata": {
    "hidden": true
   },
   "outputs": [],
   "source": [
    "risk_weighted_avg_twitter = risk_weighted_avg(roberta_2020, source=\"twitter\", entity=entity, threshold_risk=5) \n",
    "risk_graph(risk_weighted_avg_twitter, start_date=start_date, end_date=end_date, title=\"Twitter: Weighted Average Probability\", entity=entity)"
   ]
  },
  {
   "cell_type": "markdown",
   "metadata": {
    "hidden": true
   },
   "source": [
    "### Relative Source - Average Risk"
   ]
  },
  {
   "cell_type": "markdown",
   "metadata": {
    "heading_collapsed": true,
    "hidden": true
   },
   "source": [
    "#### Threshold: None"
   ]
  },
  {
   "cell_type": "code",
   "execution_count": null,
   "metadata": {
    "hidden": true
   },
   "outputs": [],
   "source": [
    "weights={\"news\":0.5, \"reddit\": 0.25, \"twitter\":0.25}\n",
    "\n",
    "risk_relative = risk_relative_sources(roberta_2020, entity=entity, weights=weights, weighted=False)\n",
    "risk_graph(risk_relative, start_date=start_date, end_date=end_date, \n",
    "           title=\"Relative Source Risk Over Time\", entity=entity)"
   ]
  },
  {
   "cell_type": "markdown",
   "metadata": {
    "heading_collapsed": true,
    "hidden": true
   },
   "source": [
    "#### Threshold: All (Overall)"
   ]
  },
  {
   "cell_type": "code",
   "execution_count": null,
   "metadata": {
    "hidden": true
   },
   "outputs": [],
   "source": [
    "weights={\"news\":0.5, \"reddit\": 0.25, \"twitter\":0.25}\n",
    "threshold_all = 5\n",
    "\n",
    "risk_relative = risk_relative_sources(roberta_2020, entity=entity, weights=weights, weighted=False, \n",
    "                                     threshold_all=threshold_all)\n",
    "risk_graph(risk_relative, start_date=start_date, end_date=end_date, \n",
    "           title=\"Relative Source Risk Over Time\", entity=entity)"
   ]
  },
  {
   "cell_type": "markdown",
   "metadata": {
    "heading_collapsed": true,
    "hidden": true
   },
   "source": [
    "#### Threshold: Risk (Overall)"
   ]
  },
  {
   "cell_type": "code",
   "execution_count": null,
   "metadata": {
    "hidden": true
   },
   "outputs": [],
   "source": [
    "weights={\"news\":0.5, \"reddit\": 0.25, \"twitter\":0.25}\n",
    "threshold_risk = 5\n",
    "\n",
    "risk_relative = risk_relative_sources(roberta_2020, entity=entity, weights=weights, weighted=False, \n",
    "                                     threshold_risk=threshold_risk)\n",
    "risk_graph(risk_relative, start_date=start_date, end_date=end_date, \n",
    "           title=\"Relative Source Risk Over Time\", entity=entity)"
   ]
  },
  {
   "cell_type": "markdown",
   "metadata": {
    "heading_collapsed": true,
    "hidden": true
   },
   "source": [
    "#### Threshold: All (By Source)"
   ]
  },
  {
   "cell_type": "code",
   "execution_count": null,
   "metadata": {
    "hidden": true
   },
   "outputs": [],
   "source": [
    "weights={\"news\":0.5, \"reddit\": 0.25, \"twitter\":0.25}\n",
    "threshold_all = {\"news\":1, \"reddit\":5, \"twitter\":0}\n",
    "\n",
    "risk_relative = risk_relative_sources_split(roberta_2020, entity=entity, weights=weights, weighted=False, \n",
    "                                     threshold_all=threshold_all)\n",
    "risk_graph(risk_relative, start_date=start_date, end_date=end_date, \n",
    "           title=\"Relative Source Risk Over Time\", entity=entity)"
   ]
  },
  {
   "cell_type": "markdown",
   "metadata": {
    "heading_collapsed": true,
    "hidden": true
   },
   "source": [
    "#### Threshold: Risk (By Source)"
   ]
  },
  {
   "cell_type": "code",
   "execution_count": null,
   "metadata": {
    "hidden": true
   },
   "outputs": [],
   "source": [
    "weights={\"news\":0.5, \"reddit\": 0.25, \"twitter\":0.25}\n",
    "threshold_risk = {\"news\":1, \"reddit\":5, \"twitter\":0}\n",
    "\n",
    "risk_relative = risk_relative_sources_split(roberta_2020, entity=entity, weights=weights, weighted=False, \n",
    "                                     threshold_risk=threshold_risk)\n",
    "risk_graph(risk_relative, start_date=start_date, end_date=end_date, \n",
    "           title=\"Relative Source Risk Over Time\", entity=entity)"
   ]
  },
  {
   "cell_type": "markdown",
   "metadata": {
    "hidden": true
   },
   "source": [
    "### Relative Source - Weighted Average Risk"
   ]
  },
  {
   "cell_type": "markdown",
   "metadata": {
    "heading_collapsed": true,
    "hidden": true
   },
   "source": [
    "#### Threshold: None"
   ]
  },
  {
   "cell_type": "code",
   "execution_count": null,
   "metadata": {
    "hidden": true,
    "scrolled": true
   },
   "outputs": [],
   "source": [
    "weights={\"news\":0.5, \"reddit\": 0.25, \"twitter\":0.25}\n",
    "\n",
    "risk_relative = risk_relative_sources(roberta_2020, entity=entity, weights=weights, weighted=True)\n",
    "risk_graph(risk_relative, start_date=start_date, end_date=end_date, \n",
    "           title=\"Relative Source Risk Over Time\", entity=entity)"
   ]
  },
  {
   "cell_type": "markdown",
   "metadata": {
    "heading_collapsed": true,
    "hidden": true
   },
   "source": [
    "#### Threshold: All (Overall)"
   ]
  },
  {
   "cell_type": "code",
   "execution_count": null,
   "metadata": {
    "hidden": true,
    "scrolled": true
   },
   "outputs": [],
   "source": [
    "weights={\"news\":0.5, \"reddit\": 0.25, \"twitter\":0.25}\n",
    "threshold_all = 5\n",
    "\n",
    "risk_relative = risk_relative_sources(roberta_2020, entity=entity, weights=weights, weighted=True, \n",
    "                                     threshold_all=threshold_all)\n",
    "risk_graph(risk_relative, start_date=start_date, end_date=end_date, \n",
    "           title=\"Relative Source Risk Over Time\", entity=entity)"
   ]
  },
  {
   "cell_type": "markdown",
   "metadata": {
    "heading_collapsed": true,
    "hidden": true
   },
   "source": [
    "#### Threshold: Risk (Overall)"
   ]
  },
  {
   "cell_type": "code",
   "execution_count": null,
   "metadata": {
    "hidden": true
   },
   "outputs": [],
   "source": [
    "weights={\"news\":0.5, \"reddit\": 0.25, \"twitter\":0.25}\n",
    "threshold_risk = 5\n",
    "\n",
    "risk_relative = risk_relative_sources(roberta_2020, entity=entity, weights=weights, weighted=True, \n",
    "                                     threshold_risk=threshold_risk)\n",
    "risk_graph(risk_relative, start_date=start_date, end_date=end_date, \n",
    "           title=\"Relative Source Risk Over Time\", entity=entity)"
   ]
  },
  {
   "cell_type": "markdown",
   "metadata": {
    "heading_collapsed": true,
    "hidden": true
   },
   "source": [
    "#### Threshold: All (By Source)"
   ]
  },
  {
   "cell_type": "code",
   "execution_count": null,
   "metadata": {
    "hidden": true,
    "scrolled": true
   },
   "outputs": [],
   "source": [
    "weights={\"news\":0.5, \"reddit\": 0.25, \"twitter\":0.25}\n",
    "threshold_all = {\"news\":1, \"reddit\":5, \"twitter\":0}\n",
    "\n",
    "risk_relative = risk_relative_sources_split(roberta_2020, entity=entity, weights=weights, weighted=True, \n",
    "                                     threshold_all=threshold_all)\n",
    "risk_graph(risk_relative, start_date=start_date, end_date=end_date, \n",
    "           title=\"Relative Source Risk Over Time\", entity=entity)"
   ]
  },
  {
   "cell_type": "markdown",
   "metadata": {
    "heading_collapsed": true,
    "hidden": true
   },
   "source": [
    "#### Threshold: Risk (By Source)"
   ]
  },
  {
   "cell_type": "code",
   "execution_count": null,
   "metadata": {
    "hidden": true,
    "scrolled": false
   },
   "outputs": [],
   "source": [
    "weights={\"news\":0.5, \"reddit\": 0.25, \"twitter\":0.25}\n",
    "threshold_risk = {\"news\":1, \"reddit\":5, \"twitter\":0}\n",
    "\n",
    "risk_relative = risk_relative_sources_split(roberta_2020, entity=entity, weights=weights, weighted=True, \n",
    "                                     threshold_risk=threshold_risk)\n",
    "risk_graph(risk_relative, start_date=start_date, end_date=end_date, \n",
    "           title=\"Relative Source Risk Over Time\", entity=entity)"
   ]
  },
  {
   "cell_type": "markdown",
   "metadata": {
    "heading_collapsed": true
   },
   "source": [
    "# Count Exploration"
   ]
  },
  {
   "cell_type": "markdown",
   "metadata": {
    "hidden": true
   },
   "source": [
    "## Count"
   ]
  },
  {
   "cell_type": "markdown",
   "metadata": {
    "heading_collapsed": true,
    "hidden": true
   },
   "source": [
    "### Average Number of Articles (filtered for days with articles)"
   ]
  },
  {
   "cell_type": "code",
   "execution_count": null,
   "metadata": {
    "hidden": true,
    "scrolled": true
   },
   "outputs": [],
   "source": [
    "total = roberta_2020.groupby(by=[\"entity\", \"date\"]).counter.sum().mean(level=\"entity\")\n",
    "total = total.reset_index()\n",
    "total.columns = [\"entity\", \"total\"]\n",
    "\n",
    "news = roberta_2020_news.groupby(by=[\"entity\", \"date\"]).counter.sum().mean(level=\"entity\")\n",
    "news = news.reset_index()\n",
    "news.columns = [\"entity\", \"news\"]\n",
    "\n",
    "reddit = roberta_2020_reddit.groupby(by=[\"entity\", \"date\"]).counter.sum().mean(level=\"entity\")\n",
    "reddit = reddit.reset_index()\n",
    "reddit.columns = [\"entity\", \"reddit\"]\n",
    "\n",
    "twitter = roberta_2020_twitter.groupby(by=[\"entity\", \"date\"]).counter.sum().mean(level=\"entity\")\n",
    "twitter = twitter.reset_index()\n",
    "twitter.columns = [\"entity\", \"twitter\"]\n",
    "\n",
    "combined = pd.merge(total, news, on=\"entity\", how=\"outer\")\n",
    "combined = pd.merge(combined, reddit, on=\"entity\", how=\"outer\")\n",
    "combined = pd.merge(combined, twitter, on=\"entity\", how=\"outer\")\n",
    "combined = combined.fillna(0)\n",
    "\n",
    "combined.to_csv(\"data/data_exploration/avg_count_filtered.csv\")\n",
    "\n",
    "combined"
   ]
  },
  {
   "cell_type": "markdown",
   "metadata": {
    "heading_collapsed": true,
    "hidden": true
   },
   "source": [
    "### Average Number of Articles (unfiltered days)"
   ]
  },
  {
   "cell_type": "code",
   "execution_count": null,
   "metadata": {
    "hidden": true
   },
   "outputs": [],
   "source": [
    "start_date_datetime = datetime(2020, 1, 1)\n",
    "end_date_datetime = datetime(2020, 6, 30)\n",
    "delta = (end_date_datetime - start_date_datetime).days"
   ]
  },
  {
   "cell_type": "code",
   "execution_count": null,
   "metadata": {
    "hidden": true,
    "scrolled": true
   },
   "outputs": [],
   "source": [
    "total = roberta_2020.groupby(by=[\"entity\", \"date\"]).counter.sum().sum(level=\"entity\") / delta\n",
    "total = total.reset_index()\n",
    "total.columns = [\"entity\", \"total\"]\n",
    "\n",
    "news = roberta_2020_news.groupby(by=[\"entity\", \"date\"]).counter.sum().sum(level=\"entity\") / delta\n",
    "news = news.reset_index()\n",
    "news.columns = [\"entity\", \"news\"]\n",
    "\n",
    "reddit = roberta_2020_reddit.groupby(by=[\"entity\", \"date\"]).counter.sum().sum(level=\"entity\") / delta\n",
    "reddit = reddit.reset_index()\n",
    "reddit.columns = [\"entity\", \"reddit\"]\n",
    "\n",
    "twitter = roberta_2020_twitter.groupby(by=[\"entity\", \"date\"]).counter.sum().sum(level=\"entity\") / delta\n",
    "twitter = twitter.reset_index()\n",
    "twitter.columns = [\"entity\", \"twitter\"]\n",
    "\n",
    "combined = pd.merge(total, news, on=\"entity\", how=\"outer\")\n",
    "combined = pd.merge(combined, reddit, on=\"entity\", how=\"outer\")\n",
    "combined = pd.merge(combined, twitter, on=\"entity\", how=\"outer\")\n",
    "combined = combined.fillna(0)\n",
    "\n",
    "combined.to_csv(\"data/data_exploration/avg_count.csv\")\n",
    "\n",
    "combined"
   ]
  },
  {
   "cell_type": "markdown",
   "metadata": {
    "hidden": true
   },
   "source": [
    "## Risk Count"
   ]
  },
  {
   "cell_type": "markdown",
   "metadata": {
    "heading_collapsed": true,
    "hidden": true
   },
   "source": [
    "### Average Number of Risky Articles (filtered for days with risky articles)"
   ]
  },
  {
   "cell_type": "code",
   "execution_count": null,
   "metadata": {
    "hidden": true
   },
   "outputs": [],
   "source": [
    "total = roberta_2020[roberta_2020[\"pred\"] == 1].groupby(by=[\"entity\", \"date\"]).counter.sum().mean(level=\"entity\")\n",
    "total = total.reset_index()\n",
    "total.columns = [\"entity\", \"total\"]\n",
    "\n",
    "news = roberta_2020_news[roberta_2020_news[\"pred\"] == 1].groupby(\n",
    "    by=[\"entity\", \"date\"]).counter.sum().mean(level=\"entity\")\n",
    "news = news.reset_index()\n",
    "news.columns = [\"entity\", \"news\"]\n",
    "\n",
    "reddit = roberta_2020_reddit[roberta_2020_reddit[\"pred\"] == 1].groupby(\n",
    "    by=[\"entity\", \"date\"]).counter.sum().mean(level=\"entity\")\n",
    "reddit = reddit.reset_index()\n",
    "reddit.columns = [\"entity\", \"reddit\"]\n",
    "\n",
    "twitter = roberta_2020_twitter[roberta_2020_twitter[\"pred\"] == 1].groupby(\n",
    "    by=[\"entity\", \"date\"]).counter.sum().mean(level=\"entity\")\n",
    "twitter = twitter.reset_index()\n",
    "twitter.columns = [\"entity\", \"twitter\"]\n",
    "\n",
    "combined = pd.merge(total, news, on=\"entity\", how=\"outer\")\n",
    "combined = pd.merge(combined, reddit, on=\"entity\", how=\"outer\")\n",
    "combined = pd.merge(combined, twitter, on=\"entity\", how=\"outer\")\n",
    "combined = combined.fillna(0)\n",
    "\n",
    "combined.to_csv(\"data/data_exploration/avg_risk_count_filtered.csv\")\n",
    "\n",
    "combined"
   ]
  },
  {
   "cell_type": "markdown",
   "metadata": {
    "heading_collapsed": true,
    "hidden": true
   },
   "source": [
    "### Average Number of Risky Articles (unfiltered)¶"
   ]
  },
  {
   "cell_type": "code",
   "execution_count": null,
   "metadata": {
    "hidden": true
   },
   "outputs": [],
   "source": [
    "total = roberta_2020[roberta_2020[\"pred\"] == 1].groupby(by=[\"entity\", \"date\"]).counter.sum().sum(level=\"entity\") / delta\n",
    "total = total.reset_index()\n",
    "total.columns = [\"entity\", \"total\"]\n",
    "\n",
    "news = roberta_2020_news[roberta_2020_news[\"pred\"] == 1].groupby(\n",
    "    by=[\"entity\", \"date\"]).counter.sum().sum(level=\"entity\") / delta\n",
    "news = news.reset_index()\n",
    "news.columns = [\"entity\", \"news\"]\n",
    "\n",
    "reddit = roberta_2020_reddit[roberta_2020_reddit[\"pred\"] == 1].groupby(\n",
    "    by=[\"entity\", \"date\"]).counter.sum().sum(level=\"entity\") / delta\n",
    "reddit = reddit.reset_index()\n",
    "reddit.columns = [\"entity\", \"reddit\"]\n",
    "\n",
    "twitter = roberta_2020_twitter[roberta_2020_twitter[\"pred\"] == 1].groupby(\n",
    "    by=[\"entity\", \"date\"]).counter.sum().sum(level=\"entity\") / delta\n",
    "twitter = twitter.reset_index()\n",
    "twitter.columns = [\"entity\", \"twitter\"]\n",
    "\n",
    "combined = pd.merge(total, news, on=\"entity\", how=\"outer\")\n",
    "combined = pd.merge(combined, reddit, on=\"entity\", how=\"outer\")\n",
    "combined = pd.merge(combined, twitter, on=\"entity\", how=\"outer\")\n",
    "combined = combined.fillna(0)\n",
    "\n",
    "combined.to_csv(\"data/data_exploration/avg_risk_count.csv\")\n",
    "\n",
    "combined"
   ]
  },
  {
   "cell_type": "markdown",
   "metadata": {
    "heading_collapsed": true
   },
   "source": [
    "# Decay - Example"
   ]
  },
  {
   "cell_type": "markdown",
   "metadata": {
    "hidden": true
   },
   "source": [
    "## No Decay"
   ]
  },
  {
   "cell_type": "code",
   "execution_count": null,
   "metadata": {
    "hidden": true,
    "scrolled": true
   },
   "outputs": [],
   "source": [
    "risk_weighted_avg_twitter = risk_weighted_avg(roberta_2020, source=\"twitter\", entity=\"binance\") \n",
    "reindexed = reindex_dataframe(risk_weighted_avg_twitter, start_date=start_date, end_date=end_date)\n",
    "reindexed = reindexed.reset_index()\n",
    "reindexed.columns = [\"date\", \"risk\", \"count\", \"risk_count\"]\n",
    "reindexed = reindexed.fillna(0)\n",
    "risk_graph(reindexed, start_date=start_date, end_date=end_date, title=\"Twitter: Weighted Average Probability\", entity=\"binance\")"
   ]
  },
  {
   "cell_type": "markdown",
   "metadata": {
    "hidden": true
   },
   "source": [
    "## Linear Decay"
   ]
  },
  {
   "cell_type": "code",
   "execution_count": null,
   "metadata": {
    "hidden": true
   },
   "outputs": [],
   "source": [
    "risk_weighted_avg_twitter = risk_weighted_avg(roberta_2020, source=\"twitter\", entity=\"binance\") \n",
    "df_copy = reindex_dataframe(risk_weighted_avg_twitter, start_date=start_date, end_date=end_date)"
   ]
  },
  {
   "cell_type": "code",
   "execution_count": null,
   "metadata": {
    "hidden": true,
    "scrolled": false
   },
   "outputs": [],
   "source": [
    "risk_graph(linear_decay(df_copy, decay_rate=0.05), start_date, end_date, entity=\"binance\")"
   ]
  },
  {
   "cell_type": "markdown",
   "metadata": {
    "hidden": true
   },
   "source": [
    "## Exponential Decay"
   ]
  },
  {
   "cell_type": "code",
   "execution_count": null,
   "metadata": {
    "hidden": true
   },
   "outputs": [],
   "source": [
    "risk_graph(exp_decay(df_copy, span=10), start_date, end_date, entity=\"binance\")"
   ]
  }
 ],
 "metadata": {
  "kernelspec": {
   "display_name": "Python 3",
   "language": "python",
   "name": "python3"
  },
  "language_info": {
   "codemirror_mode": {
    "name": "ipython",
    "version": 3
   },
   "file_extension": ".py",
   "mimetype": "text/x-python",
   "name": "python",
   "nbconvert_exporter": "python",
   "pygments_lexer": "ipython3",
   "version": "3.8.5"
  },
  "toc": {
   "base_numbering": 1,
   "nav_menu": {},
   "number_sections": true,
   "sideBar": true,
   "skip_h1_title": false,
   "title_cell": "Table of Contents",
   "title_sidebar": "Contents",
   "toc_cell": false,
   "toc_position": {},
   "toc_section_display": true,
   "toc_window_display": false
  }
 },
 "nbformat": 4,
 "nbformat_minor": 4
}
