{
 "cells": [
  {
   "cell_type": "code",
   "execution_count": null,
   "metadata": {},
   "outputs": [],
   "source": [
    "import pandas as pd\n",
    "import matplotlib.pyplot as plt\n",
    "import seaborn as sns\n",
    "import numpy as np\n",
    "from datetime import datetime\n",
    "\n"
   ]
  },
  {
   "cell_type": "code",
   "execution_count": null,
   "metadata": {},
   "outputs": [],
   "source": [
    "#start_date/end_date in format: 'yyyy-mm-dd'\n",
    "#breakdown = True gives graph broken down by the sources (twitter, reddit, crypto, conventional)\n",
    "\n",
    "\n",
    "def count_hack_graph(df, start_date, end_date, entity= '', breakdown= False):  \n",
    "    \n",
    "    # Process dataframe\n",
    "    # Get datetime format for df date\n",
    "    for fmt in ('%Y-%m-%d %H:%M:%S', '%d/%m/%y %H:%M', '%d/%m/%y'):\n",
    "        try:\n",
    "            df['date'] = pd.to_datetime(df.date_time, format=fmt)\n",
    "        except ValueError:\n",
    "            pass\n",
    "\n",
    "    df['date'] = df['date'].dt.date\n",
    "    df['entity'] = df['entity'].str.lower()\n",
    "    \n",
    "    #If there is an input in the entity, filter to retrieve only from entity    \n",
    "    if entity != '':\n",
    "        entity = entity.lower()\n",
    "        \n",
    "        #Get subset of dataframe with entity \n",
    "        df = df[df['entity'] == entity]\n",
    "    \n",
    "    if breakdown:\n",
    "        \n",
    "        #Group data by date and find the number of posts predicted as risky \n",
    "        df2 =  df.groupby(['type','date']).sum()\n",
    "        df2.reset_index(level=0, inplace=True)    \n",
    "\n",
    "\n",
    "        df3 = pd.DataFrame()\n",
    "        types = ['conventional', 'crypto', 'reddit', 'twitter']\n",
    "\n",
    "        #Get all date within range and fill dates with no data with 0 \n",
    "        for i in types:\n",
    "            df_tem = df2[df2['type']==i]\n",
    "            idx = pd.date_range(start_date, end_date)\n",
    "            df_tem.index =  pd.DatetimeIndex(df_tem.index)\n",
    "            df_tem = df_tem.reindex(idx, fill_value=0)\n",
    "            df_tem['type'] = i\n",
    "            df_tem.reset_index(level=0, inplace=True)\n",
    "            df3 = df3.append(df_tem)\n",
    "\n",
    "        df3 = df3.rename({'pred': 'count', 'index':'date'}, axis = 1)\n",
    "\n",
    "        # Plot graph of % predicted risky over time \n",
    "        plt.figure(figsize=(15,10))\n",
    "        sns.lineplot(x = df3['date'],y = df3['count'],sort=False,hue = df3['type'], palette = ['black','palevioletred','orangered','steelblue'])\n",
    "\n",
    "        plt.xlim()\n",
    "        plt.xlabel('Date')\n",
    "        plt.ylabel('Num Predicted as high risk')\n",
    "        plt.title('Num Predicted as high risk over Time (' + entity + ')')\n",
    "        plt.show()   \n",
    "        \n",
    "        \n",
    "    else:\n",
    "\n",
    "        #Group data by date and find the number of posts predicted as risky \n",
    "        df2 =  df.groupby('date').sum()\n",
    "\n",
    "        #Get all date within range and fill dates with no data with 0 \n",
    "        idx = pd.date_range(start_date, end_date)\n",
    "        df2.index =  pd.DatetimeIndex(df2.index)\n",
    "        df2 = df2.reindex(idx, fill_value=0)\n",
    "\n",
    "        df2 = df2.rename({'pred': 'count'}, axis = 1)\n",
    "\n",
    "        #Print dates & percentage hack that values are exceptionally high (>95 percentile)\n",
    "        high = df2['count'].quantile(0.95)\n",
    "        print(df2[df2['count'] > high][['count']])\n",
    "\n",
    "\n",
    "        # Plot graph of % predicted risky over time \n",
    "        plt.figure(figsize=(15,10))\n",
    "        plt.plot(df2.index, df2['count'])\n",
    "        plt.hlines(high,start_date, end_date, linestyles = 'dashed', colors = 'gray')\n",
    "\n",
    "        plt.grid(True)\n",
    "        plt.xlim()\n",
    "        plt.xlabel('Date')\n",
    "        plt.ylabel('Num Predicted as high risk')\n",
    "        plt.title('Num Predicted as high risk over Time (' + entity + ')')\n",
    "        plt.show()\n"
   ]
  },
  {
   "cell_type": "markdown",
   "metadata": {},
   "source": [
    "# BERT Cased test data"
   ]
  },
  {
   "cell_type": "code",
   "execution_count": 5,
   "metadata": {},
   "outputs": [],
   "source": [
    "# Test data\n",
    "df1 = pd.read_csv('./data/bert/2020_bert_reddit.csv')\n",
    "df1 = df1[['date_time', 'text', 'pred', 'entity']]\n",
    "df1['type'] = 'reddit'\n",
    "\n",
    "df2 = pd.read_csv('./data/bert/2020_bert_conventional.csv')\n",
    "df2 = df2[['date_time', 'text', 'pred', 'entity']]\n",
    "df2['type'] = 'conventional'\n",
    "\n",
    "df3 = pd.read_csv('./data/bert/2020_bert_crypto.csv')\n",
    "df3 = df3[['date_time', 'text', 'pred', 'entity']]\n",
    "df3['type'] = 'crypto'\n",
    "\n",
    "df4 = pd.read_csv('./data/bert/2020_bert_twitter.csv')\n",
    "df4 = df4[['date_time', 'text', 'pred', 'entity']]\n",
    "df4['type'] = 'twitter'\n",
    "\n",
    "bert_cased = df1.append(df2)\n",
    "bert_cased = bert_cased.append(df3)\n",
    "bert_cased = bert_cased.append(df4)\n",
    "\n",
    "# Process dataframe\n",
    "# Get datetime format for df date\n",
    "for fmt in ('%Y-%m-%d %H:%M:%S', '%d/%m/%y %H:%M', '%d/%m/%y'):\n",
    "    try:\n",
    "        bert_cased['date'] = pd.to_datetime(bert_cased.date_time, format=fmt)\n",
    "    except ValueError:\n",
    "        pass\n",
    "    \n",
    "bert_cased['date'] = bert_cased['date'].dt.date\n",
    "bert_cased['entity'] = bert_cased['entity'].str.lower()\n",
    "\n"
   ]
  },
  {
   "cell_type": "code",
   "execution_count": 6,
   "metadata": {
    "scrolled": false
   },
   "outputs": [
    {
     "data": {
      "text/html": [
       "<div>\n",
       "<style scoped>\n",
       "    .dataframe tbody tr th:only-of-type {\n",
       "        vertical-align: middle;\n",
       "    }\n",
       "\n",
       "    .dataframe tbody tr th {\n",
       "        vertical-align: top;\n",
       "    }\n",
       "\n",
       "    .dataframe thead th {\n",
       "        text-align: right;\n",
       "    }\n",
       "</style>\n",
       "<table border=\"1\" class=\"dataframe\">\n",
       "  <thead>\n",
       "    <tr style=\"text-align: right;\">\n",
       "      <th></th>\n",
       "      <th>date_time</th>\n",
       "      <th>text</th>\n",
       "      <th>pred</th>\n",
       "      <th>entity</th>\n",
       "      <th>type</th>\n",
       "      <th>date</th>\n",
       "    </tr>\n",
       "  </thead>\n",
       "  <tbody>\n",
       "    <tr>\n",
       "      <td>0</td>\n",
       "      <td>2020-06-29 11:16:37</td>\n",
       "      <td>balancer just got hacked it seems https://medi...</td>\n",
       "      <td>1</td>\n",
       "      <td>1inch.exchange</td>\n",
       "      <td>reddit</td>\n",
       "      <td>2020-06-29</td>\n",
       "    </tr>\n",
       "    <tr>\n",
       "      <td>1</td>\n",
       "      <td>2020-06-29 10:58:19</td>\n",
       "      <td>another article.\\n\\nhttps://medium.com/@1inch....</td>\n",
       "      <td>0</td>\n",
       "      <td>1inch.exchange</td>\n",
       "      <td>reddit</td>\n",
       "      <td>2020-06-29</td>\n",
       "    </tr>\n",
       "    <tr>\n",
       "      <td>2</td>\n",
       "      <td>2020-06-18 18:39:28</td>\n",
       "      <td>revoke your permissions and contracts? honestl...</td>\n",
       "      <td>0</td>\n",
       "      <td>1inch.exchange</td>\n",
       "      <td>reddit</td>\n",
       "      <td>2020-06-18</td>\n",
       "    </tr>\n",
       "    <tr>\n",
       "      <td>3</td>\n",
       "      <td>2020-02-25 03:27:22</td>\n",
       "      <td>no uniswap, no synthetix, 3 lending services -...</td>\n",
       "      <td>0</td>\n",
       "      <td>1inch.exchange</td>\n",
       "      <td>reddit</td>\n",
       "      <td>2020-02-25</td>\n",
       "    </tr>\n",
       "    <tr>\n",
       "      <td>4</td>\n",
       "      <td>2020-02-21 08:19:25</td>\n",
       "      <td>https://medium.com/@1inch.exchange/yes-we-hack...</td>\n",
       "      <td>0</td>\n",
       "      <td>1inch.exchange</td>\n",
       "      <td>reddit</td>\n",
       "      <td>2020-02-21</td>\n",
       "    </tr>\n",
       "  </tbody>\n",
       "</table>\n",
       "</div>"
      ],
      "text/plain": [
       "             date_time                                               text  \\\n",
       "0  2020-06-29 11:16:37  balancer just got hacked it seems https://medi...   \n",
       "1  2020-06-29 10:58:19  another article.\\n\\nhttps://medium.com/@1inch....   \n",
       "2  2020-06-18 18:39:28  revoke your permissions and contracts? honestl...   \n",
       "3  2020-02-25 03:27:22  no uniswap, no synthetix, 3 lending services -...   \n",
       "4  2020-02-21 08:19:25  https://medium.com/@1inch.exchange/yes-we-hack...   \n",
       "\n",
       "   pred          entity    type        date  \n",
       "0     1  1inch.exchange  reddit  2020-06-29  \n",
       "1     0  1inch.exchange  reddit  2020-06-29  \n",
       "2     0  1inch.exchange  reddit  2020-06-18  \n",
       "3     0  1inch.exchange  reddit  2020-02-25  \n",
       "4     0  1inch.exchange  reddit  2020-02-21  "
      ]
     },
     "execution_count": 6,
     "metadata": {},
     "output_type": "execute_result"
    }
   ],
   "source": [
    "bert_cased.head()"
   ]
  },
  {
   "cell_type": "code",
   "execution_count": 7,
   "metadata": {
    "scrolled": false
   },
   "outputs": [
    {
     "name": "stderr",
     "output_type": "stream",
     "text": [
      "/Users/JX/opt/anaconda3/lib/python3.7/site-packages/pandas/plotting/_matplotlib/converter.py:103: FutureWarning: Using an implicitly registered datetime converter for a matplotlib plotting method. The converter was registered by pandas on import. Future versions of pandas will require you to explicitly register matplotlib converters.\n",
      "\n",
      "To register the converters:\n",
      "\t>>> from pandas.plotting import register_matplotlib_converters\n",
      "\t>>> register_matplotlib_converters()\n",
      "  warnings.warn(msg, FutureWarning)\n"
     ]
    },
    {
     "data": {
      "image/png": "[encoded data removed]",
      "text/plain": [
       "<Figure size 1080x720 with 1 Axes>"
      ]
     },
     "metadata": {
      "needs_background": "light"
     },
     "output_type": "display_data"
    }
   ],
   "source": [
    "count_hack_graph(bert_cased, '2020-01-01', '2020-06-30', breakdown = True)\n"
   ]
  },
  {
   "cell_type": "code",
   "execution_count": null,
   "metadata": {},
   "outputs": [],
   "source": []
  },
  {
   "cell_type": "code",
   "execution_count": null,
   "metadata": {},
   "outputs": [],
   "source": []
  },
  {
   "cell_type": "code",
   "execution_count": null,
   "metadata": {},
   "outputs": [],
   "source": []
  }
 ],
 "metadata": {
  "kernelspec": {
   "display_name": "Python 3",
   "language": "python",
   "name": "python3"
  },
  "language_info": {
   "codemirror_mode": {
    "name": "ipython",
    "version": 3
   },
   "file_extension": ".py",
   "mimetype": "text/x-python",
   "name": "python",
   "nbconvert_exporter": "python",
   "pygments_lexer": "ipython3",
   "version": "3.7.4"
  }
 },
 "nbformat": 4,
 "nbformat_minor": 2
}
